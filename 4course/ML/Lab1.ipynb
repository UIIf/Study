{
 "cells": [
  {
   "cell_type": "markdown",
   "id": "2c908d39-cf7e-4877-8e61-c9ac7770cc1e",
   "metadata": {},
   "source": [
    "# Импорт"
   ]
  },
  {
   "cell_type": "code",
   "execution_count": 1,
   "id": "ac5bdc36-0c05-4666-8247-63fc471bf98f",
   "metadata": {
    "ExecuteTime": {
     "end_time": "2022-10-14T03:43:32.900081Z",
     "start_time": "2022-10-14T03:43:32.319390Z"
    },
    "execution": {
     "iopub.execute_input": "2022-10-15T02:34:16.990429Z",
     "iopub.status.busy": "2022-10-15T02:34:16.989994Z",
     "iopub.status.idle": "2022-10-15T02:34:18.053384Z",
     "shell.execute_reply": "2022-10-15T02:34:18.052642Z",
     "shell.execute_reply.started": "2022-10-15T02:34:16.990342Z"
    },
    "tags": []
   },
   "outputs": [],
   "source": [
    "import matplotlib.pyplot as plt\n",
    "import pandas as pd\n",
    "import numpy as np"
   ]
  },
  {
   "cell_type": "markdown",
   "id": "f010277d-282a-48cb-a165-d071b7ba2bcb",
   "metadata": {},
   "source": [
    "# Чтение файла"
   ]
  },
  {
   "cell_type": "code",
   "execution_count": 2,
   "id": "04a1669b-7e98-4d0b-aafc-9e50268b787d",
   "metadata": {
    "ExecuteTime": {
     "end_time": "2022-10-14T03:43:38.530314Z",
     "start_time": "2022-10-14T03:43:38.367051Z"
    },
    "execution": {
     "iopub.execute_input": "2022-10-15T02:34:18.837790Z",
     "iopub.status.busy": "2022-10-15T02:34:18.837025Z",
     "iopub.status.idle": "2022-10-15T02:34:19.102470Z",
     "shell.execute_reply": "2022-10-15T02:34:19.101758Z",
     "shell.execute_reply.started": "2022-10-15T02:34:18.837735Z"
    },
    "tags": []
   },
   "outputs": [],
   "source": [
    "# Зарание удалил символы между интами\n",
    "df = pd.read_excel('/home/uiif/GitRepos/Study/4course/ML/data.xlsx',\n",
    "                  names = ['areas', 'bSchool', 'socialEd', 'addEd', 'smProfEd', 'highProfEd', 'county'])"
   ]
  },
  {
   "cell_type": "code",
   "execution_count": 3,
   "id": "0a8b772c-af86-40d2-82e2-415b69ce83c3",
   "metadata": {
    "ExecuteTime": {
     "end_time": "2022-10-14T03:43:39.016209Z",
     "start_time": "2022-10-14T03:43:38.979902Z"
    },
    "execution": {
     "iopub.execute_input": "2022-10-15T02:34:19.281864Z",
     "iopub.status.busy": "2022-10-15T02:34:19.281617Z",
     "iopub.status.idle": "2022-10-15T02:34:19.486896Z",
     "shell.execute_reply": "2022-10-15T02:34:19.483263Z",
     "shell.execute_reply.started": "2022-10-15T02:34:19.281844Z"
    },
    "tags": []
   },
   "outputs": [
    {
     "data": {
      "text/html": [
       "<div>\n",
       "<style scoped>\n",
       "    .dataframe tbody tr th:only-of-type {\n",
       "        vertical-align: middle;\n",
       "    }\n",
       "\n",
       "    .dataframe tbody tr th {\n",
       "        vertical-align: top;\n",
       "    }\n",
       "\n",
       "    .dataframe thead th {\n",
       "        text-align: right;\n",
       "    }\n",
       "</style>\n",
       "<table border=\"1\" class=\"dataframe\">\n",
       "  <thead>\n",
       "    <tr style=\"text-align: right;\">\n",
       "      <th></th>\n",
       "      <th>areas</th>\n",
       "      <th>bSchool</th>\n",
       "      <th>socialEd</th>\n",
       "      <th>addEd</th>\n",
       "      <th>smProfEd</th>\n",
       "      <th>highProfEd</th>\n",
       "      <th>county</th>\n",
       "    </tr>\n",
       "  </thead>\n",
       "  <tbody>\n",
       "    <tr>\n",
       "      <th>0</th>\n",
       "      <td>Белгородская область</td>\n",
       "      <td>7777.0</td>\n",
       "      <td>14918.0</td>\n",
       "      <td>2825.0</td>\n",
       "      <td>2009</td>\n",
       "      <td>1841.0</td>\n",
       "      <td>сenter</td>\n",
       "    </tr>\n",
       "    <tr>\n",
       "      <th>1</th>\n",
       "      <td>Брянская область</td>\n",
       "      <td>4560.0</td>\n",
       "      <td>10211.0</td>\n",
       "      <td>1538.0</td>\n",
       "      <td>1418</td>\n",
       "      <td>837.0</td>\n",
       "      <td>NaN</td>\n",
       "    </tr>\n",
       "    <tr>\n",
       "      <th>2</th>\n",
       "      <td>Владимирская область</td>\n",
       "      <td>5802.0</td>\n",
       "      <td>8902.0</td>\n",
       "      <td>1703.0</td>\n",
       "      <td>1468</td>\n",
       "      <td>NaN</td>\n",
       "      <td>сenter</td>\n",
       "    </tr>\n",
       "    <tr>\n",
       "      <th>3</th>\n",
       "      <td>Воронежская область</td>\n",
       "      <td>NaN</td>\n",
       "      <td>17186.0</td>\n",
       "      <td>3362.0</td>\n",
       "      <td>2458</td>\n",
       "      <td>4347.0</td>\n",
       "      <td>сenter</td>\n",
       "    </tr>\n",
       "    <tr>\n",
       "      <th>4</th>\n",
       "      <td>Ивановская область</td>\n",
       "      <td>4495.0</td>\n",
       "      <td>5649.0</td>\n",
       "      <td>1338.0</td>\n",
       "      <td>977</td>\n",
       "      <td>1288.0</td>\n",
       "      <td>сenter</td>\n",
       "    </tr>\n",
       "  </tbody>\n",
       "</table>\n",
       "</div>"
      ],
      "text/plain": [
       "                  areas  bSchool  socialEd   addEd smProfEd  highProfEd  \\\n",
       "0  Белгородская область   7777.0   14918.0  2825.0     2009      1841.0   \n",
       "1      Брянская область   4560.0   10211.0  1538.0     1418       837.0   \n",
       "2  Владимирская область   5802.0    8902.0  1703.0     1468         NaN   \n",
       "3   Воронежская область      NaN   17186.0  3362.0     2458      4347.0   \n",
       "4    Ивановская область   4495.0    5649.0  1338.0      977      1288.0   \n",
       "\n",
       "   county  \n",
       "0  сenter  \n",
       "1     NaN  \n",
       "2  сenter  \n",
       "3  сenter  \n",
       "4  сenter  "
      ]
     },
     "metadata": {},
     "output_type": "display_data"
    }
   ],
   "source": [
    "display(df.head())"
   ]
  },
  {
   "cell_type": "code",
   "execution_count": 4,
   "id": "ea513f4e-5ff0-41b8-88e6-7b6440c0158e",
   "metadata": {
    "ExecuteTime": {
     "end_time": "2022-10-14T03:43:39.706173Z",
     "start_time": "2022-10-14T03:43:39.695692Z"
    },
    "execution": {
     "iopub.execute_input": "2022-10-15T02:34:20.126925Z",
     "iopub.status.busy": "2022-10-15T02:34:20.126163Z",
     "iopub.status.idle": "2022-10-15T02:34:20.165780Z",
     "shell.execute_reply": "2022-10-15T02:34:20.164560Z",
     "shell.execute_reply.started": "2022-10-15T02:34:20.126882Z"
    },
    "tags": []
   },
   "outputs": [
    {
     "name": "stdout",
     "output_type": "stream",
     "text": [
      "<class 'pandas.core.frame.DataFrame'>\n",
      "RangeIndex: 85 entries, 0 to 84\n",
      "Data columns (total 7 columns):\n",
      " #   Column      Non-Null Count  Dtype  \n",
      "---  ------      --------------  -----  \n",
      " 0   areas       85 non-null     object \n",
      " 1   bSchool     83 non-null     float64\n",
      " 2   socialEd    84 non-null     float64\n",
      " 3   addEd       84 non-null     float64\n",
      " 4   smProfEd    84 non-null     object \n",
      " 5   highProfEd  83 non-null     float64\n",
      " 6   county      84 non-null     object \n",
      "dtypes: float64(4), object(3)\n",
      "memory usage: 4.8+ KB\n"
     ]
    }
   ],
   "source": [
    "df.info()"
   ]
  },
  {
   "cell_type": "code",
   "execution_count": 5,
   "id": "608fd805-a3f0-4694-b904-d9980b505226",
   "metadata": {
    "ExecuteTime": {
     "end_time": "2022-10-14T03:43:40.398398Z",
     "start_time": "2022-10-14T03:43:40.389294Z"
    },
    "execution": {
     "iopub.execute_input": "2022-10-15T02:34:21.581501Z",
     "iopub.status.busy": "2022-10-15T02:34:21.579009Z",
     "iopub.status.idle": "2022-10-15T02:34:21.592502Z",
     "shell.execute_reply": "2022-10-15T02:34:21.590131Z",
     "shell.execute_reply.started": "2022-10-15T02:34:21.581406Z"
    },
    "tags": []
   },
   "outputs": [],
   "source": [
    "# Колоночки фичей\n",
    "cols = ['bSchool', 'socialEd', 'addEd', 'smProfEd', 'highProfEd']"
   ]
  },
  {
   "cell_type": "code",
   "execution_count": 6,
   "id": "18ab5656-4b0c-4bd5-9b0d-691b24dba455",
   "metadata": {
    "ExecuteTime": {
     "end_time": "2022-10-14T03:43:41.115563Z",
     "start_time": "2022-10-14T03:43:41.098333Z"
    },
    "execution": {
     "iopub.execute_input": "2022-10-15T02:34:22.196414Z",
     "iopub.status.busy": "2022-10-15T02:34:22.196123Z",
     "iopub.status.idle": "2022-10-15T02:34:22.203734Z",
     "shell.execute_reply": "2022-10-15T02:34:22.201775Z",
     "shell.execute_reply.started": "2022-10-15T02:34:22.196390Z"
    },
    "tags": []
   },
   "outputs": [
    {
     "name": "stdout",
     "output_type": "stream",
     "text": [
      "smProfEd\n"
     ]
    }
   ],
   "source": [
    "# Ищу колонки которые не преобразовались\n",
    "\n",
    "for col in cols:\n",
    "    if(df[col].dtype == object):\n",
    "        print(col)\n",
    "        df[col] = pd.to_numeric(df[col], errors = 'coerce')"
   ]
  },
  {
   "cell_type": "code",
   "execution_count": 7,
   "id": "ddbeff0c-bad5-424b-ace6-54978ca2622d",
   "metadata": {
    "ExecuteTime": {
     "end_time": "2022-10-14T03:43:41.822105Z",
     "start_time": "2022-10-14T03:43:41.793400Z"
    },
    "execution": {
     "iopub.execute_input": "2022-10-15T02:34:24.511327Z",
     "iopub.status.busy": "2022-10-15T02:34:24.510511Z",
     "iopub.status.idle": "2022-10-15T02:34:24.537356Z",
     "shell.execute_reply": "2022-10-15T02:34:24.535593Z",
     "shell.execute_reply.started": "2022-10-15T02:34:24.511251Z"
    },
    "tags": []
   },
   "outputs": [
    {
     "name": "stdout",
     "output_type": "stream",
     "text": [
      "<class 'pandas.core.frame.DataFrame'>\n",
      "RangeIndex: 85 entries, 0 to 84\n",
      "Data columns (total 7 columns):\n",
      " #   Column      Non-Null Count  Dtype  \n",
      "---  ------      --------------  -----  \n",
      " 0   areas       85 non-null     object \n",
      " 1   bSchool     83 non-null     float64\n",
      " 2   socialEd    84 non-null     float64\n",
      " 3   addEd       84 non-null     float64\n",
      " 4   smProfEd    83 non-null     float64\n",
      " 5   highProfEd  83 non-null     float64\n",
      " 6   county      84 non-null     object \n",
      "dtypes: float64(5), object(2)\n",
      "memory usage: 4.8+ KB\n"
     ]
    }
   ],
   "source": [
    "df.info()"
   ]
  },
  {
   "cell_type": "markdown",
   "id": "29e9868e-e8b9-4de3-8514-b3ef8d86e4ef",
   "metadata": {},
   "source": [
    "# Предобработка данных"
   ]
  },
  {
   "cell_type": "markdown",
   "id": "d9f49c8e-1c62-4b3f-9914-c14e9289a67f",
   "metadata": {},
   "source": [
    "Перва колонка бесполезно так что можно ей пренебречь, а так же строки без таргета можно отбросить"
   ]
  },
  {
   "cell_type": "code",
   "execution_count": 8,
   "id": "ad558107-3aea-4143-9a95-34176520264a",
   "metadata": {
    "ExecuteTime": {
     "end_time": "2022-10-14T03:43:44.570256Z",
     "start_time": "2022-10-14T03:43:44.565023Z"
    },
    "execution": {
     "iopub.execute_input": "2022-10-15T02:34:29.558244Z",
     "iopub.status.busy": "2022-10-15T02:34:29.557465Z",
     "iopub.status.idle": "2022-10-15T02:34:29.563428Z",
     "shell.execute_reply": "2022-10-15T02:34:29.562379Z",
     "shell.execute_reply.started": "2022-10-15T02:34:29.558207Z"
    },
    "tags": []
   },
   "outputs": [],
   "source": [
    "df = df[cols + ['county']]\n",
    "df = df[~df['county'].isna()]"
   ]
  },
  {
   "cell_type": "markdown",
   "id": "4125489c-28d1-4be8-94e3-5855f5572d59",
   "metadata": {},
   "source": [
    "Кодировка лейблами"
   ]
  },
  {
   "cell_type": "code",
   "execution_count": 9,
   "id": "d5c2660a-0cf5-4c46-8510-db3024ecafd2",
   "metadata": {
    "ExecuteTime": {
     "end_time": "2022-10-14T03:43:45.410709Z",
     "start_time": "2022-10-14T03:43:45.404772Z"
    },
    "execution": {
     "iopub.execute_input": "2022-10-15T02:34:33.351001Z",
     "iopub.status.busy": "2022-10-15T02:34:33.350754Z",
     "iopub.status.idle": "2022-10-15T02:34:33.355594Z",
     "shell.execute_reply": "2022-10-15T02:34:33.354728Z",
     "shell.execute_reply.started": "2022-10-15T02:34:33.350981Z"
    },
    "tags": []
   },
   "outputs": [],
   "source": [
    "df['county_ind'], unque = pd.factorize(df['county'])"
   ]
  },
  {
   "cell_type": "code",
   "execution_count": 10,
   "id": "ed680a1b-8756-4bd9-b34a-8d5116cbdd4d",
   "metadata": {
    "ExecuteTime": {
     "end_time": "2022-10-14T03:43:45.754072Z",
     "start_time": "2022-10-14T03:43:45.742384Z"
    },
    "execution": {
     "iopub.execute_input": "2022-10-15T02:34:33.729628Z",
     "iopub.status.busy": "2022-10-15T02:34:33.729050Z",
     "iopub.status.idle": "2022-10-15T02:34:33.741862Z",
     "shell.execute_reply": "2022-10-15T02:34:33.740637Z",
     "shell.execute_reply.started": "2022-10-15T02:34:33.729577Z"
    },
    "tags": []
   },
   "outputs": [
    {
     "data": {
      "text/plain": [
       "array([0, 1, 2, 3, 4, 5, 6, 7])"
      ]
     },
     "execution_count": 10,
     "metadata": {},
     "output_type": "execute_result"
    }
   ],
   "source": [
    "df['county_ind'].unique()"
   ]
  },
  {
   "cell_type": "code",
   "execution_count": 11,
   "id": "acc8b0d8-c3c0-43d8-bd84-f2ed500cb324",
   "metadata": {
    "ExecuteTime": {
     "end_time": "2022-10-14T03:43:46.497564Z",
     "start_time": "2022-10-14T03:43:46.469719Z"
    },
    "execution": {
     "iopub.execute_input": "2022-10-15T02:34:38.060953Z",
     "iopub.status.busy": "2022-10-15T02:34:38.060267Z",
     "iopub.status.idle": "2022-10-15T02:34:38.086659Z",
     "shell.execute_reply": "2022-10-15T02:34:38.085469Z",
     "shell.execute_reply.started": "2022-10-15T02:34:38.060929Z"
    },
    "tags": []
   },
   "outputs": [
    {
     "data": {
      "text/html": [
       "<div>\n",
       "<style scoped>\n",
       "    .dataframe tbody tr th:only-of-type {\n",
       "        vertical-align: middle;\n",
       "    }\n",
       "\n",
       "    .dataframe tbody tr th {\n",
       "        vertical-align: top;\n",
       "    }\n",
       "\n",
       "    .dataframe thead th {\n",
       "        text-align: right;\n",
       "    }\n",
       "</style>\n",
       "<table border=\"1\" class=\"dataframe\">\n",
       "  <thead>\n",
       "    <tr style=\"text-align: right;\">\n",
       "      <th></th>\n",
       "      <th>bSchool</th>\n",
       "      <th>socialEd</th>\n",
       "      <th>addEd</th>\n",
       "      <th>smProfEd</th>\n",
       "      <th>highProfEd</th>\n",
       "    </tr>\n",
       "  </thead>\n",
       "  <tbody>\n",
       "    <tr>\n",
       "      <th>count</th>\n",
       "      <td>82.000000</td>\n",
       "      <td>83.000000</td>\n",
       "      <td>83.000000</td>\n",
       "      <td>82.000000</td>\n",
       "      <td>82.000000</td>\n",
       "    </tr>\n",
       "    <tr>\n",
       "      <th>mean</th>\n",
       "      <td>7366.902439</td>\n",
       "      <td>14842.891566</td>\n",
       "      <td>2531.253012</td>\n",
       "      <td>1816.182927</td>\n",
       "      <td>2186.158537</td>\n",
       "    </tr>\n",
       "    <tr>\n",
       "      <th>std</th>\n",
       "      <td>6517.939663</td>\n",
       "      <td>14807.863510</td>\n",
       "      <td>2105.782305</td>\n",
       "      <td>1528.899993</td>\n",
       "      <td>4252.161665</td>\n",
       "    </tr>\n",
       "    <tr>\n",
       "      <th>min</th>\n",
       "      <td>292.000000</td>\n",
       "      <td>614.000000</td>\n",
       "      <td>111.000000</td>\n",
       "      <td>36.000000</td>\n",
       "      <td>2.000000</td>\n",
       "    </tr>\n",
       "    <tr>\n",
       "      <th>25%</th>\n",
       "      <td>3343.250000</td>\n",
       "      <td>6751.500000</td>\n",
       "      <td>1205.000000</td>\n",
       "      <td>799.000000</td>\n",
       "      <td>622.750000</td>\n",
       "    </tr>\n",
       "    <tr>\n",
       "      <th>50%</th>\n",
       "      <td>5625.500000</td>\n",
       "      <td>9784.000000</td>\n",
       "      <td>1801.000000</td>\n",
       "      <td>1380.000000</td>\n",
       "      <td>1181.500000</td>\n",
       "    </tr>\n",
       "    <tr>\n",
       "      <th>75%</th>\n",
       "      <td>8549.000000</td>\n",
       "      <td>18843.500000</td>\n",
       "      <td>3228.000000</td>\n",
       "      <td>2380.250000</td>\n",
       "      <td>2416.750000</td>\n",
       "    </tr>\n",
       "    <tr>\n",
       "      <th>max</th>\n",
       "      <td>33195.000000</td>\n",
       "      <td>108858.000000</td>\n",
       "      <td>9967.000000</td>\n",
       "      <td>7924.000000</td>\n",
       "      <td>33757.000000</td>\n",
       "    </tr>\n",
       "  </tbody>\n",
       "</table>\n",
       "</div>"
      ],
      "text/plain": [
       "            bSchool       socialEd        addEd     smProfEd    highProfEd\n",
       "count     82.000000      83.000000    83.000000    82.000000     82.000000\n",
       "mean    7366.902439   14842.891566  2531.253012  1816.182927   2186.158537\n",
       "std     6517.939663   14807.863510  2105.782305  1528.899993   4252.161665\n",
       "min      292.000000     614.000000   111.000000    36.000000      2.000000\n",
       "25%     3343.250000    6751.500000  1205.000000   799.000000    622.750000\n",
       "50%     5625.500000    9784.000000  1801.000000  1380.000000   1181.500000\n",
       "75%     8549.000000   18843.500000  3228.000000  2380.250000   2416.750000\n",
       "max    33195.000000  108858.000000  9967.000000  7924.000000  33757.000000"
      ]
     },
     "execution_count": 11,
     "metadata": {},
     "output_type": "execute_result"
    }
   ],
   "source": [
    "df[cols].describe()"
   ]
  },
  {
   "cell_type": "markdown",
   "id": "085a0cbb-7165-4750-bbe1-14ee61c22ebe",
   "metadata": {
    "tags": []
   },
   "source": [
    "## Удаление выбросов"
   ]
  },
  {
   "cell_type": "code",
   "execution_count": 13,
   "id": "7754c96c-1a90-4bd7-9597-4d786e34550c",
   "metadata": {
    "ExecuteTime": {
     "end_time": "2022-10-14T03:43:49.082703Z",
     "start_time": "2022-10-14T03:43:48.838111Z"
    },
    "execution": {
     "iopub.execute_input": "2022-10-12T04:34:13.162136Z",
     "iopub.status.busy": "2022-10-12T04:34:13.161946Z",
     "iopub.status.idle": "2022-10-12T04:34:13.322361Z",
     "shell.execute_reply": "2022-10-12T04:34:13.321411Z",
     "shell.execute_reply.started": "2022-10-12T04:34:13.162118Z"
    },
    "tags": []
   },
   "outputs": [
    {
     "data": {
      "text/plain": [
       "<AxesSubplot: >"
      ]
     },
     "execution_count": 13,
     "metadata": {},
     "output_type": "execute_result"
    },
    {
     "data": {
      "image/png": "[encoded data removed]",
      "text/plain": [
       "<Figure size 432x288 with 1 Axes>"
      ]
     },
     "metadata": {
      "needs_background": "light"
     },
     "output_type": "display_data"
    }
   ],
   "source": [
    "df.boxplot(cols)"
   ]
  },
  {
   "cell_type": "code",
   "execution_count": 14,
   "id": "c3072c02-7cd2-4b10-9a41-f094a1655dfd",
   "metadata": {
    "ExecuteTime": {
     "end_time": "2022-10-14T03:43:49.854077Z",
     "start_time": "2022-10-14T03:43:49.827608Z"
    },
    "execution": {
     "iopub.execute_input": "2022-10-12T04:34:13.324235Z",
     "iopub.status.busy": "2022-10-12T04:34:13.323706Z",
     "iopub.status.idle": "2022-10-12T04:34:13.353442Z",
     "shell.execute_reply": "2022-10-12T04:34:13.352431Z",
     "shell.execute_reply.started": "2022-10-12T04:34:13.324197Z"
    },
    "tags": []
   },
   "outputs": [],
   "source": [
    "for col in cols:\n",
    "    q75,q25 = df[col].quantile(0.75), df[col].quantile(0.25)\n",
    "    intr_qr = q75-q25\n",
    "    maxp = q75+(1.5*intr_qr)\n",
    "    minp = q25-(1.5*intr_qr)\n",
    "    mask = (df[col] < maxp) & (df[col] > minp)\n",
    "#     print(intr_qr)\n",
    "    df[col][~mask] = None"
   ]
  },
  {
   "cell_type": "code",
   "execution_count": 15,
   "id": "5eaa0c2e",
   "metadata": {
    "ExecuteTime": {
     "end_time": "2022-10-14T03:43:51.475419Z",
     "start_time": "2022-10-14T03:43:51.466968Z"
    },
    "execution": {
     "iopub.execute_input": "2022-10-12T04:34:13.354979Z",
     "iopub.status.busy": "2022-10-12T04:34:13.354625Z",
     "iopub.status.idle": "2022-10-12T04:34:13.366720Z",
     "shell.execute_reply": "2022-10-12T04:34:13.365454Z",
     "shell.execute_reply.started": "2022-10-12T04:34:13.354947Z"
    }
   },
   "outputs": [
    {
     "name": "stdout",
     "output_type": "stream",
     "text": [
      "<class 'pandas.core.frame.DataFrame'>\n",
      "Int64Index: 84 entries, 0 to 84\n",
      "Data columns (total 7 columns):\n",
      " #   Column      Non-Null Count  Dtype  \n",
      "---  ------      --------------  -----  \n",
      " 0   bSchool     75 non-null     float64\n",
      " 1   socialEd    78 non-null     float64\n",
      " 2   addEd       77 non-null     float64\n",
      " 3   smProfEd    75 non-null     float64\n",
      " 4   highProfEd  78 non-null     float64\n",
      " 5   county      84 non-null     object \n",
      " 6   county_ind  84 non-null     int64  \n",
      "dtypes: float64(5), int64(1), object(1)\n",
      "memory usage: 5.2+ KB\n"
     ]
    }
   ],
   "source": [
    "df.info()"
   ]
  },
  {
   "cell_type": "code",
   "execution_count": 16,
   "id": "aba0cd4b",
   "metadata": {
    "ExecuteTime": {
     "end_time": "2022-10-14T03:43:53.330130Z",
     "start_time": "2022-10-14T03:43:53.183462Z"
    },
    "execution": {
     "iopub.execute_input": "2022-10-12T04:34:13.368692Z",
     "iopub.status.busy": "2022-10-12T04:34:13.368227Z",
     "iopub.status.idle": "2022-10-12T04:34:13.521756Z",
     "shell.execute_reply": "2022-10-12T04:34:13.520621Z",
     "shell.execute_reply.started": "2022-10-12T04:34:13.368635Z"
    },
    "scrolled": true,
    "tags": []
   },
   "outputs": [
    {
     "data": {
      "text/plain": [
       "<AxesSubplot: >"
      ]
     },
     "execution_count": 16,
     "metadata": {},
     "output_type": "execute_result"
    },
    {
     "data": {
      "image/png": "[encoded data removed]",
      "text/plain": [
       "<Figure size 640x480 with 1 Axes>"
      ]
     },
     "metadata": {},
     "output_type": "display_data"
    }
   ],
   "source": [
    "df.boxplot(cols)"
   ]
  },
  {
   "cell_type": "markdown",
   "id": "91848910-cabf-4325-8b7f-71054599b771",
   "metadata": {},
   "source": [
    "## Заполнение нанов"
   ]
  },
  {
   "cell_type": "code",
   "execution_count": 17,
   "id": "d47deb1e-d796-444b-9110-dc2c9acd39a4",
   "metadata": {
    "ExecuteTime": {
     "end_time": "2022-10-14T03:43:55.446847Z",
     "start_time": "2022-10-14T03:43:55.439327Z"
    },
    "execution": {
     "iopub.execute_input": "2022-10-12T04:34:13.523562Z",
     "iopub.status.busy": "2022-10-12T04:34:13.523164Z",
     "iopub.status.idle": "2022-10-12T04:34:13.535928Z",
     "shell.execute_reply": "2022-10-12T04:34:13.534705Z",
     "shell.execute_reply.started": "2022-10-12T04:34:13.523528Z"
    },
    "tags": []
   },
   "outputs": [],
   "source": [
    "df[cols] = df[cols].apply(lambda x: x.fillna(x.mean()))"
   ]
  },
  {
   "cell_type": "markdown",
   "id": "052357c7",
   "metadata": {},
   "source": [
    "Смотрим кореляции"
   ]
  },
  {
   "cell_type": "code",
   "execution_count": 18,
   "id": "eca27ef2-bc13-42ab-b15b-3b46a9278dc0",
   "metadata": {
    "ExecuteTime": {
     "end_time": "2022-10-14T03:43:57.120738Z",
     "start_time": "2022-10-14T03:43:56.324125Z"
    },
    "execution": {
     "iopub.execute_input": "2022-10-12T04:34:13.538175Z",
     "iopub.status.busy": "2022-10-12T04:34:13.537443Z",
     "iopub.status.idle": "2022-10-12T04:34:14.284686Z",
     "shell.execute_reply": "2022-10-12T04:34:14.283811Z",
     "shell.execute_reply.started": "2022-10-12T04:34:13.538139Z"
    },
    "tags": []
   },
   "outputs": [
    {
     "data": {
      "image/png": "[encoded data removed]",
      "text/plain": [
       "<Figure size 640x480 with 1 Axes>"
      ]
     },
     "metadata": {},
     "output_type": "display_data"
    },
    {
     "data": {
      "image/png": "[encoded data removed]",
      "text/plain": [
       "<Figure size 640x480 with 1 Axes>"
      ]
     },
     "metadata": {},
     "output_type": "display_data"
    },
    {
     "data": {
      "image/png": "[encoded data removed]",
      "text/plain": [
       "<Figure size 640x480 with 1 Axes>"
      ]
     },
     "metadata": {},
     "output_type": "display_data"
    },
    {
     "data": {
      "image/png": "[encoded data removed]",
      "text/plain": [
       "<Figure size 640x480 with 1 Axes>"
      ]
     },
     "metadata": {},
     "output_type": "display_data"
    },
    {
     "data": {
      "image/png": "[encoded data removed]",
      "text/plain": [
       "<Figure size 640x480 with 1 Axes>"
      ]
     },
     "metadata": {},
     "output_type": "display_data"
    }
   ],
   "source": [
    "for col in cols:\n",
    "    plt.scatter(df['county_ind'], df[col])\n",
    "    plt.title(col)\n",
    "    plt.show()"
   ]
  },
  {
   "cell_type": "markdown",
   "id": "1340297b-8854-41bd-9750-252a9b560f3d",
   "metadata": {
    "tags": []
   },
   "source": [
    "# Анализ"
   ]
  },
  {
   "cell_type": "markdown",
   "id": "3c67529e-ef86-432c-b3ef-8582e02ced57",
   "metadata": {},
   "source": [
    "Не смог найти коэфиценты кореляции для заначемых и категореальных фичей"
   ]
  }
 ],
 "metadata": {
  "kernelspec": {
   "display_name": "ml",
   "language": "python",
   "name": "ml"
  },
  "language_info": {
   "codemirror_mode": {
    "name": "ipython",
    "version": 3
   },
   "file_extension": ".py",
   "mimetype": "text/x-python",
   "name": "python",
   "nbconvert_exporter": "python",
   "pygments_lexer": "ipython3",
   "version": "3.10.6"
  },
  "toc": {
   "base_numbering": 1,
   "nav_menu": {},
   "number_sections": true,
   "sideBar": true,
   "skip_h1_title": false,
   "title_cell": "Table of Contents",
   "title_sidebar": "Contents",
   "toc_cell": false,
   "toc_position": {},
   "toc_section_display": true,
   "toc_window_display": true
  },
  "varInspector": {
   "cols": {
    "lenName": 16,
    "lenType": 16,
    "lenVar": 40
   },
   "kernels_config": {
    "python": {
     "delete_cmd_postfix": "",
     "delete_cmd_prefix": "del ",
     "library": "var_list.py",
     "varRefreshCmd": "print(var_dic_list())"
    },
    "r": {
     "delete_cmd_postfix": ") ",
     "delete_cmd_prefix": "rm(",
     "library": "var_list.r",
     "varRefreshCmd": "cat(var_dic_list()) "
    }
   },
   "types_to_exclude": [
    "module",
    "function",
    "builtin_function_or_method",
    "instance",
    "_Feature"
   ],
   "window_display": false
  }
 },
 "nbformat": 4,
 "nbformat_minor": 5
}
