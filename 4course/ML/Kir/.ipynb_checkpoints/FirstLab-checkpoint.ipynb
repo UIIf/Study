{
 "cells": [
  {
   "cell_type": "markdown",
   "id": "2ea61bf3-9878-44f7-a10d-31c658bf1746",
   "metadata": {},
   "source": [
    "# Import"
   ]
  },
  {
   "cell_type": "code",
   "execution_count": 1,
   "id": "b7f17e64-4949-4a93-8d4c-8401f77a4fde",
   "metadata": {
    "execution": {
     "iopub.execute_input": "2022-10-15T04:48:13.715527Z",
     "iopub.status.busy": "2022-10-15T04:48:13.715187Z",
     "iopub.status.idle": "2022-10-15T04:48:14.292742Z",
     "shell.execute_reply": "2022-10-15T04:48:14.292019Z",
     "shell.execute_reply.started": "2022-10-15T04:48:13.715465Z"
    },
    "tags": []
   },
   "outputs": [],
   "source": [
    "import numpy as np\n",
    "import pandas as pd\n",
    "from matplotlib import pyplot as plt"
   ]
  },
  {
   "cell_type": "code",
   "execution_count": 8,
   "id": "1ce4c813-a05d-4eae-9cad-85e9d9e9d57a",
   "metadata": {
    "execution": {
     "iopub.execute_input": "2022-10-15T04:49:30.047115Z",
     "iopub.status.busy": "2022-10-15T04:49:30.046842Z",
     "iopub.status.idle": "2022-10-15T04:49:30.833020Z",
     "shell.execute_reply": "2022-10-15T04:49:30.832353Z",
     "shell.execute_reply.started": "2022-10-15T04:49:30.047094Z"
    }
   },
   "outputs": [],
   "source": [
    "from sklearn.preprocessing import StandardScaler"
   ]
  },
  {
   "cell_type": "markdown",
   "id": "d9a3bcb4-c65f-4ec0-881b-82ed4c4a7db5",
   "metadata": {},
   "source": [
    "# Read data"
   ]
  },
  {
   "cell_type": "code",
   "execution_count": 2,
   "id": "e51b1be9-2658-420a-8a3a-7ad6a911bcfa",
   "metadata": {
    "execution": {
     "iopub.execute_input": "2022-10-15T04:48:14.294908Z",
     "iopub.status.busy": "2022-10-15T04:48:14.294522Z",
     "iopub.status.idle": "2022-10-15T04:48:14.342081Z",
     "shell.execute_reply": "2022-10-15T04:48:14.341256Z",
     "shell.execute_reply.started": "2022-10-15T04:48:14.294877Z"
    },
    "tags": []
   },
   "outputs": [],
   "source": [
    "df = pd.read_csv(\"DS/wells_info_with_prod.csv\")"
   ]
  },
  {
   "cell_type": "code",
   "execution_count": 3,
   "id": "84d9dea5-be6c-468e-a30e-2ebe8cfe221c",
   "metadata": {
    "execution": {
     "iopub.execute_input": "2022-10-15T04:48:14.343645Z",
     "iopub.status.busy": "2022-10-15T04:48:14.343143Z",
     "iopub.status.idle": "2022-10-15T04:48:14.383171Z",
     "shell.execute_reply": "2022-10-15T04:48:14.382535Z",
     "shell.execute_reply.started": "2022-10-15T04:48:14.343605Z"
    },
    "tags": []
   },
   "outputs": [
    {
     "data": {
      "text/html": [
       "<div>\n",
       "<style scoped>\n",
       "    .dataframe tbody tr th:only-of-type {\n",
       "        vertical-align: middle;\n",
       "    }\n",
       "\n",
       "    .dataframe tbody tr th {\n",
       "        vertical-align: top;\n",
       "    }\n",
       "\n",
       "    .dataframe thead th {\n",
       "        text-align: right;\n",
       "    }\n",
       "</style>\n",
       "<table border=\"1\" class=\"dataframe\">\n",
       "  <thead>\n",
       "    <tr style=\"text-align: right;\">\n",
       "      <th></th>\n",
       "      <th>API</th>\n",
       "      <th>PermitDate</th>\n",
       "      <th>SpudDate</th>\n",
       "      <th>CompletionDate</th>\n",
       "      <th>FirstProductionDate</th>\n",
       "      <th>operatorNameIHS</th>\n",
       "      <th>formation</th>\n",
       "      <th>BasinName</th>\n",
       "      <th>StateName</th>\n",
       "      <th>CountyName</th>\n",
       "      <th>LatWGS84</th>\n",
       "      <th>LonWGS84</th>\n",
       "      <th>BottomHoleLatitude</th>\n",
       "      <th>BottomHoleLongitude</th>\n",
       "      <th>LATERAL_LENGTH_BLEND</th>\n",
       "      <th>PROP_PER_FOOT</th>\n",
       "      <th>WATER_PER_FOOT</th>\n",
       "      <th>Prod1Year</th>\n",
       "      <th>ProdAll</th>\n",
       "    </tr>\n",
       "  </thead>\n",
       "  <tbody>\n",
       "    <tr>\n",
       "      <th>0</th>\n",
       "      <td>5005072170100</td>\n",
       "      <td>2014-05-06</td>\n",
       "      <td>2014-05-06</td>\n",
       "      <td>2014-12-02</td>\n",
       "      <td>2014-11-01 00:00:00.000</td>\n",
       "      <td>BURLINGTON RESOURCES O&amp;G CO LP</td>\n",
       "      <td>NIOBRARA</td>\n",
       "      <td>DENVER BASIN</td>\n",
       "      <td>COLORADO</td>\n",
       "      <td>ARAPAHOE</td>\n",
       "      <td>39.684606</td>\n",
       "      <td>-104.642128</td>\n",
       "      <td>39.68445</td>\n",
       "      <td>-104.60557</td>\n",
       "      <td>9005.0</td>\n",
       "      <td>994.6866</td>\n",
       "      <td>591.8004</td>\n",
       "      <td>126898</td>\n",
       "      <td>201325</td>\n",
       "    </tr>\n",
       "    <tr>\n",
       "      <th>1</th>\n",
       "      <td>5123377130000</td>\n",
       "      <td>2013-07-21</td>\n",
       "      <td>2013-10-06</td>\n",
       "      <td>2014-02-26</td>\n",
       "      <td>2014-02-01 00:00:00.000</td>\n",
       "      <td>SRC ENERGY INCORPORATED</td>\n",
       "      <td>NIOBRARA</td>\n",
       "      <td>DENVER BASIN</td>\n",
       "      <td>COLORADO</td>\n",
       "      <td>WELD</td>\n",
       "      <td>40.509320</td>\n",
       "      <td>-104.780980</td>\n",
       "      <td>40.49692</td>\n",
       "      <td>-104.77859</td>\n",
       "      <td>4195.0</td>\n",
       "      <td>991.5857</td>\n",
       "      <td>628.6321</td>\n",
       "      <td>22616</td>\n",
       "      <td>34625</td>\n",
       "    </tr>\n",
       "    <tr>\n",
       "      <th>2</th>\n",
       "      <td>5123379280000</td>\n",
       "      <td>2013-09-08</td>\n",
       "      <td>2013-09-25</td>\n",
       "      <td>2014-09-07</td>\n",
       "      <td>2013-11-01 00:00:00.000</td>\n",
       "      <td>BONANZA CREEK ENERGY OPERATING CO LLC</td>\n",
       "      <td>NIOBRARA</td>\n",
       "      <td>DENVER BASIN</td>\n",
       "      <td>COLORADO</td>\n",
       "      <td>WELD</td>\n",
       "      <td>40.335390</td>\n",
       "      <td>-104.363000</td>\n",
       "      <td>40.34780</td>\n",
       "      <td>-104.36863</td>\n",
       "      <td>4273.0</td>\n",
       "      <td>1000.2760</td>\n",
       "      <td>564.4841</td>\n",
       "      <td>47523</td>\n",
       "      <td>69009</td>\n",
       "    </tr>\n",
       "    <tr>\n",
       "      <th>3</th>\n",
       "      <td>5123379400000</td>\n",
       "      <td>2013-09-11</td>\n",
       "      <td>2014-12-05</td>\n",
       "      <td>2015-03-31</td>\n",
       "      <td>2015-03-01 00:00:00.000</td>\n",
       "      <td>NOBLE ENERGY INCORPORATED</td>\n",
       "      <td>NIOBRARA</td>\n",
       "      <td>DENVER BASIN</td>\n",
       "      <td>COLORADO</td>\n",
       "      <td>WELD</td>\n",
       "      <td>40.152220</td>\n",
       "      <td>-104.530780</td>\n",
       "      <td>40.17445</td>\n",
       "      <td>-104.52932</td>\n",
       "      <td>7078.0</td>\n",
       "      <td>973.4437</td>\n",
       "      <td>824.0020</td>\n",
       "      <td>59474</td>\n",
       "      <td>81048</td>\n",
       "    </tr>\n",
       "    <tr>\n",
       "      <th>4</th>\n",
       "      <td>5123385820100</td>\n",
       "      <td>2014-01-07</td>\n",
       "      <td>2014-01-13</td>\n",
       "      <td>2014-04-23</td>\n",
       "      <td>2014-04-01 00:00:00.000</td>\n",
       "      <td>GREAT WESTERN OPERATING COMPANY LLC</td>\n",
       "      <td>NIOBRARA</td>\n",
       "      <td>DENVER BASIN</td>\n",
       "      <td>COLORADO</td>\n",
       "      <td>WELD</td>\n",
       "      <td>40.508303</td>\n",
       "      <td>-104.868180</td>\n",
       "      <td>40.49558</td>\n",
       "      <td>-104.86757</td>\n",
       "      <td>3211.0</td>\n",
       "      <td>783.5919</td>\n",
       "      <td>603.1414</td>\n",
       "      <td>14427</td>\n",
       "      <td>18050</td>\n",
       "    </tr>\n",
       "  </tbody>\n",
       "</table>\n",
       "</div>"
      ],
      "text/plain": [
       "             API  PermitDate    SpudDate CompletionDate  \\\n",
       "0  5005072170100  2014-05-06  2014-05-06     2014-12-02   \n",
       "1  5123377130000  2013-07-21  2013-10-06     2014-02-26   \n",
       "2  5123379280000  2013-09-08  2013-09-25     2014-09-07   \n",
       "3  5123379400000  2013-09-11  2014-12-05     2015-03-31   \n",
       "4  5123385820100  2014-01-07  2014-01-13     2014-04-23   \n",
       "\n",
       "       FirstProductionDate                        operatorNameIHS formation  \\\n",
       "0  2014-11-01 00:00:00.000         BURLINGTON RESOURCES O&G CO LP  NIOBRARA   \n",
       "1  2014-02-01 00:00:00.000                SRC ENERGY INCORPORATED  NIOBRARA   \n",
       "2  2013-11-01 00:00:00.000  BONANZA CREEK ENERGY OPERATING CO LLC  NIOBRARA   \n",
       "3  2015-03-01 00:00:00.000              NOBLE ENERGY INCORPORATED  NIOBRARA   \n",
       "4  2014-04-01 00:00:00.000    GREAT WESTERN OPERATING COMPANY LLC  NIOBRARA   \n",
       "\n",
       "      BasinName StateName CountyName   LatWGS84    LonWGS84  \\\n",
       "0  DENVER BASIN  COLORADO   ARAPAHOE  39.684606 -104.642128   \n",
       "1  DENVER BASIN  COLORADO       WELD  40.509320 -104.780980   \n",
       "2  DENVER BASIN  COLORADO       WELD  40.335390 -104.363000   \n",
       "3  DENVER BASIN  COLORADO       WELD  40.152220 -104.530780   \n",
       "4  DENVER BASIN  COLORADO       WELD  40.508303 -104.868180   \n",
       "\n",
       "   BottomHoleLatitude  BottomHoleLongitude  LATERAL_LENGTH_BLEND  \\\n",
       "0            39.68445           -104.60557                9005.0   \n",
       "1            40.49692           -104.77859                4195.0   \n",
       "2            40.34780           -104.36863                4273.0   \n",
       "3            40.17445           -104.52932                7078.0   \n",
       "4            40.49558           -104.86757                3211.0   \n",
       "\n",
       "   PROP_PER_FOOT  WATER_PER_FOOT  Prod1Year  ProdAll  \n",
       "0       994.6866        591.8004     126898   201325  \n",
       "1       991.5857        628.6321      22616    34625  \n",
       "2      1000.2760        564.4841      47523    69009  \n",
       "3       973.4437        824.0020      59474    81048  \n",
       "4       783.5919        603.1414      14427    18050  "
      ]
     },
     "metadata": {},
     "output_type": "display_data"
    }
   ],
   "source": [
    "display(df.head(5))"
   ]
  },
  {
   "cell_type": "markdown",
   "id": "337ff60f-16d0-4169-af3d-19d5a2c45b38",
   "metadata": {},
   "source": [
    "## Separate data"
   ]
  },
  {
   "cell_type": "code",
   "execution_count": 4,
   "id": "b13fbede-8687-44bc-8039-8bc7577ebab8",
   "metadata": {
    "execution": {
     "iopub.execute_input": "2022-10-15T04:48:14.384797Z",
     "iopub.status.busy": "2022-10-15T04:48:14.384158Z",
     "iopub.status.idle": "2022-10-15T04:48:14.389440Z",
     "shell.execute_reply": "2022-10-15T04:48:14.388526Z",
     "shell.execute_reply.started": "2022-10-15T04:48:14.384768Z"
    },
    "tags": []
   },
   "outputs": [],
   "source": [
    "X = df.drop(['Prod1Year', 'API', 'ProdAll'], axis = 1)"
   ]
  },
  {
   "cell_type": "code",
   "execution_count": 5,
   "id": "fbff0739-e11e-478d-a6d5-db424cf26d96",
   "metadata": {
    "execution": {
     "iopub.execute_input": "2022-10-15T04:48:14.394149Z",
     "iopub.status.busy": "2022-10-15T04:48:14.393725Z",
     "iopub.status.idle": "2022-10-15T04:48:14.414795Z",
     "shell.execute_reply": "2022-10-15T04:48:14.413888Z",
     "shell.execute_reply.started": "2022-10-15T04:48:14.394117Z"
    },
    "tags": []
   },
   "outputs": [],
   "source": [
    "Y = df['Prod1Year']"
   ]
  },
  {
   "cell_type": "code",
   "execution_count": 6,
   "id": "83615514-2393-4ba8-93ba-d4371932315c",
   "metadata": {
    "execution": {
     "iopub.execute_input": "2022-10-15T04:48:23.771678Z",
     "iopub.status.busy": "2022-10-15T04:48:23.768868Z",
     "iopub.status.idle": "2022-10-15T04:48:23.780341Z",
     "shell.execute_reply": "2022-10-15T04:48:23.779154Z",
     "shell.execute_reply.started": "2022-10-15T04:48:23.771575Z"
    },
    "tags": []
   },
   "outputs": [
    {
     "data": {
      "text/plain": [
       "(50, 16)"
      ]
     },
     "execution_count": 6,
     "metadata": {},
     "output_type": "execute_result"
    }
   ],
   "source": [
    "X.shape"
   ]
  },
  {
   "cell_type": "code",
   "execution_count": 7,
   "id": "865466d1-dcf9-44b6-8658-bf4dd7285a84",
   "metadata": {
    "execution": {
     "iopub.execute_input": "2022-10-15T04:48:30.301969Z",
     "iopub.status.busy": "2022-10-15T04:48:30.300641Z",
     "iopub.status.idle": "2022-10-15T04:48:30.316491Z",
     "shell.execute_reply": "2022-10-15T04:48:30.315620Z",
     "shell.execute_reply.started": "2022-10-15T04:48:30.301871Z"
    },
    "tags": []
   },
   "outputs": [
    {
     "name": "stdout",
     "output_type": "stream",
     "text": [
      "<class 'pandas.core.frame.DataFrame'>\n",
      "RangeIndex: 50 entries, 0 to 49\n",
      "Data columns (total 16 columns):\n",
      " #   Column                Non-Null Count  Dtype  \n",
      "---  ------                --------------  -----  \n",
      " 0   PermitDate            50 non-null     object \n",
      " 1   SpudDate              50 non-null     object \n",
      " 2   CompletionDate        50 non-null     object \n",
      " 3   FirstProductionDate   50 non-null     object \n",
      " 4   operatorNameIHS       50 non-null     object \n",
      " 5   formation             50 non-null     object \n",
      " 6   BasinName             50 non-null     object \n",
      " 7   StateName             50 non-null     object \n",
      " 8   CountyName            50 non-null     object \n",
      " 9   LatWGS84              50 non-null     float64\n",
      " 10  LonWGS84              50 non-null     float64\n",
      " 11  BottomHoleLatitude    50 non-null     float64\n",
      " 12  BottomHoleLongitude   50 non-null     float64\n",
      " 13  LATERAL_LENGTH_BLEND  50 non-null     float64\n",
      " 14  PROP_PER_FOOT         50 non-null     float64\n",
      " 15  WATER_PER_FOOT        50 non-null     float64\n",
      "dtypes: float64(7), object(9)\n",
      "memory usage: 6.4+ KB\n"
     ]
    }
   ],
   "source": [
    "X.info()"
   ]
  },
  {
   "cell_type": "code",
   "execution_count": 11,
   "id": "9a1ab28a-8d76-42f6-b33f-1db5370de198",
   "metadata": {
    "execution": {
     "iopub.execute_input": "2022-10-15T04:50:55.348310Z",
     "iopub.status.busy": "2022-10-15T04:50:55.348024Z",
     "iopub.status.idle": "2022-10-15T04:50:55.352574Z",
     "shell.execute_reply": "2022-10-15T04:50:55.351415Z",
     "shell.execute_reply.started": "2022-10-15T04:50:55.348290Z"
    },
    "tags": []
   },
   "outputs": [],
   "source": [
    "num_cols = [i for i in X.columns if X[i].dtype != object]\n",
    "cat_cols = list(set(X.columns) - set(num_cols))"
   ]
  },
  {
   "cell_type": "code",
   "execution_count": 12,
   "id": "f08d00c4-642e-4511-93a4-c7d2464d3175",
   "metadata": {
    "execution": {
     "iopub.execute_input": "2022-10-15T04:50:56.266908Z",
     "iopub.status.busy": "2022-10-15T04:50:56.266480Z",
     "iopub.status.idle": "2022-10-15T04:50:56.273329Z",
     "shell.execute_reply": "2022-10-15T04:50:56.272453Z",
     "shell.execute_reply.started": "2022-10-15T04:50:56.266878Z"
    },
    "tags": []
   },
   "outputs": [
    {
     "data": {
      "text/plain": [
       "['LatWGS84',\n",
       " 'LonWGS84',\n",
       " 'BottomHoleLatitude',\n",
       " 'BottomHoleLongitude',\n",
       " 'LATERAL_LENGTH_BLEND',\n",
       " 'PROP_PER_FOOT',\n",
       " 'WATER_PER_FOOT']"
      ]
     },
     "execution_count": 12,
     "metadata": {},
     "output_type": "execute_result"
    }
   ],
   "source": [
    "num_cols"
   ]
  },
  {
   "cell_type": "code",
   "execution_count": 13,
   "id": "ece3e022-a8be-49b4-94af-59d5316ca263",
   "metadata": {
    "execution": {
     "iopub.execute_input": "2022-10-15T04:51:00.475113Z",
     "iopub.status.busy": "2022-10-15T04:51:00.474290Z",
     "iopub.status.idle": "2022-10-15T04:51:00.480527Z",
     "shell.execute_reply": "2022-10-15T04:51:00.479475Z",
     "shell.execute_reply.started": "2022-10-15T04:51:00.475073Z"
    },
    "tags": []
   },
   "outputs": [
    {
     "data": {
      "text/plain": [
       "['FirstProductionDate',\n",
       " 'CountyName',\n",
       " 'formation',\n",
       " 'CompletionDate',\n",
       " 'PermitDate',\n",
       " 'SpudDate',\n",
       " 'BasinName',\n",
       " 'operatorNameIHS',\n",
       " 'StateName']"
      ]
     },
     "execution_count": 13,
     "metadata": {},
     "output_type": "execute_result"
    }
   ],
   "source": [
    "cat_cols"
   ]
  },
  {
   "cell_type": "code",
   "execution_count": null,
   "id": "c5c0248b-59c2-4381-a8a3-a1b558d598eb",
   "metadata": {},
   "outputs": [],
   "source": []
  }
 ],
 "metadata": {
  "kernelspec": {
   "display_name": "ml",
   "language": "python",
   "name": "ml"
  },
  "language_info": {
   "codemirror_mode": {
    "name": "ipython",
    "version": 3
   },
   "file_extension": ".py",
   "mimetype": "text/x-python",
   "name": "python",
   "nbconvert_exporter": "python",
   "pygments_lexer": "ipython3",
   "version": "3.10.4"
  }
 },
 "nbformat": 4,
 "nbformat_minor": 5
}
