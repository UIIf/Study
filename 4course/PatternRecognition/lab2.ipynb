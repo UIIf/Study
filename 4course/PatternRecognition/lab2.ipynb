{
 "cells": [
  {
   "attachments": {},
   "cell_type": "markdown",
   "metadata": {},
   "source": [
    "# Петров Сергей Дмитриевич, Вариант 5"
   ]
  },
  {
   "cell_type": "code",
   "execution_count": 1,
   "metadata": {},
   "outputs": [],
   "source": [
    "import module_lab1 as lab1\n",
    "import numpy as np \n",
    "import matplotlib.pyplot as plt"
   ]
  },
  {
   "cell_type": "code",
   "execution_count": 2,
   "metadata": {},
   "outputs": [],
   "source": [
    "def likelihood_func(x, M, B):\n",
    "    delit = 2*np.pi * np.sqrt(np.linalg.det(B))\n",
    "\n",
    "    for_exp = np.dot(\n",
    "        (x  - M),\n",
    "        np.linalg.inv(B)\n",
    "    )\n",
    "    for_exp = np.dot(\n",
    "        for_exp,\n",
    "        (x - M)\n",
    "    )\n",
    "\n",
    "\n",
    "    return np.exp(-for_exp/2)/delit\n",
    "\n",
    "def create_likelihood_func(M, B):\n",
    "    def inner_func(x):\n",
    "        return likelihood_func(x, M, B)\n",
    "    return inner_func"
   ]
  },
  {
   "attachments": {},
   "cell_type": "markdown",
   "metadata": {},
   "source": [
    "### Задача 1\n",
    "Построить байесовскую решающую границу между классами $\\Omega 0$ и $\\Omega 1$ двумерных нормально распределенных векторов признаков для случая равных корреляционных матриц и равных априорных вероятностей и изобразить ее графически. Вычислить вероятности ошибочной классификации и суммарную вероятность ошибочной классификации в этом случае\n",
    "    "
   ]
  },
  {
   "cell_type": "code",
   "execution_count": 82,
   "metadata": {},
   "outputs": [],
   "source": [
    "def create_data_for_class(N:list, M:list, B:list):\n",
    "    class data:\n",
    "        def __init__(self, N:list, M:list, B:list):\n",
    "            temp_N = np.array(N)\n",
    "            self.aprior_prob = temp_N/temp_N.sum()\n",
    "\n",
    "            self.vectors = []\n",
    "            self.likelihood_funcs = []\n",
    "            for n, m, b in zip(N, M, B):\n",
    "                var_xi = lab1.create_xi(n)\n",
    "                self.vectors += [lab1.calc_x(var_xi, m, b)]\n",
    "                self.likelihood_funcs += [create_likelihood_func(m, b)]\n",
    "\n",
    "            self.vectors = np.array(self.vectors)\n",
    "\n",
    "            self.c = np.ones([len(N), len(N)])\n",
    "            self.c -= np.eye(len(N), len(N), 0)\n",
    "\n",
    "        def find_borders(self):\n",
    "            x_min = self.vectors[:, :, 0].min()\n",
    "            x_max = self.vectors[:, :, 0].max()\n",
    "\n",
    "            y_min = self.vectors[:, :, 1].min()\n",
    "            y_max = self.vectors[:, :, 1].max()\n",
    "\n",
    "            return ([x_min, x_max], [y_min, y_max])\n",
    "\n",
    "        def plot_dots(self,steps = None):\n",
    "            borders = self.find_borders()\n",
    "\n",
    "            if(steps == None):\n",
    "                plt.xlim(borders[0])\n",
    "                plt.ylim(borders[1])\n",
    "                for target, vec in enumerate(self.vectors):\n",
    "                    plt.scatter(vec[:,0], vec[:,1], label = target)\n",
    "            else:\n",
    "                plt.xlim(0, steps[0])\n",
    "                plt.ylim(0, steps[1])\n",
    "\n",
    "                vec_copy = self.vectors.copy()\n",
    "\n",
    "                vec_copy[:,:,0] = (vec_copy[:,:,0] - borders[0][0])/(borders[0][1] - borders[0][0]) * steps[0]\n",
    "                vec_copy[:,:,1] = (vec_copy[:,:,1] - borders[1][0])/(borders[1][1] - borders[1][0]) * steps[1]\n",
    "\n",
    "                for target, vec in enumerate(vec_copy):\n",
    "                    plt.scatter(vec[:,0], vec[:,1], label = target)\n",
    "\n",
    "            \n",
    "\n",
    "\n",
    "    return data(N, M, B)"
   ]
  },
  {
   "cell_type": "code",
   "execution_count": 109,
   "metadata": {},
   "outputs": [],
   "source": [
    "class BiasClassifier:\n",
    "    def __init__(self, data:create_data_for_class):\n",
    "        self.data = data\n",
    "\n",
    "    def vec_prob(self, vec):\n",
    "        return np.array([apr*likelihood(vec) for apr, likelihood in zip(self.data.aprior_prob, self.data.likelihood_funcs)])\n",
    "    \n",
    "    def pred_class(self, vec):\n",
    "        return np.argmax(self.vec_prob(vec))\n",
    "    \n",
    "    def create_pred_img(self, steps = [16, 10], cmap = 'viridis'):\n",
    "        borders = self.data.find_borders()\n",
    "        x_linspace = np.linspace(borders[0][0], borders[0][1], steps[0])\n",
    "        y_linspace = np.linspace(borders[1][0], borders[1][1], steps[1])\n",
    "\n",
    "        lam = lambda x, y: self.pred_class(np.array([x, y]))\n",
    "        \n",
    "        matrix = [[lam(x,y) for x in x_linspace] for y in y_linspace]\n",
    "\n",
    "        plt.imshow(matrix,cmap = cmap, origin = 'lower')\n",
    "        self.data.plot_dots(steps)"
   ]
  },
  {
   "cell_type": "code",
   "execution_count": 110,
   "metadata": {},
   "outputs": [],
   "source": [
    "baies = BiasClassifier(\n",
    "    create_data_for_class(\n",
    "        N=[200, 200, 200],\n",
    "        M=[lab1.M1, lab1.M2, lab1.M3],\n",
    "        B=[lab1.B_diag_symm, lab1.B_diag_symm, lab1.B_diag_symm]\n",
    "    )\n",
    ")"
   ]
  },
  {
   "cell_type": "code",
   "execution_count": 111,
   "metadata": {},
   "outputs": [
    {
     "data": {
      "image/png": "[encoded data removed]",
      "text/plain": [
       "<Figure size 432x288 with 1 Axes>"
      ]
     },
     "metadata": {
      "needs_background": "light"
     },
     "output_type": "display_data"
    }
   ],
   "source": [
    "# baies.data.plot_dots()\n",
    "baies.create_pred_img([50, 50])\n",
    "plt.legend()\n",
    "plt.show()"
   ]
  }
 ],
 "metadata": {
  "kernelspec": {
   "display_name": "Python 3",
   "language": "python",
   "name": "python3"
  },
  "language_info": {
   "codemirror_mode": {
    "name": "ipython",
    "version": 3
   },
   "file_extension": ".py",
   "mimetype": "text/x-python",
   "name": "python",
   "nbconvert_exporter": "python",
   "pygments_lexer": "ipython3",
   "version": "3.10.2"
  },
  "orig_nbformat": 4,
  "vscode": {
   "interpreter": {
    "hash": "115e16396e502fe75bb265f59ead4daf615bda180075cff681e42e7c032c33f1"
   }
  }
 },
 "nbformat": 4,
 "nbformat_minor": 2
}
