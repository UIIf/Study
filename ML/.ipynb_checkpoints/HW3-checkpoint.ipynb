{
 "cells": [
  {
   "cell_type": "markdown",
   "id": "fb0ba449-ea38-44d4-9a7d-b4708ac37597",
   "metadata": {},
   "source": [
    "# Петров Сергей"
   ]
  },
  {
   "cell_type": "markdown",
   "id": "1eb8c1cf-9623-4c73-ab9e-633097bb1e51",
   "metadata": {
    "tags": []
   },
   "source": [
    "# Загрузка библиотек"
   ]
  },
  {
   "cell_type": "code",
   "execution_count": 4,
   "id": "96c30208-fb31-4464-ba38-e3ce63987d09",
   "metadata": {},
   "outputs": [],
   "source": [
    "import pandas as pd\n",
    "import numpy as np\n",
    "import matplotlib.pyplot as plt\n",
    "import sklearn as sk\n",
    "import math\n",
    "\n",
    "from sklearn.model_selection import train_test_split\n",
    "from scipy.special import softmax"
   ]
  },
  {
   "cell_type": "code",
   "execution_count": 5,
   "id": "3d06be9c-04cb-4f1f-b13a-718d690cf2e7",
   "metadata": {},
   "outputs": [],
   "source": [
    "from sklearn.metrics import roc_auc_score, precision_score, recall_score, f1_score, accuracy_score, confusion_matrix, ConfusionMatrixDisplay"
   ]
  },
  {
   "cell_type": "code",
   "execution_count": 6,
   "id": "40db5808-61a0-4670-aa50-d9f577ff46b0",
   "metadata": {},
   "outputs": [],
   "source": [
    "r_state = 42"
   ]
  },
  {
   "cell_type": "markdown",
   "id": "1defb16d-aef6-4cbc-84f8-3e582192f305",
   "metadata": {},
   "source": [
    "# Всякие функции"
   ]
  },
  {
   "cell_type": "code",
   "execution_count": 7,
   "id": "0ccf1406-d667-484a-8727-ed992e2abbcb",
   "metadata": {},
   "outputs": [],
   "source": [
    "def show_metrics(y_true, y_pred):\n",
    "    \n",
    "    ConfusionMatrixDisplay.from_predictions(y_true, y_pred)\n",
    "    \n",
    "    for msg, metric in zip(\n",
    "        ['accuracy', 'precision', 'recall', 'f1', 'roc auc'],\n",
    "        [accuracy_score, precision_score, recall_score, f1_score, roc_auc_score]):\n",
    "        print(f\"{msg:10}\", round(metric(y_true, y_pred)*100, 1))"
   ]
  },
  {
   "cell_type": "markdown",
   "id": "23f20822-48df-4cf6-a52c-df2f24b8ae79",
   "metadata": {
    "tags": []
   },
   "source": [
    "# Подготовка датасетов"
   ]
  },
  {
   "cell_type": "code",
   "execution_count": 8,
   "id": "52cbf979-a9a7-4e1b-9256-c457885652b9",
   "metadata": {},
   "outputs": [],
   "source": [
    "adult_df = pd.read_csv('adult.csv')"
   ]
  },
  {
   "cell_type": "code",
   "execution_count": 9,
   "id": "b27c27c2-4f39-4d39-af99-d31523f6c728",
   "metadata": {},
   "outputs": [
    {
     "name": "stdout",
     "output_type": "stream",
     "text": [
      "<class 'pandas.core.frame.DataFrame'>\n",
      "RangeIndex: 32561 entries, 0 to 32560\n",
      "Data columns (total 15 columns):\n",
      " #   Column          Non-Null Count  Dtype \n",
      "---  ------          --------------  ----- \n",
      " 0   age             32561 non-null  int64 \n",
      " 1   workclass       32561 non-null  object\n",
      " 2   fnlwgt          32561 non-null  int64 \n",
      " 3   education       32561 non-null  object\n",
      " 4   education.num   32561 non-null  int64 \n",
      " 5   marital.status  32561 non-null  object\n",
      " 6   occupation      32561 non-null  object\n",
      " 7   relationship    32561 non-null  object\n",
      " 8   race            32561 non-null  object\n",
      " 9   sex             32561 non-null  object\n",
      " 10  capital.gain    32561 non-null  int64 \n",
      " 11  capital.loss    32561 non-null  int64 \n",
      " 12  hours.per.week  32561 non-null  int64 \n",
      " 13  native.country  32561 non-null  object\n",
      " 14  income          32561 non-null  object\n",
      "dtypes: int64(6), object(9)\n",
      "memory usage: 3.7+ MB\n"
     ]
    }
   ],
   "source": [
    "adult_df.info()"
   ]
  },
  {
   "cell_type": "code",
   "execution_count": 10,
   "id": "229fcac3-3893-4c65-bbd2-52a87362deec",
   "metadata": {},
   "outputs": [],
   "source": [
    "adult_df['capital.gain'] = (adult_df['capital.gain'] != 0).astype('int')\n",
    "adult_df['capital.loss'] = (adult_df['capital.loss'] != 0).astype('int')"
   ]
  },
  {
   "cell_type": "code",
   "execution_count": 11,
   "id": "4dea416f-9393-4f06-a44b-2be64bad3d26",
   "metadata": {},
   "outputs": [],
   "source": [
    "num_cols = ['age', 'fnlwgt', 'education.num', 'capital.gain', 'capital.loss', 'hours.per.week']"
   ]
  },
  {
   "cell_type": "code",
   "execution_count": 12,
   "id": "d768282c-64fa-407c-b1ec-01549d83bee8",
   "metadata": {},
   "outputs": [],
   "source": [
    "col_to_cat = ['age', 'fnlwgt', 'education.num', 'hours.per.week']\n",
    "for col in col_to_cat:\n",
    "    _, bins = pd.qcut(adult_df[col], q=10, duplicates='drop', retbins=True)\n",
    "    \n",
    "    bins[0] = -np.inf\n",
    "    bins[-1] = np.inf\n",
    "    adult_df[col + '_cat'] = pd.cut(adult_df[col], bins=bins)"
   ]
  },
  {
   "cell_type": "code",
   "execution_count": 13,
   "id": "ecb44e4a-876c-476e-a26a-31b07295d331",
   "metadata": {},
   "outputs": [
    {
     "data": {
      "text/plain": [
       "array(['<=50K', '>50K'], dtype=object)"
      ]
     },
     "execution_count": 13,
     "metadata": {},
     "output_type": "execute_result"
    }
   ],
   "source": [
    "adult_df['income'].unique()"
   ]
  },
  {
   "cell_type": "code",
   "execution_count": 14,
   "id": "48046a4b-f4f8-46a6-b681-0df6d4036a8f",
   "metadata": {},
   "outputs": [
    {
     "data": {
      "text/html": [
       "<div>\n",
       "<style scoped>\n",
       "    .dataframe tbody tr th:only-of-type {\n",
       "        vertical-align: middle;\n",
       "    }\n",
       "\n",
       "    .dataframe tbody tr th {\n",
       "        vertical-align: top;\n",
       "    }\n",
       "\n",
       "    .dataframe thead th {\n",
       "        text-align: right;\n",
       "    }\n",
       "</style>\n",
       "<table border=\"1\" class=\"dataframe\">\n",
       "  <thead>\n",
       "    <tr style=\"text-align: right;\">\n",
       "      <th></th>\n",
       "      <th>age</th>\n",
       "      <th>workclass</th>\n",
       "      <th>fnlwgt</th>\n",
       "      <th>education</th>\n",
       "      <th>education.num</th>\n",
       "      <th>marital.status</th>\n",
       "      <th>occupation</th>\n",
       "      <th>relationship</th>\n",
       "      <th>race</th>\n",
       "      <th>sex</th>\n",
       "      <th>capital.gain</th>\n",
       "      <th>capital.loss</th>\n",
       "      <th>hours.per.week</th>\n",
       "      <th>native.country</th>\n",
       "      <th>income</th>\n",
       "      <th>age_cat</th>\n",
       "      <th>fnlwgt_cat</th>\n",
       "      <th>education.num_cat</th>\n",
       "      <th>hours.per.week_cat</th>\n",
       "    </tr>\n",
       "  </thead>\n",
       "  <tbody>\n",
       "    <tr>\n",
       "      <th>0</th>\n",
       "      <td>90</td>\n",
       "      <td>?</td>\n",
       "      <td>77053</td>\n",
       "      <td>HS-grad</td>\n",
       "      <td>9</td>\n",
       "      <td>Widowed</td>\n",
       "      <td>?</td>\n",
       "      <td>Not-in-family</td>\n",
       "      <td>White</td>\n",
       "      <td>Female</td>\n",
       "      <td>0</td>\n",
       "      <td>1</td>\n",
       "      <td>40</td>\n",
       "      <td>United-States</td>\n",
       "      <td>&lt;=50K</td>\n",
       "      <td>(58.0, inf]</td>\n",
       "      <td>(65716.0, 106648.0]</td>\n",
       "      <td>(7.0, 9.0]</td>\n",
       "      <td>(35.0, 40.0]</td>\n",
       "    </tr>\n",
       "    <tr>\n",
       "      <th>1</th>\n",
       "      <td>82</td>\n",
       "      <td>Private</td>\n",
       "      <td>132870</td>\n",
       "      <td>HS-grad</td>\n",
       "      <td>9</td>\n",
       "      <td>Widowed</td>\n",
       "      <td>Exec-managerial</td>\n",
       "      <td>Not-in-family</td>\n",
       "      <td>White</td>\n",
       "      <td>Female</td>\n",
       "      <td>0</td>\n",
       "      <td>1</td>\n",
       "      <td>18</td>\n",
       "      <td>United-States</td>\n",
       "      <td>&lt;=50K</td>\n",
       "      <td>(58.0, inf]</td>\n",
       "      <td>(130856.0, 158662.0]</td>\n",
       "      <td>(7.0, 9.0]</td>\n",
       "      <td>(-inf, 24.0]</td>\n",
       "    </tr>\n",
       "    <tr>\n",
       "      <th>2</th>\n",
       "      <td>66</td>\n",
       "      <td>?</td>\n",
       "      <td>186061</td>\n",
       "      <td>Some-college</td>\n",
       "      <td>10</td>\n",
       "      <td>Widowed</td>\n",
       "      <td>?</td>\n",
       "      <td>Unmarried</td>\n",
       "      <td>Black</td>\n",
       "      <td>Female</td>\n",
       "      <td>0</td>\n",
       "      <td>1</td>\n",
       "      <td>40</td>\n",
       "      <td>United-States</td>\n",
       "      <td>&lt;=50K</td>\n",
       "      <td>(58.0, inf]</td>\n",
       "      <td>(178356.0, 196338.0]</td>\n",
       "      <td>(9.0, 10.0]</td>\n",
       "      <td>(35.0, 40.0]</td>\n",
       "    </tr>\n",
       "    <tr>\n",
       "      <th>3</th>\n",
       "      <td>54</td>\n",
       "      <td>Private</td>\n",
       "      <td>140359</td>\n",
       "      <td>7th-8th</td>\n",
       "      <td>4</td>\n",
       "      <td>Divorced</td>\n",
       "      <td>Machine-op-inspct</td>\n",
       "      <td>Unmarried</td>\n",
       "      <td>White</td>\n",
       "      <td>Female</td>\n",
       "      <td>0</td>\n",
       "      <td>1</td>\n",
       "      <td>40</td>\n",
       "      <td>United-States</td>\n",
       "      <td>&lt;=50K</td>\n",
       "      <td>(50.0, 58.0]</td>\n",
       "      <td>(130856.0, 158662.0]</td>\n",
       "      <td>(-inf, 7.0]</td>\n",
       "      <td>(35.0, 40.0]</td>\n",
       "    </tr>\n",
       "    <tr>\n",
       "      <th>4</th>\n",
       "      <td>41</td>\n",
       "      <td>Private</td>\n",
       "      <td>264663</td>\n",
       "      <td>Some-college</td>\n",
       "      <td>10</td>\n",
       "      <td>Separated</td>\n",
       "      <td>Prof-specialty</td>\n",
       "      <td>Own-child</td>\n",
       "      <td>White</td>\n",
       "      <td>Female</td>\n",
       "      <td>0</td>\n",
       "      <td>1</td>\n",
       "      <td>40</td>\n",
       "      <td>United-States</td>\n",
       "      <td>&lt;=50K</td>\n",
       "      <td>(37.0, 41.0]</td>\n",
       "      <td>(259873.0, 329054.0]</td>\n",
       "      <td>(9.0, 10.0]</td>\n",
       "      <td>(35.0, 40.0]</td>\n",
       "    </tr>\n",
       "    <tr>\n",
       "      <th>...</th>\n",
       "      <td>...</td>\n",
       "      <td>...</td>\n",
       "      <td>...</td>\n",
       "      <td>...</td>\n",
       "      <td>...</td>\n",
       "      <td>...</td>\n",
       "      <td>...</td>\n",
       "      <td>...</td>\n",
       "      <td>...</td>\n",
       "      <td>...</td>\n",
       "      <td>...</td>\n",
       "      <td>...</td>\n",
       "      <td>...</td>\n",
       "      <td>...</td>\n",
       "      <td>...</td>\n",
       "      <td>...</td>\n",
       "      <td>...</td>\n",
       "      <td>...</td>\n",
       "      <td>...</td>\n",
       "    </tr>\n",
       "    <tr>\n",
       "      <th>32556</th>\n",
       "      <td>22</td>\n",
       "      <td>Private</td>\n",
       "      <td>310152</td>\n",
       "      <td>Some-college</td>\n",
       "      <td>10</td>\n",
       "      <td>Never-married</td>\n",
       "      <td>Protective-serv</td>\n",
       "      <td>Not-in-family</td>\n",
       "      <td>White</td>\n",
       "      <td>Male</td>\n",
       "      <td>0</td>\n",
       "      <td>0</td>\n",
       "      <td>40</td>\n",
       "      <td>United-States</td>\n",
       "      <td>&lt;=50K</td>\n",
       "      <td>(-inf, 22.0]</td>\n",
       "      <td>(259873.0, 329054.0]</td>\n",
       "      <td>(9.0, 10.0]</td>\n",
       "      <td>(35.0, 40.0]</td>\n",
       "    </tr>\n",
       "    <tr>\n",
       "      <th>32557</th>\n",
       "      <td>27</td>\n",
       "      <td>Private</td>\n",
       "      <td>257302</td>\n",
       "      <td>Assoc-acdm</td>\n",
       "      <td>12</td>\n",
       "      <td>Married-civ-spouse</td>\n",
       "      <td>Tech-support</td>\n",
       "      <td>Wife</td>\n",
       "      <td>White</td>\n",
       "      <td>Female</td>\n",
       "      <td>0</td>\n",
       "      <td>0</td>\n",
       "      <td>38</td>\n",
       "      <td>United-States</td>\n",
       "      <td>&lt;=50K</td>\n",
       "      <td>(26.0, 30.0]</td>\n",
       "      <td>(219632.0, 259873.0]</td>\n",
       "      <td>(11.0, 13.0]</td>\n",
       "      <td>(35.0, 40.0]</td>\n",
       "    </tr>\n",
       "    <tr>\n",
       "      <th>32558</th>\n",
       "      <td>40</td>\n",
       "      <td>Private</td>\n",
       "      <td>154374</td>\n",
       "      <td>HS-grad</td>\n",
       "      <td>9</td>\n",
       "      <td>Married-civ-spouse</td>\n",
       "      <td>Machine-op-inspct</td>\n",
       "      <td>Husband</td>\n",
       "      <td>White</td>\n",
       "      <td>Male</td>\n",
       "      <td>0</td>\n",
       "      <td>0</td>\n",
       "      <td>40</td>\n",
       "      <td>United-States</td>\n",
       "      <td>&gt;50K</td>\n",
       "      <td>(37.0, 41.0]</td>\n",
       "      <td>(130856.0, 158662.0]</td>\n",
       "      <td>(7.0, 9.0]</td>\n",
       "      <td>(35.0, 40.0]</td>\n",
       "    </tr>\n",
       "    <tr>\n",
       "      <th>32559</th>\n",
       "      <td>58</td>\n",
       "      <td>Private</td>\n",
       "      <td>151910</td>\n",
       "      <td>HS-grad</td>\n",
       "      <td>9</td>\n",
       "      <td>Widowed</td>\n",
       "      <td>Adm-clerical</td>\n",
       "      <td>Unmarried</td>\n",
       "      <td>White</td>\n",
       "      <td>Female</td>\n",
       "      <td>0</td>\n",
       "      <td>0</td>\n",
       "      <td>40</td>\n",
       "      <td>United-States</td>\n",
       "      <td>&lt;=50K</td>\n",
       "      <td>(50.0, 58.0]</td>\n",
       "      <td>(130856.0, 158662.0]</td>\n",
       "      <td>(7.0, 9.0]</td>\n",
       "      <td>(35.0, 40.0]</td>\n",
       "    </tr>\n",
       "    <tr>\n",
       "      <th>32560</th>\n",
       "      <td>22</td>\n",
       "      <td>Private</td>\n",
       "      <td>201490</td>\n",
       "      <td>HS-grad</td>\n",
       "      <td>9</td>\n",
       "      <td>Never-married</td>\n",
       "      <td>Adm-clerical</td>\n",
       "      <td>Own-child</td>\n",
       "      <td>White</td>\n",
       "      <td>Male</td>\n",
       "      <td>0</td>\n",
       "      <td>0</td>\n",
       "      <td>20</td>\n",
       "      <td>United-States</td>\n",
       "      <td>&lt;=50K</td>\n",
       "      <td>(-inf, 22.0]</td>\n",
       "      <td>(196338.0, 219632.0]</td>\n",
       "      <td>(7.0, 9.0]</td>\n",
       "      <td>(-inf, 24.0]</td>\n",
       "    </tr>\n",
       "  </tbody>\n",
       "</table>\n",
       "<p>32561 rows × 19 columns</p>\n",
       "</div>"
      ],
      "text/plain": [
       "       age workclass  fnlwgt     education  education.num      marital.status  \\\n",
       "0       90         ?   77053       HS-grad              9             Widowed   \n",
       "1       82   Private  132870       HS-grad              9             Widowed   \n",
       "2       66         ?  186061  Some-college             10             Widowed   \n",
       "3       54   Private  140359       7th-8th              4            Divorced   \n",
       "4       41   Private  264663  Some-college             10           Separated   \n",
       "...    ...       ...     ...           ...            ...                 ...   \n",
       "32556   22   Private  310152  Some-college             10       Never-married   \n",
       "32557   27   Private  257302    Assoc-acdm             12  Married-civ-spouse   \n",
       "32558   40   Private  154374       HS-grad              9  Married-civ-spouse   \n",
       "32559   58   Private  151910       HS-grad              9             Widowed   \n",
       "32560   22   Private  201490       HS-grad              9       Never-married   \n",
       "\n",
       "              occupation   relationship   race     sex  capital.gain  \\\n",
       "0                      ?  Not-in-family  White  Female             0   \n",
       "1        Exec-managerial  Not-in-family  White  Female             0   \n",
       "2                      ?      Unmarried  Black  Female             0   \n",
       "3      Machine-op-inspct      Unmarried  White  Female             0   \n",
       "4         Prof-specialty      Own-child  White  Female             0   \n",
       "...                  ...            ...    ...     ...           ...   \n",
       "32556    Protective-serv  Not-in-family  White    Male             0   \n",
       "32557       Tech-support           Wife  White  Female             0   \n",
       "32558  Machine-op-inspct        Husband  White    Male             0   \n",
       "32559       Adm-clerical      Unmarried  White  Female             0   \n",
       "32560       Adm-clerical      Own-child  White    Male             0   \n",
       "\n",
       "       capital.loss  hours.per.week native.country income       age_cat  \\\n",
       "0                 1              40  United-States  <=50K   (58.0, inf]   \n",
       "1                 1              18  United-States  <=50K   (58.0, inf]   \n",
       "2                 1              40  United-States  <=50K   (58.0, inf]   \n",
       "3                 1              40  United-States  <=50K  (50.0, 58.0]   \n",
       "4                 1              40  United-States  <=50K  (37.0, 41.0]   \n",
       "...             ...             ...            ...    ...           ...   \n",
       "32556             0              40  United-States  <=50K  (-inf, 22.0]   \n",
       "32557             0              38  United-States  <=50K  (26.0, 30.0]   \n",
       "32558             0              40  United-States   >50K  (37.0, 41.0]   \n",
       "32559             0              40  United-States  <=50K  (50.0, 58.0]   \n",
       "32560             0              20  United-States  <=50K  (-inf, 22.0]   \n",
       "\n",
       "                 fnlwgt_cat education.num_cat hours.per.week_cat  \n",
       "0       (65716.0, 106648.0]        (7.0, 9.0]       (35.0, 40.0]  \n",
       "1      (130856.0, 158662.0]        (7.0, 9.0]       (-inf, 24.0]  \n",
       "2      (178356.0, 196338.0]       (9.0, 10.0]       (35.0, 40.0]  \n",
       "3      (130856.0, 158662.0]       (-inf, 7.0]       (35.0, 40.0]  \n",
       "4      (259873.0, 329054.0]       (9.0, 10.0]       (35.0, 40.0]  \n",
       "...                     ...               ...                ...  \n",
       "32556  (259873.0, 329054.0]       (9.0, 10.0]       (35.0, 40.0]  \n",
       "32557  (219632.0, 259873.0]      (11.0, 13.0]       (35.0, 40.0]  \n",
       "32558  (130856.0, 158662.0]        (7.0, 9.0]       (35.0, 40.0]  \n",
       "32559  (130856.0, 158662.0]        (7.0, 9.0]       (35.0, 40.0]  \n",
       "32560  (196338.0, 219632.0]        (7.0, 9.0]       (-inf, 24.0]  \n",
       "\n",
       "[32561 rows x 19 columns]"
      ]
     },
     "execution_count": 14,
     "metadata": {},
     "output_type": "execute_result"
    }
   ],
   "source": [
    "adult_df"
   ]
  },
  {
   "cell_type": "code",
   "execution_count": 15,
   "id": "273d7fcb-099e-436b-b44a-d90d058e4b3d",
   "metadata": {},
   "outputs": [],
   "source": [
    "adult_train_df, adult_test_df = train_test_split(adult_df,  test_size=0.25, random_state=r_state)"
   ]
  },
  {
   "cell_type": "code",
   "execution_count": 16,
   "id": "ad77faf7-41e7-422e-989b-556a1dcf8b03",
   "metadata": {},
   "outputs": [
    {
     "name": "stdout",
     "output_type": "stream",
     "text": [
      "['workclass', 'education', 'marital.status', 'occupation', 'relationship', 'race', 'sex', 'native.country']\n"
     ]
    }
   ],
   "source": [
    "adult_cat_col = adult_df.select_dtypes(include=object).columns.to_list()\n",
    "adult_cat_col.remove('income')\n",
    "print(adult_cat_col)"
   ]
  },
  {
   "cell_type": "code",
   "execution_count": 17,
   "id": "8ac0ab63-aebe-420b-b533-3140a1171d72",
   "metadata": {},
   "outputs": [
    {
     "data": {
      "text/plain": [
       "['age',\n",
       " 'workclass',\n",
       " 'fnlwgt',\n",
       " 'education',\n",
       " 'education.num',\n",
       " 'marital.status',\n",
       " 'occupation',\n",
       " 'relationship',\n",
       " 'race',\n",
       " 'sex',\n",
       " 'capital.gain',\n",
       " 'capital.loss',\n",
       " 'hours.per.week',\n",
       " 'native.country',\n",
       " 'age_cat',\n",
       " 'fnlwgt_cat',\n",
       " 'education.num_cat',\n",
       " 'hours.per.week_cat']"
      ]
     },
     "execution_count": 17,
     "metadata": {},
     "output_type": "execute_result"
    }
   ],
   "source": [
    "adoult_target_mask = adult_df.columns.to_list()\n",
    "adoult_target_mask.remove('income')\n",
    "adoult_target_mask"
   ]
  },
  {
   "cell_type": "code",
   "execution_count": 18,
   "id": "40377c4f-50e0-4d9f-af48-6af9a4bef1eb",
   "metadata": {},
   "outputs": [],
   "source": [
    "from sklearn.datasets import load_iris"
   ]
  },
  {
   "cell_type": "code",
   "execution_count": 19,
   "id": "1ca689aa-03b8-402f-ab2f-e34d0700ae76",
   "metadata": {},
   "outputs": [],
   "source": [
    "iris_data = load_iris(as_frame=True)"
   ]
  },
  {
   "cell_type": "code",
   "execution_count": 20,
   "id": "7c4c7047-a382-4028-8844-8a21494b57d8",
   "metadata": {},
   "outputs": [],
   "source": [
    "iris_df = iris_data['data']\n",
    "iris_df['target'] = iris_data['target']"
   ]
  },
  {
   "cell_type": "code",
   "execution_count": 21,
   "id": "af83c164-d051-45a5-b55f-a3b878709f1c",
   "metadata": {},
   "outputs": [
    {
     "data": {
      "text/html": [
       "<div>\n",
       "<style scoped>\n",
       "    .dataframe tbody tr th:only-of-type {\n",
       "        vertical-align: middle;\n",
       "    }\n",
       "\n",
       "    .dataframe tbody tr th {\n",
       "        vertical-align: top;\n",
       "    }\n",
       "\n",
       "    .dataframe thead th {\n",
       "        text-align: right;\n",
       "    }\n",
       "</style>\n",
       "<table border=\"1\" class=\"dataframe\">\n",
       "  <thead>\n",
       "    <tr style=\"text-align: right;\">\n",
       "      <th></th>\n",
       "      <th>sepal length (cm)</th>\n",
       "      <th>sepal width (cm)</th>\n",
       "      <th>petal length (cm)</th>\n",
       "      <th>petal width (cm)</th>\n",
       "      <th>target</th>\n",
       "    </tr>\n",
       "  </thead>\n",
       "  <tbody>\n",
       "    <tr>\n",
       "      <th>0</th>\n",
       "      <td>5.1</td>\n",
       "      <td>3.5</td>\n",
       "      <td>1.4</td>\n",
       "      <td>0.2</td>\n",
       "      <td>0</td>\n",
       "    </tr>\n",
       "    <tr>\n",
       "      <th>1</th>\n",
       "      <td>4.9</td>\n",
       "      <td>3.0</td>\n",
       "      <td>1.4</td>\n",
       "      <td>0.2</td>\n",
       "      <td>0</td>\n",
       "    </tr>\n",
       "    <tr>\n",
       "      <th>2</th>\n",
       "      <td>4.7</td>\n",
       "      <td>3.2</td>\n",
       "      <td>1.3</td>\n",
       "      <td>0.2</td>\n",
       "      <td>0</td>\n",
       "    </tr>\n",
       "    <tr>\n",
       "      <th>3</th>\n",
       "      <td>4.6</td>\n",
       "      <td>3.1</td>\n",
       "      <td>1.5</td>\n",
       "      <td>0.2</td>\n",
       "      <td>0</td>\n",
       "    </tr>\n",
       "    <tr>\n",
       "      <th>4</th>\n",
       "      <td>5.0</td>\n",
       "      <td>3.6</td>\n",
       "      <td>1.4</td>\n",
       "      <td>0.2</td>\n",
       "      <td>0</td>\n",
       "    </tr>\n",
       "    <tr>\n",
       "      <th>...</th>\n",
       "      <td>...</td>\n",
       "      <td>...</td>\n",
       "      <td>...</td>\n",
       "      <td>...</td>\n",
       "      <td>...</td>\n",
       "    </tr>\n",
       "    <tr>\n",
       "      <th>145</th>\n",
       "      <td>6.7</td>\n",
       "      <td>3.0</td>\n",
       "      <td>5.2</td>\n",
       "      <td>2.3</td>\n",
       "      <td>2</td>\n",
       "    </tr>\n",
       "    <tr>\n",
       "      <th>146</th>\n",
       "      <td>6.3</td>\n",
       "      <td>2.5</td>\n",
       "      <td>5.0</td>\n",
       "      <td>1.9</td>\n",
       "      <td>2</td>\n",
       "    </tr>\n",
       "    <tr>\n",
       "      <th>147</th>\n",
       "      <td>6.5</td>\n",
       "      <td>3.0</td>\n",
       "      <td>5.2</td>\n",
       "      <td>2.0</td>\n",
       "      <td>2</td>\n",
       "    </tr>\n",
       "    <tr>\n",
       "      <th>148</th>\n",
       "      <td>6.2</td>\n",
       "      <td>3.4</td>\n",
       "      <td>5.4</td>\n",
       "      <td>2.3</td>\n",
       "      <td>2</td>\n",
       "    </tr>\n",
       "    <tr>\n",
       "      <th>149</th>\n",
       "      <td>5.9</td>\n",
       "      <td>3.0</td>\n",
       "      <td>5.1</td>\n",
       "      <td>1.8</td>\n",
       "      <td>2</td>\n",
       "    </tr>\n",
       "  </tbody>\n",
       "</table>\n",
       "<p>150 rows × 5 columns</p>\n",
       "</div>"
      ],
      "text/plain": [
       "     sepal length (cm)  sepal width (cm)  petal length (cm)  petal width (cm)  \\\n",
       "0                  5.1               3.5                1.4               0.2   \n",
       "1                  4.9               3.0                1.4               0.2   \n",
       "2                  4.7               3.2                1.3               0.2   \n",
       "3                  4.6               3.1                1.5               0.2   \n",
       "4                  5.0               3.6                1.4               0.2   \n",
       "..                 ...               ...                ...               ...   \n",
       "145                6.7               3.0                5.2               2.3   \n",
       "146                6.3               2.5                5.0               1.9   \n",
       "147                6.5               3.0                5.2               2.0   \n",
       "148                6.2               3.4                5.4               2.3   \n",
       "149                5.9               3.0                5.1               1.8   \n",
       "\n",
       "     target  \n",
       "0         0  \n",
       "1         0  \n",
       "2         0  \n",
       "3         0  \n",
       "4         0  \n",
       "..      ...  \n",
       "145       2  \n",
       "146       2  \n",
       "147       2  \n",
       "148       2  \n",
       "149       2  \n",
       "\n",
       "[150 rows x 5 columns]"
      ]
     },
     "execution_count": 21,
     "metadata": {},
     "output_type": "execute_result"
    }
   ],
   "source": [
    "iris_df"
   ]
  },
  {
   "cell_type": "code",
   "execution_count": 22,
   "id": "f42f0832-1ac7-4c88-b365-08ce0a874360",
   "metadata": {},
   "outputs": [],
   "source": [
    "train_df, test_df = train_test_split(iris_df, test_size=0.5, random_state=42)"
   ]
  },
  {
   "cell_type": "code",
   "execution_count": 23,
   "id": "bfb9e554-ef48-43c7-8f4d-8cba475cbec1",
   "metadata": {},
   "outputs": [],
   "source": [
    "x_cols = iris_df.columns.to_list()\n",
    "x_cols.remove('target')"
   ]
  },
  {
   "cell_type": "code",
   "execution_count": 24,
   "id": "f8616e58-370c-49a5-85ec-b670d2234ede",
   "metadata": {},
   "outputs": [
    {
     "data": {
      "text/plain": [
       "['sepal length (cm)',\n",
       " 'sepal width (cm)',\n",
       " 'petal length (cm)',\n",
       " 'petal width (cm)']"
      ]
     },
     "execution_count": 24,
     "metadata": {},
     "output_type": "execute_result"
    }
   ],
   "source": [
    "x_cols"
   ]
  },
  {
   "cell_type": "code",
   "execution_count": 25,
   "id": "269e0375-5945-43ae-9a21-368c2107bb75",
   "metadata": {},
   "outputs": [],
   "source": [
    "X_train = train_df[x_cols]\n",
    "y_train = train_df['target']\n",
    "\n",
    "X_test = test_df[x_cols]\n",
    "y_test = test_df['target']"
   ]
  },
  {
   "cell_type": "markdown",
   "id": "3e08291d-d2d4-4e2a-9276-083f7879782b",
   "metadata": {
    "tags": []
   },
   "source": [
    "# Наивный Байесовский классификатор для непрервыных фичей(гауссиан)"
   ]
  },
  {
   "cell_type": "code",
   "execution_count": 38,
   "id": "7cf30e7f-8c3a-41ad-926b-03f60c2ca31b",
   "metadata": {
    "tags": []
   },
   "outputs": [],
   "source": [
    "def gausFunc(x, m, d):\n",
    "    # return math.exp(-(x - m)**2/(2*d**2))/math.sqrt(2*math.pi*d**2)\n",
    "    return np.exp(-(x - m) ** 2 / (2 * d ** 2)) / np.sqrt(2 * np.pi * d ** 2)\n",
    "\n",
    "\n",
    "class MyGaussianNB:\n",
    "    def __init__(self):\n",
    "        \n",
    "        # Массив средних значений для каждой фичи, для каждого класса\n",
    "        # (размер NxK, где N - кол-во фичей, K - кол-во классов)\n",
    "        self.mus = {}\n",
    "\n",
    "        # Массив стандартных среднеквадратических отклоенний для каждой фичи\n",
    "        # для каждого класса (размер NxK, где N - кол-во фичей, K - кол-во классов)\n",
    "        self.sigmas = {}\n",
    "        \n",
    "        self.p = {}\n",
    "        \n",
    "        self.coluns = []\n",
    "        self.costil = {}\n",
    "    \n",
    "    def fit(self, X, y):\n",
    "        df = X.copy()\n",
    "        df['target'] = y\n",
    "        \n",
    "        self.columns = y.unique()\n",
    "        grouped = df.groupby(['target'])\n",
    "        \n",
    "        for u in self.columns:\n",
    "            group = grouped.get_group(u).select_dtypes(include=np.number)\n",
    "            nu = str(u)\n",
    "            self.costil[nu] = u\n",
    "            \n",
    "            self.mus[nu] = group.mean()\n",
    "            self.sigmas[nu] = group.std()\n",
    "            self.p[nu] = group.shape[0]/X.shape[0]\n",
    "        \n",
    "        \n",
    "    def predict(self, X):\n",
    "        return self.likelihood(X).idxmax(axis=1).apply(lambda x : self.costil[x])\n",
    "    \n",
    "    def predict_proba(self, X):\n",
    "        # Применить функцию softmax (scipy.special.softmax) на выходы likelihood\n",
    "        return softmax(self.likelihood(X), axis = -1)\n",
    "    \n",
    "    def likelihood(self, X):\n",
    "        # Для каждого класса посчитать функции правдоподобия для каждой фичи\n",
    "        # Прологарифмировать и сложить их между собой и добавить логарифм\n",
    "        # априорной вероятности соответствующего класса\n",
    "        # Получится матрица размером NxK, где N - кол-во строк, K - кол-во классов\n",
    "        df = X.select_dtypes(include=np.number)\n",
    "        categ = [* self.mus]\n",
    "        features = df.columns\n",
    "        \n",
    "        for cat in categ:\n",
    "            df[cat] = sum([np.log(gausFunc(df[feat],self.mus[cat][feat], self.sigmas[cat][feat] ))for feat in features]) + np.log(self.p[cat])\n",
    "            #print([np.log(gausFunc(df[feat],self.mus[cat][feat], self.sigmas[cat][feat] ))for feat in features])\n",
    "        return df[categ]"
   ]
  },
  {
   "cell_type": "code",
   "execution_count": 39,
   "id": "0b8fc3a1-3801-4faa-b36b-2c686cdf18d7",
   "metadata": {},
   "outputs": [],
   "source": [
    "gnb = MyGaussianNB()"
   ]
  },
  {
   "cell_type": "code",
   "execution_count": 40,
   "id": "8edc742f-d7a2-47a8-93c6-4fd02e313a75",
   "metadata": {},
   "outputs": [],
   "source": [
    "gnb.fit(X_train, y_train)"
   ]
  },
  {
   "cell_type": "code",
   "execution_count": 41,
   "id": "12d9c1eb-0068-4ea2-ad15-620a3466be6e",
   "metadata": {},
   "outputs": [
    {
     "data": {
      "text/html": [
       "<div>\n",
       "<style scoped>\n",
       "    .dataframe tbody tr th:only-of-type {\n",
       "        vertical-align: middle;\n",
       "    }\n",
       "\n",
       "    .dataframe tbody tr th {\n",
       "        vertical-align: top;\n",
       "    }\n",
       "\n",
       "    .dataframe thead th {\n",
       "        text-align: right;\n",
       "    }\n",
       "</style>\n",
       "<table border=\"1\" class=\"dataframe\">\n",
       "  <thead>\n",
       "    <tr style=\"text-align: right;\">\n",
       "      <th></th>\n",
       "      <th>1</th>\n",
       "      <th>2</th>\n",
       "      <th>0</th>\n",
       "    </tr>\n",
       "  </thead>\n",
       "  <tbody>\n",
       "    <tr>\n",
       "      <th>73</th>\n",
       "      <td>-1.327471</td>\n",
       "      <td>-6.637869</td>\n",
       "      <td>-256.689725</td>\n",
       "    </tr>\n",
       "    <tr>\n",
       "      <th>18</th>\n",
       "      <td>-31.871922</td>\n",
       "      <td>-60.222791</td>\n",
       "      <td>-3.479330</td>\n",
       "    </tr>\n",
       "    <tr>\n",
       "      <th>118</th>\n",
       "      <td>-28.668378</td>\n",
       "      <td>-9.290720</td>\n",
       "      <td>-798.078356</td>\n",
       "    </tr>\n",
       "    <tr>\n",
       "      <th>78</th>\n",
       "      <td>-1.255465</td>\n",
       "      <td>-5.454553</td>\n",
       "      <td>-256.506249</td>\n",
       "    </tr>\n",
       "    <tr>\n",
       "      <th>76</th>\n",
       "      <td>-2.492752</td>\n",
       "      <td>-4.595382</td>\n",
       "      <td>-294.339389</td>\n",
       "    </tr>\n",
       "    <tr>\n",
       "      <th>...</th>\n",
       "      <td>...</td>\n",
       "      <td>...</td>\n",
       "      <td>...</td>\n",
       "    </tr>\n",
       "    <tr>\n",
       "      <th>113</th>\n",
       "      <td>-7.331660</td>\n",
       "      <td>-3.985124</td>\n",
       "      <td>-382.903750</td>\n",
       "    </tr>\n",
       "    <tr>\n",
       "      <th>33</th>\n",
       "      <td>-43.859258</td>\n",
       "      <td>-74.085996</td>\n",
       "      <td>-2.661841</td>\n",
       "    </tr>\n",
       "    <tr>\n",
       "      <th>138</th>\n",
       "      <td>-4.187132</td>\n",
       "      <td>-2.876021</td>\n",
       "      <td>-328.702924</td>\n",
       "    </tr>\n",
       "    <tr>\n",
       "      <th>101</th>\n",
       "      <td>-5.702914</td>\n",
       "      <td>-2.638833</td>\n",
       "      <td>-383.524409</td>\n",
       "    </tr>\n",
       "    <tr>\n",
       "      <th>62</th>\n",
       "      <td>-4.074001</td>\n",
       "      <td>-16.690402</td>\n",
       "      <td>-163.216931</td>\n",
       "    </tr>\n",
       "  </tbody>\n",
       "</table>\n",
       "<p>75 rows × 3 columns</p>\n",
       "</div>"
      ],
      "text/plain": [
       "             1          2           0\n",
       "73   -1.327471  -6.637869 -256.689725\n",
       "18  -31.871922 -60.222791   -3.479330\n",
       "118 -28.668378  -9.290720 -798.078356\n",
       "78   -1.255465  -5.454553 -256.506249\n",
       "76   -2.492752  -4.595382 -294.339389\n",
       "..         ...        ...         ...\n",
       "113  -7.331660  -3.985124 -382.903750\n",
       "33  -43.859258 -74.085996   -2.661841\n",
       "138  -4.187132  -2.876021 -328.702924\n",
       "101  -5.702914  -2.638833 -383.524409\n",
       "62   -4.074001 -16.690402 -163.216931\n",
       "\n",
       "[75 rows x 3 columns]"
      ]
     },
     "execution_count": 41,
     "metadata": {},
     "output_type": "execute_result"
    }
   ],
   "source": [
    "gnb.likelihood(X_test)"
   ]
  },
  {
   "cell_type": "code",
   "execution_count": 42,
   "id": "1395f17c-c678-4589-b5dd-14dce81818a0",
   "metadata": {},
   "outputs": [],
   "source": [
    "iris_gnb = gnb.predict(X_test)"
   ]
  },
  {
   "cell_type": "code",
   "execution_count": 43,
   "id": "a078e082-296f-4e63-a965-f1a8315a5a37",
   "metadata": {},
   "outputs": [
    {
     "data": {
      "text/html": [
       "<div>\n",
       "<style scoped>\n",
       "    .dataframe tbody tr th:only-of-type {\n",
       "        vertical-align: middle;\n",
       "    }\n",
       "\n",
       "    .dataframe tbody tr th {\n",
       "        vertical-align: top;\n",
       "    }\n",
       "\n",
       "    .dataframe thead th {\n",
       "        text-align: right;\n",
       "    }\n",
       "</style>\n",
       "<table border=\"1\" class=\"dataframe\">\n",
       "  <thead>\n",
       "    <tr style=\"text-align: right;\">\n",
       "      <th></th>\n",
       "      <th>1</th>\n",
       "      <th>2</th>\n",
       "      <th>0</th>\n",
       "    </tr>\n",
       "  </thead>\n",
       "  <tbody>\n",
       "    <tr>\n",
       "      <th>73</th>\n",
       "      <td>9.950843e-01</td>\n",
       "      <td>4.915673e-03</td>\n",
       "      <td>1.245781e-111</td>\n",
       "    </tr>\n",
       "    <tr>\n",
       "      <th>18</th>\n",
       "      <td>4.669321e-13</td>\n",
       "      <td>2.273150e-25</td>\n",
       "      <td>1.000000e+00</td>\n",
       "    </tr>\n",
       "    <tr>\n",
       "      <th>118</th>\n",
       "      <td>3.840521e-09</td>\n",
       "      <td>1.000000e+00</td>\n",
       "      <td>0.000000e+00</td>\n",
       "    </tr>\n",
       "    <tr>\n",
       "      <th>78</th>\n",
       "      <td>9.852127e-01</td>\n",
       "      <td>1.478732e-02</td>\n",
       "      <td>1.378870e-111</td>\n",
       "    </tr>\n",
       "    <tr>\n",
       "      <th>76</th>\n",
       "      <td>8.911586e-01</td>\n",
       "      <td>1.088414e-01</td>\n",
       "      <td>1.594303e-127</td>\n",
       "    </tr>\n",
       "    <tr>\n",
       "      <th>...</th>\n",
       "      <td>...</td>\n",
       "      <td>...</td>\n",
       "      <td>...</td>\n",
       "    </tr>\n",
       "    <tr>\n",
       "      <th>113</th>\n",
       "      <td>3.400876e-02</td>\n",
       "      <td>9.659912e-01</td>\n",
       "      <td>2.646700e-165</td>\n",
       "    </tr>\n",
       "    <tr>\n",
       "      <th>33</th>\n",
       "      <td>1.282889e-18</td>\n",
       "      <td>9.569373e-32</td>\n",
       "      <td>1.000000e+00</td>\n",
       "    </tr>\n",
       "    <tr>\n",
       "      <th>138</th>\n",
       "      <td>2.123011e-01</td>\n",
       "      <td>7.876989e-01</td>\n",
       "      <td>2.463395e-142</td>\n",
       "    </tr>\n",
       "    <tr>\n",
       "      <th>101</th>\n",
       "      <td>4.461346e-02</td>\n",
       "      <td>9.553865e-01</td>\n",
       "      <td>3.661639e-166</td>\n",
       "    </tr>\n",
       "    <tr>\n",
       "      <th>62</th>\n",
       "      <td>9.999967e-01</td>\n",
       "      <td>3.317152e-06</td>\n",
       "      <td>7.675420e-70</td>\n",
       "    </tr>\n",
       "  </tbody>\n",
       "</table>\n",
       "<p>75 rows × 3 columns</p>\n",
       "</div>"
      ],
      "text/plain": [
       "                1             2              0\n",
       "73   9.950843e-01  4.915673e-03  1.245781e-111\n",
       "18   4.669321e-13  2.273150e-25   1.000000e+00\n",
       "118  3.840521e-09  1.000000e+00   0.000000e+00\n",
       "78   9.852127e-01  1.478732e-02  1.378870e-111\n",
       "76   8.911586e-01  1.088414e-01  1.594303e-127\n",
       "..            ...           ...            ...\n",
       "113  3.400876e-02  9.659912e-01  2.646700e-165\n",
       "33   1.282889e-18  9.569373e-32   1.000000e+00\n",
       "138  2.123011e-01  7.876989e-01  2.463395e-142\n",
       "101  4.461346e-02  9.553865e-01  3.661639e-166\n",
       "62   9.999967e-01  3.317152e-06   7.675420e-70\n",
       "\n",
       "[75 rows x 3 columns]"
      ]
     },
     "execution_count": 43,
     "metadata": {},
     "output_type": "execute_result"
    }
   ],
   "source": [
    "gnb.predict_proba(X_test)"
   ]
  },
  {
   "cell_type": "code",
   "execution_count": 44,
   "id": "ebc034f8-914a-4e20-ace6-7fd5860ee839",
   "metadata": {},
   "outputs": [
    {
     "data": {
      "text/plain": [
       "1    23.239497\n",
       "2    22.760503\n",
       "0    29.000000\n",
       "dtype: float64"
      ]
     },
     "execution_count": 44,
     "metadata": {},
     "output_type": "execute_result"
    }
   ],
   "source": [
    "gnb.predict_proba(X_test).sum()"
   ]
  },
  {
   "cell_type": "code",
   "execution_count": 45,
   "id": "e42dc88d-1154-43fa-ba4d-433845068bbf",
   "metadata": {},
   "outputs": [
    {
     "data": {
      "text/plain": [
       "(array([False,  True]), array([ 1, 74]))"
      ]
     },
     "execution_count": 45,
     "metadata": {},
     "output_type": "execute_result"
    }
   ],
   "source": [
    "np.unique(iris_gnb == y_test, return_counts = True)"
   ]
  },
  {
   "cell_type": "code",
   "execution_count": 46,
   "id": "7fe426ef-794e-4959-9dc4-dc47d346e910",
   "metadata": {},
   "outputs": [
    {
     "data": {
      "text/plain": [
       "(array([False,  True]), array([ 6, 69]))"
      ]
     },
     "execution_count": 46,
     "metadata": {},
     "output_type": "execute_result"
    }
   ],
   "source": [
    "np.unique(gnb.predict(X_train) == y_train, return_counts = True)"
   ]
  },
  {
   "cell_type": "code",
   "execution_count": 47,
   "id": "80f79f4b-11ea-4c7c-9e8b-8562dbf1a6b2",
   "metadata": {},
   "outputs": [
    {
     "data": {
      "text/plain": [
       "(0.92, 0.9866666666666667)"
      ]
     },
     "execution_count": 47,
     "metadata": {},
     "output_type": "execute_result"
    }
   ],
   "source": [
    "accuracy_score(y_train, gnb.predict(X_train)), accuracy_score(y_test, gnb.predict(X_test))"
   ]
  },
  {
   "cell_type": "markdown",
   "id": "700ccb01-aab1-4c7e-8e7a-343de0a20279",
   "metadata": {},
   "source": [
    "# Наивный баесовский классификатор для категориальных фичей"
   ]
  },
  {
   "cell_type": "code",
   "execution_count": 26,
   "id": "60c3cbe9-801b-4876-9008-486d897be1a5",
   "metadata": {},
   "outputs": [],
   "source": [
    "class MyCategoryNB:\n",
    "    def __init__(self, alpha=1):\n",
    "        # Сглаживающая константа, для того, чтобы предотвратить перемножение на 0\n",
    "        # Если какой-то категории не встречается\n",
    "        self.alpha = alpha\n",
    "        self.p = []\n",
    "        \n",
    "        self.col = []\n",
    "        self.cat = []\n",
    "        self.uniq = []\n",
    "        self.ap = []\n",
    "    \n",
    "    def fit(self, X, y):\n",
    "        df = X.copy()\n",
    "        \n",
    "        self.col = df.columns\n",
    "        \n",
    "        self.uniq = [df[c].unique().tolist() for c in self.col]\n",
    "        \n",
    "        self.cat = y.unique()\n",
    "        \n",
    "        df['target'] = y\n",
    "        \n",
    "        grouped = df.groupby(['target'])\n",
    "        \n",
    "        for cat in self.cat:\n",
    "            group = grouped.get_group(cat)\n",
    "            self.ap += [group.shape[0]/df.shape[0]]\n",
    "            self.p += [[[(group[(group[self.col[c]] == un)].shape[0] + self.alpha)/ (group.shape[0] + self.alpha * len(self.uniq[c])) for un in self.uniq[c]] for c in range(len(self.col))]]\n",
    "        \n",
    "    def predict(self, X):\n",
    "        \n",
    "        # Используя метод likelihood посчитать функции правдоподобия для каждой строчки для каждого класса\n",
    "        # Для каждой строчки выбрать класс с максимальным значением функции правдоподобия\n",
    "        return self.likelihood(X).idxmax(axis=1)\n",
    "    \n",
    "    def predict_proba(self, X):\n",
    "        # Применить функцию softmax (scipy.special.softmax) на выходы likelihood\n",
    "        return softmax(self.likelihood(X), axis = -1)\n",
    "    \n",
    "    def likelihood(self, X):\n",
    "        # Для каждого класса посчитать функции правдоподобия для каждой фичи\n",
    "        # Прологарифмировать и сложить их между собой и добавить логарифм априорной вероятности соответствующего класса\n",
    "        # Получится матрица размером NxK, где N - кол-во строк, K - кол-во классов\n",
    "        df = X.copy()\n",
    "        for cat_ind in range(len(self.cat)):\n",
    "            \n",
    "            df[str(self.cat[cat_ind])] = sum([df[self.col[col_ind]].apply(lambda x: np.log(self.p[cat_ind][col_ind][self.uniq[col_ind].index(x)])) for col_ind in range(len(self.col))]) + np.log(self.ap[cat_ind])\n",
    "            \n",
    "        return df[[str(cat) for cat in self.cat]]"
   ]
  },
  {
   "cell_type": "code",
   "execution_count": 27,
   "id": "d7f88d8e-418c-43b2-9461-580a4be87180",
   "metadata": {},
   "outputs": [],
   "source": [
    "catNB = MyCategoryNB()"
   ]
  },
  {
   "cell_type": "code",
   "execution_count": 28,
   "id": "3c853b1f-e1f0-46cf-ae78-dd833d2de62a",
   "metadata": {},
   "outputs": [],
   "source": [
    "catNB.fit(adult_train_df[adult_cat_col], adult_train_df['income'])#adult_cat_col"
   ]
  },
  {
   "cell_type": "code",
   "execution_count": 29,
   "id": "c848e3b6-cb2d-4145-9e20-ad42763f3a96",
   "metadata": {},
   "outputs": [
    {
     "data": {
      "text/plain": [
       "[0.24148239148239148, 0.7585176085176085]"
      ]
     },
     "execution_count": 29,
     "metadata": {},
     "output_type": "execute_result"
    }
   ],
   "source": [
    "catNB.ap"
   ]
  },
  {
   "cell_type": "code",
   "execution_count": 30,
   "id": "8d7363e3-d61c-46b9-a41a-a3d66087f820",
   "metadata": {},
   "outputs": [
    {
     "data": {
      "text/html": [
       "<div>\n",
       "<style scoped>\n",
       "    .dataframe tbody tr th:only-of-type {\n",
       "        vertical-align: middle;\n",
       "    }\n",
       "\n",
       "    .dataframe tbody tr th {\n",
       "        vertical-align: top;\n",
       "    }\n",
       "\n",
       "    .dataframe thead th {\n",
       "        text-align: right;\n",
       "    }\n",
       "</style>\n",
       "<table border=\"1\" class=\"dataframe\">\n",
       "  <thead>\n",
       "    <tr style=\"text-align: right;\">\n",
       "      <th></th>\n",
       "      <th>&gt;50K</th>\n",
       "      <th>&lt;=50K</th>\n",
       "    </tr>\n",
       "  </thead>\n",
       "  <tbody>\n",
       "    <tr>\n",
       "      <th>14160</th>\n",
       "      <td>-8.985511</td>\n",
       "      <td>-8.105710</td>\n",
       "    </tr>\n",
       "    <tr>\n",
       "      <th>27048</th>\n",
       "      <td>-13.658819</td>\n",
       "      <td>-7.550948</td>\n",
       "    </tr>\n",
       "    <tr>\n",
       "      <th>28868</th>\n",
       "      <td>-11.562482</td>\n",
       "      <td>-11.409089</td>\n",
       "    </tr>\n",
       "    <tr>\n",
       "      <th>5667</th>\n",
       "      <td>-14.259245</td>\n",
       "      <td>-8.829219</td>\n",
       "    </tr>\n",
       "    <tr>\n",
       "      <th>7827</th>\n",
       "      <td>-19.952806</td>\n",
       "      <td>-11.670561</td>\n",
       "    </tr>\n",
       "    <tr>\n",
       "      <th>...</th>\n",
       "      <td>...</td>\n",
       "      <td>...</td>\n",
       "    </tr>\n",
       "    <tr>\n",
       "      <th>26658</th>\n",
       "      <td>-12.802226</td>\n",
       "      <td>-8.969198</td>\n",
       "    </tr>\n",
       "    <tr>\n",
       "      <th>29401</th>\n",
       "      <td>-14.864252</td>\n",
       "      <td>-8.496472</td>\n",
       "    </tr>\n",
       "    <tr>\n",
       "      <th>27265</th>\n",
       "      <td>-6.512580</td>\n",
       "      <td>-7.378402</td>\n",
       "    </tr>\n",
       "    <tr>\n",
       "      <th>30339</th>\n",
       "      <td>-14.755816</td>\n",
       "      <td>-8.163259</td>\n",
       "    </tr>\n",
       "    <tr>\n",
       "      <th>8610</th>\n",
       "      <td>-26.218936</td>\n",
       "      <td>-19.700711</td>\n",
       "    </tr>\n",
       "  </tbody>\n",
       "</table>\n",
       "<p>8141 rows × 2 columns</p>\n",
       "</div>"
      ],
      "text/plain": [
       "            >50K      <=50K\n",
       "14160  -8.985511  -8.105710\n",
       "27048 -13.658819  -7.550948\n",
       "28868 -11.562482 -11.409089\n",
       "5667  -14.259245  -8.829219\n",
       "7827  -19.952806 -11.670561\n",
       "...          ...        ...\n",
       "26658 -12.802226  -8.969198\n",
       "29401 -14.864252  -8.496472\n",
       "27265  -6.512580  -7.378402\n",
       "30339 -14.755816  -8.163259\n",
       "8610  -26.218936 -19.700711\n",
       "\n",
       "[8141 rows x 2 columns]"
      ]
     },
     "execution_count": 30,
     "metadata": {},
     "output_type": "execute_result"
    }
   ],
   "source": [
    "catNB.likelihood(adult_test_df[adult_cat_col])"
   ]
  },
  {
   "cell_type": "code",
   "execution_count": 31,
   "id": "ab40c474-e1dc-48b9-9246-b9a4ce26e95d",
   "metadata": {},
   "outputs": [
    {
     "data": {
      "text/plain": [
       "14160    <=50K\n",
       "27048    <=50K\n",
       "28868    <=50K\n",
       "5667     <=50K\n",
       "7827     <=50K\n",
       "         ...  \n",
       "26658    <=50K\n",
       "29401    <=50K\n",
       "27265     >50K\n",
       "30339    <=50K\n",
       "8610     <=50K\n",
       "Length: 8141, dtype: object"
      ]
     },
     "execution_count": 31,
     "metadata": {},
     "output_type": "execute_result"
    }
   ],
   "source": [
    "catNB.predict(adult_test_df[adult_cat_col])"
   ]
  },
  {
   "cell_type": "code",
   "execution_count": 32,
   "id": "55b7e46b-a8bd-40f6-a561-11a292ed3628",
   "metadata": {},
   "outputs": [
    {
     "data": {
      "text/html": [
       "<div>\n",
       "<style scoped>\n",
       "    .dataframe tbody tr th:only-of-type {\n",
       "        vertical-align: middle;\n",
       "    }\n",
       "\n",
       "    .dataframe tbody tr th {\n",
       "        vertical-align: top;\n",
       "    }\n",
       "\n",
       "    .dataframe thead th {\n",
       "        text-align: right;\n",
       "    }\n",
       "</style>\n",
       "<table border=\"1\" class=\"dataframe\">\n",
       "  <thead>\n",
       "    <tr style=\"text-align: right;\">\n",
       "      <th></th>\n",
       "      <th>&gt;50K</th>\n",
       "      <th>&lt;=50K</th>\n",
       "    </tr>\n",
       "  </thead>\n",
       "  <tbody>\n",
       "    <tr>\n",
       "      <th>14160</th>\n",
       "      <td>0.293219</td>\n",
       "      <td>0.706781</td>\n",
       "    </tr>\n",
       "    <tr>\n",
       "      <th>27048</th>\n",
       "      <td>0.002220</td>\n",
       "      <td>0.997780</td>\n",
       "    </tr>\n",
       "    <tr>\n",
       "      <th>28868</th>\n",
       "      <td>0.461727</td>\n",
       "      <td>0.538273</td>\n",
       "    </tr>\n",
       "    <tr>\n",
       "      <th>5667</th>\n",
       "      <td>0.004364</td>\n",
       "      <td>0.995636</td>\n",
       "    </tr>\n",
       "    <tr>\n",
       "      <th>7827</th>\n",
       "      <td>0.000253</td>\n",
       "      <td>0.999747</td>\n",
       "    </tr>\n",
       "    <tr>\n",
       "      <th>...</th>\n",
       "      <td>...</td>\n",
       "      <td>...</td>\n",
       "    </tr>\n",
       "    <tr>\n",
       "      <th>26658</th>\n",
       "      <td>0.021185</td>\n",
       "      <td>0.978815</td>\n",
       "    </tr>\n",
       "    <tr>\n",
       "      <th>29401</th>\n",
       "      <td>0.001713</td>\n",
       "      <td>0.998287</td>\n",
       "    </tr>\n",
       "    <tr>\n",
       "      <th>27265</th>\n",
       "      <td>0.703876</td>\n",
       "      <td>0.296124</td>\n",
       "    </tr>\n",
       "    <tr>\n",
       "      <th>30339</th>\n",
       "      <td>0.001369</td>\n",
       "      <td>0.998631</td>\n",
       "    </tr>\n",
       "    <tr>\n",
       "      <th>8610</th>\n",
       "      <td>0.001474</td>\n",
       "      <td>0.998526</td>\n",
       "    </tr>\n",
       "  </tbody>\n",
       "</table>\n",
       "<p>8141 rows × 2 columns</p>\n",
       "</div>"
      ],
      "text/plain": [
       "           >50K     <=50K\n",
       "14160  0.293219  0.706781\n",
       "27048  0.002220  0.997780\n",
       "28868  0.461727  0.538273\n",
       "5667   0.004364  0.995636\n",
       "7827   0.000253  0.999747\n",
       "...         ...       ...\n",
       "26658  0.021185  0.978815\n",
       "29401  0.001713  0.998287\n",
       "27265  0.703876  0.296124\n",
       "30339  0.001369  0.998631\n",
       "8610   0.001474  0.998526\n",
       "\n",
       "[8141 rows x 2 columns]"
      ]
     },
     "execution_count": 32,
     "metadata": {},
     "output_type": "execute_result"
    }
   ],
   "source": [
    "catNB.predict_proba(adult_test_df[adult_cat_col])"
   ]
  },
  {
   "cell_type": "code",
   "execution_count": 33,
   "id": "6116a791-3a61-4a04-be8f-b7d6dd87d671",
   "metadata": {},
   "outputs": [
    {
     "data": {
      "text/plain": [
       "(0.7947174447174448, 0.7914261147279203)"
      ]
     },
     "execution_count": 33,
     "metadata": {},
     "output_type": "execute_result"
    }
   ],
   "source": [
    "accuracy_score(adult_train_df['income'], catNB.predict(adult_train_df[adult_cat_col])), accuracy_score(adult_test_df['income'], catNB.predict(adult_test_df[adult_cat_col]))"
   ]
  },
  {
   "cell_type": "code",
   "execution_count": 34,
   "id": "eac6094a-3495-42ba-be91-3edfeb3c8911",
   "metadata": {},
   "outputs": [
    {
     "data": {
      "text/plain": [
       "{'>50K': 0, '<=50K': 1}"
      ]
     },
     "execution_count": 34,
     "metadata": {},
     "output_type": "execute_result"
    }
   ],
   "source": [
    "adult_dict = { adult_train_df['income'].unique()[i] : i for i in range(len(adult_train_df['income'].unique()))}\n",
    "adult_dict"
   ]
  },
  {
   "cell_type": "code",
   "execution_count": 35,
   "id": "3a8884f6-b11c-408b-9d41-b7406533e09e",
   "metadata": {},
   "outputs": [
    {
     "name": "stdout",
     "output_type": "stream",
     "text": [
      "accuracy   79.5\n",
      "precision  90.7\n",
      "recall     81.3\n",
      "f1         85.7\n",
      "roc auc    77.5\n"
     ]
    },
    {
     "data": {
      "image/png": "[encoded data removed]",
      "text/plain": [
       "<Figure size 432x288 with 2 Axes>"
      ]
     },
     "metadata": {
      "needs_background": "light"
     },
     "output_type": "display_data"
    }
   ],
   "source": [
    "show_metrics(adult_train_df['income'].apply(lambda x: adult_dict[x]), catNB.predict(adult_train_df[adult_cat_col]).apply(lambda x: adult_dict[x]).to_list())"
   ]
  },
  {
   "cell_type": "markdown",
   "id": "a7c49ffa-e019-49ba-bac5-fe0ed5aed8b5",
   "metadata": {},
   "source": [
    "# Совмещение Баейсов"
   ]
  },
  {
   "cell_type": "code",
   "execution_count": 48,
   "id": "9b53c30b-4686-4534-8502-b4f5d8affe69",
   "metadata": {},
   "outputs": [],
   "source": [
    "class MySemiNB:\n",
    "    def __init__(self, alpha=1):\n",
    "        self.gaus = MyGaussianNB()\n",
    "        self.cat = MyCategoryNB()\n",
    "        self.ap = []\n",
    "        \n",
    "    def fit(self, X, y):\n",
    "        self.gaus.fit(X.select_dtypes(include=np.number), y)\n",
    "        self.cat.fit(X.select_dtypes(include=object), y)\n",
    "        self.ap = np.log(self.cat.ap[:])\n",
    "        \n",
    "    def predict(self, X):\n",
    "        \n",
    "        return self.likelihood(X).idxmax(axis=1)\n",
    "    \n",
    "    def predict_proba(self, X):\n",
    "        # Применить функцию softmax (scipy.special.softmax) на выходы likelihood\n",
    "        return softmax(self.likelihood(X), axis = -1)\n",
    "    \n",
    "    def likelihood(self, X):\n",
    "        return self.gaus.likelihood(X.select_dtypes(include=np.number)) + self.cat.likelihood(X.select_dtypes(include=object)) - self.ap"
   ]
  },
  {
   "cell_type": "code",
   "execution_count": 49,
   "id": "23cb8716-7139-4583-b86b-aa665b2dc0d7",
   "metadata": {},
   "outputs": [],
   "source": [
    "msnb = MySemiNB()"
   ]
  },
  {
   "cell_type": "code",
   "execution_count": 50,
   "id": "ed4bf602-3c79-41c0-ad9b-6f164b0780ba",
   "metadata": {},
   "outputs": [],
   "source": [
    "msnb.fit(adult_train_df[adoult_target_mask], adult_train_df['income'] )"
   ]
  },
  {
   "cell_type": "code",
   "execution_count": 51,
   "id": "dcb161d0-07cc-4bfe-86fb-7420f513fc11",
   "metadata": {},
   "outputs": [
    {
     "data": {
      "text/html": [
       "<div>\n",
       "<style scoped>\n",
       "    .dataframe tbody tr th:only-of-type {\n",
       "        vertical-align: middle;\n",
       "    }\n",
       "\n",
       "    .dataframe tbody tr th {\n",
       "        vertical-align: top;\n",
       "    }\n",
       "\n",
       "    .dataframe thead th {\n",
       "        text-align: right;\n",
       "    }\n",
       "</style>\n",
       "<table border=\"1\" class=\"dataframe\">\n",
       "  <thead>\n",
       "    <tr style=\"text-align: right;\">\n",
       "      <th></th>\n",
       "      <th>&gt;50K</th>\n",
       "      <th>&lt;=50K</th>\n",
       "    </tr>\n",
       "  </thead>\n",
       "  <tbody>\n",
       "    <tr>\n",
       "      <th>29</th>\n",
       "      <td>-49.700041</td>\n",
       "      <td>-54.584966</td>\n",
       "    </tr>\n",
       "    <tr>\n",
       "      <th>12181</th>\n",
       "      <td>-28.271460</td>\n",
       "      <td>-29.426327</td>\n",
       "    </tr>\n",
       "    <tr>\n",
       "      <th>18114</th>\n",
       "      <td>-35.052833</td>\n",
       "      <td>-32.578553</td>\n",
       "    </tr>\n",
       "    <tr>\n",
       "      <th>4278</th>\n",
       "      <td>-34.195667</td>\n",
       "      <td>-34.575340</td>\n",
       "    </tr>\n",
       "    <tr>\n",
       "      <th>12050</th>\n",
       "      <td>-39.289631</td>\n",
       "      <td>-30.415795</td>\n",
       "    </tr>\n",
       "    <tr>\n",
       "      <th>...</th>\n",
       "      <td>...</td>\n",
       "      <td>...</td>\n",
       "    </tr>\n",
       "    <tr>\n",
       "      <th>29802</th>\n",
       "      <td>-38.951484</td>\n",
       "      <td>-29.323403</td>\n",
       "    </tr>\n",
       "    <tr>\n",
       "      <th>5390</th>\n",
       "      <td>-28.457429</td>\n",
       "      <td>-29.812428</td>\n",
       "    </tr>\n",
       "    <tr>\n",
       "      <th>860</th>\n",
       "      <td>-36.755975</td>\n",
       "      <td>-48.510592</td>\n",
       "    </tr>\n",
       "    <tr>\n",
       "      <th>15795</th>\n",
       "      <td>-28.416502</td>\n",
       "      <td>-27.463212</td>\n",
       "    </tr>\n",
       "    <tr>\n",
       "      <th>23654</th>\n",
       "      <td>-46.636482</td>\n",
       "      <td>-35.170908</td>\n",
       "    </tr>\n",
       "  </tbody>\n",
       "</table>\n",
       "<p>24420 rows × 2 columns</p>\n",
       "</div>"
      ],
      "text/plain": [
       "            >50K      <=50K\n",
       "29    -49.700041 -54.584966\n",
       "12181 -28.271460 -29.426327\n",
       "18114 -35.052833 -32.578553\n",
       "4278  -34.195667 -34.575340\n",
       "12050 -39.289631 -30.415795\n",
       "...          ...        ...\n",
       "29802 -38.951484 -29.323403\n",
       "5390  -28.457429 -29.812428\n",
       "860   -36.755975 -48.510592\n",
       "15795 -28.416502 -27.463212\n",
       "23654 -46.636482 -35.170908\n",
       "\n",
       "[24420 rows x 2 columns]"
      ]
     },
     "execution_count": 51,
     "metadata": {},
     "output_type": "execute_result"
    }
   ],
   "source": [
    "msnb.likelihood(adult_train_df[adoult_target_mask])"
   ]
  },
  {
   "cell_type": "code",
   "execution_count": 52,
   "id": "7f0c84af-4e87-44d4-9a2f-46e129a39e07",
   "metadata": {},
   "outputs": [
    {
     "data": {
      "text/plain": [
       "14160    <=50K\n",
       "27048    <=50K\n",
       "28868    <=50K\n",
       "5667     <=50K\n",
       "7827     <=50K\n",
       "         ...  \n",
       "26658    <=50K\n",
       "29401    <=50K\n",
       "27265    <=50K\n",
       "30339    <=50K\n",
       "8610     <=50K\n",
       "Length: 8141, dtype: object"
      ]
     },
     "execution_count": 52,
     "metadata": {},
     "output_type": "execute_result"
    }
   ],
   "source": [
    "msnb.predict(adult_test_df[adoult_target_mask])"
   ]
  },
  {
   "cell_type": "code",
   "execution_count": 53,
   "id": "200a52b4-ca87-41f9-b629-3fa0a420f092",
   "metadata": {},
   "outputs": [
    {
     "data": {
      "text/html": [
       "<div>\n",
       "<style scoped>\n",
       "    .dataframe tbody tr th:only-of-type {\n",
       "        vertical-align: middle;\n",
       "    }\n",
       "\n",
       "    .dataframe tbody tr th {\n",
       "        vertical-align: top;\n",
       "    }\n",
       "\n",
       "    .dataframe thead th {\n",
       "        text-align: right;\n",
       "    }\n",
       "</style>\n",
       "<table border=\"1\" class=\"dataframe\">\n",
       "  <thead>\n",
       "    <tr style=\"text-align: right;\">\n",
       "      <th></th>\n",
       "      <th>&gt;50K</th>\n",
       "      <th>&lt;=50K</th>\n",
       "    </tr>\n",
       "  </thead>\n",
       "  <tbody>\n",
       "    <tr>\n",
       "      <th>14160</th>\n",
       "      <td>0.293219</td>\n",
       "      <td>0.706781</td>\n",
       "    </tr>\n",
       "    <tr>\n",
       "      <th>27048</th>\n",
       "      <td>0.002220</td>\n",
       "      <td>0.997780</td>\n",
       "    </tr>\n",
       "    <tr>\n",
       "      <th>28868</th>\n",
       "      <td>0.461727</td>\n",
       "      <td>0.538273</td>\n",
       "    </tr>\n",
       "    <tr>\n",
       "      <th>5667</th>\n",
       "      <td>0.004364</td>\n",
       "      <td>0.995636</td>\n",
       "    </tr>\n",
       "    <tr>\n",
       "      <th>7827</th>\n",
       "      <td>0.000253</td>\n",
       "      <td>0.999747</td>\n",
       "    </tr>\n",
       "    <tr>\n",
       "      <th>...</th>\n",
       "      <td>...</td>\n",
       "      <td>...</td>\n",
       "    </tr>\n",
       "    <tr>\n",
       "      <th>26658</th>\n",
       "      <td>0.021185</td>\n",
       "      <td>0.978815</td>\n",
       "    </tr>\n",
       "    <tr>\n",
       "      <th>29401</th>\n",
       "      <td>0.001713</td>\n",
       "      <td>0.998287</td>\n",
       "    </tr>\n",
       "    <tr>\n",
       "      <th>27265</th>\n",
       "      <td>0.703876</td>\n",
       "      <td>0.296124</td>\n",
       "    </tr>\n",
       "    <tr>\n",
       "      <th>30339</th>\n",
       "      <td>0.001369</td>\n",
       "      <td>0.998631</td>\n",
       "    </tr>\n",
       "    <tr>\n",
       "      <th>8610</th>\n",
       "      <td>0.001474</td>\n",
       "      <td>0.998526</td>\n",
       "    </tr>\n",
       "  </tbody>\n",
       "</table>\n",
       "<p>8141 rows × 2 columns</p>\n",
       "</div>"
      ],
      "text/plain": [
       "           >50K     <=50K\n",
       "14160  0.293219  0.706781\n",
       "27048  0.002220  0.997780\n",
       "28868  0.461727  0.538273\n",
       "5667   0.004364  0.995636\n",
       "7827   0.000253  0.999747\n",
       "...         ...       ...\n",
       "26658  0.021185  0.978815\n",
       "29401  0.001713  0.998287\n",
       "27265  0.703876  0.296124\n",
       "30339  0.001369  0.998631\n",
       "8610   0.001474  0.998526\n",
       "\n",
       "[8141 rows x 2 columns]"
      ]
     },
     "execution_count": 53,
     "metadata": {},
     "output_type": "execute_result"
    }
   ],
   "source": [
    "catNB.predict_proba(adult_test_df[adoult_target_mask])"
   ]
  },
  {
   "cell_type": "code",
   "execution_count": 54,
   "id": "016774a3-8939-416f-8c4e-62b94a9c9d7f",
   "metadata": {},
   "outputs": [
    {
     "data": {
      "text/plain": [
       "(0.8224406224406224, 0.8135364205871515)"
      ]
     },
     "execution_count": 54,
     "metadata": {},
     "output_type": "execute_result"
    }
   ],
   "source": [
    "accuracy_score(adult_train_df['income'], msnb.predict(adult_train_df[adoult_target_mask])), accuracy_score(adult_test_df['income'], msnb.predict(adult_test_df[adoult_target_mask]))"
   ]
  },
  {
   "cell_type": "code",
   "execution_count": 55,
   "id": "52fed912-a770-458b-9cff-9f6c78e6e87d",
   "metadata": {},
   "outputs": [
    {
     "name": "stdout",
     "output_type": "stream",
     "text": [
      "accuracy   82.2\n",
      "precision  89.5\n",
      "recall     86.7\n",
      "f1         88.1\n",
      "roc auc    77.4\n"
     ]
    },
    {
     "data": {
      "image/png": "[encoded data removed]",
      "text/plain": [
       "<Figure size 432x288 with 2 Axes>"
      ]
     },
     "metadata": {
      "needs_background": "light"
     },
     "output_type": "display_data"
    }
   ],
   "source": [
    "show_metrics(adult_train_df['income'].apply(lambda x: adult_dict[x]), msnb.predict(adult_train_df[adoult_target_mask]).apply(lambda x: adult_dict[x]).to_list())"
   ]
  },
  {
   "cell_type": "markdown",
   "id": "66d732ff-f19f-4592-864f-20847518ad77",
   "metadata": {},
   "source": [
    "# Roc Auc"
   ]
  },
  {
   "cell_type": "code",
   "execution_count": 173,
   "id": "7acfb4b3-2411-43e7-9db4-c6b776213b6b",
   "metadata": {},
   "outputs": [],
   "source": [
    "def roc_auc(y, x):\n",
    "    y = (y == x.columns[0])\n",
    "    df = pd.DataFrame({\"x\" : x[x.columns[0]], \"y\" : y})\n",
    "    points = [[0],[0]]\n",
    "    df = df.sort_values(\"x\")\n",
    "    \n",
    "    last_ind = 0\n",
    "    for i in df[\"y\"]:\n",
    "        points[0] += [points[0][last_ind] + i]\n",
    "        points[1] += [points[1][last_ind] + (not i)]\n",
    "        last_ind += 1\n",
    "    \n",
    "            \n",
    "    x_c = np.array(points[0])/points[0][last_ind]\n",
    "    y_c = np.array(points[1])/points[1][last_ind]\n",
    "    \n",
    "    print(\"Integral\", np.trapz(y_c, x_c))\n",
    "    plt.plot(\n",
    "        x_c,\n",
    "        y_c\n",
    "    )\n",
    "    plt.show()\n"
   ]
  },
  {
   "cell_type": "code",
   "execution_count": 174,
   "id": "d6c17246-c7a6-45b7-a8c9-7634d9e3364b",
   "metadata": {},
   "outputs": [
    {
     "name": "stdout",
     "output_type": "stream",
     "text": [
      "Integral 0.8625292272711275\n"
     ]
    },
    {
     "data": {
      "image/png": "[encoded data removed]",
      "text/plain": [
       "<Figure size 432x288 with 1 Axes>"
      ]
     },
     "metadata": {
      "needs_background": "light"
     },
     "output_type": "display_data"
    }
   ],
   "source": [
    "roc_auc(adult_test_df['income'], catNB.predict_proba(adult_test_df[adoult_target_mask]))"
   ]
  },
  {
   "cell_type": "code",
   "execution_count": 170,
   "id": "a7b73170-7a28-4e8b-854d-eeab2dca0a58",
   "metadata": {},
   "outputs": [
    {
     "data": {
      "text/plain": [
       "0.8625056943788678"
      ]
     },
     "execution_count": 170,
     "metadata": {},
     "output_type": "execute_result"
    }
   ],
   "source": [
    "roc_auc_score(adult_test_df['income'], catNB.predict_proba(adult_test_df[adoult_target_mask])[\">50K\"])"
   ]
  },
  {
   "cell_type": "markdown",
   "id": "6d11c88d-a63e-43b4-b2f3-3dd338ac0d40",
   "metadata": {},
   "source": [
    "# Наивный Байесовский классификатор при помощи Kernel Denstiy Estimator"
   ]
  },
  {
   "cell_type": "code",
   "execution_count": null,
   "id": "f4518331-c5d1-4cfd-92bc-aaef0dda8af4",
   "metadata": {},
   "outputs": [],
   "source": []
  }
 ],
 "metadata": {
  "kernelspec": {
   "display_name": "Python 3 (ipykernel)",
   "language": "python",
   "name": "python3"
  },
  "language_info": {
   "codemirror_mode": {
    "name": "ipython",
    "version": 3
   },
   "file_extension": ".py",
   "mimetype": "text/x-python",
   "name": "python",
   "nbconvert_exporter": "python",
   "pygments_lexer": "ipython3",
   "version": "3.8.10"
  }
 },
 "nbformat": 4,
 "nbformat_minor": 5
}
