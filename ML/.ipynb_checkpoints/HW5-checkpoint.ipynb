{
 "cells": [
  {
   "cell_type": "markdown",
   "id": "89b7fa3e-be56-474a-bb6d-764401a437f3",
   "metadata": {},
   "source": [
    "# Петров Сергей"
   ]
  },
  {
   "cell_type": "markdown",
   "id": "b3b4ffa3-4933-44ef-b129-0a6139104509",
   "metadata": {
    "tags": []
   },
   "source": [
    "# Предподготовка"
   ]
  },
  {
   "cell_type": "markdown",
   "id": "6bf74d01-ed35-4d87-a790-410b85d5b2e0",
   "metadata": {},
   "source": [
    "## Импорт"
   ]
  },
  {
   "cell_type": "code",
   "execution_count": 1,
   "id": "e54efc8c-8e0c-482d-92fe-a6cb5364d8a0",
   "metadata": {},
   "outputs": [],
   "source": [
    "import pandas as pd\n",
    "import numpy as np\n",
    "import matplotlib.pyplot as plt\n",
    "import sklearn as sk\n",
    "\n",
    "import numpy.ma as ma\n",
    "from itertools import combinations\n",
    "from random import shuffle\n",
    "r_state = 42"
   ]
  },
  {
   "cell_type": "code",
   "execution_count": 2,
   "id": "67d15730-b86a-489e-bb0a-fde5d59024ac",
   "metadata": {},
   "outputs": [],
   "source": [
    "from sklearn.model_selection import train_test_split\n",
    "from sklearn.preprocessing import StandardScaler\n",
    "from sklearn.preprocessing import MinMaxScaler\n",
    "\n",
    "from sklearn.preprocessing import OrdinalEncoder\n",
    "from sklearn.preprocessing import OneHotEncoder\n",
    "from sklearn.metrics import accuracy_score"
   ]
  },
  {
   "cell_type": "code",
   "execution_count": 3,
   "id": "3795f7a0-2777-41e5-98aa-7554b4c43746",
   "metadata": {},
   "outputs": [],
   "source": [
    "df = pd.read_csv('adult.csv')"
   ]
  },
  {
   "cell_type": "code",
   "execution_count": 4,
   "id": "c27495de-fcae-44ef-ab12-c84fbf7ac290",
   "metadata": {},
   "outputs": [
    {
     "name": "stdout",
     "output_type": "stream",
     "text": [
      "<class 'pandas.core.frame.DataFrame'>\n",
      "RangeIndex: 32561 entries, 0 to 32560\n",
      "Data columns (total 15 columns):\n",
      " #   Column          Non-Null Count  Dtype \n",
      "---  ------          --------------  ----- \n",
      " 0   age             32561 non-null  int64 \n",
      " 1   workclass       32561 non-null  object\n",
      " 2   fnlwgt          32561 non-null  int64 \n",
      " 3   education       32561 non-null  object\n",
      " 4   education.num   32561 non-null  int64 \n",
      " 5   marital.status  32561 non-null  object\n",
      " 6   occupation      32561 non-null  object\n",
      " 7   relationship    32561 non-null  object\n",
      " 8   race            32561 non-null  object\n",
      " 9   sex             32561 non-null  object\n",
      " 10  capital.gain    32561 non-null  int64 \n",
      " 11  capital.loss    32561 non-null  int64 \n",
      " 12  hours.per.week  32561 non-null  int64 \n",
      " 13  native.country  32561 non-null  object\n",
      " 14  income          32561 non-null  object\n",
      "dtypes: int64(6), object(9)\n",
      "memory usage: 3.7+ MB\n"
     ]
    }
   ],
   "source": [
    "df.info()"
   ]
  },
  {
   "cell_type": "markdown",
   "id": "c4b83e37-d84e-49aa-8de5-8d6a54574011",
   "metadata": {},
   "source": [
    "## Численные колонки"
   ]
  },
  {
   "cell_type": "code",
   "execution_count": 5,
   "id": "e7b35d07-6aec-48c5-b370-236340eddb9e",
   "metadata": {},
   "outputs": [
    {
     "data": {
      "text/html": [
       "<div>\n",
       "<style scoped>\n",
       "    .dataframe tbody tr th:only-of-type {\n",
       "        vertical-align: middle;\n",
       "    }\n",
       "\n",
       "    .dataframe tbody tr th {\n",
       "        vertical-align: top;\n",
       "    }\n",
       "\n",
       "    .dataframe thead th {\n",
       "        text-align: right;\n",
       "    }\n",
       "</style>\n",
       "<table border=\"1\" class=\"dataframe\">\n",
       "  <thead>\n",
       "    <tr style=\"text-align: right;\">\n",
       "      <th></th>\n",
       "      <th>age</th>\n",
       "      <th>fnlwgt</th>\n",
       "      <th>education.num</th>\n",
       "      <th>capital.gain</th>\n",
       "      <th>capital.loss</th>\n",
       "      <th>hours.per.week</th>\n",
       "    </tr>\n",
       "  </thead>\n",
       "  <tbody>\n",
       "    <tr>\n",
       "      <th>count</th>\n",
       "      <td>32561.000000</td>\n",
       "      <td>3.256100e+04</td>\n",
       "      <td>32561.000000</td>\n",
       "      <td>32561.000000</td>\n",
       "      <td>32561.000000</td>\n",
       "      <td>32561.000000</td>\n",
       "    </tr>\n",
       "    <tr>\n",
       "      <th>mean</th>\n",
       "      <td>38.581647</td>\n",
       "      <td>1.897784e+05</td>\n",
       "      <td>10.080679</td>\n",
       "      <td>1077.648844</td>\n",
       "      <td>87.303830</td>\n",
       "      <td>40.437456</td>\n",
       "    </tr>\n",
       "    <tr>\n",
       "      <th>std</th>\n",
       "      <td>13.640433</td>\n",
       "      <td>1.055500e+05</td>\n",
       "      <td>2.572720</td>\n",
       "      <td>7385.292085</td>\n",
       "      <td>402.960219</td>\n",
       "      <td>12.347429</td>\n",
       "    </tr>\n",
       "    <tr>\n",
       "      <th>min</th>\n",
       "      <td>17.000000</td>\n",
       "      <td>1.228500e+04</td>\n",
       "      <td>1.000000</td>\n",
       "      <td>0.000000</td>\n",
       "      <td>0.000000</td>\n",
       "      <td>1.000000</td>\n",
       "    </tr>\n",
       "    <tr>\n",
       "      <th>25%</th>\n",
       "      <td>28.000000</td>\n",
       "      <td>1.178270e+05</td>\n",
       "      <td>9.000000</td>\n",
       "      <td>0.000000</td>\n",
       "      <td>0.000000</td>\n",
       "      <td>40.000000</td>\n",
       "    </tr>\n",
       "    <tr>\n",
       "      <th>50%</th>\n",
       "      <td>37.000000</td>\n",
       "      <td>1.783560e+05</td>\n",
       "      <td>10.000000</td>\n",
       "      <td>0.000000</td>\n",
       "      <td>0.000000</td>\n",
       "      <td>40.000000</td>\n",
       "    </tr>\n",
       "    <tr>\n",
       "      <th>75%</th>\n",
       "      <td>48.000000</td>\n",
       "      <td>2.370510e+05</td>\n",
       "      <td>12.000000</td>\n",
       "      <td>0.000000</td>\n",
       "      <td>0.000000</td>\n",
       "      <td>45.000000</td>\n",
       "    </tr>\n",
       "    <tr>\n",
       "      <th>max</th>\n",
       "      <td>90.000000</td>\n",
       "      <td>1.484705e+06</td>\n",
       "      <td>16.000000</td>\n",
       "      <td>99999.000000</td>\n",
       "      <td>4356.000000</td>\n",
       "      <td>99.000000</td>\n",
       "    </tr>\n",
       "  </tbody>\n",
       "</table>\n",
       "</div>"
      ],
      "text/plain": [
       "                age        fnlwgt  education.num  capital.gain  capital.loss  \\\n",
       "count  32561.000000  3.256100e+04   32561.000000  32561.000000  32561.000000   \n",
       "mean      38.581647  1.897784e+05      10.080679   1077.648844     87.303830   \n",
       "std       13.640433  1.055500e+05       2.572720   7385.292085    402.960219   \n",
       "min       17.000000  1.228500e+04       1.000000      0.000000      0.000000   \n",
       "25%       28.000000  1.178270e+05       9.000000      0.000000      0.000000   \n",
       "50%       37.000000  1.783560e+05      10.000000      0.000000      0.000000   \n",
       "75%       48.000000  2.370510e+05      12.000000      0.000000      0.000000   \n",
       "max       90.000000  1.484705e+06      16.000000  99999.000000   4356.000000   \n",
       "\n",
       "       hours.per.week  \n",
       "count    32561.000000  \n",
       "mean        40.437456  \n",
       "std         12.347429  \n",
       "min          1.000000  \n",
       "25%         40.000000  \n",
       "50%         40.000000  \n",
       "75%         45.000000  \n",
       "max         99.000000  "
      ]
     },
     "execution_count": 5,
     "metadata": {},
     "output_type": "execute_result"
    }
   ],
   "source": [
    "num_cols = list(df.select_dtypes(include=np.number).columns)\n",
    "df[num_cols].describe()"
   ]
  },
  {
   "cell_type": "markdown",
   "id": "94a3be28-d10b-409a-b07e-2fd3380f7bed",
   "metadata": {},
   "source": [
    "## Категорилаьные колонки"
   ]
  },
  {
   "cell_type": "code",
   "execution_count": 6,
   "id": "3208d2be-02a5-4107-b070-79d9bd68541e",
   "metadata": {},
   "outputs": [
    {
     "data": {
      "text/plain": [
       "['workclass',\n",
       " 'education',\n",
       " 'marital.status',\n",
       " 'occupation',\n",
       " 'relationship',\n",
       " 'race',\n",
       " 'sex',\n",
       " 'native.country']"
      ]
     },
     "execution_count": 6,
     "metadata": {},
     "output_type": "execute_result"
    }
   ],
   "source": [
    "cat_cols = list(df.drop(num_cols + ['income'], axis=1).columns)\n",
    "cat_cols"
   ]
  },
  {
   "cell_type": "code",
   "execution_count": 7,
   "id": "89f604f4-4cf7-446b-a7d8-1a627e18a1be",
   "metadata": {},
   "outputs": [
    {
     "name": "stdout",
     "output_type": "stream",
     "text": [
      "workclass 9\n",
      "education 16\n",
      "marital.status 7\n",
      "occupation 15\n",
      "relationship 6\n",
      "race 5\n",
      "sex 2\n",
      "native.country 42\n"
     ]
    }
   ],
   "source": [
    "for cat in cat_cols:\n",
    "    print(cat, len(df[cat].unique()))"
   ]
  },
  {
   "cell_type": "markdown",
   "id": "bd23e149-699f-4bea-840d-3fe5c9e55af5",
   "metadata": {},
   "source": [
    "## One Hot Endcoding"
   ]
  },
  {
   "cell_type": "code",
   "execution_count": 8,
   "id": "9eaa5a99-68e7-4042-a8c4-4734916084d7",
   "metadata": {},
   "outputs": [],
   "source": [
    "to_ohe =['education','native.country','occupation']"
   ]
  },
  {
   "cell_type": "code",
   "execution_count": 9,
   "id": "86c6a949-7bb8-4a0e-893a-220b35ee29da",
   "metadata": {},
   "outputs": [],
   "source": [
    "enc = OneHotEncoder()"
   ]
  },
  {
   "cell_type": "code",
   "execution_count": 10,
   "id": "8baafdf6-7eef-46e6-8af2-2aac1dd79ca3",
   "metadata": {},
   "outputs": [],
   "source": [
    "encoded = enc.fit_transform(df[to_ohe]).toarray()\n"
   ]
  },
  {
   "cell_type": "code",
   "execution_count": 11,
   "id": "66ba8db3-d29c-45e9-8650-283110b7b302",
   "metadata": {},
   "outputs": [
    {
     "data": {
      "text/plain": [
       "(32561, 73)"
      ]
     },
     "execution_count": 11,
     "metadata": {},
     "output_type": "execute_result"
    }
   ],
   "source": [
    "encoded.shape"
   ]
  },
  {
   "cell_type": "code",
   "execution_count": 12,
   "id": "e5fe4df9-673b-4455-bb0e-54bff089b109",
   "metadata": {},
   "outputs": [
    {
     "data": {
      "text/plain": [
       "(32561, 15)"
      ]
     },
     "execution_count": 12,
     "metadata": {},
     "output_type": "execute_result"
    }
   ],
   "source": [
    "df.shape"
   ]
  },
  {
   "cell_type": "code",
   "execution_count": 13,
   "id": "144b207f-c5d5-4ae4-9a7e-d6ba666af877",
   "metadata": {},
   "outputs": [
    {
     "data": {
      "text/plain": [
       "['education_10th',\n",
       " 'education_11th',\n",
       " 'education_12th',\n",
       " 'education_1st-4th',\n",
       " 'education_5th-6th',\n",
       " 'education_7th-8th',\n",
       " 'education_9th',\n",
       " 'education_Assoc-acdm',\n",
       " 'education_Assoc-voc',\n",
       " 'education_Bachelors',\n",
       " 'education_Doctorate',\n",
       " 'education_HS-grad',\n",
       " 'education_Masters',\n",
       " 'education_Preschool',\n",
       " 'education_Prof-school',\n",
       " 'education_Some-college',\n",
       " 'native.country_?',\n",
       " 'native.country_Cambodia',\n",
       " 'native.country_Canada',\n",
       " 'native.country_China',\n",
       " 'native.country_Columbia',\n",
       " 'native.country_Cuba',\n",
       " 'native.country_Dominican-Republic',\n",
       " 'native.country_Ecuador',\n",
       " 'native.country_El-Salvador',\n",
       " 'native.country_England',\n",
       " 'native.country_France',\n",
       " 'native.country_Germany',\n",
       " 'native.country_Greece',\n",
       " 'native.country_Guatemala',\n",
       " 'native.country_Haiti',\n",
       " 'native.country_Holand-Netherlands',\n",
       " 'native.country_Honduras',\n",
       " 'native.country_Hong',\n",
       " 'native.country_Hungary',\n",
       " 'native.country_India',\n",
       " 'native.country_Iran',\n",
       " 'native.country_Ireland',\n",
       " 'native.country_Italy',\n",
       " 'native.country_Jamaica',\n",
       " 'native.country_Japan',\n",
       " 'native.country_Laos',\n",
       " 'native.country_Mexico',\n",
       " 'native.country_Nicaragua',\n",
       " 'native.country_Outlying-US(Guam-USVI-etc)',\n",
       " 'native.country_Peru',\n",
       " 'native.country_Philippines',\n",
       " 'native.country_Poland',\n",
       " 'native.country_Portugal',\n",
       " 'native.country_Puerto-Rico',\n",
       " 'native.country_Scotland',\n",
       " 'native.country_South',\n",
       " 'native.country_Taiwan',\n",
       " 'native.country_Thailand',\n",
       " 'native.country_Trinadad&Tobago',\n",
       " 'native.country_United-States',\n",
       " 'native.country_Vietnam',\n",
       " 'native.country_Yugoslavia',\n",
       " 'occupation_?',\n",
       " 'occupation_Adm-clerical',\n",
       " 'occupation_Armed-Forces',\n",
       " 'occupation_Craft-repair',\n",
       " 'occupation_Exec-managerial',\n",
       " 'occupation_Farming-fishing',\n",
       " 'occupation_Handlers-cleaners',\n",
       " 'occupation_Machine-op-inspct',\n",
       " 'occupation_Other-service',\n",
       " 'occupation_Priv-house-serv',\n",
       " 'occupation_Prof-specialty',\n",
       " 'occupation_Protective-serv',\n",
       " 'occupation_Sales',\n",
       " 'occupation_Tech-support',\n",
       " 'occupation_Transport-moving']"
      ]
     },
     "execution_count": 13,
     "metadata": {},
     "output_type": "execute_result"
    }
   ],
   "source": [
    "encoded_names = list(enc.get_feature_names_out(to_ohe))\n",
    "encoded_names"
   ]
  },
  {
   "cell_type": "code",
   "execution_count": 14,
   "id": "5eec3d8a-a7ee-43de-bfe0-cd1e13b2c8f9",
   "metadata": {},
   "outputs": [],
   "source": [
    "for i in range(len(encoded_names)):\n",
    "    df[encoded_names[i]] = encoded[:,i]"
   ]
  },
  {
   "cell_type": "code",
   "execution_count": 15,
   "id": "86a283ae-5c4b-4e46-a7d6-5baf9bb0b3dc",
   "metadata": {},
   "outputs": [],
   "source": [
    "cat_cols = [col for col in cat_cols if col not in to_ohe]"
   ]
  },
  {
   "cell_type": "code",
   "execution_count": 16,
   "id": "3c5cb1df-f754-46e3-9e28-1aa26d81a393",
   "metadata": {},
   "outputs": [],
   "source": [
    "cat_cols += encoded_names"
   ]
  },
  {
   "cell_type": "code",
   "execution_count": 17,
   "id": "560d4da2-0db4-40d4-99a9-4f1874bdd823",
   "metadata": {},
   "outputs": [
    {
     "data": {
      "text/plain": [
       "['workclass',\n",
       " 'marital.status',\n",
       " 'relationship',\n",
       " 'race',\n",
       " 'sex',\n",
       " 'education_10th',\n",
       " 'education_11th',\n",
       " 'education_12th',\n",
       " 'education_1st-4th',\n",
       " 'education_5th-6th',\n",
       " 'education_7th-8th',\n",
       " 'education_9th',\n",
       " 'education_Assoc-acdm',\n",
       " 'education_Assoc-voc',\n",
       " 'education_Bachelors',\n",
       " 'education_Doctorate',\n",
       " 'education_HS-grad',\n",
       " 'education_Masters',\n",
       " 'education_Preschool',\n",
       " 'education_Prof-school',\n",
       " 'education_Some-college',\n",
       " 'native.country_?',\n",
       " 'native.country_Cambodia',\n",
       " 'native.country_Canada',\n",
       " 'native.country_China',\n",
       " 'native.country_Columbia',\n",
       " 'native.country_Cuba',\n",
       " 'native.country_Dominican-Republic',\n",
       " 'native.country_Ecuador',\n",
       " 'native.country_El-Salvador',\n",
       " 'native.country_England',\n",
       " 'native.country_France',\n",
       " 'native.country_Germany',\n",
       " 'native.country_Greece',\n",
       " 'native.country_Guatemala',\n",
       " 'native.country_Haiti',\n",
       " 'native.country_Holand-Netherlands',\n",
       " 'native.country_Honduras',\n",
       " 'native.country_Hong',\n",
       " 'native.country_Hungary',\n",
       " 'native.country_India',\n",
       " 'native.country_Iran',\n",
       " 'native.country_Ireland',\n",
       " 'native.country_Italy',\n",
       " 'native.country_Jamaica',\n",
       " 'native.country_Japan',\n",
       " 'native.country_Laos',\n",
       " 'native.country_Mexico',\n",
       " 'native.country_Nicaragua',\n",
       " 'native.country_Outlying-US(Guam-USVI-etc)',\n",
       " 'native.country_Peru',\n",
       " 'native.country_Philippines',\n",
       " 'native.country_Poland',\n",
       " 'native.country_Portugal',\n",
       " 'native.country_Puerto-Rico',\n",
       " 'native.country_Scotland',\n",
       " 'native.country_South',\n",
       " 'native.country_Taiwan',\n",
       " 'native.country_Thailand',\n",
       " 'native.country_Trinadad&Tobago',\n",
       " 'native.country_United-States',\n",
       " 'native.country_Vietnam',\n",
       " 'native.country_Yugoslavia',\n",
       " 'occupation_?',\n",
       " 'occupation_Adm-clerical',\n",
       " 'occupation_Armed-Forces',\n",
       " 'occupation_Craft-repair',\n",
       " 'occupation_Exec-managerial',\n",
       " 'occupation_Farming-fishing',\n",
       " 'occupation_Handlers-cleaners',\n",
       " 'occupation_Machine-op-inspct',\n",
       " 'occupation_Other-service',\n",
       " 'occupation_Priv-house-serv',\n",
       " 'occupation_Prof-specialty',\n",
       " 'occupation_Protective-serv',\n",
       " 'occupation_Sales',\n",
       " 'occupation_Tech-support',\n",
       " 'occupation_Transport-moving']"
      ]
     },
     "execution_count": 17,
     "metadata": {},
     "output_type": "execute_result"
    }
   ],
   "source": [
    "cat_cols"
   ]
  },
  {
   "cell_type": "code",
   "execution_count": 18,
   "id": "5bd5bd6d-2455-42e4-9dcd-609836cb4efc",
   "metadata": {},
   "outputs": [
    {
     "name": "stdout",
     "output_type": "stream",
     "text": [
      "<class 'pandas.core.frame.DataFrame'>\n",
      "RangeIndex: 32561 entries, 0 to 32560\n",
      "Data columns (total 88 columns):\n",
      " #   Column                                     Non-Null Count  Dtype  \n",
      "---  ------                                     --------------  -----  \n",
      " 0   age                                        32561 non-null  int64  \n",
      " 1   workclass                                  32561 non-null  object \n",
      " 2   fnlwgt                                     32561 non-null  int64  \n",
      " 3   education                                  32561 non-null  object \n",
      " 4   education.num                              32561 non-null  int64  \n",
      " 5   marital.status                             32561 non-null  object \n",
      " 6   occupation                                 32561 non-null  object \n",
      " 7   relationship                               32561 non-null  object \n",
      " 8   race                                       32561 non-null  object \n",
      " 9   sex                                        32561 non-null  object \n",
      " 10  capital.gain                               32561 non-null  int64  \n",
      " 11  capital.loss                               32561 non-null  int64  \n",
      " 12  hours.per.week                             32561 non-null  int64  \n",
      " 13  native.country                             32561 non-null  object \n",
      " 14  income                                     32561 non-null  object \n",
      " 15  education_10th                             32561 non-null  float64\n",
      " 16  education_11th                             32561 non-null  float64\n",
      " 17  education_12th                             32561 non-null  float64\n",
      " 18  education_1st-4th                          32561 non-null  float64\n",
      " 19  education_5th-6th                          32561 non-null  float64\n",
      " 20  education_7th-8th                          32561 non-null  float64\n",
      " 21  education_9th                              32561 non-null  float64\n",
      " 22  education_Assoc-acdm                       32561 non-null  float64\n",
      " 23  education_Assoc-voc                        32561 non-null  float64\n",
      " 24  education_Bachelors                        32561 non-null  float64\n",
      " 25  education_Doctorate                        32561 non-null  float64\n",
      " 26  education_HS-grad                          32561 non-null  float64\n",
      " 27  education_Masters                          32561 non-null  float64\n",
      " 28  education_Preschool                        32561 non-null  float64\n",
      " 29  education_Prof-school                      32561 non-null  float64\n",
      " 30  education_Some-college                     32561 non-null  float64\n",
      " 31  native.country_?                           32561 non-null  float64\n",
      " 32  native.country_Cambodia                    32561 non-null  float64\n",
      " 33  native.country_Canada                      32561 non-null  float64\n",
      " 34  native.country_China                       32561 non-null  float64\n",
      " 35  native.country_Columbia                    32561 non-null  float64\n",
      " 36  native.country_Cuba                        32561 non-null  float64\n",
      " 37  native.country_Dominican-Republic          32561 non-null  float64\n",
      " 38  native.country_Ecuador                     32561 non-null  float64\n",
      " 39  native.country_El-Salvador                 32561 non-null  float64\n",
      " 40  native.country_England                     32561 non-null  float64\n",
      " 41  native.country_France                      32561 non-null  float64\n",
      " 42  native.country_Germany                     32561 non-null  float64\n",
      " 43  native.country_Greece                      32561 non-null  float64\n",
      " 44  native.country_Guatemala                   32561 non-null  float64\n",
      " 45  native.country_Haiti                       32561 non-null  float64\n",
      " 46  native.country_Holand-Netherlands          32561 non-null  float64\n",
      " 47  native.country_Honduras                    32561 non-null  float64\n",
      " 48  native.country_Hong                        32561 non-null  float64\n",
      " 49  native.country_Hungary                     32561 non-null  float64\n",
      " 50  native.country_India                       32561 non-null  float64\n",
      " 51  native.country_Iran                        32561 non-null  float64\n",
      " 52  native.country_Ireland                     32561 non-null  float64\n",
      " 53  native.country_Italy                       32561 non-null  float64\n",
      " 54  native.country_Jamaica                     32561 non-null  float64\n",
      " 55  native.country_Japan                       32561 non-null  float64\n",
      " 56  native.country_Laos                        32561 non-null  float64\n",
      " 57  native.country_Mexico                      32561 non-null  float64\n",
      " 58  native.country_Nicaragua                   32561 non-null  float64\n",
      " 59  native.country_Outlying-US(Guam-USVI-etc)  32561 non-null  float64\n",
      " 60  native.country_Peru                        32561 non-null  float64\n",
      " 61  native.country_Philippines                 32561 non-null  float64\n",
      " 62  native.country_Poland                      32561 non-null  float64\n",
      " 63  native.country_Portugal                    32561 non-null  float64\n",
      " 64  native.country_Puerto-Rico                 32561 non-null  float64\n",
      " 65  native.country_Scotland                    32561 non-null  float64\n",
      " 66  native.country_South                       32561 non-null  float64\n",
      " 67  native.country_Taiwan                      32561 non-null  float64\n",
      " 68  native.country_Thailand                    32561 non-null  float64\n",
      " 69  native.country_Trinadad&Tobago             32561 non-null  float64\n",
      " 70  native.country_United-States               32561 non-null  float64\n",
      " 71  native.country_Vietnam                     32561 non-null  float64\n",
      " 72  native.country_Yugoslavia                  32561 non-null  float64\n",
      " 73  occupation_?                               32561 non-null  float64\n",
      " 74  occupation_Adm-clerical                    32561 non-null  float64\n",
      " 75  occupation_Armed-Forces                    32561 non-null  float64\n",
      " 76  occupation_Craft-repair                    32561 non-null  float64\n",
      " 77  occupation_Exec-managerial                 32561 non-null  float64\n",
      " 78  occupation_Farming-fishing                 32561 non-null  float64\n",
      " 79  occupation_Handlers-cleaners               32561 non-null  float64\n",
      " 80  occupation_Machine-op-inspct               32561 non-null  float64\n",
      " 81  occupation_Other-service                   32561 non-null  float64\n",
      " 82  occupation_Priv-house-serv                 32561 non-null  float64\n",
      " 83  occupation_Prof-specialty                  32561 non-null  float64\n",
      " 84  occupation_Protective-serv                 32561 non-null  float64\n",
      " 85  occupation_Sales                           32561 non-null  float64\n",
      " 86  occupation_Tech-support                    32561 non-null  float64\n",
      " 87  occupation_Transport-moving                32561 non-null  float64\n",
      "dtypes: float64(73), int64(6), object(9)\n",
      "memory usage: 21.9+ MB\n"
     ]
    }
   ],
   "source": [
    "df.info()"
   ]
  },
  {
   "cell_type": "markdown",
   "id": "a75d8ee7-a30e-4d8e-9b21-fac0ba2c213c",
   "metadata": {},
   "source": [
    "## Финальная обработка"
   ]
  },
  {
   "cell_type": "code",
   "execution_count": 19,
   "id": "360fb779-21e9-4fb9-af17-2b219aadc6a0",
   "metadata": {},
   "outputs": [],
   "source": [
    "df['income'] = (df['income'] == '>50K').astype(int)"
   ]
  },
  {
   "cell_type": "code",
   "execution_count": 20,
   "id": "37b38889-0057-4ebd-bfa7-df67ca47a81b",
   "metadata": {},
   "outputs": [
    {
     "data": {
      "text/plain": [
       "0        0\n",
       "1        0\n",
       "2        0\n",
       "3        0\n",
       "4        0\n",
       "        ..\n",
       "32556    0\n",
       "32557    0\n",
       "32558    1\n",
       "32559    0\n",
       "32560    0\n",
       "Name: income, Length: 32561, dtype: int32"
      ]
     },
     "execution_count": 20,
     "metadata": {},
     "output_type": "execute_result"
    }
   ],
   "source": [
    "df['income']"
   ]
  },
  {
   "cell_type": "code",
   "execution_count": 21,
   "id": "e4dfd182-22f9-49f0-a5c1-136ea5e7fd8b",
   "metadata": {},
   "outputs": [],
   "source": [
    "train_df, test_df = train_test_split(df,  test_size=0.25, random_state=r_state)"
   ]
  },
  {
   "cell_type": "code",
   "execution_count": 22,
   "id": "254fbe9c-2add-44c3-80c6-357ae841f1e7",
   "metadata": {},
   "outputs": [],
   "source": [
    "X_train = train_df[num_cols + cat_cols]\n",
    "X_test = test_df[num_cols + cat_cols]\n",
    "\n",
    "y_train = train_df['income'].to_numpy(dtype = int)\n",
    "y_test = test_df['income'].to_numpy(dtype = int)"
   ]
  },
  {
   "cell_type": "code",
   "execution_count": 23,
   "id": "1bfe504f-179e-4268-a67b-e765c18a3a8d",
   "metadata": {},
   "outputs": [
    {
     "data": {
      "text/plain": [
       "array([0, 1])"
      ]
     },
     "execution_count": 23,
     "metadata": {},
     "output_type": "execute_result"
    }
   ],
   "source": [
    "np.unique(y_test)"
   ]
  },
  {
   "cell_type": "markdown",
   "id": "a79c6a78-e845-400d-813f-fe8d4917e1b9",
   "metadata": {},
   "source": [
    "# №1 Лучшие категориальные фичи"
   ]
  },
  {
   "cell_type": "code",
   "execution_count": 24,
   "id": "434e1690-e4ac-43ac-b173-33423e219def",
   "metadata": {
    "id": "051d3954"
   },
   "outputs": [],
   "source": [
    "def entropy(p):\n",
    "    try:\n",
    "        return -p * np.log2(p) - (1-p) * np.log2(1-p)\n",
    "    except:\n",
    "        return 1"
   ]
  },
  {
   "cell_type": "code",
   "execution_count": 25,
   "id": "32c42319-3172-4d1e-a551-4230225b6532",
   "metadata": {
    "id": "60a75c03"
   },
   "outputs": [],
   "source": [
    "def gini_impurity(p):\n",
    "    return 1 - (p**2 + (1-p)**2)"
   ]
  },
  {
   "cell_type": "code",
   "execution_count": 26,
   "id": "ee1bca66-dd0c-4e77-bc07-b4868857c027",
   "metadata": {
    "id": "D2soDDvAYhAC"
   },
   "outputs": [],
   "source": [
    "def gini_impurity_linear(p):\n",
    "    return 1 - (p + (1-p))"
   ]
  },
  {
   "cell_type": "code",
   "execution_count": 27,
   "id": "210485ea-137d-45fd-ae2a-40ed3b434e6b",
   "metadata": {},
   "outputs": [],
   "source": [
    "def best_continious_split(values, targets, criterion):\n",
    "    sorted_pairs = sorted(list(zip(values, targets)), key = lambda x: x[0])\n",
    "    \n",
    "    n = len(sorted_pairs)\n",
    "    p = sum(targets) / n\n",
    "    node_criterion = criterion(p)\n",
    "    \n",
    "    best_criterion = node_criterion\n",
    "    best_split = None\n",
    "    \n",
    "    ones = 0\n",
    "    total_ones = sum(targets)\n",
    "    \n",
    "    for i in range(1, len(sorted_pairs)):\n",
    "        ones += sorted_pairs[i-1][1]\n",
    "        \n",
    "        if(sorted_pairs[i-1][0] == sorted_pairs[i][0]):\n",
    "            continue\n",
    "        split_val = (sorted_pairs[i-1][0] + sorted_pairs[i][0]) / 2\n",
    "        \n",
    "        p_left = ones / i\n",
    "        p_right = (total_ones - ones) / (n-i)\n",
    "        \n",
    "        split_criterion = i / n * criterion(p_left) + (n-i) / n * criterion(p_right)\n",
    "        \n",
    "        if split_criterion < best_criterion:\n",
    "            best_criterion = split_criterion\n",
    "            best_split = split_val\n",
    "\n",
    "    \n",
    "    return (best_split, best_criterion)"
   ]
  },
  {
   "cell_type": "code",
   "execution_count": 28,
   "id": "c09d3f65-c686-4faf-bd5b-3c7235324c10",
   "metadata": {},
   "outputs": [
    {
     "data": {
      "text/plain": [
       "(30.5, 0.3360510089306659)"
      ]
     },
     "execution_count": 28,
     "metadata": {},
     "output_type": "execute_result"
    }
   ],
   "source": [
    "best_continious_split(X_train['age'], y_train, gini_impurity)"
   ]
  },
  {
   "cell_type": "code",
   "execution_count": 29,
   "id": "d4371246-ebba-436f-b08e-c207859e50f7",
   "metadata": {},
   "outputs": [],
   "source": [
    "def best_categorical_split(values, targets, criterion):\n",
    "    all_comb = []\n",
    "    uniq = list(np.unique(values))\n",
    "    \n",
    "    for i in range(1, int(np.ceil(len(uniq)/2)) + 1):\n",
    "        all_comb += list(combinations(uniq, i))\n",
    "        \n",
    "    n = len(values)\n",
    "    p = sum(targets) / n\n",
    "    node_criterion = criterion(p)\n",
    "    \n",
    "    best_criterion = node_criterion\n",
    "    best_split = \"\"\n",
    "    \n",
    "    total_ones = sum(targets)\n",
    "    \n",
    "    for i in all_comb:\n",
    "        chosen = targets[values.apply(lambda x: x in i)]\n",
    "        \n",
    "        ones = np.sum(chosen)\n",
    "        p_left = ones / chosen.shape[0]\n",
    "        p_right = (total_ones - ones) / (n - chosen.shape[0])\n",
    "        \n",
    "        split_criterion = chosen.shape[0]/n * criterion(p_left) + (n - chosen.shape[0]) / n * criterion(p_right)\n",
    "        if split_criterion < best_criterion:\n",
    "            best_criterion = split_criterion\n",
    "            best_split = i\n",
    "\n",
    "    \n",
    "    return (list(best_split), best_criterion)"
   ]
  },
  {
   "cell_type": "code",
   "execution_count": 30,
   "id": "912c955c-2650-4f72-ad56-73cc430ae21a",
   "metadata": {},
   "outputs": [
    {
     "data": {
      "text/plain": [
       "(['Asian-Pac-Islander', 'White'], 0.788699528513619)"
      ]
     },
     "execution_count": 30,
     "metadata": {},
     "output_type": "execute_result"
    }
   ],
   "source": [
    "best_categorical_split(X_train['race'], y_train, entropy)"
   ]
  },
  {
   "cell_type": "code",
   "execution_count": 31,
   "id": "72501a9b-bd69-4cb3-9af3-ca6ff247137f",
   "metadata": {},
   "outputs": [
    {
     "data": {
      "text/plain": [
       "(['Female'], 0.3492195955392974)"
      ]
     },
     "execution_count": 31,
     "metadata": {},
     "output_type": "execute_result"
    }
   ],
   "source": [
    "best_categorical_split(X_train['sex'], y_train, gini_impurity)"
   ]
  },
  {
   "cell_type": "code",
   "execution_count": 32,
   "id": "07628098-6c8b-4039-a656-51c86f54e6dc",
   "metadata": {},
   "outputs": [
    {
     "data": {
      "text/plain": [
       "(['Federal-gov', 'Self-emp-inc'], 0.3585372920471675)"
      ]
     },
     "execution_count": 32,
     "metadata": {},
     "output_type": "execute_result"
    }
   ],
   "source": [
    "best_categorical_split(X_train['workclass'], y_train, gini_impurity)"
   ]
  },
  {
   "cell_type": "code",
   "execution_count": 33,
   "id": "3b17a900-d342-41dd-86cf-0ac62864ce7d",
   "metadata": {},
   "outputs": [],
   "source": [
    "def random_categorical_split(values, targets, criterion, samples = None):\n",
    "    all_comb = []\n",
    "    uniq = list(np.unique(values))\n",
    "    \n",
    "    for i in range(1, int(np.ceil(len(uniq)/2)) + 1):\n",
    "        all_comb += list(combinations(uniq, i))\n",
    "        \n",
    "    if(samples is None):\n",
    "        if(len(uniq) > 3):\n",
    "            samples = int(len(all_comb)/2)\n",
    "        else:\n",
    "            samples = len(all_comb)\n",
    "    shuffle(all_comb)\n",
    "    all_comb = all_comb[:samples]\n",
    "    n = len(values)\n",
    "    p = sum(targets) / n\n",
    "    node_criterion = criterion(p)\n",
    "    \n",
    "    best_criterion = node_criterion\n",
    "    best_split = \"\"\n",
    "    \n",
    "    total_ones = sum(targets)\n",
    "    \n",
    "    for i in all_comb:\n",
    "        chosen = targets[values.apply(lambda x: x in i)]\n",
    "        \n",
    "        ones = np.sum(chosen)\n",
    "        p_left = ones / chosen.shape[0]\n",
    "        p_right = (total_ones - ones) / (n - chosen.shape[0])\n",
    "        \n",
    "        split_criterion = chosen.shape[0]/n * criterion(p_left) + (n - chosen.shape[0]) / n * criterion(p_right)\n",
    "        if split_criterion < best_criterion:\n",
    "            best_criterion = split_criterion\n",
    "            best_split = i\n",
    "\n",
    "    \n",
    "    return (list(best_split), best_criterion)"
   ]
  },
  {
   "cell_type": "code",
   "execution_count": 34,
   "id": "05983922-2925-4c58-9033-24b3bf5d231d",
   "metadata": {},
   "outputs": [
    {
     "data": {
      "text/plain": [
       "(['Asian-Pac-Islander', 'White'], 0.788699528513619)"
      ]
     },
     "execution_count": 34,
     "metadata": {},
     "output_type": "execute_result"
    }
   ],
   "source": [
    "random_categorical_split(X_train['race'], y_train, entropy)"
   ]
  },
  {
   "cell_type": "code",
   "execution_count": 35,
   "id": "b72af836-2b83-4f73-b692-e519725c1dd0",
   "metadata": {},
   "outputs": [
    {
     "data": {
      "text/plain": [
       "(['Male'], 0.3492195955392974)"
      ]
     },
     "execution_count": 35,
     "metadata": {},
     "output_type": "execute_result"
    }
   ],
   "source": [
    "random_categorical_split(X_train['sex'], y_train, gini_impurity)"
   ]
  },
  {
   "cell_type": "code",
   "execution_count": 36,
   "id": "7e2b8bfd-1c67-43b7-87fd-2b14faba37a2",
   "metadata": {},
   "outputs": [
    {
     "data": {
      "text/plain": [
       "(['Federal-gov', 'Self-emp-inc'], 0.3585372920471675)"
      ]
     },
     "execution_count": 36,
     "metadata": {},
     "output_type": "execute_result"
    }
   ],
   "source": [
    "random_categorical_split(X_train['workclass'], y_train, gini_impurity)"
   ]
  },
  {
   "cell_type": "markdown",
   "id": "c9bd9d82-4402-4d92-ba70-2df1387b9ed1",
   "metadata": {},
   "source": [
    "# №2 (рекурентное)Дерево решение с ограничением глубины"
   ]
  },
  {
   "cell_type": "code",
   "execution_count": 37,
   "id": "fbae2bb7-4575-45a5-bfd3-a562832acc11",
   "metadata": {},
   "outputs": [],
   "source": [
    "class NodeOfDT_deep():\n",
    "    def __init__(self, X, y, cat_cols, criterion, max_depth = 10, min_in_leaf = 1000,depth = 0):\n",
    "\n",
    "        self.is_leaf = False\n",
    "        #Если лист\n",
    "        if(X.shape[0] <= min_in_leaf or depth >= max_depth):\n",
    "            self.is_leaf = True\n",
    "            self.p = np.sum(y)/y.shape[0]\n",
    "            print(depth, self.p, y.shape[0])\n",
    "            return\n",
    "        #Если не лист\n",
    "        num_cols = [col for col in list(X.columns) if col not in cat_cols]\n",
    "        num_bests = [[col, best_continious_split(X[col], y,criterion)] for col in num_cols]\n",
    "        num_bests = [best for best in num_bests if not(best[1][0] is None)]\n",
    "        cat_bests = [[col, best_categorical_split(X[col], y,criterion)] for col in cat_cols]\n",
    "        cat_bests = [best for best in num_bests if not(best[1][0] == [])]\n",
    "        \n",
    "        num_cols = list(set([x[0] for x in num_bests]) & set(num_cols))\n",
    "        bests = num_bests + cat_bests\n",
    "        \n",
    "        #Разбиений не осталось\n",
    "        if(len(bests) <= 0):\n",
    "            self.is_leaf = True\n",
    "            self.p = np.sum(y)/y.shape[0]\n",
    "            print(depth, self.p, y.shape[0])\n",
    "            return\n",
    "        \n",
    "        best_col, best_split = min(num_bests + cat_bests, key=lambda i: i[1][1])\n",
    "        \n",
    "        self.col = best_col\n",
    "        self.cond = best_split[0]\n",
    "        if(best_col in cat_cols):\n",
    "            self.is_cat = True\n",
    "            if(len(X[best_col].unique()) - len(best_split[0]) <= 1):\n",
    "                cat_cols.remove(best_col)\n",
    "            mask = X[best_col].apply(lambda x: x in best_split[0])\n",
    "        else:\n",
    "            self.is_cat = False\n",
    "            mask =  X[best_col] < best_split[0]\n",
    "            \n",
    "        col_mask = num_cols + cat_cols\n",
    "        self.into_cond = NodeOfDT_deep(X[col_mask][mask], y[mask], cat_cols[:], criterion,max_depth, min_in_leaf, depth + 1)\n",
    "        self.outo_cond = NodeOfDT_deep(X[col_mask][~mask], y[~mask], cat_cols[:], criterion,max_depth, min_in_leaf, depth + 1)\n",
    "        \n",
    "    def predict(self, X):\n",
    "        if(self.is_leaf):\n",
    "            return self.p\n",
    "        \n",
    "        if(self.is_cat):\n",
    "            if(X[self.col] in self.cond):\n",
    "                return self.into_cond.predict(X)\n",
    "            else:\n",
    "                return self.outo_cond.predict(X)\n",
    "        else:\n",
    "            if(X[self.col] < self.cond):\n",
    "                return self.into_cond.predict(X)\n",
    "            else:\n",
    "                return self.outo_cond.predict(X)\n",
    "            "
   ]
  },
  {
   "cell_type": "code",
   "execution_count": 38,
   "id": "a73478ed-ea86-40b5-9339-fd02a0364ccd",
   "metadata": {
    "id": "d27193ff"
   },
   "outputs": [],
   "source": [
    "# Используя функции нахождения сплита, реализуйте свой класс MyDecisionTreeClassifier\n",
    "# Для бинарной классификации, который может использовать в качестве критерия \n",
    "# gini impurity и entropy на выбор\n",
    "         \n",
    "\n",
    "class MyDecisionTreeClassifier:\n",
    "    def __init__(self, criterion=gini_impurity, max_depth=6, min_samples_leaf=1500):\n",
    "        '''\n",
    "        Конструктор класса\n",
    "        criterion -- критерий может быть либо 'gini', либо 'entropy'\n",
    "        max_leaves -- максимальное количество листо в дереве, если None -- то дерево не ограничено\n",
    "        min_samples_leaf -- минимальное количество объектов в листе\n",
    "        '''\n",
    "        self.criterion = criterion\n",
    "        self.max_depth = max_depth\n",
    "        self.min_samples_leaf = min_samples_leaf\n",
    "    \n",
    "    def fit(self, X_train, y_train, cat_cols):\n",
    "        '''\n",
    "        Функция обучения -- рекурсивно проводит разбиения и выбирает наилучшее\n",
    "        '''\n",
    "        self.bt = NodeOfDT_deep(X_train, y_train, cat_cols, self.criterion, max_depth = self.max_depth, min_in_leaf = self.min_samples_leaf)\n",
    "    \n",
    "    def predict(self, X):\n",
    "        '''\n",
    "        Функция предсказания класса, для каждого наблюдения проходит по дереву, пока не попадёт в лист\n",
    "        В зависимости от листа, в который попало наблюдение делается предсказание (наиболее часто встречающийся класс)\n",
    "        '''\n",
    "        return X.apply(lambda x: 1 if self.bt.predict(x) >= 0.5 else 0, axis = 1)\n",
    "    \n",
    "    def predict_proba(self, X):\n",
    "        '''\n",
    "        Функция предсказания вероятности класса, для каждого наблюдения проходит по дереву, пока не попадёт в лист\n",
    "        В зависимости от листа, в который попало наблюдение делается предсказание для каждого класса:\n",
    "        Его доля в листе\n",
    "        '''\n",
    "        NX = X.copy()\n",
    "        NX['one'] = X.apply(lambda x: self.bt.predict(x), axis = 1)\n",
    "        NX['zero'] = NX['one'].apply(lambda x: 1 - x, axis = 1)\n",
    "        return NX[['one','zero']]"
   ]
  },
  {
   "cell_type": "code",
   "execution_count": 39,
   "id": "8667c559-fc9b-4bbd-a182-9a7fa141bb68",
   "metadata": {},
   "outputs": [],
   "source": [
    "dt = MyDecisionTreeClassifier()"
   ]
  },
  {
   "cell_type": "code",
   "execution_count": 40,
   "id": "d9a0cc18-40f1-4bfb-8ead-b22c86eb19a2",
   "metadata": {},
   "outputs": [
    {
     "name": "stderr",
     "output_type": "stream",
     "text": [
      "C:\\Users\\sereg\\AppData\\Local\\Temp\\ipykernel_6788\\1389556583.py:22: RuntimeWarning: invalid value encountered in long_scalars\n",
      "  p_right = (total_ones - ones) / (n - chosen.shape[0])\n",
      "C:\\Users\\sereg\\AppData\\Local\\Temp\\ipykernel_6788\\1389556583.py:22: RuntimeWarning: invalid value encountered in long_scalars\n",
      "  p_right = (total_ones - ones) / (n - chosen.shape[0])\n",
      "C:\\Users\\sereg\\AppData\\Local\\Temp\\ipykernel_6788\\1389556583.py:22: RuntimeWarning: invalid value encountered in long_scalars\n",
      "  p_right = (total_ones - ones) / (n - chosen.shape[0])\n",
      "C:\\Users\\sereg\\AppData\\Local\\Temp\\ipykernel_6788\\1389556583.py:22: RuntimeWarning: invalid value encountered in long_scalars\n",
      "  p_right = (total_ones - ones) / (n - chosen.shape[0])\n"
     ]
    },
    {
     "name": "stdout",
     "output_type": "stream",
     "text": [
      "6 0.00299311583358276 3341\n",
      "6 0.03337041156840934 899\n",
      "5 1.0 1\n"
     ]
    },
    {
     "name": "stderr",
     "output_type": "stream",
     "text": [
      "C:\\Users\\sereg\\AppData\\Local\\Temp\\ipykernel_6788\\1389556583.py:22: RuntimeWarning: invalid value encountered in long_scalars\n",
      "  p_right = (total_ones - ones) / (n - chosen.shape[0])\n",
      "C:\\Users\\sereg\\AppData\\Local\\Temp\\ipykernel_6788\\1389556583.py:22: RuntimeWarning: invalid value encountered in long_scalars\n",
      "  p_right = (total_ones - ones) / (n - chosen.shape[0])\n"
     ]
    },
    {
     "name": "stdout",
     "output_type": "stream",
     "text": [
      "6 0.07442813246841926 2929\n",
      "6 0.15419161676646706 668\n",
      "5 0.40298507462686567 67\n"
     ]
    },
    {
     "name": "stderr",
     "output_type": "stream",
     "text": [
      "C:\\Users\\sereg\\AppData\\Local\\Temp\\ipykernel_6788\\1389556583.py:22: RuntimeWarning: invalid value encountered in long_scalars\n",
      "  p_right = (total_ones - ones) / (n - chosen.shape[0])\n",
      "C:\\Users\\sereg\\AppData\\Local\\Temp\\ipykernel_6788\\1389556583.py:22: RuntimeWarning: invalid value encountered in long_scalars\n",
      "  p_right = (total_ones - ones) / (n - chosen.shape[0])\n",
      "C:\\Users\\sereg\\AppData\\Local\\Temp\\ipykernel_6788\\1389556583.py:22: RuntimeWarning: invalid value encountered in long_scalars\n",
      "  p_right = (total_ones - ones) / (n - chosen.shape[0])\n"
     ]
    },
    {
     "name": "stdout",
     "output_type": "stream",
     "text": [
      "6 0.05450416351249054 1321\n",
      "6 0.17812388113139993 5586\n"
     ]
    },
    {
     "name": "stderr",
     "output_type": "stream",
     "text": [
      "C:\\Users\\sereg\\AppData\\Local\\Temp\\ipykernel_6788\\1389556583.py:22: RuntimeWarning: invalid value encountered in long_scalars\n",
      "  p_right = (total_ones - ones) / (n - chosen.shape[0])\n"
     ]
    },
    {
     "name": "stdout",
     "output_type": "stream",
     "text": [
      "6 0.11974110032362459 309\n",
      "6 0.3210286188303608 2411\n",
      "4 0.6524590163934426 305\n"
     ]
    },
    {
     "name": "stderr",
     "output_type": "stream",
     "text": [
      "C:\\Users\\sereg\\AppData\\Local\\Temp\\ipykernel_6788\\1389556583.py:22: RuntimeWarning: invalid value encountered in long_scalars\n",
      "  p_right = (total_ones - ones) / (n - chosen.shape[0])\n"
     ]
    },
    {
     "name": "stdout",
     "output_type": "stream",
     "text": [
      "3 0.09699321047526673 1031\n"
     ]
    },
    {
     "name": "stderr",
     "output_type": "stream",
     "text": [
      "C:\\Users\\sereg\\AppData\\Local\\Temp\\ipykernel_6788\\1389556583.py:22: RuntimeWarning: invalid value encountered in long_scalars\n",
      "  p_right = (total_ones - ones) / (n - chosen.shape[0])\n",
      "C:\\Users\\sereg\\AppData\\Local\\Temp\\ipykernel_6788\\1389556583.py:22: RuntimeWarning: invalid value encountered in long_scalars\n",
      "  p_right = (total_ones - ones) / (n - chosen.shape[0])\n",
      "C:\\Users\\sereg\\AppData\\Local\\Temp\\ipykernel_6788\\1389556583.py:22: RuntimeWarning: invalid value encountered in long_scalars\n",
      "  p_right = (total_ones - ones) / (n - chosen.shape[0])\n"
     ]
    },
    {
     "name": "stdout",
     "output_type": "stream",
     "text": [
      "6 0.2996941896024465 654\n",
      "6 0.4385423100679432 1619\n",
      "6 0.3938223938223938 259\n",
      "6 0.5948103792415169 1503\n",
      "4 0.9240506329113924 316\n",
      "1 0.9467110741049126 1201\n"
     ]
    },
    {
     "name": "stderr",
     "output_type": "stream",
     "text": [
      "C:\\Users\\sereg\\AppData\\Local\\Temp\\ipykernel_6788\\1389556583.py:22: RuntimeWarning: invalid value encountered in long_scalars\n",
      "  p_right = (total_ones - ones) / (n - chosen.shape[0])\n"
     ]
    }
   ],
   "source": [
    "dt.fit(X_train, y_train, cat_cols)"
   ]
  },
  {
   "cell_type": "code",
   "execution_count": 41,
   "id": "a6868456-87a8-416d-877c-9281fc93ece1",
   "metadata": {},
   "outputs": [
    {
     "data": {
      "text/plain": [
       "0.8295049748188184"
      ]
     },
     "execution_count": 41,
     "metadata": {},
     "output_type": "execute_result"
    }
   ],
   "source": [
    "accuracy_score(y_test, dt.predict(X_test))"
   ]
  },
  {
   "cell_type": "markdown",
   "id": "de3a6634-bc29-4f23-b80c-9c9b136058c7",
   "metadata": {},
   "source": [
    "# №3 Дерево решений с ограничением на число листов"
   ]
  },
  {
   "cell_type": "code",
   "execution_count": 42,
   "id": "97dab7fe-9b7f-4bb1-8a92-422852e3ba7e",
   "metadata": {
    "id": "d27193ff"
   },
   "outputs": [],
   "source": [
    "# Используя функции нахождения сплита, реализуйте свой класс MyDecisionTreeClassifier\n",
    "# Для бинарной классификации, который может использовать в качестве критерия \n",
    "# gini impurity и entropy на выбор\n",
    "\n",
    "class NodeOfDT_max_leafs():\n",
    "    def __init__(self, col_cat_mask, col_num_mask, row_mask):\n",
    "        self.into = None\n",
    "        self.outo = None\n",
    "        self.is_leaf = False\n",
    "        self.is_cat = None\n",
    "        self.col_cat_mask = col_cat_mask\n",
    "        self.col_num_mask = col_num_mask\n",
    "        self.row_mask = row_mask\n",
    "        self.best_split = None\n",
    "        self.p = None\n",
    "        \n",
    "    def split(self, X):\n",
    "        best_col = self.best_split[0]\n",
    "        best_split = self.best_split[1][0]\n",
    "        \n",
    "        \n",
    "        if(best_col in self.col_cat_mask):\n",
    "            self.is_cat = True\n",
    "            mask = X[best_col].apply(lambda x: x in best_split) & self.row_mask\n",
    "            if(len(X[self.row_mask][best_col].unique()) - len(best_split) <= 1):\n",
    "                self.col_cat_mask.remove(best_col)\n",
    "        else:\n",
    "            self.is_cat = False\n",
    "            mask =  (X[best_col] < best_split) & self.row_mask\n",
    "            \n",
    "            \n",
    "        self.into = NodeOfDT_max_leafs(self.col_cat_mask, self.col_num_mask, mask)\n",
    "        self.outo = NodeOfDT_max_leafs(self.col_cat_mask, self.col_num_mask, ~mask & self.row_mask)\n",
    "        \n",
    "    def predict(self, X):\n",
    "        if(self.is_leaf):\n",
    "            return self.p\n",
    "        \n",
    "        if(self.is_cat):\n",
    "            if(X[self.best_split[0]] in self.best_split[1][0]):\n",
    "                return self.into.predict(X)\n",
    "            else:\n",
    "                return self.outo.predict(X)\n",
    "        else:\n",
    "            if(X[self.best_split[0]] < self.best_split[1][0]):\n",
    "                return self.into.predict(X)\n",
    "            else:\n",
    "                return self.outo.predict(X)\n",
    "    \n",
    "def find_best_split(X_train, y_train, bt, criterion):\n",
    "    num_bests = [[col, best_continious_split(X_train[bt.row_mask][col], y_train[bt.row_mask],criterion)] for col in bt.col_num_mask]\n",
    "    num_bests = [best for best in num_bests if not(best[1][0] is None)]\n",
    "    \n",
    "    cat_bests = [[col, best_categorical_split(X_train[bt.row_mask][col], y_train[bt.row_mask],criterion)] for col in bt.col_cat_mask]\n",
    "    cat_bests = [best for best in num_bests if not(best[1][0] == [])]\n",
    "    \n",
    "    bt.col_num_mask = list(set([x[0] for x in num_bests]) & set(bt.col_num_mask))\n",
    "    bt.col_cat_mask = list(set([x[0] for x in cat_bests]) & set(bt.col_cat_mask))\n",
    "    if(len(cat_bests + num_bests) <= 0):\n",
    "        return None\n",
    "    return min(num_bests + cat_bests, key=lambda i: i[1][1])\n",
    "    \n",
    "class MyDecisionTreeClassifier:\n",
    "    def __init__(self, criterion=gini_impurity, max_leafs=50, min_samples_leaf=1500):\n",
    "        '''\n",
    "        Конструктор класса\n",
    "        criterion -- критерий может быть либо 'gini', либо 'entropy'\n",
    "        max_leaves -- максимальное количество листо в дереве, если None -- то дерево не ограничено\n",
    "        min_samples_leaf -- минимальное количество объектов в листе\n",
    "        '''\n",
    "        self.criterion = criterion\n",
    "        self.max_leafs = max_leafs\n",
    "        self.min_samples_leaf = min_samples_leaf\n",
    "        self.bt = None\n",
    "    \n",
    "    def fit(self, X_train, y_train, cat_cols):\n",
    "        \n",
    "        num_cols = [col for col in list(X_train.columns) if col not in cat_cols]\n",
    "        self.bt = NodeOfDT_max_leafs(cat_cols, num_cols, X_train.apply(lambda x: not(x is None), axis = 1))\n",
    "        self.bt.best_split = find_best_split(X_train, y_train, self.bt, self.criterion)\n",
    "        \n",
    "        \n",
    "        leafs = [self.bt]\n",
    "        dead_leafs = []\n",
    "        counter = 0\n",
    "        while(len(leafs) > 0 and len(leafs) + len(dead_leafs) < self.max_leafs):\n",
    "            leaf_to_split = min(leafs, key = lambda x: x.best_split[1][1])\n",
    "            # print('lvl', counter, 'best split of lvl',leaf_to_split.best_split)\n",
    "            # print('lvl', counter, 'Size of dt in node', X_train[leaf_to_split.row_mask].shape[0])\n",
    "            leaf_to_split.split(X_train)\n",
    "            leafs.remove(leaf_to_split)\n",
    "            into = leaf_to_split.into\n",
    "            # print('lvl', counter, 'Size of into in node', X_train[into.row_mask].shape[0])\n",
    "            if(X_train[into.row_mask].shape[0] < self.min_samples_leaf):\n",
    "                dead_leafs += [into]\n",
    "            else:\n",
    "                into.best_split = find_best_split(X_train, y_train, into, self.criterion)\n",
    "                if(into.best_split is None):\n",
    "                    dead_leafs += [into]\n",
    "                else:\n",
    "                    leafs += [into]\n",
    "            outo = leaf_to_split.outo\n",
    "            # print('lvl', counter, 'Size of outo in node', X_train[outo.row_mask].shape[0])\n",
    "            if(X_train[outo.row_mask].shape[0] < self.min_samples_leaf):\n",
    "                dead_leafs += [outo]\n",
    "            else:\n",
    "                outo.best_split = find_best_split(X_train, y_train, outo, self.criterion)\n",
    "                if(outo.best_split is None):\n",
    "                    dead_leafs += [outo]\n",
    "                else:\n",
    "                    leafs += [outo]\n",
    "                \n",
    "            # print('lvl', counter, 'leafs', leafs)\n",
    "            # print('lvl', counter, 'dead_leafs', dead_leafs)\n",
    "            counter += 1\n",
    "                \n",
    "        dead_leafs += leafs\n",
    "        \n",
    "        print('LEAFS _______________________________________________________________')\n",
    "        \n",
    "        # sum_ = 0\n",
    "        print('leafs count', len(dead_leafs))\n",
    "        for l in dead_leafs:\n",
    "            l.is_leaf = True\n",
    "            l.p = sum(y_train[l.row_mask])/y_train[l.row_mask].shape[0]\n",
    "            # sum_ += y_train[l.row_mask].shape[0]\n",
    "            print(l.p, y_train[l.row_mask].shape[0])\n",
    "        # print(sum_)\n",
    "            \n",
    "            \n",
    "        \n",
    "    \n",
    "    def predict(self, X):\n",
    "        '''\n",
    "        Функция предсказания класса, для каждого наблюдения проходит по дереву, пока не попадёт в лист\n",
    "        В зависимости от листа, в который попало наблюдение делается предсказание (наиболее часто встречающийся класс)\n",
    "        '''\n",
    "        return X.apply(lambda x: 1 if self.bt.predict(x) >= 0.5 else 0, axis = 1)\n",
    "    \n",
    "    def predict_proba(self, X):\n",
    "        '''\n",
    "        Функция предсказания вероятности класса, для каждого наблюдения проходит по дереву, пока не попадёт в лист\n",
    "        В зависимости от листа, в который попало наблюдение делается предсказание для каждого класса:\n",
    "        Его доля в листе\n",
    "        '''\n",
    "        NX = X.copy()\n",
    "        NX['one'] = X.apply(lambda x: self.bt.predict(x), axis = 1)\n",
    "        NX['zero'] = NX['one'].apply(lambda x: 1 - x, axis = 1)\n",
    "        return NX[['one','zero']]"
   ]
  },
  {
   "cell_type": "code",
   "execution_count": 47,
   "id": "830407da-fffb-463a-adb6-ee154a4e0e40",
   "metadata": {},
   "outputs": [],
   "source": [
    "bt = MyDecisionTreeClassifier(max_leafs = 20)"
   ]
  },
  {
   "cell_type": "code",
   "execution_count": 48,
   "id": "3c248b3b-6901-4c73-b362-ff5d80e96bed",
   "metadata": {},
   "outputs": [
    {
     "name": "stdout",
     "output_type": "stream",
     "text": [
      "LEAFS _______________________________________________________________\n",
      "leafs count 20\n",
      "0.9467110741049126 1201\n",
      "1.0 1\n",
      "0.03337041156840934 899\n",
      "0.025974025974025976 231\n",
      "0.03125 32\n",
      "0.0 2191\n",
      "0.0033821871476888386 887\n",
      "0.40298507462686567 67\n",
      "0.15419161676646706 668\n",
      "0.10290237467018469 1137\n",
      "0.6666666666666666 3\n",
      "1.0 1\n",
      "0.019559902200488997 409\n",
      "0.06526468455402465 1379\n",
      "0.6524590163934426 305\n",
      "0.05450416351249054 1321\n",
      "0.42623560014864365 5382\n",
      "0.29816176470588235 2720\n",
      "0.09318766066838047 1556\n",
      "0.2109181141439206 4030\n"
     ]
    }
   ],
   "source": [
    "bt.fit(X_train, y_train, cat_cols)"
   ]
  },
  {
   "cell_type": "code",
   "execution_count": 49,
   "id": "6e9f2037-4a27-4a34-b60f-d6fdd4b87a80",
   "metadata": {},
   "outputs": [
    {
     "data": {
      "text/plain": [
       "29       1\n",
       "12181    0\n",
       "18114    0\n",
       "4278     0\n",
       "12050    0\n",
       "        ..\n",
       "29802    0\n",
       "5390     0\n",
       "860      1\n",
       "15795    0\n",
       "23654    0\n",
       "Length: 24420, dtype: int64"
      ]
     },
     "execution_count": 49,
     "metadata": {},
     "output_type": "execute_result"
    }
   ],
   "source": [
    "bt.predict(X_train)"
   ]
  },
  {
   "cell_type": "code",
   "execution_count": 50,
   "id": "bc7db9d7-d5dc-49b3-8ed1-6aac89071b54",
   "metadata": {},
   "outputs": [
    {
     "data": {
      "text/plain": [
       "0.8045694632109077"
      ]
     },
     "execution_count": 50,
     "metadata": {},
     "output_type": "execute_result"
    }
   ],
   "source": [
    "accuracy_score(y_test, bt.predict(X_test))"
   ]
  },
  {
   "cell_type": "code",
   "execution_count": null,
   "id": "2f23dc65-4aa2-46aa-b4a3-54f838659c85",
   "metadata": {},
   "outputs": [],
   "source": []
  }
 ],
 "metadata": {
  "kernelspec": {
   "display_name": "Python 3 (ipykernel)",
   "language": "python",
   "name": "python3"
  },
  "language_info": {
   "codemirror_mode": {
    "name": "ipython",
    "version": 3
   },
   "file_extension": ".py",
   "mimetype": "text/x-python",
   "name": "python",
   "nbconvert_exporter": "python",
   "pygments_lexer": "ipython3",
   "version": "3.10.2"
  }
 },
 "nbformat": 4,
 "nbformat_minor": 5
}
