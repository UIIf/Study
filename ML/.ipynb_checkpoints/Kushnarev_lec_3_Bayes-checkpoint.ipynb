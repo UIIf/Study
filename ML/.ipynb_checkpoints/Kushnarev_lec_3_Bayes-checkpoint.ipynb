{
 "cells": [
  {
   "cell_type": "code",
   "execution_count": 1,
   "id": "2af1412a",
   "metadata": {
    "id": "2af1412a"
   },
   "outputs": [],
   "source": [
    "import numpy as np\n",
    "import pandas as pd\n",
    "import seaborn as sns\n",
    "import matplotlib.pyplot as plt"
   ]
  },
  {
   "cell_type": "markdown",
   "id": "0aa63875",
   "metadata": {
    "id": "0aa63875"
   },
   "source": [
    "Скачаем датасет [дохода](https://www.kaggle.com/datasets/uciml/adult-census-income?resource=download)"
   ]
  },
  {
   "cell_type": "code",
   "execution_count": null,
   "id": "dbd5e4f0",
   "metadata": {
    "id": "dbd5e4f0",
    "outputId": "b4b0327b-a274-4c8f-fa59-0b3e0426b195"
   },
   "outputs": [
    {
     "name": "stdout",
     "output_type": "stream",
     "text": [
      "Downloading...\n",
      "From: https://drive.google.com/uc?id=1wTnVJsNOJ06186mxHli_4VKUoecUKcea\n",
      "To: /home/kirich/projects/python/SberRiskMLCourseHW/lec4/adult.csv\n",
      "100%|██████████████████████████████████████| 4.10M/4.10M [00:00<00:00, 20.2MB/s]\n"
     ]
    }
   ],
   "source": [
    "!gdown 1wTnVJsNOJ06186mxHli_4VKUoecUKcea"
   ]
  },
  {
   "cell_type": "code",
   "execution_count": 58,
   "id": "8ca0a2ff",
   "metadata": {
    "id": "8ca0a2ff"
   },
   "outputs": [],
   "source": [
    "df = pd.read_csv('./adult.csv')"
   ]
  },
  {
   "cell_type": "code",
   "execution_count": 59,
   "id": "22f74a26",
   "metadata": {
    "id": "22f74a26",
    "outputId": "1968a37f-aea2-4dfc-8ac1-e2af457ec005"
   },
   "outputs": [
    {
     "name": "stdout",
     "output_type": "stream",
     "text": [
      "<class 'pandas.core.frame.DataFrame'>\n",
      "RangeIndex: 32561 entries, 0 to 32560\n",
      "Data columns (total 15 columns):\n",
      " #   Column          Non-Null Count  Dtype \n",
      "---  ------          --------------  ----- \n",
      " 0   age             32561 non-null  int64 \n",
      " 1   workclass       32561 non-null  object\n",
      " 2   fnlwgt          32561 non-null  int64 \n",
      " 3   education       32561 non-null  object\n",
      " 4   education.num   32561 non-null  int64 \n",
      " 5   marital.status  32561 non-null  object\n",
      " 6   occupation      32561 non-null  object\n",
      " 7   relationship    32561 non-null  object\n",
      " 8   race            32561 non-null  object\n",
      " 9   sex             32561 non-null  object\n",
      " 10  capital.gain    32561 non-null  int64 \n",
      " 11  capital.loss    32561 non-null  int64 \n",
      " 12  hours.per.week  32561 non-null  int64 \n",
      " 13  native.country  32561 non-null  object\n",
      " 14  income          32561 non-null  object\n",
      "dtypes: int64(6), object(9)\n",
      "memory usage: 3.7+ MB\n"
     ]
    }
   ],
   "source": [
    "df.info()"
   ]
  },
  {
   "cell_type": "code",
   "execution_count": 60,
   "id": "26ba1f84",
   "metadata": {
    "id": "26ba1f84",
    "outputId": "4bc30b43-6c4d-4163-e104-1238acfe193e"
   },
   "outputs": [
    {
     "data": {
      "text/html": [
       "<div>\n",
       "<style scoped>\n",
       "    .dataframe tbody tr th:only-of-type {\n",
       "        vertical-align: middle;\n",
       "    }\n",
       "\n",
       "    .dataframe tbody tr th {\n",
       "        vertical-align: top;\n",
       "    }\n",
       "\n",
       "    .dataframe thead th {\n",
       "        text-align: right;\n",
       "    }\n",
       "</style>\n",
       "<table border=\"1\" class=\"dataframe\">\n",
       "  <thead>\n",
       "    <tr style=\"text-align: right;\">\n",
       "      <th></th>\n",
       "      <th>age</th>\n",
       "      <th>workclass</th>\n",
       "      <th>fnlwgt</th>\n",
       "      <th>education</th>\n",
       "      <th>education.num</th>\n",
       "      <th>marital.status</th>\n",
       "      <th>occupation</th>\n",
       "      <th>relationship</th>\n",
       "      <th>race</th>\n",
       "      <th>sex</th>\n",
       "      <th>capital.gain</th>\n",
       "      <th>capital.loss</th>\n",
       "      <th>hours.per.week</th>\n",
       "      <th>native.country</th>\n",
       "      <th>income</th>\n",
       "    </tr>\n",
       "  </thead>\n",
       "  <tbody>\n",
       "    <tr>\n",
       "      <th>0</th>\n",
       "      <td>90</td>\n",
       "      <td>?</td>\n",
       "      <td>77053</td>\n",
       "      <td>HS-grad</td>\n",
       "      <td>9</td>\n",
       "      <td>Widowed</td>\n",
       "      <td>?</td>\n",
       "      <td>Not-in-family</td>\n",
       "      <td>White</td>\n",
       "      <td>Female</td>\n",
       "      <td>0</td>\n",
       "      <td>4356</td>\n",
       "      <td>40</td>\n",
       "      <td>United-States</td>\n",
       "      <td>&lt;=50K</td>\n",
       "    </tr>\n",
       "    <tr>\n",
       "      <th>1</th>\n",
       "      <td>82</td>\n",
       "      <td>Private</td>\n",
       "      <td>132870</td>\n",
       "      <td>HS-grad</td>\n",
       "      <td>9</td>\n",
       "      <td>Widowed</td>\n",
       "      <td>Exec-managerial</td>\n",
       "      <td>Not-in-family</td>\n",
       "      <td>White</td>\n",
       "      <td>Female</td>\n",
       "      <td>0</td>\n",
       "      <td>4356</td>\n",
       "      <td>18</td>\n",
       "      <td>United-States</td>\n",
       "      <td>&lt;=50K</td>\n",
       "    </tr>\n",
       "    <tr>\n",
       "      <th>2</th>\n",
       "      <td>66</td>\n",
       "      <td>?</td>\n",
       "      <td>186061</td>\n",
       "      <td>Some-college</td>\n",
       "      <td>10</td>\n",
       "      <td>Widowed</td>\n",
       "      <td>?</td>\n",
       "      <td>Unmarried</td>\n",
       "      <td>Black</td>\n",
       "      <td>Female</td>\n",
       "      <td>0</td>\n",
       "      <td>4356</td>\n",
       "      <td>40</td>\n",
       "      <td>United-States</td>\n",
       "      <td>&lt;=50K</td>\n",
       "    </tr>\n",
       "    <tr>\n",
       "      <th>3</th>\n",
       "      <td>54</td>\n",
       "      <td>Private</td>\n",
       "      <td>140359</td>\n",
       "      <td>7th-8th</td>\n",
       "      <td>4</td>\n",
       "      <td>Divorced</td>\n",
       "      <td>Machine-op-inspct</td>\n",
       "      <td>Unmarried</td>\n",
       "      <td>White</td>\n",
       "      <td>Female</td>\n",
       "      <td>0</td>\n",
       "      <td>3900</td>\n",
       "      <td>40</td>\n",
       "      <td>United-States</td>\n",
       "      <td>&lt;=50K</td>\n",
       "    </tr>\n",
       "    <tr>\n",
       "      <th>4</th>\n",
       "      <td>41</td>\n",
       "      <td>Private</td>\n",
       "      <td>264663</td>\n",
       "      <td>Some-college</td>\n",
       "      <td>10</td>\n",
       "      <td>Separated</td>\n",
       "      <td>Prof-specialty</td>\n",
       "      <td>Own-child</td>\n",
       "      <td>White</td>\n",
       "      <td>Female</td>\n",
       "      <td>0</td>\n",
       "      <td>3900</td>\n",
       "      <td>40</td>\n",
       "      <td>United-States</td>\n",
       "      <td>&lt;=50K</td>\n",
       "    </tr>\n",
       "  </tbody>\n",
       "</table>\n",
       "</div>"
      ],
      "text/plain": [
       "   age workclass  fnlwgt     education  education.num marital.status  \\\n",
       "0   90         ?   77053       HS-grad              9        Widowed   \n",
       "1   82   Private  132870       HS-grad              9        Widowed   \n",
       "2   66         ?  186061  Some-college             10        Widowed   \n",
       "3   54   Private  140359       7th-8th              4       Divorced   \n",
       "4   41   Private  264663  Some-college             10      Separated   \n",
       "\n",
       "          occupation   relationship   race     sex  capital.gain  \\\n",
       "0                  ?  Not-in-family  White  Female             0   \n",
       "1    Exec-managerial  Not-in-family  White  Female             0   \n",
       "2                  ?      Unmarried  Black  Female             0   \n",
       "3  Machine-op-inspct      Unmarried  White  Female             0   \n",
       "4     Prof-specialty      Own-child  White  Female             0   \n",
       "\n",
       "   capital.loss  hours.per.week native.country income  \n",
       "0          4356              40  United-States  <=50K  \n",
       "1          4356              18  United-States  <=50K  \n",
       "2          4356              40  United-States  <=50K  \n",
       "3          3900              40  United-States  <=50K  \n",
       "4          3900              40  United-States  <=50K  "
      ]
     },
     "execution_count": 60,
     "metadata": {},
     "output_type": "execute_result"
    }
   ],
   "source": [
    "df.head()"
   ]
  },
  {
   "cell_type": "code",
   "execution_count": 61,
   "id": "4af449c5",
   "metadata": {
    "id": "4af449c5"
   },
   "outputs": [],
   "source": [
    "target = 'income'"
   ]
  },
  {
   "cell_type": "code",
   "execution_count": 62,
   "id": "35b2008a",
   "metadata": {
    "id": "35b2008a"
   },
   "outputs": [],
   "source": [
    "# заэнкодим наш таргет в 0 и 1\n",
    "from sklearn.preprocessing import LabelEncoder\n",
    "le = LabelEncoder()\n",
    "df[target] = le.fit_transform(df[target])"
   ]
  },
  {
   "cell_type": "code",
   "execution_count": 63,
   "id": "f0718c56",
   "metadata": {
    "id": "f0718c56"
   },
   "outputs": [],
   "source": [
    "from sklearn.model_selection import train_test_split\n",
    "train_df, test_df = train_test_split(df, test_size=0.25, random_state=42)"
   ]
  },
  {
   "cell_type": "code",
   "execution_count": 64,
   "id": "ce812c41",
   "metadata": {
    "id": "ce812c41"
   },
   "outputs": [],
   "source": [
    "num_cols = ['age', 'fnlwgt', 'education.num', 'capital.gain', 'capital.loss', 'hours.per.week']"
   ]
  },
  {
   "cell_type": "code",
   "execution_count": 65,
   "id": "44f7f69d",
   "metadata": {
    "id": "44f7f69d",
    "outputId": "68eafcfe-927a-4093-8f3f-dcad7bcdecf5"
   },
   "outputs": [
    {
     "name": "stdout",
     "output_type": "stream",
     "text": [
      "age number of bins: 10\n",
      "fnlwgt number of bins: 10\n",
      "education.num number of bins: 6\n",
      "capital.gain number of bins: 1\n",
      "capital.loss number of bins: 1\n",
      "hours.per.week number of bins: 6\n"
     ]
    }
   ],
   "source": [
    "for c in num_cols:\n",
    "    \n",
    "    # попытаемся разбить численные колонки на 10 бинов\n",
    "    _, bins = pd.qcut(train_df[c], q=10, duplicates='drop', retbins=True)\n",
    "    \n",
    "    print(c, 'number of bins:', len(bins) - 1)"
   ]
  },
  {
   "cell_type": "code",
   "execution_count": 66,
   "id": "1da31d31",
   "metadata": {
    "id": "1da31d31",
    "outputId": "69bcc977-292d-4eef-ff17-4d88dcf78295"
   },
   "outputs": [
    {
     "data": {
      "text/plain": [
       "True     22386\n",
       "False     2034\n",
       "Name: capital.gain, dtype: int64"
      ]
     },
     "metadata": {},
     "output_type": "display_data"
    },
    {
     "data": {
      "text/plain": [
       "<AxesSubplot:>"
      ]
     },
     "execution_count": 66,
     "metadata": {},
     "output_type": "execute_result"
    },
    {
     "data": {
      "image/png": "[encoded data removed]",
      "text/plain": [
       "<Figure size 432x288 with 1 Axes>"
      ]
     },
     "metadata": {
      "needs_background": "light"
     },
     "output_type": "display_data"
    }
   ],
   "source": [
    "# capital.gain и capital.loss получились с одним бином\n",
    "\n",
    "# Посмотрим на них поподробнее\n",
    "display((train_df['capital.gain'] == 0).value_counts())\n",
    "train_df['capital.gain'].hist()"
   ]
  },
  {
   "cell_type": "code",
   "execution_count": 67,
   "id": "b529a15d",
   "metadata": {
    "id": "b529a15d",
    "outputId": "c4ccdcba-edef-4efc-aad6-4e247a2c65b8"
   },
   "outputs": [
    {
     "data": {
      "text/plain": [
       "True     23271\n",
       "False     1149\n",
       "Name: capital.loss, dtype: int64"
      ]
     },
     "metadata": {},
     "output_type": "display_data"
    },
    {
     "data": {
      "text/plain": [
       "<AxesSubplot:>"
      ]
     },
     "execution_count": 67,
     "metadata": {},
     "output_type": "execute_result"
    },
    {
     "data": {
      "image/png": "[encoded data removed]",
      "text/plain": [
       "<Figure size 432x288 with 1 Axes>"
      ]
     },
     "metadata": {
      "needs_background": "light"
     },
     "output_type": "display_data"
    }
   ],
   "source": [
    "display((train_df['capital.loss'] == 0).value_counts())\n",
    "train_df['capital.loss'].hist()"
   ]
  },
  {
   "cell_type": "code",
   "execution_count": 68,
   "id": "2916493f",
   "metadata": {
    "id": "2916493f"
   },
   "outputs": [],
   "source": [
    "# Сделаем из них бинарную колонку со значением 0, если в оригинальной колонке стоял 0 и 1 иначе\n",
    "\n",
    "train_df['capital.gain'] = (train_df['capital.gain'] != 0).astype('int')\n",
    "train_df['capital.loss'] = (train_df['capital.loss'] != 0).astype('int')\n",
    "\n",
    "test_df['capital.gain'] = (test_df['capital.gain'] != 0).astype('int')\n",
    "test_df['capital.loss'] = (test_df['capital.loss'] != 0).astype('int')"
   ]
  },
  {
   "cell_type": "code",
   "execution_count": 69,
   "id": "1f4054fa",
   "metadata": {
    "id": "1f4054fa"
   },
   "outputs": [],
   "source": [
    "num_cols = ['age', 'fnlwgt', 'education.num', 'hours.per.week']"
   ]
  },
  {
   "cell_type": "code",
   "execution_count": 70,
   "id": "0187134f",
   "metadata": {
    "id": "0187134f",
    "outputId": "875d9e59-9413-40e0-b371-aafb76bb42b9"
   },
   "outputs": [
    {
     "name": "stdout",
     "output_type": "stream",
     "text": [
      "age number of bins: 10\n",
      "fnlwgt number of bins: 10\n",
      "education.num number of bins: 6\n",
      "hours.per.week number of bins: 6\n"
     ]
    }
   ],
   "source": [
    "for c in num_cols:\n",
    "    \n",
    "    # попытаемся разбить численные колонки на 10 бинов\n",
    "    _, bins = pd.qcut(train_df[c], q=10, duplicates='drop', retbins=True)\n",
    "    \n",
    "    print(c, 'number of bins:', len(bins) - 1)\n",
    "    \n",
    "    # Так как бины строятся по train выборке, они могут охватить не весь диапазон значений\n",
    "    # Расширим первый и последний бины на всю ось\n",
    "    bins[0] = -np.inf\n",
    "    bins[-1] = np.inf\n",
    "    \n",
    "    train_df[c] = pd.cut(train_df[c], bins=bins)\n",
    "    test_df[c] = pd.cut(test_df[c], bins=bins)"
   ]
  },
  {
   "cell_type": "code",
   "execution_count": 71,
   "id": "a0a75f09",
   "metadata": {
    "id": "a0a75f09"
   },
   "outputs": [],
   "source": [
    "from sklearn.naive_bayes import GaussianNB, CategoricalNB, BernoulliNB"
   ]
  },
  {
   "cell_type": "code",
   "execution_count": 72,
   "id": "2890f1bc",
   "metadata": {
    "id": "2890f1bc"
   },
   "outputs": [],
   "source": [
    "cnb = CategoricalNB()"
   ]
  },
  {
   "cell_type": "code",
   "execution_count": 73,
   "id": "09b5cc22",
   "metadata": {
    "id": "09b5cc22"
   },
   "outputs": [],
   "source": [
    "x_cols = train_df.drop(target, axis=1).columns"
   ]
  },
  {
   "cell_type": "code",
   "execution_count": 74,
   "id": "fec5915a",
   "metadata": {
    "id": "fec5915a"
   },
   "outputs": [],
   "source": [
    "from sklearn.preprocessing import OrdinalEncoder"
   ]
  },
  {
   "cell_type": "code",
   "execution_count": 75,
   "id": "4ea791fd",
   "metadata": {
    "id": "4ea791fd",
    "outputId": "1d991454-f4aa-41c3-9d74-ab79131d6ae3"
   },
   "outputs": [
    {
     "data": {
      "text/html": [
       "<div>\n",
       "<style scoped>\n",
       "    .dataframe tbody tr th:only-of-type {\n",
       "        vertical-align: middle;\n",
       "    }\n",
       "\n",
       "    .dataframe tbody tr th {\n",
       "        vertical-align: top;\n",
       "    }\n",
       "\n",
       "    .dataframe thead th {\n",
       "        text-align: right;\n",
       "    }\n",
       "</style>\n",
       "<table border=\"1\" class=\"dataframe\">\n",
       "  <thead>\n",
       "    <tr style=\"text-align: right;\">\n",
       "      <th></th>\n",
       "      <th>age</th>\n",
       "      <th>workclass</th>\n",
       "      <th>fnlwgt</th>\n",
       "      <th>education</th>\n",
       "      <th>education.num</th>\n",
       "      <th>marital.status</th>\n",
       "      <th>occupation</th>\n",
       "      <th>relationship</th>\n",
       "      <th>race</th>\n",
       "      <th>sex</th>\n",
       "      <th>capital.gain</th>\n",
       "      <th>capital.loss</th>\n",
       "      <th>hours.per.week</th>\n",
       "      <th>native.country</th>\n",
       "    </tr>\n",
       "  </thead>\n",
       "  <tbody>\n",
       "    <tr>\n",
       "      <th>29</th>\n",
       "      <td>(37.0, 41.0]</td>\n",
       "      <td>Private</td>\n",
       "      <td>(158825.6, 178623.0]</td>\n",
       "      <td>10th</td>\n",
       "      <td>(-inf, 7.0]</td>\n",
       "      <td>Never-married</td>\n",
       "      <td>Prof-specialty</td>\n",
       "      <td>Not-in-family</td>\n",
       "      <td>White</td>\n",
       "      <td>Male</td>\n",
       "      <td>0</td>\n",
       "      <td>1</td>\n",
       "      <td>(55.0, inf]</td>\n",
       "      <td>United-States</td>\n",
       "    </tr>\n",
       "    <tr>\n",
       "      <th>12181</th>\n",
       "      <td>(22.0, 26.0]</td>\n",
       "      <td>Private</td>\n",
       "      <td>(131230.0, 158825.6]</td>\n",
       "      <td>Bachelors</td>\n",
       "      <td>(11.0, 13.0]</td>\n",
       "      <td>Married-civ-spouse</td>\n",
       "      <td>Prof-specialty</td>\n",
       "      <td>Husband</td>\n",
       "      <td>White</td>\n",
       "      <td>Male</td>\n",
       "      <td>0</td>\n",
       "      <td>0</td>\n",
       "      <td>(35.0, 40.0]</td>\n",
       "      <td>United-States</td>\n",
       "    </tr>\n",
       "    <tr>\n",
       "      <th>18114</th>\n",
       "      <td>(58.0, inf]</td>\n",
       "      <td>Self-emp-not-inc</td>\n",
       "      <td>(178623.0, 196872.4]</td>\n",
       "      <td>Some-college</td>\n",
       "      <td>(9.0, 10.0]</td>\n",
       "      <td>Divorced</td>\n",
       "      <td>Exec-managerial</td>\n",
       "      <td>Not-in-family</td>\n",
       "      <td>White</td>\n",
       "      <td>Male</td>\n",
       "      <td>0</td>\n",
       "      <td>0</td>\n",
       "      <td>(40.0, 50.0]</td>\n",
       "      <td>United-States</td>\n",
       "    </tr>\n",
       "    <tr>\n",
       "      <th>4278</th>\n",
       "      <td>(45.0, 50.0]</td>\n",
       "      <td>Federal-gov</td>\n",
       "      <td>(220019.0, 259948.6]</td>\n",
       "      <td>Bachelors</td>\n",
       "      <td>(11.0, 13.0]</td>\n",
       "      <td>Divorced</td>\n",
       "      <td>Exec-managerial</td>\n",
       "      <td>Not-in-family</td>\n",
       "      <td>White</td>\n",
       "      <td>Male</td>\n",
       "      <td>0</td>\n",
       "      <td>0</td>\n",
       "      <td>(50.0, 55.0]</td>\n",
       "      <td>United-States</td>\n",
       "    </tr>\n",
       "    <tr>\n",
       "      <th>12050</th>\n",
       "      <td>(22.0, 26.0]</td>\n",
       "      <td>?</td>\n",
       "      <td>(131230.0, 158825.6]</td>\n",
       "      <td>Some-college</td>\n",
       "      <td>(9.0, 10.0]</td>\n",
       "      <td>Never-married</td>\n",
       "      <td>?</td>\n",
       "      <td>Not-in-family</td>\n",
       "      <td>White</td>\n",
       "      <td>Male</td>\n",
       "      <td>0</td>\n",
       "      <td>0</td>\n",
       "      <td>(35.0, 40.0]</td>\n",
       "      <td>United-States</td>\n",
       "    </tr>\n",
       "    <tr>\n",
       "      <th>...</th>\n",
       "      <td>...</td>\n",
       "      <td>...</td>\n",
       "      <td>...</td>\n",
       "      <td>...</td>\n",
       "      <td>...</td>\n",
       "      <td>...</td>\n",
       "      <td>...</td>\n",
       "      <td>...</td>\n",
       "      <td>...</td>\n",
       "      <td>...</td>\n",
       "      <td>...</td>\n",
       "      <td>...</td>\n",
       "      <td>...</td>\n",
       "      <td>...</td>\n",
       "    </tr>\n",
       "    <tr>\n",
       "      <th>29802</th>\n",
       "      <td>(22.0, 26.0]</td>\n",
       "      <td>Private</td>\n",
       "      <td>(327789.9, inf]</td>\n",
       "      <td>HS-grad</td>\n",
       "      <td>(7.0, 9.0]</td>\n",
       "      <td>Never-married</td>\n",
       "      <td>Craft-repair</td>\n",
       "      <td>Own-child</td>\n",
       "      <td>White</td>\n",
       "      <td>Male</td>\n",
       "      <td>0</td>\n",
       "      <td>0</td>\n",
       "      <td>(35.0, 40.0]</td>\n",
       "      <td>United-States</td>\n",
       "    </tr>\n",
       "    <tr>\n",
       "      <th>5390</th>\n",
       "      <td>(50.0, 58.0]</td>\n",
       "      <td>Private</td>\n",
       "      <td>(131230.0, 158825.6]</td>\n",
       "      <td>Assoc-voc</td>\n",
       "      <td>(10.0, 11.0]</td>\n",
       "      <td>Married-civ-spouse</td>\n",
       "      <td>Prof-specialty</td>\n",
       "      <td>Husband</td>\n",
       "      <td>White</td>\n",
       "      <td>Male</td>\n",
       "      <td>0</td>\n",
       "      <td>0</td>\n",
       "      <td>(35.0, 40.0]</td>\n",
       "      <td>United-States</td>\n",
       "    </tr>\n",
       "    <tr>\n",
       "      <th>860</th>\n",
       "      <td>(50.0, 58.0]</td>\n",
       "      <td>Federal-gov</td>\n",
       "      <td>(220019.0, 259948.6]</td>\n",
       "      <td>HS-grad</td>\n",
       "      <td>(7.0, 9.0]</td>\n",
       "      <td>Married-civ-spouse</td>\n",
       "      <td>Tech-support</td>\n",
       "      <td>Husband</td>\n",
       "      <td>White</td>\n",
       "      <td>Male</td>\n",
       "      <td>0</td>\n",
       "      <td>1</td>\n",
       "      <td>(35.0, 40.0]</td>\n",
       "      <td>United-States</td>\n",
       "    </tr>\n",
       "    <tr>\n",
       "      <th>15795</th>\n",
       "      <td>(37.0, 41.0]</td>\n",
       "      <td>Private</td>\n",
       "      <td>(131230.0, 158825.6]</td>\n",
       "      <td>Some-college</td>\n",
       "      <td>(9.0, 10.0]</td>\n",
       "      <td>Married-civ-spouse</td>\n",
       "      <td>Adm-clerical</td>\n",
       "      <td>Husband</td>\n",
       "      <td>White</td>\n",
       "      <td>Male</td>\n",
       "      <td>0</td>\n",
       "      <td>0</td>\n",
       "      <td>(40.0, 50.0]</td>\n",
       "      <td>United-States</td>\n",
       "    </tr>\n",
       "    <tr>\n",
       "      <th>23654</th>\n",
       "      <td>(-inf, 22.0]</td>\n",
       "      <td>Private</td>\n",
       "      <td>(158825.6, 178623.0]</td>\n",
       "      <td>HS-grad</td>\n",
       "      <td>(7.0, 9.0]</td>\n",
       "      <td>Never-married</td>\n",
       "      <td>Handlers-cleaners</td>\n",
       "      <td>Own-child</td>\n",
       "      <td>White</td>\n",
       "      <td>Male</td>\n",
       "      <td>0</td>\n",
       "      <td>0</td>\n",
       "      <td>(40.0, 50.0]</td>\n",
       "      <td>Portugal</td>\n",
       "    </tr>\n",
       "  </tbody>\n",
       "</table>\n",
       "<p>24420 rows × 14 columns</p>\n",
       "</div>"
      ],
      "text/plain": [
       "                age         workclass                fnlwgt     education  \\\n",
       "29     (37.0, 41.0]           Private  (158825.6, 178623.0]          10th   \n",
       "12181  (22.0, 26.0]           Private  (131230.0, 158825.6]     Bachelors   \n",
       "18114   (58.0, inf]  Self-emp-not-inc  (178623.0, 196872.4]  Some-college   \n",
       "4278   (45.0, 50.0]       Federal-gov  (220019.0, 259948.6]     Bachelors   \n",
       "12050  (22.0, 26.0]                 ?  (131230.0, 158825.6]  Some-college   \n",
       "...             ...               ...                   ...           ...   \n",
       "29802  (22.0, 26.0]           Private       (327789.9, inf]       HS-grad   \n",
       "5390   (50.0, 58.0]           Private  (131230.0, 158825.6]     Assoc-voc   \n",
       "860    (50.0, 58.0]       Federal-gov  (220019.0, 259948.6]       HS-grad   \n",
       "15795  (37.0, 41.0]           Private  (131230.0, 158825.6]  Some-college   \n",
       "23654  (-inf, 22.0]           Private  (158825.6, 178623.0]       HS-grad   \n",
       "\n",
       "      education.num      marital.status         occupation   relationship  \\\n",
       "29      (-inf, 7.0]       Never-married     Prof-specialty  Not-in-family   \n",
       "12181  (11.0, 13.0]  Married-civ-spouse     Prof-specialty        Husband   \n",
       "18114   (9.0, 10.0]            Divorced    Exec-managerial  Not-in-family   \n",
       "4278   (11.0, 13.0]            Divorced    Exec-managerial  Not-in-family   \n",
       "12050   (9.0, 10.0]       Never-married                  ?  Not-in-family   \n",
       "...             ...                 ...                ...            ...   \n",
       "29802    (7.0, 9.0]       Never-married       Craft-repair      Own-child   \n",
       "5390   (10.0, 11.0]  Married-civ-spouse     Prof-specialty        Husband   \n",
       "860      (7.0, 9.0]  Married-civ-spouse       Tech-support        Husband   \n",
       "15795   (9.0, 10.0]  Married-civ-spouse       Adm-clerical        Husband   \n",
       "23654    (7.0, 9.0]       Never-married  Handlers-cleaners      Own-child   \n",
       "\n",
       "        race   sex  capital.gain  capital.loss hours.per.week native.country  \n",
       "29     White  Male             0             1    (55.0, inf]  United-States  \n",
       "12181  White  Male             0             0   (35.0, 40.0]  United-States  \n",
       "18114  White  Male             0             0   (40.0, 50.0]  United-States  \n",
       "4278   White  Male             0             0   (50.0, 55.0]  United-States  \n",
       "12050  White  Male             0             0   (35.0, 40.0]  United-States  \n",
       "...      ...   ...           ...           ...            ...            ...  \n",
       "29802  White  Male             0             0   (35.0, 40.0]  United-States  \n",
       "5390   White  Male             0             0   (35.0, 40.0]  United-States  \n",
       "860    White  Male             0             1   (35.0, 40.0]  United-States  \n",
       "15795  White  Male             0             0   (40.0, 50.0]  United-States  \n",
       "23654  White  Male             0             0   (40.0, 50.0]       Portugal  \n",
       "\n",
       "[24420 rows x 14 columns]"
      ]
     },
     "execution_count": 75,
     "metadata": {},
     "output_type": "execute_result"
    }
   ],
   "source": [
    "train_df[x_cols]"
   ]
  },
  {
   "cell_type": "code",
   "execution_count": 76,
   "id": "71948059",
   "metadata": {
    "id": "71948059"
   },
   "outputs": [],
   "source": [
    "ord_enc = OrdinalEncoder()\n",
    "\n",
    "train_df[x_cols] = ord_enc.fit_transform(train_df[x_cols])\n",
    "\n",
    "test_df[x_cols] = ord_enc.transform(test_df[x_cols])"
   ]
  },
  {
   "cell_type": "code",
   "execution_count": 77,
   "id": "6e6ea2c9",
   "metadata": {
    "id": "6e6ea2c9",
    "outputId": "b1fe6431-9449-4ffb-fba6-2662cdf3331a"
   },
   "outputs": [
    {
     "data": {
      "text/html": [
       "<div>\n",
       "<style scoped>\n",
       "    .dataframe tbody tr th:only-of-type {\n",
       "        vertical-align: middle;\n",
       "    }\n",
       "\n",
       "    .dataframe tbody tr th {\n",
       "        vertical-align: top;\n",
       "    }\n",
       "\n",
       "    .dataframe thead th {\n",
       "        text-align: right;\n",
       "    }\n",
       "</style>\n",
       "<table border=\"1\" class=\"dataframe\">\n",
       "  <thead>\n",
       "    <tr style=\"text-align: right;\">\n",
       "      <th></th>\n",
       "      <th>age</th>\n",
       "      <th>workclass</th>\n",
       "      <th>fnlwgt</th>\n",
       "      <th>education</th>\n",
       "      <th>education.num</th>\n",
       "      <th>marital.status</th>\n",
       "      <th>occupation</th>\n",
       "      <th>relationship</th>\n",
       "      <th>race</th>\n",
       "      <th>sex</th>\n",
       "      <th>capital.gain</th>\n",
       "      <th>capital.loss</th>\n",
       "      <th>hours.per.week</th>\n",
       "      <th>native.country</th>\n",
       "      <th>income</th>\n",
       "    </tr>\n",
       "  </thead>\n",
       "  <tbody>\n",
       "    <tr>\n",
       "      <th>29</th>\n",
       "      <td>5.0</td>\n",
       "      <td>4.0</td>\n",
       "      <td>4.0</td>\n",
       "      <td>0.0</td>\n",
       "      <td>0.0</td>\n",
       "      <td>4.0</td>\n",
       "      <td>10.0</td>\n",
       "      <td>1.0</td>\n",
       "      <td>4.0</td>\n",
       "      <td>1.0</td>\n",
       "      <td>0.0</td>\n",
       "      <td>1.0</td>\n",
       "      <td>5.0</td>\n",
       "      <td>39.0</td>\n",
       "      <td>1</td>\n",
       "    </tr>\n",
       "    <tr>\n",
       "      <th>12181</th>\n",
       "      <td>1.0</td>\n",
       "      <td>4.0</td>\n",
       "      <td>3.0</td>\n",
       "      <td>9.0</td>\n",
       "      <td>4.0</td>\n",
       "      <td>2.0</td>\n",
       "      <td>10.0</td>\n",
       "      <td>0.0</td>\n",
       "      <td>4.0</td>\n",
       "      <td>1.0</td>\n",
       "      <td>0.0</td>\n",
       "      <td>0.0</td>\n",
       "      <td>2.0</td>\n",
       "      <td>39.0</td>\n",
       "      <td>0</td>\n",
       "    </tr>\n",
       "    <tr>\n",
       "      <th>18114</th>\n",
       "      <td>9.0</td>\n",
       "      <td>6.0</td>\n",
       "      <td>5.0</td>\n",
       "      <td>15.0</td>\n",
       "      <td>2.0</td>\n",
       "      <td>0.0</td>\n",
       "      <td>4.0</td>\n",
       "      <td>1.0</td>\n",
       "      <td>4.0</td>\n",
       "      <td>1.0</td>\n",
       "      <td>0.0</td>\n",
       "      <td>0.0</td>\n",
       "      <td>3.0</td>\n",
       "      <td>39.0</td>\n",
       "      <td>0</td>\n",
       "    </tr>\n",
       "    <tr>\n",
       "      <th>4278</th>\n",
       "      <td>7.0</td>\n",
       "      <td>1.0</td>\n",
       "      <td>7.0</td>\n",
       "      <td>9.0</td>\n",
       "      <td>4.0</td>\n",
       "      <td>0.0</td>\n",
       "      <td>4.0</td>\n",
       "      <td>1.0</td>\n",
       "      <td>4.0</td>\n",
       "      <td>1.0</td>\n",
       "      <td>0.0</td>\n",
       "      <td>0.0</td>\n",
       "      <td>4.0</td>\n",
       "      <td>39.0</td>\n",
       "      <td>1</td>\n",
       "    </tr>\n",
       "    <tr>\n",
       "      <th>12050</th>\n",
       "      <td>1.0</td>\n",
       "      <td>0.0</td>\n",
       "      <td>3.0</td>\n",
       "      <td>15.0</td>\n",
       "      <td>2.0</td>\n",
       "      <td>4.0</td>\n",
       "      <td>0.0</td>\n",
       "      <td>1.0</td>\n",
       "      <td>4.0</td>\n",
       "      <td>1.0</td>\n",
       "      <td>0.0</td>\n",
       "      <td>0.0</td>\n",
       "      <td>2.0</td>\n",
       "      <td>39.0</td>\n",
       "      <td>0</td>\n",
       "    </tr>\n",
       "    <tr>\n",
       "      <th>...</th>\n",
       "      <td>...</td>\n",
       "      <td>...</td>\n",
       "      <td>...</td>\n",
       "      <td>...</td>\n",
       "      <td>...</td>\n",
       "      <td>...</td>\n",
       "      <td>...</td>\n",
       "      <td>...</td>\n",
       "      <td>...</td>\n",
       "      <td>...</td>\n",
       "      <td>...</td>\n",
       "      <td>...</td>\n",
       "      <td>...</td>\n",
       "      <td>...</td>\n",
       "      <td>...</td>\n",
       "    </tr>\n",
       "    <tr>\n",
       "      <th>29802</th>\n",
       "      <td>1.0</td>\n",
       "      <td>4.0</td>\n",
       "      <td>9.0</td>\n",
       "      <td>11.0</td>\n",
       "      <td>1.0</td>\n",
       "      <td>4.0</td>\n",
       "      <td>3.0</td>\n",
       "      <td>3.0</td>\n",
       "      <td>4.0</td>\n",
       "      <td>1.0</td>\n",
       "      <td>0.0</td>\n",
       "      <td>0.0</td>\n",
       "      <td>2.0</td>\n",
       "      <td>39.0</td>\n",
       "      <td>0</td>\n",
       "    </tr>\n",
       "    <tr>\n",
       "      <th>5390</th>\n",
       "      <td>8.0</td>\n",
       "      <td>4.0</td>\n",
       "      <td>3.0</td>\n",
       "      <td>8.0</td>\n",
       "      <td>3.0</td>\n",
       "      <td>2.0</td>\n",
       "      <td>10.0</td>\n",
       "      <td>0.0</td>\n",
       "      <td>4.0</td>\n",
       "      <td>1.0</td>\n",
       "      <td>0.0</td>\n",
       "      <td>0.0</td>\n",
       "      <td>2.0</td>\n",
       "      <td>39.0</td>\n",
       "      <td>1</td>\n",
       "    </tr>\n",
       "    <tr>\n",
       "      <th>860</th>\n",
       "      <td>8.0</td>\n",
       "      <td>1.0</td>\n",
       "      <td>7.0</td>\n",
       "      <td>11.0</td>\n",
       "      <td>1.0</td>\n",
       "      <td>2.0</td>\n",
       "      <td>13.0</td>\n",
       "      <td>0.0</td>\n",
       "      <td>4.0</td>\n",
       "      <td>1.0</td>\n",
       "      <td>0.0</td>\n",
       "      <td>1.0</td>\n",
       "      <td>2.0</td>\n",
       "      <td>39.0</td>\n",
       "      <td>1</td>\n",
       "    </tr>\n",
       "    <tr>\n",
       "      <th>15795</th>\n",
       "      <td>5.0</td>\n",
       "      <td>4.0</td>\n",
       "      <td>3.0</td>\n",
       "      <td>15.0</td>\n",
       "      <td>2.0</td>\n",
       "      <td>2.0</td>\n",
       "      <td>1.0</td>\n",
       "      <td>0.0</td>\n",
       "      <td>4.0</td>\n",
       "      <td>1.0</td>\n",
       "      <td>0.0</td>\n",
       "      <td>0.0</td>\n",
       "      <td>3.0</td>\n",
       "      <td>39.0</td>\n",
       "      <td>1</td>\n",
       "    </tr>\n",
       "    <tr>\n",
       "      <th>23654</th>\n",
       "      <td>0.0</td>\n",
       "      <td>4.0</td>\n",
       "      <td>4.0</td>\n",
       "      <td>11.0</td>\n",
       "      <td>1.0</td>\n",
       "      <td>4.0</td>\n",
       "      <td>6.0</td>\n",
       "      <td>3.0</td>\n",
       "      <td>4.0</td>\n",
       "      <td>1.0</td>\n",
       "      <td>0.0</td>\n",
       "      <td>0.0</td>\n",
       "      <td>3.0</td>\n",
       "      <td>32.0</td>\n",
       "      <td>0</td>\n",
       "    </tr>\n",
       "  </tbody>\n",
       "</table>\n",
       "<p>24420 rows × 15 columns</p>\n",
       "</div>"
      ],
      "text/plain": [
       "       age  workclass  fnlwgt  education  education.num  marital.status  \\\n",
       "29     5.0        4.0     4.0        0.0            0.0             4.0   \n",
       "12181  1.0        4.0     3.0        9.0            4.0             2.0   \n",
       "18114  9.0        6.0     5.0       15.0            2.0             0.0   \n",
       "4278   7.0        1.0     7.0        9.0            4.0             0.0   \n",
       "12050  1.0        0.0     3.0       15.0            2.0             4.0   \n",
       "...    ...        ...     ...        ...            ...             ...   \n",
       "29802  1.0        4.0     9.0       11.0            1.0             4.0   \n",
       "5390   8.0        4.0     3.0        8.0            3.0             2.0   \n",
       "860    8.0        1.0     7.0       11.0            1.0             2.0   \n",
       "15795  5.0        4.0     3.0       15.0            2.0             2.0   \n",
       "23654  0.0        4.0     4.0       11.0            1.0             4.0   \n",
       "\n",
       "       occupation  relationship  race  sex  capital.gain  capital.loss  \\\n",
       "29           10.0           1.0   4.0  1.0           0.0           1.0   \n",
       "12181        10.0           0.0   4.0  1.0           0.0           0.0   \n",
       "18114         4.0           1.0   4.0  1.0           0.0           0.0   \n",
       "4278          4.0           1.0   4.0  1.0           0.0           0.0   \n",
       "12050         0.0           1.0   4.0  1.0           0.0           0.0   \n",
       "...           ...           ...   ...  ...           ...           ...   \n",
       "29802         3.0           3.0   4.0  1.0           0.0           0.0   \n",
       "5390         10.0           0.0   4.0  1.0           0.0           0.0   \n",
       "860          13.0           0.0   4.0  1.0           0.0           1.0   \n",
       "15795         1.0           0.0   4.0  1.0           0.0           0.0   \n",
       "23654         6.0           3.0   4.0  1.0           0.0           0.0   \n",
       "\n",
       "       hours.per.week  native.country  income  \n",
       "29                5.0            39.0       1  \n",
       "12181             2.0            39.0       0  \n",
       "18114             3.0            39.0       0  \n",
       "4278              4.0            39.0       1  \n",
       "12050             2.0            39.0       0  \n",
       "...               ...             ...     ...  \n",
       "29802             2.0            39.0       0  \n",
       "5390              2.0            39.0       1  \n",
       "860               2.0            39.0       1  \n",
       "15795             3.0            39.0       1  \n",
       "23654             3.0            32.0       0  \n",
       "\n",
       "[24420 rows x 15 columns]"
      ]
     },
     "execution_count": 77,
     "metadata": {},
     "output_type": "execute_result"
    }
   ],
   "source": [
    "train_df"
   ]
  },
  {
   "cell_type": "code",
   "execution_count": 78,
   "id": "b3ca84d0",
   "metadata": {
    "id": "b3ca84d0"
   },
   "outputs": [],
   "source": [
    "X_train = train_df.drop(target, axis=1)\n",
    "y_train = train_df[target]\n",
    "\n",
    "X_test = test_df.drop(target, axis=1)\n",
    "y_test = test_df[target]"
   ]
  },
  {
   "cell_type": "code",
   "execution_count": 23,
   "id": "8fd66872",
   "metadata": {
    "id": "8fd66872"
   },
   "outputs": [],
   "source": [
    "from sklearn.naive_bayes import CategoricalNB"
   ]
  },
  {
   "cell_type": "code",
   "execution_count": 24,
   "id": "f9aef3d3",
   "metadata": {
    "id": "f9aef3d3",
    "outputId": "1f3c42ff-114f-49d6-9e8b-691d13cc3e92"
   },
   "outputs": [
    {
     "data": {
      "text/plain": [
       "CategoricalNB()"
      ]
     },
     "execution_count": 24,
     "metadata": {},
     "output_type": "execute_result"
    }
   ],
   "source": [
    "cat_nb = CategoricalNB()\n",
    "cat_nb.fit(X_train, y_train)"
   ]
  },
  {
   "cell_type": "code",
   "execution_count": 25,
   "id": "a2a7c608",
   "metadata": {
    "id": "a2a7c608"
   },
   "outputs": [],
   "source": [
    "from sklearn.metrics import roc_auc_score, precision_score, recall_score, f1_score, accuracy_score, confusion_matrix, ConfusionMatrixDisplay"
   ]
  },
  {
   "cell_type": "code",
   "execution_count": 26,
   "id": "a407ad9f",
   "metadata": {
    "id": "a407ad9f"
   },
   "outputs": [],
   "source": [
    "def show_metrics(y_true, y_pred):\n",
    "    \n",
    "    ConfusionMatrixDisplay.from_predictions(y_true, y_pred)\n",
    "    \n",
    "    for msg, metric in zip(\n",
    "        ['accuracy', 'precision', 'recall', 'f1', 'roc auc'],\n",
    "        [accuracy_score, precision_score, recall_score, f1_score, roc_auc_score]):\n",
    "        print(f\"{msg:10}\", round(metric(y_true, y_pred)*100, 1))"
   ]
  },
  {
   "cell_type": "code",
   "execution_count": 27,
   "id": "f4af7493",
   "metadata": {
    "id": "f4af7493",
    "outputId": "41fca944-52de-419e-991d-8cc4f4c2a25d"
   },
   "outputs": [
    {
     "name": "stdout",
     "output_type": "stream",
     "text": [
      "accuracy   81.8\n",
      "precision  59.5\n",
      "recall     77.6\n",
      "f1         67.4\n",
      "roc auc    80.4\n"
     ]
    },
    {
     "data": {
      "image/png": "[encoded data removed]",
      "text/plain": [
       "<Figure size 432x288 with 2 Axes>"
      ]
     },
     "metadata": {
      "needs_background": "light"
     },
     "output_type": "display_data"
    }
   ],
   "source": [
    "show_metrics(y_train, cat_nb.predict(X_train))"
   ]
  },
  {
   "cell_type": "code",
   "execution_count": 28,
   "id": "44ba4a2a",
   "metadata": {
    "id": "44ba4a2a",
    "outputId": "0664f545-f90d-4b0f-f69a-1b9ca8f79da3"
   },
   "outputs": [
    {
     "name": "stdout",
     "output_type": "stream",
     "text": [
      "accuracy   81.5\n",
      "precision  58.7\n",
      "recall     75.5\n",
      "f1         66.1\n",
      "roc auc    79.4\n"
     ]
    },
    {
     "data": {
      "image/png": "[encoded data removed]",
      "text/plain": [
       "<Figure size 432x288 with 2 Axes>"
      ]
     },
     "metadata": {
      "needs_background": "light"
     },
     "output_type": "display_data"
    }
   ],
   "source": [
    "show_metrics(y_test, cat_nb.predict(X_test))"
   ]
  },
  {
   "cell_type": "code",
   "execution_count": 29,
   "id": "c42694b6",
   "metadata": {
    "id": "c42694b6",
    "outputId": "6f321036-fff9-4e69-d809-c8735ccf8bdf"
   },
   "outputs": [
    {
     "data": {
      "text/plain": [
       "0.8945788136059272"
      ]
     },
     "execution_count": 29,
     "metadata": {},
     "output_type": "execute_result"
    }
   ],
   "source": [
    "roc_auc_score(y_train, cat_nb.predict_proba(X_train)[:, 1])"
   ]
  },
  {
   "cell_type": "code",
   "execution_count": 30,
   "id": "779c4671",
   "metadata": {
    "id": "779c4671",
    "outputId": "a0be7260-3d04-44e1-8848-a97319e91791"
   },
   "outputs": [
    {
     "data": {
      "text/plain": [
       "0.8888040542649404"
      ]
     },
     "execution_count": 30,
     "metadata": {},
     "output_type": "execute_result"
    }
   ],
   "source": [
    "roc_auc_score(y_test, cat_nb.predict_proba(X_test)[:, 1])"
   ]
  },
  {
   "cell_type": "code",
   "execution_count": null,
   "id": "79339112",
   "metadata": {
    "id": "79339112"
   },
   "outputs": [],
   "source": []
  },
  {
   "cell_type": "code",
   "execution_count": 31,
   "id": "defb872c",
   "metadata": {
    "id": "defb872c"
   },
   "outputs": [],
   "source": [
    "from sklearn.datasets import load_iris"
   ]
  },
  {
   "cell_type": "code",
   "execution_count": 32,
   "id": "72d0ad5f",
   "metadata": {
    "id": "72d0ad5f"
   },
   "outputs": [],
   "source": [
    "iris_data = load_iris(as_frame=True)"
   ]
  },
  {
   "cell_type": "code",
   "execution_count": 33,
   "id": "1a4c2cc3",
   "metadata": {
    "id": "1a4c2cc3"
   },
   "outputs": [],
   "source": [
    "iris_df = iris_data['data']\n",
    "iris_df['target'] = iris_data['target']"
   ]
  },
  {
   "cell_type": "code",
   "execution_count": 34,
   "id": "e84ae09c",
   "metadata": {
    "id": "e84ae09c",
    "outputId": "db51a3f6-514b-4688-bc8f-ebc862df8616"
   },
   "outputs": [
    {
     "data": {
      "text/html": [
       "<div>\n",
       "<style scoped>\n",
       "    .dataframe tbody tr th:only-of-type {\n",
       "        vertical-align: middle;\n",
       "    }\n",
       "\n",
       "    .dataframe tbody tr th {\n",
       "        vertical-align: top;\n",
       "    }\n",
       "\n",
       "    .dataframe thead th {\n",
       "        text-align: right;\n",
       "    }\n",
       "</style>\n",
       "<table border=\"1\" class=\"dataframe\">\n",
       "  <thead>\n",
       "    <tr style=\"text-align: right;\">\n",
       "      <th></th>\n",
       "      <th>sepal length (cm)</th>\n",
       "      <th>sepal width (cm)</th>\n",
       "      <th>petal length (cm)</th>\n",
       "      <th>petal width (cm)</th>\n",
       "      <th>target</th>\n",
       "    </tr>\n",
       "  </thead>\n",
       "  <tbody>\n",
       "    <tr>\n",
       "      <th>0</th>\n",
       "      <td>5.1</td>\n",
       "      <td>3.5</td>\n",
       "      <td>1.4</td>\n",
       "      <td>0.2</td>\n",
       "      <td>0</td>\n",
       "    </tr>\n",
       "    <tr>\n",
       "      <th>1</th>\n",
       "      <td>4.9</td>\n",
       "      <td>3.0</td>\n",
       "      <td>1.4</td>\n",
       "      <td>0.2</td>\n",
       "      <td>0</td>\n",
       "    </tr>\n",
       "    <tr>\n",
       "      <th>2</th>\n",
       "      <td>4.7</td>\n",
       "      <td>3.2</td>\n",
       "      <td>1.3</td>\n",
       "      <td>0.2</td>\n",
       "      <td>0</td>\n",
       "    </tr>\n",
       "    <tr>\n",
       "      <th>3</th>\n",
       "      <td>4.6</td>\n",
       "      <td>3.1</td>\n",
       "      <td>1.5</td>\n",
       "      <td>0.2</td>\n",
       "      <td>0</td>\n",
       "    </tr>\n",
       "    <tr>\n",
       "      <th>4</th>\n",
       "      <td>5.0</td>\n",
       "      <td>3.6</td>\n",
       "      <td>1.4</td>\n",
       "      <td>0.2</td>\n",
       "      <td>0</td>\n",
       "    </tr>\n",
       "    <tr>\n",
       "      <th>...</th>\n",
       "      <td>...</td>\n",
       "      <td>...</td>\n",
       "      <td>...</td>\n",
       "      <td>...</td>\n",
       "      <td>...</td>\n",
       "    </tr>\n",
       "    <tr>\n",
       "      <th>145</th>\n",
       "      <td>6.7</td>\n",
       "      <td>3.0</td>\n",
       "      <td>5.2</td>\n",
       "      <td>2.3</td>\n",
       "      <td>2</td>\n",
       "    </tr>\n",
       "    <tr>\n",
       "      <th>146</th>\n",
       "      <td>6.3</td>\n",
       "      <td>2.5</td>\n",
       "      <td>5.0</td>\n",
       "      <td>1.9</td>\n",
       "      <td>2</td>\n",
       "    </tr>\n",
       "    <tr>\n",
       "      <th>147</th>\n",
       "      <td>6.5</td>\n",
       "      <td>3.0</td>\n",
       "      <td>5.2</td>\n",
       "      <td>2.0</td>\n",
       "      <td>2</td>\n",
       "    </tr>\n",
       "    <tr>\n",
       "      <th>148</th>\n",
       "      <td>6.2</td>\n",
       "      <td>3.4</td>\n",
       "      <td>5.4</td>\n",
       "      <td>2.3</td>\n",
       "      <td>2</td>\n",
       "    </tr>\n",
       "    <tr>\n",
       "      <th>149</th>\n",
       "      <td>5.9</td>\n",
       "      <td>3.0</td>\n",
       "      <td>5.1</td>\n",
       "      <td>1.8</td>\n",
       "      <td>2</td>\n",
       "    </tr>\n",
       "  </tbody>\n",
       "</table>\n",
       "<p>150 rows × 5 columns</p>\n",
       "</div>"
      ],
      "text/plain": [
       "     sepal length (cm)  sepal width (cm)  petal length (cm)  petal width (cm)  \\\n",
       "0                  5.1               3.5                1.4               0.2   \n",
       "1                  4.9               3.0                1.4               0.2   \n",
       "2                  4.7               3.2                1.3               0.2   \n",
       "3                  4.6               3.1                1.5               0.2   \n",
       "4                  5.0               3.6                1.4               0.2   \n",
       "..                 ...               ...                ...               ...   \n",
       "145                6.7               3.0                5.2               2.3   \n",
       "146                6.3               2.5                5.0               1.9   \n",
       "147                6.5               3.0                5.2               2.0   \n",
       "148                6.2               3.4                5.4               2.3   \n",
       "149                5.9               3.0                5.1               1.8   \n",
       "\n",
       "     target  \n",
       "0         0  \n",
       "1         0  \n",
       "2         0  \n",
       "3         0  \n",
       "4         0  \n",
       "..      ...  \n",
       "145       2  \n",
       "146       2  \n",
       "147       2  \n",
       "148       2  \n",
       "149       2  \n",
       "\n",
       "[150 rows x 5 columns]"
      ]
     },
     "execution_count": 34,
     "metadata": {},
     "output_type": "execute_result"
    }
   ],
   "source": [
    "iris_df"
   ]
  },
  {
   "cell_type": "code",
   "execution_count": 35,
   "id": "88ae8d2a",
   "metadata": {
    "id": "88ae8d2a",
    "outputId": "e94b7230-34f3-45d6-dbfc-04017027bbb7"
   },
   "outputs": [
    {
     "data": {
      "text/plain": [
       "<AxesSubplot:xlabel='sepal length (cm)', ylabel='sepal width (cm)'>"
      ]
     },
     "execution_count": 35,
     "metadata": {},
     "output_type": "execute_result"
    },
    {
     "data": {
      "image/png": "[encoded data removed]",
      "text/plain": [
       "<Figure size 432x288 with 1 Axes>"
      ]
     },
     "metadata": {
      "needs_background": "light"
     },
     "output_type": "display_data"
    }
   ],
   "source": [
    "sns.scatterplot(data=iris_df, x='sepal length (cm)', y='sepal width (cm)', hue='target', palette='tab10')"
   ]
  },
  {
   "cell_type": "code",
   "execution_count": 36,
   "id": "6874470c",
   "metadata": {
    "id": "6874470c"
   },
   "outputs": [],
   "source": [
    "train_df, test_df = train_test_split(iris_df, test_size=0.5, random_state=42)"
   ]
  },
  {
   "cell_type": "code",
   "execution_count": 37,
   "id": "d57666b3",
   "metadata": {
    "id": "d57666b3"
   },
   "outputs": [],
   "source": [
    "x_cols = ['sepal length (cm)', 'sepal width (cm)', 'petal length (cm)', 'petal width (cm)']"
   ]
  },
  {
   "cell_type": "code",
   "execution_count": 38,
   "id": "a8876aaf",
   "metadata": {
    "id": "a8876aaf"
   },
   "outputs": [],
   "source": [
    "X_train = train_df[x_cols]\n",
    "y_train = train_df['target']\n",
    "\n",
    "X_test = test_df[x_cols]\n",
    "y_test = test_df['target']"
   ]
  },
  {
   "cell_type": "code",
   "execution_count": 39,
   "id": "74f72ffa",
   "metadata": {
    "id": "74f72ffa"
   },
   "outputs": [],
   "source": [
    "from sklearn.naive_bayes import GaussianNB"
   ]
  },
  {
   "cell_type": "code",
   "execution_count": 40,
   "id": "6bc122ec",
   "metadata": {
    "id": "6bc122ec"
   },
   "outputs": [],
   "source": [
    "gnb = GaussianNB()"
   ]
  },
  {
   "cell_type": "code",
   "execution_count": 41,
   "id": "20c839a1",
   "metadata": {
    "id": "20c839a1",
    "outputId": "24e1e497-9c60-48a1-b7c8-758fb8e4a2ae"
   },
   "outputs": [
    {
     "data": {
      "text/plain": [
       "GaussianNB()"
      ]
     },
     "execution_count": 41,
     "metadata": {},
     "output_type": "execute_result"
    }
   ],
   "source": [
    "gnb.fit(X_train, y_train)"
   ]
  },
  {
   "cell_type": "code",
   "execution_count": 42,
   "id": "f7a4caff",
   "metadata": {
    "id": "f7a4caff"
   },
   "outputs": [],
   "source": [
    "import matplotlib.colors as colors"
   ]
  },
  {
   "cell_type": "code",
   "execution_count": 43,
   "id": "5e3f4619",
   "metadata": {
    "id": "5e3f4619",
    "outputId": "d17470bd-a10f-43b1-80c6-a8aa62122a72"
   },
   "outputs": [
    {
     "data": {
      "text/html": [
       "<div>\n",
       "<style scoped>\n",
       "    .dataframe tbody tr th:only-of-type {\n",
       "        vertical-align: middle;\n",
       "    }\n",
       "\n",
       "    .dataframe tbody tr th {\n",
       "        vertical-align: top;\n",
       "    }\n",
       "\n",
       "    .dataframe thead th {\n",
       "        text-align: right;\n",
       "    }\n",
       "</style>\n",
       "<table border=\"1\" class=\"dataframe\">\n",
       "  <thead>\n",
       "    <tr style=\"text-align: right;\">\n",
       "      <th></th>\n",
       "      <th>sepal length (cm)</th>\n",
       "      <th>sepal width (cm)</th>\n",
       "      <th>petal length (cm)</th>\n",
       "      <th>petal width (cm)</th>\n",
       "      <th>target</th>\n",
       "    </tr>\n",
       "  </thead>\n",
       "  <tbody>\n",
       "    <tr>\n",
       "      <th>0</th>\n",
       "      <td>5.1</td>\n",
       "      <td>3.5</td>\n",
       "      <td>1.4</td>\n",
       "      <td>0.2</td>\n",
       "      <td>0</td>\n",
       "    </tr>\n",
       "    <tr>\n",
       "      <th>1</th>\n",
       "      <td>4.9</td>\n",
       "      <td>3.0</td>\n",
       "      <td>1.4</td>\n",
       "      <td>0.2</td>\n",
       "      <td>0</td>\n",
       "    </tr>\n",
       "    <tr>\n",
       "      <th>2</th>\n",
       "      <td>4.7</td>\n",
       "      <td>3.2</td>\n",
       "      <td>1.3</td>\n",
       "      <td>0.2</td>\n",
       "      <td>0</td>\n",
       "    </tr>\n",
       "    <tr>\n",
       "      <th>3</th>\n",
       "      <td>4.6</td>\n",
       "      <td>3.1</td>\n",
       "      <td>1.5</td>\n",
       "      <td>0.2</td>\n",
       "      <td>0</td>\n",
       "    </tr>\n",
       "    <tr>\n",
       "      <th>4</th>\n",
       "      <td>5.0</td>\n",
       "      <td>3.6</td>\n",
       "      <td>1.4</td>\n",
       "      <td>0.2</td>\n",
       "      <td>0</td>\n",
       "    </tr>\n",
       "    <tr>\n",
       "      <th>...</th>\n",
       "      <td>...</td>\n",
       "      <td>...</td>\n",
       "      <td>...</td>\n",
       "      <td>...</td>\n",
       "      <td>...</td>\n",
       "    </tr>\n",
       "    <tr>\n",
       "      <th>145</th>\n",
       "      <td>6.7</td>\n",
       "      <td>3.0</td>\n",
       "      <td>5.2</td>\n",
       "      <td>2.3</td>\n",
       "      <td>2</td>\n",
       "    </tr>\n",
       "    <tr>\n",
       "      <th>146</th>\n",
       "      <td>6.3</td>\n",
       "      <td>2.5</td>\n",
       "      <td>5.0</td>\n",
       "      <td>1.9</td>\n",
       "      <td>2</td>\n",
       "    </tr>\n",
       "    <tr>\n",
       "      <th>147</th>\n",
       "      <td>6.5</td>\n",
       "      <td>3.0</td>\n",
       "      <td>5.2</td>\n",
       "      <td>2.0</td>\n",
       "      <td>2</td>\n",
       "    </tr>\n",
       "    <tr>\n",
       "      <th>148</th>\n",
       "      <td>6.2</td>\n",
       "      <td>3.4</td>\n",
       "      <td>5.4</td>\n",
       "      <td>2.3</td>\n",
       "      <td>2</td>\n",
       "    </tr>\n",
       "    <tr>\n",
       "      <th>149</th>\n",
       "      <td>5.9</td>\n",
       "      <td>3.0</td>\n",
       "      <td>5.1</td>\n",
       "      <td>1.8</td>\n",
       "      <td>2</td>\n",
       "    </tr>\n",
       "  </tbody>\n",
       "</table>\n",
       "<p>150 rows × 5 columns</p>\n",
       "</div>"
      ],
      "text/plain": [
       "     sepal length (cm)  sepal width (cm)  petal length (cm)  petal width (cm)  \\\n",
       "0                  5.1               3.5                1.4               0.2   \n",
       "1                  4.9               3.0                1.4               0.2   \n",
       "2                  4.7               3.2                1.3               0.2   \n",
       "3                  4.6               3.1                1.5               0.2   \n",
       "4                  5.0               3.6                1.4               0.2   \n",
       "..                 ...               ...                ...               ...   \n",
       "145                6.7               3.0                5.2               2.3   \n",
       "146                6.3               2.5                5.0               1.9   \n",
       "147                6.5               3.0                5.2               2.0   \n",
       "148                6.2               3.4                5.4               2.3   \n",
       "149                5.9               3.0                5.1               1.8   \n",
       "\n",
       "     target  \n",
       "0         0  \n",
       "1         0  \n",
       "2         0  \n",
       "3         0  \n",
       "4         0  \n",
       "..      ...  \n",
       "145       2  \n",
       "146       2  \n",
       "147       2  \n",
       "148       2  \n",
       "149       2  \n",
       "\n",
       "[150 rows x 5 columns]"
      ]
     },
     "execution_count": 43,
     "metadata": {},
     "output_type": "execute_result"
    }
   ],
   "source": [
    "iris_df"
   ]
  },
  {
   "cell_type": "code",
   "execution_count": 44,
   "id": "dd563f33",
   "metadata": {
    "id": "dd563f33",
    "outputId": "97e1cd8c-b564-42a4-817a-370569157d89"
   },
   "outputs": [
    {
     "data": {
      "text/plain": [
       "(0.92, 0.9866666666666667)"
      ]
     },
     "execution_count": 44,
     "metadata": {},
     "output_type": "execute_result"
    }
   ],
   "source": [
    "accuracy_score(y_train, gnb.predict(X_train)), accuracy_score(y_test, gnb.predict(X_test))"
   ]
  },
  {
   "cell_type": "code",
   "execution_count": 45,
   "id": "e52ded60",
   "metadata": {
    "id": "e52ded60",
    "outputId": "ae27a839-2fb3-4e84-c77e-94022def1087"
   },
   "outputs": [
    {
     "data": {
      "text/plain": [
       "<sklearn.metrics._plot.confusion_matrix.ConfusionMatrixDisplay at 0x1e5ee9febe0>"
      ]
     },
     "execution_count": 45,
     "metadata": {},
     "output_type": "execute_result"
    },
    {
     "data": {
      "image/png": "[encoded data removed]",
      "text/plain": [
       "<Figure size 432x288 with 2 Axes>"
      ]
     },
     "metadata": {
      "needs_background": "light"
     },
     "output_type": "display_data"
    }
   ],
   "source": [
    "ConfusionMatrixDisplay.from_predictions(y_train, gnb.predict(X_train))"
   ]
  },
  {
   "cell_type": "code",
   "execution_count": 46,
   "id": "b62603a2",
   "metadata": {
    "id": "b62603a2",
    "outputId": "8e199b25-fde5-4512-9f4b-ed3e682ff62b"
   },
   "outputs": [
    {
     "data": {
      "text/plain": [
       "<sklearn.metrics._plot.confusion_matrix.ConfusionMatrixDisplay at 0x1e5e783c4c0>"
      ]
     },
     "execution_count": 46,
     "metadata": {},
     "output_type": "execute_result"
    },
    {
     "data": {
      "image/png": "[encoded data removed]",
      "text/plain": [
       "<Figure size 432x288 with 2 Axes>"
      ]
     },
     "metadata": {
      "needs_background": "light"
     },
     "output_type": "display_data"
    }
   ],
   "source": [
    "ConfusionMatrixDisplay.from_predictions(y_test, gnb.predict(X_test))"
   ]
  },
  {
   "cell_type": "markdown",
   "id": "06d56b8a",
   "metadata": {
    "id": "06d56b8a"
   },
   "source": [
    "# Домашка"
   ]
  },
  {
   "cell_type": "markdown",
   "id": "2XK2X2hEbl91",
   "metadata": {
    "id": "2XK2X2hEbl91"
   },
   "source": [
    "## Naive Bayes"
   ]
  },
  {
   "cell_type": "markdown",
   "id": "a35b1de2",
   "metadata": {
    "id": "a35b1de2"
   },
   "source": [
    "1. Реализовать Наивный Байесовский классификатор для *непрерывных* фичей, используя гауссиану в качестве функции правдоподобия\n",
    "\n",
    "Функция правдоподобия: $P(x_i \\mid y) = \\frac{1}{\\sqrt{2\\pi\\sigma^2_y}} \\exp\\left(-\\frac{(x_i - \\mu_y)^2}{2\\sigma^2_y}\\right)$\n",
    "\n",
    "Подробнее [тут](https://scikit-learn.org/stable/modules/naive_bayes.html#gaussian-naive-bayes)\n",
    "\n",
    "P.S. Не забудьте логарифмировать вероятности для стабильности"
   ]
  },
  {
   "cell_type": "code",
   "execution_count": 47,
   "id": "5cd38811",
   "metadata": {},
   "outputs": [],
   "source": [
    "from __future__ import annotations\n",
    "\n",
    "from scipy.special import softmax\n",
    "\n",
    "from sklearn.preprocessing import LabelEncoder\n",
    "from sklearn.preprocessing import OrdinalEncoder\n",
    "from sklearn.model_selection import train_test_split"
   ]
  },
  {
   "cell_type": "code",
   "execution_count": 48,
   "id": "75d28bf5",
   "metadata": {},
   "outputs": [],
   "source": [
    "from sklearn.metrics import roc_auc_score, precision_score, recall_score, f1_score, accuracy_score, confusion_matrix, ConfusionMatrixDisplay"
   ]
  },
  {
   "cell_type": "code",
   "execution_count": 49,
   "id": "87ba15e3",
   "metadata": {},
   "outputs": [],
   "source": [
    "class MyGaussianNB:\n",
    "    \n",
    "    def __init__(self):\n",
    "        \n",
    "        # Массив средних значений для каждой фичи, для каждого класса\n",
    "        # (размер NxK, где N - кол-во фичей, K - кол-во классов)\n",
    "        self.mus = None\n",
    "        \n",
    "        # Массив стандартных среднеквадратических отклоенний для каждой фичи\n",
    "        # для каждого класса (размер NxK, где N - кол-во фичей, K - кол-во классов)\n",
    "        self.sigmas = None\n",
    "       \n",
    "    \n",
    "    def fit(self, X: Union[pd.DataFrame, pd.Series, np.ndarray], y: Union[pd.Series, np.ndarray]) -> MyGaussianNB:\n",
    "        # Пройтись по всем классам и посчитать для каждой фичи для каждого класса их среднее\n",
    "        # и стандартное среднеквадратичное отклонение\n",
    "        # Запомнить их для дальнейшей оценки функции правдоподобия\n",
    "        \n",
    "        if isinstance(X, pd.DataFrame) or isinstance(X, pd.Series):\n",
    "            X = X.to_numpy()\n",
    "            y = y.to_numpy()\n",
    "            \n",
    "        mus, sigmas, classes_prior = [], [], []\n",
    "        \n",
    "        for c in np.unique(y):\n",
    "            X_c = X[y == c]\n",
    "            \n",
    "            mus.append(np.mean(X_c, axis=0))\n",
    "            sigmas.append(np.std(X_c, axis=0))\n",
    "            classes_prior.append(np.sum(y == c))\n",
    "            \n",
    "        self.mus = np.array(mus).T\n",
    "        self.sigmas = np.array(sigmas).T\n",
    "        \n",
    "        self.classes = np.unique(y)\n",
    "        self.classes_prior = np.array(classes_prior) / len(y)\n",
    "        \n",
    "        return self\n",
    "    \n",
    "    \n",
    "    def predict(self, X: Union[pd.DataFrame, pd.Series, np.ndarray]) -> np.ndarray:\n",
    "        # Используя метод likelihood посчитать функции правдоподобия для каждой\n",
    "        # строчки для каждого класса. Для каждой строчки выбрать класс с\n",
    "        # максимальным значением функции правдоподобия\n",
    "        \n",
    "        return self.classes[np.argmax(self.likehood(X), axis=1)]\n",
    "    \n",
    "    \n",
    "    def predict_proba(self, X: Union[pd.DataFrame, pd.Series, np.ndarray]) -> np.ndarray:\n",
    "        # Применить функцию softmax (scipy.special.softmax) на выходы likelihood\n",
    "        \n",
    "        return softmax(self.likehood(X), axis=-1)\n",
    "    \n",
    "    \n",
    "    def likehood(self, X: Union[pd.DataFrame, pd.Series, np.ndarray]) -> np.ndarray:\n",
    "        # Для каждого класса посчитать функции правдоподобия для каждой фичи\n",
    "        # Прологарифмировать и сложить их между собой и добавить логарифм\n",
    "        # априорной вероятности соответствующего класса\n",
    "        # Получится матрица размером NxK, где N - кол-во строк, K - кол-во классов\n",
    "        \n",
    "        if isinstance(X, pd.DataFrame) or isinstance(X, pd.Series):\n",
    "            X = X.to_numpy()\n",
    "            \n",
    "        norm_pdf = lambda X, mus, sigmas: np.exp(-(X - mus) ** 2 / (2 * sigmas ** 2)) / np.sqrt(2 * np.pi * sigmas ** 2)\n",
    "            \n",
    "        self._likehood = np.array([np.log(norm_pdf(X, self.mus[:, c], self.sigmas[:, c])).sum(axis=1) \n",
    "                              for c in range(len(self.classes_prior))]).T\n",
    "        \n",
    "        return self._likehood + np.log(self.classes_prior) "
   ]
  },
  {
   "cell_type": "code",
   "execution_count": 50,
   "id": "7b445013",
   "metadata": {},
   "outputs": [],
   "source": [
    "# iris\n",
    "from sklearn.datasets import load_iris\n",
    "\n",
    "iris_data = load_iris(as_frame=True)\n",
    "\n",
    "iris_df = iris_data['data']\n",
    "iris_df['target'] = iris_data['target']\n",
    "\n",
    "train_df, test_df = train_test_split(iris_df, test_size=0.5, random_state=42)\n",
    "\n",
    "x_cols = ['sepal length (cm)', 'sepal width (cm)', 'petal length (cm)', 'petal width (cm)']\n",
    "\n",
    "X_train = train_df[x_cols]\n",
    "y_train = train_df['target']\n",
    "\n",
    "X_test = test_df[x_cols]\n",
    "y_test = test_df['target']"
   ]
  },
  {
   "cell_type": "code",
   "execution_count": 51,
   "id": "fc978934",
   "metadata": {},
   "outputs": [],
   "source": [
    "my_gnb = MyGaussianNB().fit(X_train, y_train)"
   ]
  },
  {
   "cell_type": "code",
   "execution_count": 52,
   "id": "ccbaabc7",
   "metadata": {},
   "outputs": [
    {
     "data": {
      "text/plain": [
       "(0.92, 0.9866666666666667)"
      ]
     },
     "execution_count": 52,
     "metadata": {},
     "output_type": "execute_result"
    }
   ],
   "source": [
    "accuracy_score(y_train, my_gnb.predict(X_train)), accuracy_score(y_test, my_gnb.predict(X_test))"
   ]
  },
  {
   "cell_type": "code",
   "execution_count": 53,
   "id": "3450406d",
   "metadata": {},
   "outputs": [
    {
     "data": {
      "image/png": "[encoded data removed]",
      "text/plain": [
       "<Figure size 432x288 with 2 Axes>"
      ]
     },
     "metadata": {
      "needs_background": "light"
     },
     "output_type": "display_data"
    }
   ],
   "source": [
    "ConfusionMatrixDisplay.from_predictions(y_train, my_gnb.predict(X_train));"
   ]
  },
  {
   "cell_type": "code",
   "execution_count": 54,
   "id": "ad81bf08",
   "metadata": {},
   "outputs": [
    {
     "data": {
      "image/png": "[encoded data removed]",
      "text/plain": [
       "<Figure size 432x288 with 2 Axes>"
      ]
     },
     "metadata": {
      "needs_background": "light"
     },
     "output_type": "display_data"
    }
   ],
   "source": [
    "ConfusionMatrixDisplay.from_predictions(y_test, my_gnb.predict(X_test));"
   ]
  },
  {
   "cell_type": "code",
   "execution_count": null,
   "id": "d021b6f9",
   "metadata": {},
   "outputs": [],
   "source": []
  },
  {
   "cell_type": "markdown",
   "id": "61a5498a",
   "metadata": {
    "id": "61a5498a"
   },
   "source": [
    "2. Реализовать Наивный Байесовский классификатор для *категориальных* фичей\n",
    "\n",
    "Функция правдоподобия: $P(x_i = t \\mid y = c \\: ;\\, \\alpha) = \\frac{ N_{tic} + \\alpha}{N_{c} + \\alpha n_i}$\n",
    "                                       \n",
    "Подробнее [Тут](https://scikit-learn.org/stable/modules/naive_bayes.html#categorical-naive-bayes)\n",
    "\n",
    "P.S. Не забудьте логарифмировать вероятности для стабильности"
   ]
  },
  {
   "cell_type": "code",
   "execution_count": 79,
   "id": "979108cd",
   "metadata": {},
   "outputs": [],
   "source": [
    "class MyCategoryNB:\n",
    "    \n",
    "    def __init__(self, alpha=1):\n",
    "        # Сглаживающая константа, для того, чтобы предотвратить перемножение на 0\n",
    "        # Если какой-то категории не встречается\n",
    "        self.alpha = alpha\n",
    "        \n",
    "    \n",
    "    def fit(self, X: Union[pd.DataFrame, pd.Series, np.ndarray], y: Union[pd.Series, np.ndarray]) -> MyCategoryNB:\n",
    "        # Пройтись по всем классам и посчитать для каждой фичи для каждого класса\n",
    "        # её распределение (отнормированное) по категориям с учетом сглаживающей константы alpha\n",
    "        # То есть отношение количества раз сколько встречается данная категория в данной фиче для данного класса\n",
    "        # плюс alpha к общему количеству наблюдений для этого класса плюс alpha * кол-во уникальных категорий \n",
    "        # для данной фичи\n",
    "        \n",
    "        # Запомнить их для дальнейшей оценки функции правдоподобия\n",
    "        \n",
    "        if isinstance(X, pd.DataFrame) or isinstance(X, pd.Series):\n",
    "            X = X.to_numpy()\n",
    "            y = y.to_numpy()\n",
    "            \n",
    "        self.P, classes_prior = [], []\n",
    "        for c in np.unique(y):\n",
    "            P_c = []\n",
    "            N_c = np.sum(y == c)\n",
    "            classes_prior.append(N_c)\n",
    "            \n",
    "            for f_i in range(X.shape[1]):\n",
    "                n_i = len(np.unique(X[:, f_i]))\n",
    "                \n",
    "                P_c.append({ t:(np.sum(X[y == c, f_i] == t) + self.alpha) / (N_c + self.alpha * n_i) \n",
    "                            for t in np.unique(X[:, f_i]) })\n",
    "                \n",
    "            self.P.append(P_c)\n",
    "            \n",
    "        self.classes = np.unique(y)\n",
    "        self.classes_prior = np.array(classes_prior) / len(y)\n",
    "            \n",
    "        return self\n",
    "    \n",
    "    \n",
    "    def predict(self, X: Union[pd.DataFrame, pd.Series, np.ndarray]) -> np.ndarray:\n",
    "        # Используя метод likelihood посчитать функции правдоподобия для каждой строчки для каждого класса\n",
    "        # Для каждой строчки выбрать класс с максимальным значением функции правдоподобия\n",
    "        \n",
    "        return self.classes[np.argmax(self.likehood(X), axis=1)]\n",
    "    \n",
    "    \n",
    "    def predict_proba(self, X: Union[pd.DataFrame, pd.Series, np.ndarray]) -> np.ndarray:\n",
    "        # Применить функцию softmax (scipy.special.softmax) на выходы likelihood\n",
    "        \n",
    "        return softmax(self.likehood(X), axis=-1)\n",
    "    \n",
    "    \n",
    "    def likehood(self, X: Union[pd.DataFrame, pd.Series, np.ndarray]) -> np.ndarray:\n",
    "        # Для каждого класса посчитать функции правдоподобия для каждой фичи\n",
    "        # Прологарифмировать и сложить их между собой и добавить логарифм априорной вероятности соответствующего класса\n",
    "        # Получится матрица размером NxK, где N - кол-во строк, K - кол-во классов\n",
    "        \n",
    "        if isinstance(X, pd.DataFrame) or isinstance(X, pd.Series):\n",
    "            X = X.to_numpy()\n",
    "        \n",
    "        self._likehood = np.array([np.log([[self.P[c][f_i].get(val) for val in X[:, f_i]]\n",
    "                                           for f_i in range(X.shape[1])]).sum(axis=0) \n",
    "                                   for c in range(len(self.classes))]).T\n",
    "            \n",
    "        \n",
    "        return self._likehood + np.log(self.classes_prior)"
   ]
  },
  {
   "cell_type": "code",
   "execution_count": 80,
   "id": "6ece94bc",
   "metadata": {},
   "outputs": [],
   "source": [
    "# X_train и y_train (adult income) из примера на лекции\n",
    "my_catNB = MyCategoryNB().fit(X_train, y_train)"
   ]
  },
  {
   "cell_type": "code",
   "execution_count": 81,
   "id": "b16ef1fb",
   "metadata": {},
   "outputs": [
    {
     "name": "stdout",
     "output_type": "stream",
     "text": [
      "accuracy   81.8\n",
      "precision  59.5\n",
      "recall     77.6\n",
      "f1         67.4\n",
      "roc auc    80.4\n"
     ]
    },
    {
     "data": {
      "image/png": "[encoded data removed]",
      "text/plain": [
       "<Figure size 432x288 with 2 Axes>"
      ]
     },
     "metadata": {
      "needs_background": "light"
     },
     "output_type": "display_data"
    }
   ],
   "source": [
    "# show_metrics взято из лекции\n",
    "show_metrics(y_train, my_catNB.predict(X_train))"
   ]
  },
  {
   "cell_type": "code",
   "execution_count": 82,
   "id": "c57ce27d",
   "metadata": {},
   "outputs": [
    {
     "name": "stdout",
     "output_type": "stream",
     "text": [
      "accuracy   81.5\n",
      "precision  58.7\n",
      "recall     75.5\n",
      "f1         66.1\n",
      "roc auc    79.4\n"
     ]
    },
    {
     "data": {
      "image/png": "[encoded data removed]",
      "text/plain": [
       "<Figure size 432x288 with 2 Axes>"
      ]
     },
     "metadata": {
      "needs_background": "light"
     },
     "output_type": "display_data"
    }
   ],
   "source": [
    "show_metrics(y_test, my_catNB.predict(X_test))"
   ]
  },
  {
   "cell_type": "code",
   "execution_count": 83,
   "id": "724e8f25",
   "metadata": {},
   "outputs": [
    {
     "data": {
      "text/plain": [
       "0.8945788136059272"
      ]
     },
     "execution_count": 83,
     "metadata": {},
     "output_type": "execute_result"
    }
   ],
   "source": [
    "roc_auc_score(y_train, my_catNB.predict_proba(X_train)[:, 1])"
   ]
  },
  {
   "cell_type": "code",
   "execution_count": 84,
   "id": "f6e390a8",
   "metadata": {},
   "outputs": [
    {
     "data": {
      "text/plain": [
       "0.8888040542649404"
      ]
     },
     "execution_count": 84,
     "metadata": {},
     "output_type": "execute_result"
    }
   ],
   "source": [
    "roc_auc_score(y_test, my_catNB.predict_proba(X_test)[:, 1])"
   ]
  },
  {
   "cell_type": "markdown",
   "id": "313abfa7",
   "metadata": {},
   "source": [
    "Значения метрик самописного Наивного Баейсовского классификатора для категориальных фичей совпадают со значениями из лекции."
   ]
  },
  {
   "cell_type": "code",
   "execution_count": null,
   "id": "d95f2de3",
   "metadata": {},
   "outputs": [],
   "source": []
  },
  {
   "cell_type": "markdown",
   "id": "556c1052",
   "metadata": {
    "id": "556c1052"
   },
   "source": [
    "3. Воспользовавшись двумя реализованными классификаторами, применить их на датасет adult income.\n",
    "\n",
    "Отдельно применить свой классификатор для каждого типа фичей (методом likelihood). Затем сложить получившиеся логарифмы функций правдоподобия и взять от них argmax.\n",
    "\n",
    "Сравнить метрики с получившимися на лекции."
   ]
  },
  {
   "cell_type": "code",
   "execution_count": 85,
   "id": "dbf0e3a4",
   "metadata": {},
   "outputs": [],
   "source": [
    "df = pd.read_csv('./adult.csv')\n",
    "\n",
    "le = LabelEncoder()\n",
    "df['income'] = le.fit_transform(df['income'])"
   ]
  },
  {
   "cell_type": "code",
   "execution_count": 86,
   "id": "f3e2b2fb",
   "metadata": {},
   "outputs": [
    {
     "name": "stdout",
     "output_type": "stream",
     "text": [
      "<class 'pandas.core.frame.DataFrame'>\n",
      "RangeIndex: 32561 entries, 0 to 32560\n",
      "Data columns (total 15 columns):\n",
      " #   Column          Non-Null Count  Dtype \n",
      "---  ------          --------------  ----- \n",
      " 0   age             32561 non-null  int64 \n",
      " 1   workclass       32561 non-null  object\n",
      " 2   fnlwgt          32561 non-null  int64 \n",
      " 3   education       32561 non-null  object\n",
      " 4   education.num   32561 non-null  int64 \n",
      " 5   marital.status  32561 non-null  object\n",
      " 6   occupation      32561 non-null  object\n",
      " 7   relationship    32561 non-null  object\n",
      " 8   race            32561 non-null  object\n",
      " 9   sex             32561 non-null  object\n",
      " 10  capital.gain    32561 non-null  int64 \n",
      " 11  capital.loss    32561 non-null  int64 \n",
      " 12  hours.per.week  32561 non-null  int64 \n",
      " 13  native.country  32561 non-null  object\n",
      " 14  income          32561 non-null  int32 \n",
      "dtypes: int32(1), int64(6), object(8)\n",
      "memory usage: 3.6+ MB\n"
     ]
    }
   ],
   "source": [
    "df.info()"
   ]
  },
  {
   "cell_type": "code",
   "execution_count": 88,
   "id": "c1ba5a28",
   "metadata": {
    "id": "c1ba5a28"
   },
   "outputs": [],
   "source": [
    "num_cols = ['age', 'fnlwgt', 'education.num', 'capital.gain', 'capital.loss', 'hours.per.week']\n",
    "cat_cols = df.drop(num_cols + ['income'], axis=1).columns\n",
    "\n",
    "train_df, test_df = train_test_split(df, test_size=0.25, random_state=42)\n",
    "\n",
    "ord_enc = OrdinalEncoder()\n",
    "train_df[cat_cols] = ord_enc.fit_transform(train_df[cat_cols])\n",
    "test_df[cat_cols] = ord_enc.transform(test_df[cat_cols])\n",
    "\n",
    "X_train_num = train_df[num_cols]\n",
    "X_train_cat = train_df[cat_cols]\n",
    "y_train = train_df['income']\n",
    "\n",
    "X_test_num = test_df[num_cols]\n",
    "X_test_cat = test_df[cat_cols]\n",
    "y_test = test_df['income']"
   ]
  },
  {
   "cell_type": "code",
   "execution_count": 92,
   "id": "c9f2e9b1",
   "metadata": {},
   "outputs": [],
   "source": [
    "my_gnb = MyGaussianNB().fit(X_train_num, y_train)\n",
    "my_catNB = MyCategoryNB().fit(X_train_cat, y_train)\n",
    "# my_catNB = MyCategoryNB().fit(X_train, y_train)"
   ]
  },
  {
   "cell_type": "code",
   "execution_count": 116,
   "id": "6a4e3710",
   "metadata": {},
   "outputs": [],
   "source": [
    "np.seterr(divide = 'ignore')\n",
    "\n",
    "classes = np.unique(train_df['income'])\n",
    "\n",
    "my_gnb.likehood(X_train_num)\n",
    "my_catNB.likehood(X_train_cat)\n",
    "# my_catNB.likehood(X_train)\n",
    "\n",
    "train_total_likehood = (my_gnb._likehood + my_catNB._likehood) + np.log(my_catNB.classes_prior)\n",
    "\n",
    "train_preds = classes[np.argmax(train_total_likehood, axis=1)]\n",
    "train_probs = softmax(train_total_likehood, axis=-1)\n",
    "\n",
    "\n",
    "my_gnb.likehood(X_test_num)\n",
    "my_catNB.likehood(X_test_cat)\n",
    "# my_catNB.likehood(X_test)\n",
    "\n",
    "test_total_likehood = (my_gnb._likehood + my_catNB._likehood) + np.log(my_catNB.classes_prior)\n",
    "\n",
    "test_preds = classes[np.argmax(test_total_likehood, axis=1)]\n",
    "test_probs = softmax(test_total_likehood, axis=-1)"
   ]
  },
  {
   "cell_type": "code",
   "execution_count": 117,
   "id": "f67851f5",
   "metadata": {},
   "outputs": [
    {
     "name": "stdout",
     "output_type": "stream",
     "text": [
      "accuracy   83.4\n",
      "precision  71.5\n",
      "recall     52.3\n",
      "f1         60.4\n",
      "roc auc    72.8\n"
     ]
    },
    {
     "data": {
      "image/png": "[encoded data removed]",
      "text/plain": [
       "<Figure size 432x288 with 2 Axes>"
      ]
     },
     "metadata": {
      "needs_background": "light"
     },
     "output_type": "display_data"
    }
   ],
   "source": [
    "show_metrics(y_train, train_preds)"
   ]
  },
  {
   "cell_type": "code",
   "execution_count": 95,
   "id": "fab341bb",
   "metadata": {},
   "outputs": [
    {
     "name": "stdout",
     "output_type": "stream",
     "text": [
      "accuracy   83.2\n",
      "precision  70.5\n",
      "recall     51.1\n",
      "f1         59.2\n",
      "roc auc    72.2\n"
     ]
    },
    {
     "data": {
      "image/png": "[encoded data removed]",
      "text/plain": [
       "<Figure size 432x288 with 2 Axes>"
      ]
     },
     "metadata": {
      "needs_background": "light"
     },
     "output_type": "display_data"
    }
   ],
   "source": [
    "show_metrics(y_test, test_preds)"
   ]
  },
  {
   "cell_type": "code",
   "execution_count": 96,
   "id": "abf6e978",
   "metadata": {},
   "outputs": [
    {
     "data": {
      "text/plain": [
       "0.8936592642189544"
      ]
     },
     "execution_count": 96,
     "metadata": {},
     "output_type": "execute_result"
    }
   ],
   "source": [
    "roc_auc_score(y_train, train_probs[:, 1])"
   ]
  },
  {
   "cell_type": "code",
   "execution_count": 97,
   "id": "2608c80f",
   "metadata": {},
   "outputs": [
    {
     "data": {
      "text/plain": [
       "0.8886073242661556"
      ]
     },
     "execution_count": 97,
     "metadata": {},
     "output_type": "execute_result"
    }
   ],
   "source": [
    "roc_auc_score(y_test, test_probs[:, 1])"
   ]
  },
  {
   "cell_type": "markdown",
   "id": "80427ccc",
   "metadata": {},
   "source": [
    "### Выводы\n",
    "\n",
    "Получившаяся модель выдает более высокое значение accuracy и precision для обучающей и тестовой выборок, но уступает модели из лекции в метриках recall, f1, и roc auc.\n",
    "\n",
    "roc auc, посчитанный по вероятностям, практически совпадает с примером из лекции:\n",
    "\n",
    "train: 0.8945788136059272 и 0.8936592642189544 (модель из лекции и самописная модель соответственно)\n",
    "\n",
    "test:  0.8888040542649404 и 0.8886073242661556"
   ]
  },
  {
   "cell_type": "code",
   "execution_count": null,
   "id": "59690c3e",
   "metadata": {},
   "outputs": [],
   "source": []
  },
  {
   "cell_type": "markdown",
   "id": "2ebe5f79",
   "metadata": {
    "id": "2ebe5f79"
   },
   "source": [
    "4. Реализовать самостоятельно функцию ROC AUC\n",
    "\n",
    "    * Начинать алгоритм на плоскости в точке (0;0);\n",
    "    * Отсортировать по убыванию пары (y_true, score) по score (в качестве скора взять predict_proba от 1);\n",
    "    * Идти по отсортированным парам и если y_true 1, то идти вверх по y на 1, если 0, то вправо по x на 1. В получившейся координате ставить точку;\n",
    "    * Таким образом пройтись по всему массиву пар и отложить n точек;\n",
    "    * Отнормировать все точки: по y разделить на max(y), по x разделить на max(x);\n",
    "    * Посчитать площать под графиком из получившихся точек (numpy.trapz);\n",
    "    * Сравнить ответ с функцией roc_auc_score из sklearn.\n",
    "\n",
    "Так же попробовать вместо y_pred отдать какую-нибудь фичу в качестве параметра score и так же сравнить ответы с roc_auc_score их sklearn\n",
    "\n",
    "(Доп. задание) Визуализировать получившуюся ROC кривую"
   ]
  },
  {
   "cell_type": "code",
   "execution_count": 98,
   "id": "f523d406",
   "metadata": {},
   "outputs": [],
   "source": [
    "def roc_auc(y_true, score, return_points=False):\n",
    "    if isinstance(y_true, pd.Series):\n",
    "        y_true = y_true.to_numpy()\n",
    "    \n",
    "    y_sort = y_true[score.argsort()[::-1]]\n",
    "    \n",
    "    x, y = np.zeros(len(y_sort)), np.zeros(len(y_sort))\n",
    "    \n",
    "    x[y_sort == 0] = 1\n",
    "    y[y_sort == 1] = 1\n",
    "    \n",
    "    x = np.cumsum(np.insert(x, 0, 0))\n",
    "    y = np.cumsum(np.insert(y, 0, 0))\n",
    "    \n",
    "    x = x / np.max(x)\n",
    "    y = y / np.max(y)\n",
    "    \n",
    "    if return_points:\n",
    "        return np.trapz(y, x), x, y\n",
    "        \n",
    "    return np.trapz(y, x)"
   ]
  },
  {
   "cell_type": "markdown",
   "id": "126c1e0c",
   "metadata": {},
   "source": [
    "Посчитаем ROC-AUC score с помощью самописной функции roc_auc и roc_auc_score из sklearn"
   ]
  },
  {
   "cell_type": "code",
   "execution_count": 99,
   "id": "95378be5",
   "metadata": {},
   "outputs": [],
   "source": [
    "roc_auc_train, x1, y1 = roc_auc(y_train, train_probs[:, 1], True)\n",
    "roc_auc_test, x2, y2 = roc_auc(y_test, test_probs[:, 1], True)"
   ]
  },
  {
   "cell_type": "code",
   "execution_count": 100,
   "id": "7e44f5b1",
   "metadata": {},
   "outputs": [
    {
     "name": "stdout",
     "output_type": "stream",
     "text": [
      "roc_auc        train: 0.8936601476748207, test: 0.8886116407049475\n",
      "roc_auc_score  train: 0.8936592642189544, test: 0.8886073242661556\n"
     ]
    }
   ],
   "source": [
    "print(f'roc_auc        train: {roc_auc_train}, test: {roc_auc_test}')\n",
    "print(f'roc_auc_score  train: {roc_auc_score(y_train, train_probs[:, 1])}, test: {roc_auc_score(y_test, test_probs[:, 1])}')"
   ]
  },
  {
   "cell_type": "markdown",
   "id": "a102ce28",
   "metadata": {},
   "source": [
    "Значения ROC-AUC score, полученные с помощью roc_auc и roc_auc_score, примерно одинаковые."
   ]
  },
  {
   "cell_type": "markdown",
   "id": "f24513c9",
   "metadata": {},
   "source": [
    "Визуализируем получившиеся ROC кривые:"
   ]
  },
  {
   "cell_type": "code",
   "execution_count": 101,
   "id": "d4cf2d75",
   "metadata": {},
   "outputs": [
    {
     "data": {
      "image/png": "[encoded data removed]",
      "text/plain": [
       "<Figure size 720x432 with 1 Axes>"
      ]
     },
     "metadata": {
      "needs_background": "light"
     },
     "output_type": "display_data"
    }
   ],
   "source": [
    "plt.figure(figsize=(10, 6))\n",
    "plt.plot(x1, y1)\n",
    "plt.xlabel('False Positive Rate', fontsize=12)\n",
    "plt.ylabel('True Positive Rate', fontsize=12)\n",
    "plt.title('ROC-curve (train)');"
   ]
  },
  {
   "cell_type": "code",
   "execution_count": 102,
   "id": "f6a14464",
   "metadata": {},
   "outputs": [
    {
     "data": {
      "image/png": "[encoded data removed]",
      "text/plain": [
       "<Figure size 720x432 with 1 Axes>"
      ]
     },
     "metadata": {
      "needs_background": "light"
     },
     "output_type": "display_data"
    }
   ],
   "source": [
    "plt.figure(figsize=(10, 6))\n",
    "plt.plot(x2, y2)\n",
    "plt.xlabel('False Positive Rate', fontsize=12)\n",
    "plt.ylabel('True Positive Rate', fontsize=12)\n",
    "plt.title('ROC-curve (test)');"
   ]
  },
  {
   "cell_type": "markdown",
   "id": "59db8e79",
   "metadata": {},
   "source": [
    "Передадим в качестве параметра score числовые фичи fnlwgt, education.num, hours.per.week"
   ]
  },
  {
   "cell_type": "code",
   "execution_count": 103,
   "id": "6d803450",
   "metadata": {},
   "outputs": [
    {
     "data": {
      "text/html": [
       "<div>\n",
       "<style scoped>\n",
       "    .dataframe tbody tr th:only-of-type {\n",
       "        vertical-align: middle;\n",
       "    }\n",
       "\n",
       "    .dataframe tbody tr th {\n",
       "        vertical-align: top;\n",
       "    }\n",
       "\n",
       "    .dataframe thead th {\n",
       "        text-align: right;\n",
       "    }\n",
       "</style>\n",
       "<table border=\"1\" class=\"dataframe\">\n",
       "  <thead>\n",
       "    <tr style=\"text-align: right;\">\n",
       "      <th></th>\n",
       "      <th>age</th>\n",
       "      <th>fnlwgt</th>\n",
       "      <th>education.num</th>\n",
       "      <th>capital.gain</th>\n",
       "      <th>capital.loss</th>\n",
       "      <th>hours.per.week</th>\n",
       "    </tr>\n",
       "  </thead>\n",
       "  <tbody>\n",
       "    <tr>\n",
       "      <th>29</th>\n",
       "      <td>38</td>\n",
       "      <td>175360</td>\n",
       "      <td>6</td>\n",
       "      <td>0</td>\n",
       "      <td>2559</td>\n",
       "      <td>90</td>\n",
       "    </tr>\n",
       "    <tr>\n",
       "      <th>12181</th>\n",
       "      <td>25</td>\n",
       "      <td>131463</td>\n",
       "      <td>13</td>\n",
       "      <td>0</td>\n",
       "      <td>0</td>\n",
       "      <td>40</td>\n",
       "    </tr>\n",
       "    <tr>\n",
       "      <th>18114</th>\n",
       "      <td>63</td>\n",
       "      <td>181561</td>\n",
       "      <td>10</td>\n",
       "      <td>0</td>\n",
       "      <td>0</td>\n",
       "      <td>50</td>\n",
       "    </tr>\n",
       "    <tr>\n",
       "      <th>4278</th>\n",
       "      <td>50</td>\n",
       "      <td>251585</td>\n",
       "      <td>13</td>\n",
       "      <td>0</td>\n",
       "      <td>0</td>\n",
       "      <td>55</td>\n",
       "    </tr>\n",
       "    <tr>\n",
       "      <th>12050</th>\n",
       "      <td>23</td>\n",
       "      <td>145964</td>\n",
       "      <td>10</td>\n",
       "      <td>0</td>\n",
       "      <td>0</td>\n",
       "      <td>40</td>\n",
       "    </tr>\n",
       "    <tr>\n",
       "      <th>...</th>\n",
       "      <td>...</td>\n",
       "      <td>...</td>\n",
       "      <td>...</td>\n",
       "      <td>...</td>\n",
       "      <td>...</td>\n",
       "      <td>...</td>\n",
       "    </tr>\n",
       "    <tr>\n",
       "      <th>29802</th>\n",
       "      <td>25</td>\n",
       "      <td>410240</td>\n",
       "      <td>9</td>\n",
       "      <td>0</td>\n",
       "      <td>0</td>\n",
       "      <td>40</td>\n",
       "    </tr>\n",
       "    <tr>\n",
       "      <th>5390</th>\n",
       "      <td>51</td>\n",
       "      <td>146767</td>\n",
       "      <td>11</td>\n",
       "      <td>0</td>\n",
       "      <td>0</td>\n",
       "      <td>40</td>\n",
       "    </tr>\n",
       "    <tr>\n",
       "      <th>860</th>\n",
       "      <td>55</td>\n",
       "      <td>238192</td>\n",
       "      <td>9</td>\n",
       "      <td>0</td>\n",
       "      <td>1887</td>\n",
       "      <td>40</td>\n",
       "    </tr>\n",
       "    <tr>\n",
       "      <th>15795</th>\n",
       "      <td>41</td>\n",
       "      <td>154076</td>\n",
       "      <td>10</td>\n",
       "      <td>0</td>\n",
       "      <td>0</td>\n",
       "      <td>50</td>\n",
       "    </tr>\n",
       "    <tr>\n",
       "      <th>23654</th>\n",
       "      <td>22</td>\n",
       "      <td>162667</td>\n",
       "      <td>9</td>\n",
       "      <td>0</td>\n",
       "      <td>0</td>\n",
       "      <td>50</td>\n",
       "    </tr>\n",
       "  </tbody>\n",
       "</table>\n",
       "<p>24420 rows × 6 columns</p>\n",
       "</div>"
      ],
      "text/plain": [
       "       age  fnlwgt  education.num  capital.gain  capital.loss  hours.per.week\n",
       "29      38  175360              6             0          2559              90\n",
       "12181   25  131463             13             0             0              40\n",
       "18114   63  181561             10             0             0              50\n",
       "4278    50  251585             13             0             0              55\n",
       "12050   23  145964             10             0             0              40\n",
       "...    ...     ...            ...           ...           ...             ...\n",
       "29802   25  410240              9             0             0              40\n",
       "5390    51  146767             11             0             0              40\n",
       "860     55  238192              9             0          1887              40\n",
       "15795   41  154076             10             0             0              50\n",
       "23654   22  162667              9             0             0              50\n",
       "\n",
       "[24420 rows x 6 columns]"
      ]
     },
     "execution_count": 103,
     "metadata": {},
     "output_type": "execute_result"
    }
   ],
   "source": [
    "X_train_num"
   ]
  },
  {
   "cell_type": "code",
   "execution_count": 104,
   "id": "d3f7671b",
   "metadata": {},
   "outputs": [],
   "source": [
    "def roc_auc_extended(y_train, y_test, X_train, X_test, f_i):\n",
    "    feature_name = X_train.columns[f_i]\n",
    "    \n",
    "    if isinstance(X_train, pd.DataFrame) or isinstance(X_train, pd.Series):\n",
    "        X_train = X_train.to_numpy()\n",
    "        \n",
    "    if isinstance(X_test, pd.DataFrame) or isinstance(X_test, pd.Series):\n",
    "        X_test = X_test.to_numpy()\n",
    "        \n",
    "    roc_auc_train, x1, y1 = roc_auc(y_train, X_train[:, f_i], True)\n",
    "    roc_auc_test, x2, y2 = roc_auc(y_test, X_test[:, f_i], True)\n",
    "    \n",
    "    train_data = X_train_num.to_numpy()[:, 1]\n",
    "    test_data = X_test_num.to_numpy()[:, 1]\n",
    "\n",
    "    print(f'roc_auc        train: {roc_auc_train}, test: {roc_auc_test}')\n",
    "    print(f'roc_auc_score  train: {roc_auc_score(y_train, X_train[:, f_i])}, test: {roc_auc_score(y_test, X_test[:, f_i])}')\n",
    "    \n",
    "    fig, ax = plt.subplots(2, 1, figsize = (10, 12))\n",
    "    plt.suptitle(feature_name)\n",
    "\n",
    "    ax[0].plot(x1, y1)\n",
    "    ax[0].set_xlabel('False Positive Rate', fontsize=12)\n",
    "    ax[0].set_ylabel('True Positive Rate', fontsize=12)\n",
    "    ax[0].set_title('ROC-Curve (train)')\n",
    "\n",
    "    ax[1].plot(x2, y2)\n",
    "    ax[1].set_xlabel('False Positive Rate', fontsize=12)\n",
    "    ax[1].set_ylabel('True Positive Rate', fontsize=12)\n",
    "    ax[1].set_title('ROC-Curve (test)');"
   ]
  },
  {
   "cell_type": "code",
   "execution_count": 105,
   "id": "c2a6a8a2",
   "metadata": {},
   "outputs": [
    {
     "name": "stdout",
     "output_type": "stream",
     "text": [
      "roc_auc        train: 0.4928598501818148, test: 0.49247943548949413\n",
      "roc_auc_score  train: 0.4928594565175428, test: 0.492479684514809\n"
     ]
    },
    {
     "data": {
      "image/png": "[encoded data removed]",
      "text/plain": [
       "<Figure size 720x864 with 2 Axes>"
      ]
     },
     "metadata": {
      "needs_background": "light"
     },
     "output_type": "display_data"
    }
   ],
   "source": [
    "roc_auc_extended(y_train, y_test, X_train_num, X_test_num, 1)"
   ]
  },
  {
   "cell_type": "code",
   "execution_count": 106,
   "id": "dd543bad",
   "metadata": {},
   "outputs": [
    {
     "name": "stdout",
     "output_type": "stream",
     "text": [
      "roc_auc        train: 0.718172598364823, test: 0.7161995449809445\n",
      "roc_auc_score  train: 0.7181224244801098, test: 0.7136951388930393\n"
     ]
    },
    {
     "data": {
      "image/png": "[encoded data removed]",
      "text/plain": [
       "<Figure size 720x864 with 2 Axes>"
      ]
     },
     "metadata": {
      "needs_background": "light"
     },
     "output_type": "display_data"
    }
   ],
   "source": [
    "roc_auc_extended(y_train, y_test, X_train_num, X_test_num, 2)"
   ]
  },
  {
   "cell_type": "code",
   "execution_count": 107,
   "id": "61b5a22a",
   "metadata": {},
   "outputs": [
    {
     "name": "stdout",
     "output_type": "stream",
     "text": [
      "roc_auc        train: 0.6687789562387323, test: 0.6818005991217043\n",
      "roc_auc_score  train: 0.6699535771865, test: 0.6782497886605161\n"
     ]
    },
    {
     "data": {
      "image/png": "[encoded data removed]",
      "text/plain": [
       "<Figure size 720x864 with 2 Axes>"
      ]
     },
     "metadata": {
      "needs_background": "light"
     },
     "output_type": "display_data"
    }
   ],
   "source": [
    "roc_auc_extended(y_train, y_test, X_train_num, X_test_num, 5)"
   ]
  },
  {
   "cell_type": "code",
   "execution_count": null,
   "id": "e7cf15d9",
   "metadata": {},
   "outputs": [],
   "source": []
  },
  {
   "cell_type": "markdown",
   "id": "dd1f6238",
   "metadata": {
    "id": "dd1f6238"
   },
   "source": [
    "5. (Доп. задание) Наивный Байесовский классификатор с помощью Kernel Density Estimator\n",
    "\n",
    "Использовать [Kernel Density Estimator](https://scikit-learn.org/stable/modules/generated/sklearn.neighbors.KernelDensity.html#sklearn.neighbors.KernelDensity)\n",
    "с гауссианом в качестве ядра\n",
    "\n",
    "Аппроксимировать плотности распределения для каждой фичи для каждого класса, обучая Kernel Density Estimator'ы\n",
    "\n",
    "Затем, получив значения функций правдоподобия из этих эстиматоров методом score_samples, сложить их между собой (они уже отлогарифмированны) и сложить с логарифмом априорной верояности сооответствубщего класса, и выбрать класс с максимальным значением"
   ]
  },
  {
   "cell_type": "code",
   "execution_count": 108,
   "id": "2fed5001",
   "metadata": {},
   "outputs": [],
   "source": [
    "from sklearn.neighbors import KernelDensity\n",
    "import tqdm.notebook as tqdm"
   ]
  },
  {
   "cell_type": "code",
   "execution_count": 118,
   "id": "5669054b",
   "metadata": {},
   "outputs": [],
   "source": [
    "X_train = train_df.drop('income', axis=1)\n",
    "y_train = train_df['income']\n",
    "\n",
    "X_test = test_df.drop('income', axis=1)\n",
    "y_test = test_df['income']"
   ]
  },
  {
   "cell_type": "code",
   "execution_count": 166,
   "id": "dd0c8381",
   "metadata": {},
   "outputs": [],
   "source": [
    "class My_KDE_NB:\n",
    "    \n",
    "    def __init__(self):\n",
    "        pass\n",
    "    \n",
    "    \n",
    "    def fit(self, X: Union[pd.DataFrame, pd.Series, np.ndarray], y: Union[pd.Series, np.ndarray]) -> My_KDE_NB:\n",
    "        if isinstance(X, pd.DataFrame) or isinstance(X, pd.Series):\n",
    "            X = X.to_numpy()\n",
    "            y = y.to_numpy()\n",
    "            \n",
    "        self.classes = np.unique(y)\n",
    "        self.classes_prior = np.array([np.sum(y == c) for c in self.classes]) / len(y)\n",
    "        \n",
    "        # если не поменять значение atol, то модель покажет отличное качество на train'е и плохое на test'е\n",
    "        self.kdes = np.array([[KernelDensity(atol=1e-2, rtol=1e-2).fit(X[y == c, f_i][:, None]) \n",
    "                               for c in self.classes] for f_i in range(X.shape[1])])\n",
    "        \n",
    "        return self\n",
    "    \n",
    "    \n",
    "    def predict(self, X: Union[pd.DataFrame, pd.Series, np.ndarray]) -> np.ndarray:\n",
    "        return self.classes[np.argmax(self.likehood(X), axis=-1)]\n",
    "    \n",
    "    \n",
    "    def predict_proba(self, X: Union[pd.DataFrame, pd.Series, np.ndarray]) -> np.ndarray:\n",
    "        return softmax(self.likehood(X), axis=-1)\n",
    "    \n",
    "    \n",
    "    def likehood(self, X: Union[pd.DataFrame, pd.Series, np.ndarray]) -> np.ndarray:\n",
    "        if isinstance(X, pd.DataFrame) or isinstance(X, pd.Series):\n",
    "            X = X.to_numpy()\n",
    "            \n",
    "        self._likehood = np.array([np.sum([self.kdes[f_i, c].score_samples(X[:, f_i][:, None]) \n",
    "                                           for f_i in tqdm.tqdm(range(X.shape[1]))], axis=0) \n",
    "                                   for c in range(len(self.classes))]).T\n",
    "        \n",
    "        return self._likehood + np.log(self.classes_prior)"
   ]
  },
  {
   "cell_type": "code",
   "execution_count": 167,
   "id": "db06002d",
   "metadata": {},
   "outputs": [],
   "source": [
    "kdeNB = My_KDE_NB().fit(X_train, y_train)"
   ]
  },
  {
   "cell_type": "code",
   "execution_count": 168,
   "id": "bdd203e0",
   "metadata": {},
   "outputs": [
    {
     "data": {
      "application/vnd.jupyter.widget-view+json": {
       "model_id": "3018139b39f14c94aa8a08a06d89fbe5",
       "version_major": 2,
       "version_minor": 0
      },
      "text/plain": [
       "  0%|          | 0/14 [00:00<?, ?it/s]"
      ]
     },
     "metadata": {},
     "output_type": "display_data"
    },
    {
     "data": {
      "application/vnd.jupyter.widget-view+json": {
       "model_id": "4756bf1af404436bb82378dc3e27f328",
       "version_major": 2,
       "version_minor": 0
      },
      "text/plain": [
       "  0%|          | 0/14 [00:00<?, ?it/s]"
      ]
     },
     "metadata": {},
     "output_type": "display_data"
    },
    {
     "data": {
      "application/vnd.jupyter.widget-view+json": {
       "model_id": "3d56ddc87d7f4be59569fe36f92ad8f3",
       "version_major": 2,
       "version_minor": 0
      },
      "text/plain": [
       "  0%|          | 0/14 [00:00<?, ?it/s]"
      ]
     },
     "metadata": {},
     "output_type": "display_data"
    },
    {
     "data": {
      "application/vnd.jupyter.widget-view+json": {
       "model_id": "5b327ad8675f41f3bbdab0e81b5e3fc7",
       "version_major": 2,
       "version_minor": 0
      },
      "text/plain": [
       "  0%|          | 0/14 [00:00<?, ?it/s]"
      ]
     },
     "metadata": {},
     "output_type": "display_data"
    }
   ],
   "source": [
    "train_preds = kdeNB.predict(X_train)\n",
    "train_probs = kdeNB.predict_proba(X_train)"
   ]
  },
  {
   "cell_type": "code",
   "execution_count": 169,
   "id": "531f7c0a",
   "metadata": {},
   "outputs": [
    {
     "data": {
      "application/vnd.jupyter.widget-view+json": {
       "model_id": "6097271fd9dc4be79ee6a05477f29b2f",
       "version_major": 2,
       "version_minor": 0
      },
      "text/plain": [
       "  0%|          | 0/14 [00:00<?, ?it/s]"
      ]
     },
     "metadata": {},
     "output_type": "display_data"
    },
    {
     "data": {
      "application/vnd.jupyter.widget-view+json": {
       "model_id": "f6ed0d94a332408c96c6d5a204cf89be",
       "version_major": 2,
       "version_minor": 0
      },
      "text/plain": [
       "  0%|          | 0/14 [00:00<?, ?it/s]"
      ]
     },
     "metadata": {},
     "output_type": "display_data"
    },
    {
     "data": {
      "application/vnd.jupyter.widget-view+json": {
       "model_id": "40343919e7564bbea18956a036ccca94",
       "version_major": 2,
       "version_minor": 0
      },
      "text/plain": [
       "  0%|          | 0/14 [00:00<?, ?it/s]"
      ]
     },
     "metadata": {},
     "output_type": "display_data"
    },
    {
     "data": {
      "application/vnd.jupyter.widget-view+json": {
       "model_id": "e0886758971649a9a7252e664a0649f8",
       "version_major": 2,
       "version_minor": 0
      },
      "text/plain": [
       "  0%|          | 0/14 [00:00<?, ?it/s]"
      ]
     },
     "metadata": {},
     "output_type": "display_data"
    }
   ],
   "source": [
    "test_preds = kdeNB.predict(X_test)\n",
    "test_probs = kdeNB.predict_proba(X_test)"
   ]
  },
  {
   "cell_type": "code",
   "execution_count": 170,
   "id": "5206e376",
   "metadata": {},
   "outputs": [
    {
     "name": "stdout",
     "output_type": "stream",
     "text": [
      "accuracy   81.7\n",
      "precision  60.1\n",
      "recall     72.8\n",
      "f1         65.8\n",
      "roc auc    78.7\n"
     ]
    },
    {
     "data": {
      "image/png": "[encoded data removed]",
      "text/plain": [
       "<Figure size 432x288 with 2 Axes>"
      ]
     },
     "metadata": {
      "needs_background": "light"
     },
     "output_type": "display_data"
    }
   ],
   "source": [
    "show_metrics(y_train, train_preds)"
   ]
  },
  {
   "cell_type": "code",
   "execution_count": 171,
   "id": "99da7733",
   "metadata": {},
   "outputs": [
    {
     "name": "stdout",
     "output_type": "stream",
     "text": [
      "accuracy   75.8\n",
      "precision  49.6\n",
      "recall     85.2\n",
      "f1         62.7\n",
      "roc auc    79.0\n"
     ]
    },
    {
     "data": {
      "image/png": "[encoded data removed]",
      "text/plain": [
       "<Figure size 432x288 with 2 Axes>"
      ]
     },
     "metadata": {
      "needs_background": "light"
     },
     "output_type": "display_data"
    }
   ],
   "source": [
    "show_metrics(y_test, kdeNB.classes[np.argmax(kdeNB._likehood, axis=-1)])"
   ]
  },
  {
   "cell_type": "code",
   "execution_count": 172,
   "id": "f92e2888",
   "metadata": {},
   "outputs": [
    {
     "data": {
      "text/plain": [
       "0.8848248245715278"
      ]
     },
     "execution_count": 172,
     "metadata": {},
     "output_type": "execute_result"
    }
   ],
   "source": [
    "roc_auc_score(y_train, train_probs[:, 1])"
   ]
  },
  {
   "cell_type": "code",
   "execution_count": 173,
   "id": "df9f4c3d",
   "metadata": {},
   "outputs": [
    {
     "data": {
      "text/plain": [
       "0.8725053058993764"
      ]
     },
     "execution_count": 173,
     "metadata": {},
     "output_type": "execute_result"
    }
   ],
   "source": [
    "roc_auc_score(y_test, test_probs[:, 1])"
   ]
  },
  {
   "cell_type": "code",
   "execution_count": null,
   "id": "6fd694c2",
   "metadata": {},
   "outputs": [],
   "source": []
  },
  {
   "cell_type": "markdown",
   "id": "37f79a01",
   "metadata": {
    "id": "37f79a01"
   },
   "source": [
    "## Log Reg\n",
    "\n",
    "Построить на adult income логрег и сравнить результаты с наивным Байесем (матрица ошибок, roc_auc, accuracy, precision, recall, f1)"
   ]
  },
  {
   "cell_type": "code",
   "execution_count": 175,
   "id": "de657947",
   "metadata": {},
   "outputs": [],
   "source": [
    "from sklearn.linear_model import LogisticRegression"
   ]
  },
  {
   "cell_type": "code",
   "execution_count": 250,
   "id": "9ec885a6",
   "metadata": {},
   "outputs": [],
   "source": [
    "df = pd.read_csv('./adult.csv')\n",
    "\n",
    "le = LabelEncoder()\n",
    "df['income'] = le.fit_transform(df['income'])"
   ]
  },
  {
   "cell_type": "code",
   "execution_count": 251,
   "id": "f61b5d8a",
   "metadata": {},
   "outputs": [],
   "source": [
    "num_cols = ['age', 'fnlwgt', 'education.num', 'capital.gain', 'capital.loss', 'hours.per.week']\n",
    "cat_cols = df.drop(num_cols + ['income'], axis=1).columns"
   ]
  },
  {
   "cell_type": "code",
   "execution_count": 264,
   "id": "a4072ae2",
   "metadata": {},
   "outputs": [],
   "source": [
    "# One-encoding показал себя заметно хуже чем OrdinalEncoder, поэтому от его применения было решено отказаться \n",
    "# в пользу OrdinalEncoder\n",
    "\n",
    "# enc_df = pd.get_dummies(df, columns=cat_cols)\n",
    "# train_df, test_df = train_test_split(enc_df, test_size=0.25, random_state=42)"
   ]
  },
  {
   "cell_type": "code",
   "execution_count": 256,
   "id": "050542fa",
   "metadata": {},
   "outputs": [],
   "source": [
    "train_df, test_df = train_test_split(df, test_size=0.25, random_state=42)\n",
    "\n",
    "ord_enc = OrdinalEncoder()\n",
    "train_df[cat_cols] = ord_enc.fit_transform(train_df[cat_cols])\n",
    "test_df[cat_cols] = ord_enc.transform(test_df[cat_cols])"
   ]
  },
  {
   "cell_type": "code",
   "execution_count": 257,
   "id": "d178b8a7",
   "metadata": {},
   "outputs": [],
   "source": [
    "X_train = train_df.drop('income', axis=1)\n",
    "y_train = train_df['income']\n",
    "\n",
    "X_test = test_df.drop('income', axis=1)\n",
    "y_test = test_df['income']"
   ]
  },
  {
   "cell_type": "code",
   "execution_count": 258,
   "id": "26e357e3",
   "metadata": {},
   "outputs": [],
   "source": [
    "clf = LogisticRegression(max_iter=10000, random_state=42).fit(X_train, y_train)"
   ]
  },
  {
   "cell_type": "code",
   "execution_count": 266,
   "id": "d75f8b61",
   "metadata": {},
   "outputs": [
    {
     "name": "stdout",
     "output_type": "stream",
     "text": [
      "accuracy   78.8\n",
      "precision  63.0\n",
      "recall     29.7\n",
      "f1         40.3\n",
      "roc auc    62.1\n"
     ]
    },
    {
     "data": {
      "image/png": "[encoded data removed]",
      "text/plain": [
       "<Figure size 432x288 with 2 Axes>"
      ]
     },
     "metadata": {
      "needs_background": "light"
     },
     "output_type": "display_data"
    }
   ],
   "source": [
    "show_metrics(y_train, clf.predict(X_train))"
   ]
  },
  {
   "cell_type": "code",
   "execution_count": 267,
   "id": "dd8c61c3",
   "metadata": {},
   "outputs": [
    {
     "name": "stdout",
     "output_type": "stream",
     "text": [
      "accuracy   78.8\n",
      "precision  62.7\n",
      "recall     27.7\n",
      "f1         38.4\n",
      "roc auc    61.3\n"
     ]
    },
    {
     "data": {
      "image/png": "[encoded data removed]",
      "text/plain": [
       "<Figure size 432x288 with 2 Axes>"
      ]
     },
     "metadata": {
      "needs_background": "light"
     },
     "output_type": "display_data"
    }
   ],
   "source": [
    "show_metrics(y_test, clf.predict(X_test))"
   ]
  },
  {
   "cell_type": "code",
   "execution_count": 261,
   "id": "fc415459",
   "metadata": {},
   "outputs": [
    {
     "data": {
      "text/plain": [
       "0.7163580441004873"
      ]
     },
     "execution_count": 261,
     "metadata": {},
     "output_type": "execute_result"
    }
   ],
   "source": [
    "roc_auc_score(y_train, clf.predict_proba(X_train)[:, 1])"
   ]
  },
  {
   "cell_type": "code",
   "execution_count": 262,
   "id": "0a8da1e7",
   "metadata": {},
   "outputs": [
    {
     "data": {
      "text/plain": [
       "0.7212750959411529"
      ]
     },
     "execution_count": 262,
     "metadata": {},
     "output_type": "execute_result"
    }
   ],
   "source": [
    "roc_auc_score(y_test, clf.predict_proba(X_test)[:, 1])"
   ]
  },
  {
   "cell_type": "markdown",
   "id": "9fd291e7",
   "metadata": {},
   "source": [
    "### Выводы\n",
    "\n",
    "LogisticRegression показал для этой задачи качество в целом хуже, чем все реализации Наивного Баейса (MyCategoryNB, совмещение MyGaussianNB и MyCategoryNB, My_KDE_NB).\n",
    "\n",
    "LogisticRegression превосходит на тестовой выборке My_KDE_NB по значениям метрик accuracy и precision, но по остальным значительно уступает ему. Остальные реализации Наивного Баейса либо схожи по значениям некоторым метрик, либо заметно превосходят логистическую регрессию.\n",
    "\n",
    "ROC-AUC score по вероятностям для LogisticRegression приблизительно равен 0.72, в то время как для всех реализаций Наивного Баейса этот показатель выше 0.8"
   ]
  }
 ],
 "metadata": {
  "colab": {
   "collapsed_sections": [],
   "name": "lec 3 Байес.ipynb",
   "provenance": [],
   "toc_visible": true
  },
  "kernelspec": {
   "display_name": "Python 3 (ipykernel)",
   "language": "python",
   "name": "python3"
  },
  "language_info": {
   "codemirror_mode": {
    "name": "ipython",
    "version": 3
   },
   "file_extension": ".py",
   "mimetype": "text/x-python",
   "name": "python",
   "nbconvert_exporter": "python",
   "pygments_lexer": "ipython3",
   "version": "3.9.12"
  }
 },
 "nbformat": 4,
 "nbformat_minor": 5
}
