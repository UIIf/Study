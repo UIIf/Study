{
 "cells": [
  {
   "cell_type": "markdown",
   "id": "fc606f6b-73c9-4a19-bc16-3b2e0416d4e6",
   "metadata": {},
   "source": [
    "# Петров Сергей"
   ]
  },
  {
   "cell_type": "markdown",
   "id": "bfcfe4c2",
   "metadata": {
    "id": "bfcfe4c2",
    "tags": []
   },
   "source": [
    "# Домашнее задание\n",
    "Нужно написать модель такую, что:\n",
    "- метод обучения модели: стохастический градиентный спуск с мини-пакетами(mini-batch): на каждой итерации обновления весов градиент должен быть вычислен как средний от N наблюдений;<br>\n",
    "- в функцию ошибки добавлен ElasticNet;<br>\n",
    "- лейблы классов\\$  Y = \\\\{0, 1\\\\}\\$.<br>"
   ]
  },
  {
   "cell_type": "markdown",
   "id": "8b23ab78-a2ef-4475-bfee-403288bf62a4",
   "metadata": {},
   "source": [
    "## Импорт"
   ]
  },
  {
   "cell_type": "code",
   "execution_count": 1,
   "id": "c1a3be2d-828e-403d-b607-0b8495a3cc27",
   "metadata": {},
   "outputs": [],
   "source": [
    "import pandas as pd\n",
    "import numpy as np\n",
    "import matplotlib.pyplot as plt\n",
    "import sklearn as sk\n",
    "\n",
    "from sklearn.model_selection import train_test_split\n",
    "from sklearn.preprocessing import StandardScaler\n",
    "from sklearn.preprocessing import MinMaxScaler\n",
    "\n",
    "from sklearn.preprocessing import OrdinalEncoder\n",
    "from sklearn.metrics import accuracy_score\n",
    "\n",
    "r_state = 42"
   ]
  },
  {
   "cell_type": "markdown",
   "id": "6a4efc49-1175-4e8d-975d-b51bd38bc2ef",
   "metadata": {
    "tags": []
   },
   "source": [
    "## Работа с информацией"
   ]
  },
  {
   "cell_type": "code",
   "execution_count": 2,
   "id": "73db28c1-d2c8-4740-b5bb-49dbccbc980e",
   "metadata": {},
   "outputs": [],
   "source": [
    "df = pd.read_csv('adult.csv')"
   ]
  },
  {
   "cell_type": "code",
   "execution_count": 3,
   "id": "377da7df-863d-4c51-bc3d-23f3f81a91be",
   "metadata": {},
   "outputs": [
    {
     "name": "stdout",
     "output_type": "stream",
     "text": [
      "<class 'pandas.core.frame.DataFrame'>\n",
      "RangeIndex: 32561 entries, 0 to 32560\n",
      "Data columns (total 15 columns):\n",
      " #   Column          Non-Null Count  Dtype \n",
      "---  ------          --------------  ----- \n",
      " 0   age             32561 non-null  int64 \n",
      " 1   workclass       32561 non-null  object\n",
      " 2   fnlwgt          32561 non-null  int64 \n",
      " 3   education       32561 non-null  object\n",
      " 4   education.num   32561 non-null  int64 \n",
      " 5   marital.status  32561 non-null  object\n",
      " 6   occupation      32561 non-null  object\n",
      " 7   relationship    32561 non-null  object\n",
      " 8   race            32561 non-null  object\n",
      " 9   sex             32561 non-null  object\n",
      " 10  capital.gain    32561 non-null  int64 \n",
      " 11  capital.loss    32561 non-null  int64 \n",
      " 12  hours.per.week  32561 non-null  int64 \n",
      " 13  native.country  32561 non-null  object\n",
      " 14  income          32561 non-null  object\n",
      "dtypes: int64(6), object(9)\n",
      "memory usage: 3.7+ MB\n"
     ]
    }
   ],
   "source": [
    "df.info()"
   ]
  },
  {
   "cell_type": "code",
   "execution_count": 4,
   "id": "ae0a19c3-2c98-4ee2-b646-24840b3f4b6d",
   "metadata": {},
   "outputs": [],
   "source": [
    "df['income'] = (df['income'] == '>50K').astype(int)"
   ]
  },
  {
   "cell_type": "code",
   "execution_count": 5,
   "id": "2a4cb5e8-0539-4c74-8ddd-ca4f3ffed793",
   "metadata": {},
   "outputs": [
    {
     "data": {
      "text/plain": [
       "0        0\n",
       "1        0\n",
       "2        0\n",
       "3        0\n",
       "4        0\n",
       "        ..\n",
       "32556    0\n",
       "32557    0\n",
       "32558    1\n",
       "32559    0\n",
       "32560    0\n",
       "Name: income, Length: 32561, dtype: int32"
      ]
     },
     "execution_count": 5,
     "metadata": {},
     "output_type": "execute_result"
    }
   ],
   "source": [
    "df['income']"
   ]
  },
  {
   "cell_type": "markdown",
   "id": "ef18389f-83f9-43b4-a77b-ad64a53ee7ab",
   "metadata": {},
   "source": [
    "### Численные колонки"
   ]
  },
  {
   "cell_type": "code",
   "execution_count": 6,
   "id": "8c431767-5d1c-4f03-b09a-fe8b43ba4305",
   "metadata": {},
   "outputs": [
    {
     "data": {
      "text/html": [
       "<div>\n",
       "<style scoped>\n",
       "    .dataframe tbody tr th:only-of-type {\n",
       "        vertical-align: middle;\n",
       "    }\n",
       "\n",
       "    .dataframe tbody tr th {\n",
       "        vertical-align: top;\n",
       "    }\n",
       "\n",
       "    .dataframe thead th {\n",
       "        text-align: right;\n",
       "    }\n",
       "</style>\n",
       "<table border=\"1\" class=\"dataframe\">\n",
       "  <thead>\n",
       "    <tr style=\"text-align: right;\">\n",
       "      <th></th>\n",
       "      <th>age</th>\n",
       "      <th>fnlwgt</th>\n",
       "      <th>education.num</th>\n",
       "      <th>capital.gain</th>\n",
       "      <th>capital.loss</th>\n",
       "      <th>hours.per.week</th>\n",
       "      <th>income</th>\n",
       "    </tr>\n",
       "  </thead>\n",
       "  <tbody>\n",
       "    <tr>\n",
       "      <th>count</th>\n",
       "      <td>32561.000000</td>\n",
       "      <td>3.256100e+04</td>\n",
       "      <td>32561.000000</td>\n",
       "      <td>32561.000000</td>\n",
       "      <td>32561.000000</td>\n",
       "      <td>32561.000000</td>\n",
       "      <td>32561.000000</td>\n",
       "    </tr>\n",
       "    <tr>\n",
       "      <th>mean</th>\n",
       "      <td>38.581647</td>\n",
       "      <td>1.897784e+05</td>\n",
       "      <td>10.080679</td>\n",
       "      <td>1077.648844</td>\n",
       "      <td>87.303830</td>\n",
       "      <td>40.437456</td>\n",
       "      <td>0.240810</td>\n",
       "    </tr>\n",
       "    <tr>\n",
       "      <th>std</th>\n",
       "      <td>13.640433</td>\n",
       "      <td>1.055500e+05</td>\n",
       "      <td>2.572720</td>\n",
       "      <td>7385.292085</td>\n",
       "      <td>402.960219</td>\n",
       "      <td>12.347429</td>\n",
       "      <td>0.427581</td>\n",
       "    </tr>\n",
       "    <tr>\n",
       "      <th>min</th>\n",
       "      <td>17.000000</td>\n",
       "      <td>1.228500e+04</td>\n",
       "      <td>1.000000</td>\n",
       "      <td>0.000000</td>\n",
       "      <td>0.000000</td>\n",
       "      <td>1.000000</td>\n",
       "      <td>0.000000</td>\n",
       "    </tr>\n",
       "    <tr>\n",
       "      <th>25%</th>\n",
       "      <td>28.000000</td>\n",
       "      <td>1.178270e+05</td>\n",
       "      <td>9.000000</td>\n",
       "      <td>0.000000</td>\n",
       "      <td>0.000000</td>\n",
       "      <td>40.000000</td>\n",
       "      <td>0.000000</td>\n",
       "    </tr>\n",
       "    <tr>\n",
       "      <th>50%</th>\n",
       "      <td>37.000000</td>\n",
       "      <td>1.783560e+05</td>\n",
       "      <td>10.000000</td>\n",
       "      <td>0.000000</td>\n",
       "      <td>0.000000</td>\n",
       "      <td>40.000000</td>\n",
       "      <td>0.000000</td>\n",
       "    </tr>\n",
       "    <tr>\n",
       "      <th>75%</th>\n",
       "      <td>48.000000</td>\n",
       "      <td>2.370510e+05</td>\n",
       "      <td>12.000000</td>\n",
       "      <td>0.000000</td>\n",
       "      <td>0.000000</td>\n",
       "      <td>45.000000</td>\n",
       "      <td>0.000000</td>\n",
       "    </tr>\n",
       "    <tr>\n",
       "      <th>max</th>\n",
       "      <td>90.000000</td>\n",
       "      <td>1.484705e+06</td>\n",
       "      <td>16.000000</td>\n",
       "      <td>99999.000000</td>\n",
       "      <td>4356.000000</td>\n",
       "      <td>99.000000</td>\n",
       "      <td>1.000000</td>\n",
       "    </tr>\n",
       "  </tbody>\n",
       "</table>\n",
       "</div>"
      ],
      "text/plain": [
       "                age        fnlwgt  education.num  capital.gain  capital.loss  \\\n",
       "count  32561.000000  3.256100e+04   32561.000000  32561.000000  32561.000000   \n",
       "mean      38.581647  1.897784e+05      10.080679   1077.648844     87.303830   \n",
       "std       13.640433  1.055500e+05       2.572720   7385.292085    402.960219   \n",
       "min       17.000000  1.228500e+04       1.000000      0.000000      0.000000   \n",
       "25%       28.000000  1.178270e+05       9.000000      0.000000      0.000000   \n",
       "50%       37.000000  1.783560e+05      10.000000      0.000000      0.000000   \n",
       "75%       48.000000  2.370510e+05      12.000000      0.000000      0.000000   \n",
       "max       90.000000  1.484705e+06      16.000000  99999.000000   4356.000000   \n",
       "\n",
       "       hours.per.week        income  \n",
       "count    32561.000000  32561.000000  \n",
       "mean        40.437456      0.240810  \n",
       "std         12.347429      0.427581  \n",
       "min          1.000000      0.000000  \n",
       "25%         40.000000      0.000000  \n",
       "50%         40.000000      0.000000  \n",
       "75%         45.000000      0.000000  \n",
       "max         99.000000      1.000000  "
      ]
     },
     "execution_count": 6,
     "metadata": {},
     "output_type": "execute_result"
    }
   ],
   "source": [
    "num_cols = list(df.select_dtypes(include=np.number).columns)\n",
    "df[num_cols].describe()"
   ]
  },
  {
   "cell_type": "markdown",
   "id": "e79b73df-460b-4cba-a80f-38ad74a70b3e",
   "metadata": {},
   "source": [
    "### Анализ колонок"
   ]
  },
  {
   "cell_type": "code",
   "execution_count": 7,
   "id": "c0fca0b9-ed36-4b41-8cb9-4cf8b42a8686",
   "metadata": {},
   "outputs": [
    {
     "data": {
      "text/plain": [
       "<matplotlib.collections.PathCollection at 0x1d5437fc100>"
      ]
     },
     "execution_count": 7,
     "metadata": {},
     "output_type": "execute_result"
    },
    {
     "data": {
      "image/png": "[encoded data removed]",
      "text/plain": [
       "<Figure size 432x288 with 1 Axes>"
      ]
     },
     "metadata": {
      "needs_background": "light"
     },
     "output_type": "display_data"
    }
   ],
   "source": [
    "plt.scatter(df['age'], df['income'])"
   ]
  },
  {
   "cell_type": "code",
   "execution_count": 8,
   "id": "6fe3684e-54c7-43cc-939d-8d51a455e2a2",
   "metadata": {},
   "outputs": [
    {
     "data": {
      "text/plain": [
       "<matplotlib.collections.PathCollection at 0x1d543b26ad0>"
      ]
     },
     "execution_count": 8,
     "metadata": {},
     "output_type": "execute_result"
    },
    {
     "data": {
      "image/png": "[encoded data removed]",
      "text/plain": [
       "<Figure size 432x288 with 1 Axes>"
      ]
     },
     "metadata": {
      "needs_background": "light"
     },
     "output_type": "display_data"
    }
   ],
   "source": [
    "plt.scatter(df['fnlwgt'], df['income'])"
   ]
  },
  {
   "cell_type": "code",
   "execution_count": 9,
   "id": "65bf681f-2c18-4bb1-ad9e-ecc640d2c357",
   "metadata": {},
   "outputs": [
    {
     "data": {
      "text/plain": [
       "<matplotlib.collections.PathCollection at 0x1d543b96e30>"
      ]
     },
     "execution_count": 9,
     "metadata": {},
     "output_type": "execute_result"
    },
    {
     "data": {
      "image/png": "[encoded data removed]",
      "text/plain": [
       "<Figure size 432x288 with 1 Axes>"
      ]
     },
     "metadata": {
      "needs_background": "light"
     },
     "output_type": "display_data"
    }
   ],
   "source": [
    "plt.scatter(df['education.num'], df['income'])"
   ]
  },
  {
   "cell_type": "code",
   "execution_count": 10,
   "id": "23bf62f3-f48c-493a-bf3e-0053d7ac404f",
   "metadata": {},
   "outputs": [
    {
     "data": {
      "text/plain": [
       "<matplotlib.collections.PathCollection at 0x1d543bfed40>"
      ]
     },
     "execution_count": 10,
     "metadata": {},
     "output_type": "execute_result"
    },
    {
     "data": {
      "image/png": "[encoded data removed]",
      "text/plain": [
       "<Figure size 432x288 with 1 Axes>"
      ]
     },
     "metadata": {
      "needs_background": "light"
     },
     "output_type": "display_data"
    }
   ],
   "source": [
    "plt.scatter(df['capital.gain'], df['income'])"
   ]
  },
  {
   "cell_type": "code",
   "execution_count": 11,
   "id": "f849b07a-db2d-418d-af59-dcb6fc0e6f24",
   "metadata": {},
   "outputs": [
    {
     "data": {
      "text/plain": [
       "<matplotlib.collections.PathCollection at 0x1d543b71060>"
      ]
     },
     "execution_count": 11,
     "metadata": {},
     "output_type": "execute_result"
    },
    {
     "data": {
      "image/png": "[encoded data removed]",
      "text/plain": [
       "<Figure size 432x288 with 1 Axes>"
      ]
     },
     "metadata": {
      "needs_background": "light"
     },
     "output_type": "display_data"
    }
   ],
   "source": [
    "plt.scatter(df['capital.loss'], df['income'])"
   ]
  },
  {
   "cell_type": "code",
   "execution_count": 12,
   "id": "c1b3f12c-d74b-486f-9873-9bc18c3ffc7f",
   "metadata": {},
   "outputs": [
    {
     "data": {
      "text/plain": [
       "<matplotlib.collections.PathCollection at 0x1d543b713f0>"
      ]
     },
     "execution_count": 12,
     "metadata": {},
     "output_type": "execute_result"
    },
    {
     "data": {
      "image/png": "[encoded data removed]",
      "text/plain": [
       "<Figure size 432x288 with 1 Axes>"
      ]
     },
     "metadata": {
      "needs_background": "light"
     },
     "output_type": "display_data"
    }
   ],
   "source": [
    "plt.scatter(df['hours.per.week'], df['income'])"
   ]
  },
  {
   "cell_type": "markdown",
   "id": "a705790a-59a1-4a7d-80cc-014cf043bf70",
   "metadata": {},
   "source": [
    "### Категорилаьные колонки"
   ]
  },
  {
   "cell_type": "code",
   "execution_count": 13,
   "id": "6c3e3564-ee48-42da-95c2-f5733f15ee9d",
   "metadata": {},
   "outputs": [
    {
     "data": {
      "text/plain": [
       "['workclass',\n",
       " 'education',\n",
       " 'marital.status',\n",
       " 'occupation',\n",
       " 'relationship',\n",
       " 'race',\n",
       " 'sex',\n",
       " 'native.country']"
      ]
     },
     "execution_count": 13,
     "metadata": {},
     "output_type": "execute_result"
    }
   ],
   "source": [
    "cat_cols = list(df.drop(num_cols + ['income'], axis=1).columns)\n",
    "cat_cols"
   ]
  },
  {
   "cell_type": "code",
   "execution_count": 14,
   "id": "710895c3-547f-4783-a320-5d2398ceb21d",
   "metadata": {},
   "outputs": [],
   "source": [
    "df[cat_cols] = OrdinalEncoder().fit_transform(df[cat_cols])"
   ]
  },
  {
   "cell_type": "code",
   "execution_count": 15,
   "id": "f303ca72-3444-4dbe-93fa-4cf30b7f6e85",
   "metadata": {},
   "outputs": [
    {
     "data": {
      "text/html": [
       "<div>\n",
       "<style scoped>\n",
       "    .dataframe tbody tr th:only-of-type {\n",
       "        vertical-align: middle;\n",
       "    }\n",
       "\n",
       "    .dataframe tbody tr th {\n",
       "        vertical-align: top;\n",
       "    }\n",
       "\n",
       "    .dataframe thead th {\n",
       "        text-align: right;\n",
       "    }\n",
       "</style>\n",
       "<table border=\"1\" class=\"dataframe\">\n",
       "  <thead>\n",
       "    <tr style=\"text-align: right;\">\n",
       "      <th></th>\n",
       "      <th>workclass</th>\n",
       "      <th>education</th>\n",
       "      <th>marital.status</th>\n",
       "      <th>occupation</th>\n",
       "      <th>relationship</th>\n",
       "      <th>race</th>\n",
       "      <th>sex</th>\n",
       "      <th>native.country</th>\n",
       "    </tr>\n",
       "  </thead>\n",
       "  <tbody>\n",
       "    <tr>\n",
       "      <th>0</th>\n",
       "      <td>0.0</td>\n",
       "      <td>11.0</td>\n",
       "      <td>6.0</td>\n",
       "      <td>0.0</td>\n",
       "      <td>1.0</td>\n",
       "      <td>4.0</td>\n",
       "      <td>0.0</td>\n",
       "      <td>39.0</td>\n",
       "    </tr>\n",
       "    <tr>\n",
       "      <th>1</th>\n",
       "      <td>4.0</td>\n",
       "      <td>11.0</td>\n",
       "      <td>6.0</td>\n",
       "      <td>4.0</td>\n",
       "      <td>1.0</td>\n",
       "      <td>4.0</td>\n",
       "      <td>0.0</td>\n",
       "      <td>39.0</td>\n",
       "    </tr>\n",
       "    <tr>\n",
       "      <th>2</th>\n",
       "      <td>0.0</td>\n",
       "      <td>15.0</td>\n",
       "      <td>6.0</td>\n",
       "      <td>0.0</td>\n",
       "      <td>4.0</td>\n",
       "      <td>2.0</td>\n",
       "      <td>0.0</td>\n",
       "      <td>39.0</td>\n",
       "    </tr>\n",
       "    <tr>\n",
       "      <th>3</th>\n",
       "      <td>4.0</td>\n",
       "      <td>5.0</td>\n",
       "      <td>0.0</td>\n",
       "      <td>7.0</td>\n",
       "      <td>4.0</td>\n",
       "      <td>4.0</td>\n",
       "      <td>0.0</td>\n",
       "      <td>39.0</td>\n",
       "    </tr>\n",
       "    <tr>\n",
       "      <th>4</th>\n",
       "      <td>4.0</td>\n",
       "      <td>15.0</td>\n",
       "      <td>5.0</td>\n",
       "      <td>10.0</td>\n",
       "      <td>3.0</td>\n",
       "      <td>4.0</td>\n",
       "      <td>0.0</td>\n",
       "      <td>39.0</td>\n",
       "    </tr>\n",
       "    <tr>\n",
       "      <th>...</th>\n",
       "      <td>...</td>\n",
       "      <td>...</td>\n",
       "      <td>...</td>\n",
       "      <td>...</td>\n",
       "      <td>...</td>\n",
       "      <td>...</td>\n",
       "      <td>...</td>\n",
       "      <td>...</td>\n",
       "    </tr>\n",
       "    <tr>\n",
       "      <th>32556</th>\n",
       "      <td>4.0</td>\n",
       "      <td>15.0</td>\n",
       "      <td>4.0</td>\n",
       "      <td>11.0</td>\n",
       "      <td>1.0</td>\n",
       "      <td>4.0</td>\n",
       "      <td>1.0</td>\n",
       "      <td>39.0</td>\n",
       "    </tr>\n",
       "    <tr>\n",
       "      <th>32557</th>\n",
       "      <td>4.0</td>\n",
       "      <td>7.0</td>\n",
       "      <td>2.0</td>\n",
       "      <td>13.0</td>\n",
       "      <td>5.0</td>\n",
       "      <td>4.0</td>\n",
       "      <td>0.0</td>\n",
       "      <td>39.0</td>\n",
       "    </tr>\n",
       "    <tr>\n",
       "      <th>32558</th>\n",
       "      <td>4.0</td>\n",
       "      <td>11.0</td>\n",
       "      <td>2.0</td>\n",
       "      <td>7.0</td>\n",
       "      <td>0.0</td>\n",
       "      <td>4.0</td>\n",
       "      <td>1.0</td>\n",
       "      <td>39.0</td>\n",
       "    </tr>\n",
       "    <tr>\n",
       "      <th>32559</th>\n",
       "      <td>4.0</td>\n",
       "      <td>11.0</td>\n",
       "      <td>6.0</td>\n",
       "      <td>1.0</td>\n",
       "      <td>4.0</td>\n",
       "      <td>4.0</td>\n",
       "      <td>0.0</td>\n",
       "      <td>39.0</td>\n",
       "    </tr>\n",
       "    <tr>\n",
       "      <th>32560</th>\n",
       "      <td>4.0</td>\n",
       "      <td>11.0</td>\n",
       "      <td>4.0</td>\n",
       "      <td>1.0</td>\n",
       "      <td>3.0</td>\n",
       "      <td>4.0</td>\n",
       "      <td>1.0</td>\n",
       "      <td>39.0</td>\n",
       "    </tr>\n",
       "  </tbody>\n",
       "</table>\n",
       "<p>32561 rows × 8 columns</p>\n",
       "</div>"
      ],
      "text/plain": [
       "       workclass  education  marital.status  occupation  relationship  race  \\\n",
       "0            0.0       11.0             6.0         0.0           1.0   4.0   \n",
       "1            4.0       11.0             6.0         4.0           1.0   4.0   \n",
       "2            0.0       15.0             6.0         0.0           4.0   2.0   \n",
       "3            4.0        5.0             0.0         7.0           4.0   4.0   \n",
       "4            4.0       15.0             5.0        10.0           3.0   4.0   \n",
       "...          ...        ...             ...         ...           ...   ...   \n",
       "32556        4.0       15.0             4.0        11.0           1.0   4.0   \n",
       "32557        4.0        7.0             2.0        13.0           5.0   4.0   \n",
       "32558        4.0       11.0             2.0         7.0           0.0   4.0   \n",
       "32559        4.0       11.0             6.0         1.0           4.0   4.0   \n",
       "32560        4.0       11.0             4.0         1.0           3.0   4.0   \n",
       "\n",
       "       sex  native.country  \n",
       "0      0.0            39.0  \n",
       "1      0.0            39.0  \n",
       "2      0.0            39.0  \n",
       "3      0.0            39.0  \n",
       "4      0.0            39.0  \n",
       "...    ...             ...  \n",
       "32556  1.0            39.0  \n",
       "32557  0.0            39.0  \n",
       "32558  1.0            39.0  \n",
       "32559  0.0            39.0  \n",
       "32560  1.0            39.0  \n",
       "\n",
       "[32561 rows x 8 columns]"
      ]
     },
     "execution_count": 15,
     "metadata": {},
     "output_type": "execute_result"
    }
   ],
   "source": [
    "df[cat_cols]"
   ]
  },
  {
   "cell_type": "markdown",
   "id": "7e32cadd-164b-4a6b-bf58-06fe456f5b4b",
   "metadata": {},
   "source": [
    "### Анализ категориальных колонок"
   ]
  },
  {
   "cell_type": "code",
   "execution_count": 16,
   "id": "1fd348a7-ebd6-460a-a466-ce2806e5bd36",
   "metadata": {},
   "outputs": [
    {
     "data": {
      "text/plain": [
       "<matplotlib.collections.PathCollection at 0x1d543c6b970>"
      ]
     },
     "execution_count": 16,
     "metadata": {},
     "output_type": "execute_result"
    },
    {
     "data": {
      "image/png": "[encoded data removed]",
      "text/plain": [
       "<Figure size 432x288 with 1 Axes>"
      ]
     },
     "metadata": {
      "needs_background": "light"
     },
     "output_type": "display_data"
    }
   ],
   "source": [
    "plt.scatter(df['workclass'], df['income'])"
   ]
  },
  {
   "cell_type": "code",
   "execution_count": 17,
   "id": "8ba4f248-3363-4000-8084-b83f228bba1a",
   "metadata": {},
   "outputs": [
    {
     "data": {
      "text/plain": [
       "<matplotlib.collections.PathCollection at 0x1d543c6bf70>"
      ]
     },
     "execution_count": 17,
     "metadata": {},
     "output_type": "execute_result"
    },
    {
     "data": {
      "image/png": "[encoded data removed]",
      "text/plain": [
       "<Figure size 432x288 with 1 Axes>"
      ]
     },
     "metadata": {
      "needs_background": "light"
     },
     "output_type": "display_data"
    }
   ],
   "source": [
    "plt.scatter(df['education'], df['income'])"
   ]
  },
  {
   "cell_type": "code",
   "execution_count": 18,
   "id": "d22364fc-cd2a-4d92-9b3d-a61c3879e5d8",
   "metadata": {},
   "outputs": [
    {
     "data": {
      "text/plain": [
       "<matplotlib.collections.PathCollection at 0x1d54725c9a0>"
      ]
     },
     "execution_count": 18,
     "metadata": {},
     "output_type": "execute_result"
    },
    {
     "data": {
      "image/png": "[encoded data removed]",
      "text/plain": [
       "<Figure size 432x288 with 1 Axes>"
      ]
     },
     "metadata": {
      "needs_background": "light"
     },
     "output_type": "display_data"
    }
   ],
   "source": [
    "plt.scatter(df['marital.status'], df['income'])"
   ]
  },
  {
   "cell_type": "code",
   "execution_count": 19,
   "id": "7e5b8e3c-9c82-4922-ae14-e35d8b0530d8",
   "metadata": {},
   "outputs": [
    {
     "data": {
      "text/plain": [
       "<matplotlib.collections.PathCollection at 0x1d5472a3f70>"
      ]
     },
     "execution_count": 19,
     "metadata": {},
     "output_type": "execute_result"
    },
    {
     "data": {
      "image/png": "[encoded data removed]",
      "text/plain": [
       "<Figure size 432x288 with 1 Axes>"
      ]
     },
     "metadata": {
      "needs_background": "light"
     },
     "output_type": "display_data"
    }
   ],
   "source": [
    "plt.scatter(df['occupation'], df['income'])"
   ]
  },
  {
   "cell_type": "code",
   "execution_count": 20,
   "id": "3974dbdc-2ba2-4495-b17b-59801e5a3fa8",
   "metadata": {},
   "outputs": [
    {
     "data": {
      "text/plain": [
       "<matplotlib.collections.PathCollection at 0x1d547313fd0>"
      ]
     },
     "execution_count": 20,
     "metadata": {},
     "output_type": "execute_result"
    },
    {
     "data": {
      "image/png": "[encoded data removed]",
      "text/plain": [
       "<Figure size 432x288 with 1 Axes>"
      ]
     },
     "metadata": {
      "needs_background": "light"
     },
     "output_type": "display_data"
    }
   ],
   "source": [
    "plt.scatter(df['relationship'], df['income'])"
   ]
  },
  {
   "cell_type": "code",
   "execution_count": 21,
   "id": "2dc89ba0-7738-4052-8059-ce9556ee9705",
   "metadata": {},
   "outputs": [
    {
     "data": {
      "text/plain": [
       "<matplotlib.collections.PathCollection at 0x1d547377220>"
      ]
     },
     "execution_count": 21,
     "metadata": {},
     "output_type": "execute_result"
    },
    {
     "data": {
      "image/png": "[encoded data removed]",
      "text/plain": [
       "<Figure size 432x288 with 1 Axes>"
      ]
     },
     "metadata": {
      "needs_background": "light"
     },
     "output_type": "display_data"
    }
   ],
   "source": [
    "plt.scatter(df['race'], df['income'])"
   ]
  },
  {
   "cell_type": "code",
   "execution_count": 22,
   "id": "98551d47-42c7-43ed-ae54-b47432617e61",
   "metadata": {},
   "outputs": [
    {
     "data": {
      "text/plain": [
       "<matplotlib.collections.PathCollection at 0x1d54739d420>"
      ]
     },
     "execution_count": 22,
     "metadata": {},
     "output_type": "execute_result"
    },
    {
     "data": {
      "image/png": "[encoded data removed]",
      "text/plain": [
       "<Figure size 432x288 with 1 Axes>"
      ]
     },
     "metadata": {
      "needs_background": "light"
     },
     "output_type": "display_data"
    }
   ],
   "source": [
    "plt.scatter(df['sex'], df['income'])"
   ]
  },
  {
   "cell_type": "code",
   "execution_count": 23,
   "id": "2b0cb65c-760b-4f62-b1d0-7d962ce0947f",
   "metadata": {},
   "outputs": [
    {
     "data": {
      "text/plain": [
       "<matplotlib.collections.PathCollection at 0x1d54744a980>"
      ]
     },
     "execution_count": 23,
     "metadata": {},
     "output_type": "execute_result"
    },
    {
     "data": {
      "image/png": "[encoded data removed]",
      "text/plain": [
       "<Figure size 432x288 with 1 Axes>"
      ]
     },
     "metadata": {
      "needs_background": "light"
     },
     "output_type": "display_data"
    }
   ],
   "source": [
    "plt.scatter(df['native.country'], df['income'])"
   ]
  },
  {
   "cell_type": "markdown",
   "id": "830334e2-c7fe-4868-87eb-455741d2b21c",
   "metadata": {},
   "source": [
    "### Шкалирование"
   ]
  },
  {
   "cell_type": "code",
   "execution_count": 24,
   "id": "bf09ea6c-2b46-4d68-b3a1-11609cdd681a",
   "metadata": {},
   "outputs": [
    {
     "data": {
      "text/html": [
       "<div>\n",
       "<style scoped>\n",
       "    .dataframe tbody tr th:only-of-type {\n",
       "        vertical-align: middle;\n",
       "    }\n",
       "\n",
       "    .dataframe tbody tr th {\n",
       "        vertical-align: top;\n",
       "    }\n",
       "\n",
       "    .dataframe thead th {\n",
       "        text-align: right;\n",
       "    }\n",
       "</style>\n",
       "<table border=\"1\" class=\"dataframe\">\n",
       "  <thead>\n",
       "    <tr style=\"text-align: right;\">\n",
       "      <th></th>\n",
       "      <th>age</th>\n",
       "      <th>fnlwgt</th>\n",
       "      <th>education.num</th>\n",
       "      <th>capital.gain</th>\n",
       "      <th>capital.loss</th>\n",
       "      <th>hours.per.week</th>\n",
       "      <th>income</th>\n",
       "      <th>workclass</th>\n",
       "      <th>education</th>\n",
       "      <th>marital.status</th>\n",
       "      <th>occupation</th>\n",
       "      <th>relationship</th>\n",
       "      <th>race</th>\n",
       "      <th>sex</th>\n",
       "      <th>native.country</th>\n",
       "    </tr>\n",
       "  </thead>\n",
       "  <tbody>\n",
       "    <tr>\n",
       "      <th>count</th>\n",
       "      <td>32561.000000</td>\n",
       "      <td>32561.000000</td>\n",
       "      <td>32561.000000</td>\n",
       "      <td>32561.000000</td>\n",
       "      <td>32561.000000</td>\n",
       "      <td>32561.000000</td>\n",
       "      <td>32561.000000</td>\n",
       "      <td>32561.000000</td>\n",
       "      <td>32561.000000</td>\n",
       "      <td>32561.000000</td>\n",
       "      <td>32561.000000</td>\n",
       "      <td>32561.000000</td>\n",
       "      <td>32561.000000</td>\n",
       "      <td>32561.000000</td>\n",
       "      <td>32561.000000</td>\n",
       "    </tr>\n",
       "    <tr>\n",
       "      <th>mean</th>\n",
       "      <td>0.295639</td>\n",
       "      <td>0.120545</td>\n",
       "      <td>0.605379</td>\n",
       "      <td>0.010777</td>\n",
       "      <td>0.020042</td>\n",
       "      <td>0.402423</td>\n",
       "      <td>0.240810</td>\n",
       "      <td>0.483612</td>\n",
       "      <td>0.686547</td>\n",
       "      <td>0.435306</td>\n",
       "      <td>0.469481</td>\n",
       "      <td>0.289272</td>\n",
       "      <td>0.916464</td>\n",
       "      <td>0.669205</td>\n",
       "      <td>0.895582</td>\n",
       "    </tr>\n",
       "    <tr>\n",
       "      <th>std</th>\n",
       "      <td>0.186855</td>\n",
       "      <td>0.071685</td>\n",
       "      <td>0.171515</td>\n",
       "      <td>0.073854</td>\n",
       "      <td>0.092507</td>\n",
       "      <td>0.125994</td>\n",
       "      <td>0.427581</td>\n",
       "      <td>0.181995</td>\n",
       "      <td>0.258018</td>\n",
       "      <td>0.251037</td>\n",
       "      <td>0.302061</td>\n",
       "      <td>0.321354</td>\n",
       "      <td>0.212201</td>\n",
       "      <td>0.470506</td>\n",
       "      <td>0.190824</td>\n",
       "    </tr>\n",
       "    <tr>\n",
       "      <th>min</th>\n",
       "      <td>0.000000</td>\n",
       "      <td>0.000000</td>\n",
       "      <td>0.000000</td>\n",
       "      <td>0.000000</td>\n",
       "      <td>0.000000</td>\n",
       "      <td>0.000000</td>\n",
       "      <td>0.000000</td>\n",
       "      <td>0.000000</td>\n",
       "      <td>0.000000</td>\n",
       "      <td>0.000000</td>\n",
       "      <td>0.000000</td>\n",
       "      <td>0.000000</td>\n",
       "      <td>0.000000</td>\n",
       "      <td>0.000000</td>\n",
       "      <td>0.000000</td>\n",
       "    </tr>\n",
       "    <tr>\n",
       "      <th>25%</th>\n",
       "      <td>0.150685</td>\n",
       "      <td>0.071679</td>\n",
       "      <td>0.533333</td>\n",
       "      <td>0.000000</td>\n",
       "      <td>0.000000</td>\n",
       "      <td>0.397959</td>\n",
       "      <td>0.000000</td>\n",
       "      <td>0.500000</td>\n",
       "      <td>0.600000</td>\n",
       "      <td>0.333333</td>\n",
       "      <td>0.214286</td>\n",
       "      <td>0.000000</td>\n",
       "      <td>1.000000</td>\n",
       "      <td>0.000000</td>\n",
       "      <td>0.951220</td>\n",
       "    </tr>\n",
       "    <tr>\n",
       "      <th>50%</th>\n",
       "      <td>0.273973</td>\n",
       "      <td>0.112788</td>\n",
       "      <td>0.600000</td>\n",
       "      <td>0.000000</td>\n",
       "      <td>0.000000</td>\n",
       "      <td>0.397959</td>\n",
       "      <td>0.000000</td>\n",
       "      <td>0.500000</td>\n",
       "      <td>0.733333</td>\n",
       "      <td>0.333333</td>\n",
       "      <td>0.500000</td>\n",
       "      <td>0.200000</td>\n",
       "      <td>1.000000</td>\n",
       "      <td>1.000000</td>\n",
       "      <td>0.951220</td>\n",
       "    </tr>\n",
       "    <tr>\n",
       "      <th>75%</th>\n",
       "      <td>0.424658</td>\n",
       "      <td>0.152651</td>\n",
       "      <td>0.733333</td>\n",
       "      <td>0.000000</td>\n",
       "      <td>0.000000</td>\n",
       "      <td>0.448980</td>\n",
       "      <td>0.000000</td>\n",
       "      <td>0.500000</td>\n",
       "      <td>0.800000</td>\n",
       "      <td>0.666667</td>\n",
       "      <td>0.714286</td>\n",
       "      <td>0.600000</td>\n",
       "      <td>1.000000</td>\n",
       "      <td>1.000000</td>\n",
       "      <td>0.951220</td>\n",
       "    </tr>\n",
       "    <tr>\n",
       "      <th>max</th>\n",
       "      <td>1.000000</td>\n",
       "      <td>1.000000</td>\n",
       "      <td>1.000000</td>\n",
       "      <td>1.000000</td>\n",
       "      <td>1.000000</td>\n",
       "      <td>1.000000</td>\n",
       "      <td>1.000000</td>\n",
       "      <td>1.000000</td>\n",
       "      <td>1.000000</td>\n",
       "      <td>1.000000</td>\n",
       "      <td>1.000000</td>\n",
       "      <td>1.000000</td>\n",
       "      <td>1.000000</td>\n",
       "      <td>1.000000</td>\n",
       "      <td>1.000000</td>\n",
       "    </tr>\n",
       "  </tbody>\n",
       "</table>\n",
       "</div>"
      ],
      "text/plain": [
       "                age        fnlwgt  education.num  capital.gain  capital.loss  \\\n",
       "count  32561.000000  32561.000000   32561.000000  32561.000000  32561.000000   \n",
       "mean       0.295639      0.120545       0.605379      0.010777      0.020042   \n",
       "std        0.186855      0.071685       0.171515      0.073854      0.092507   \n",
       "min        0.000000      0.000000       0.000000      0.000000      0.000000   \n",
       "25%        0.150685      0.071679       0.533333      0.000000      0.000000   \n",
       "50%        0.273973      0.112788       0.600000      0.000000      0.000000   \n",
       "75%        0.424658      0.152651       0.733333      0.000000      0.000000   \n",
       "max        1.000000      1.000000       1.000000      1.000000      1.000000   \n",
       "\n",
       "       hours.per.week        income     workclass     education  \\\n",
       "count    32561.000000  32561.000000  32561.000000  32561.000000   \n",
       "mean         0.402423      0.240810      0.483612      0.686547   \n",
       "std          0.125994      0.427581      0.181995      0.258018   \n",
       "min          0.000000      0.000000      0.000000      0.000000   \n",
       "25%          0.397959      0.000000      0.500000      0.600000   \n",
       "50%          0.397959      0.000000      0.500000      0.733333   \n",
       "75%          0.448980      0.000000      0.500000      0.800000   \n",
       "max          1.000000      1.000000      1.000000      1.000000   \n",
       "\n",
       "       marital.status    occupation  relationship          race           sex  \\\n",
       "count    32561.000000  32561.000000  32561.000000  32561.000000  32561.000000   \n",
       "mean         0.435306      0.469481      0.289272      0.916464      0.669205   \n",
       "std          0.251037      0.302061      0.321354      0.212201      0.470506   \n",
       "min          0.000000      0.000000      0.000000      0.000000      0.000000   \n",
       "25%          0.333333      0.214286      0.000000      1.000000      0.000000   \n",
       "50%          0.333333      0.500000      0.200000      1.000000      1.000000   \n",
       "75%          0.666667      0.714286      0.600000      1.000000      1.000000   \n",
       "max          1.000000      1.000000      1.000000      1.000000      1.000000   \n",
       "\n",
       "       native.country  \n",
       "count    32561.000000  \n",
       "mean         0.895582  \n",
       "std          0.190824  \n",
       "min          0.000000  \n",
       "25%          0.951220  \n",
       "50%          0.951220  \n",
       "75%          0.951220  \n",
       "max          1.000000  "
      ]
     },
     "execution_count": 24,
     "metadata": {},
     "output_type": "execute_result"
    }
   ],
   "source": [
    "scaler = MinMaxScaler()\n",
    "df[num_cols + cat_cols] = scaler.fit_transform(df[num_cols + cat_cols])\n",
    "df[num_cols + cat_cols].describe()"
   ]
  },
  {
   "cell_type": "markdown",
   "id": "7306326e-885c-4665-80b2-4d9fe529e886",
   "metadata": {},
   "source": [
    "### Финальная обработка"
   ]
  },
  {
   "cell_type": "code",
   "execution_count": 48,
   "id": "f1c69f34-8757-4035-a506-e94ea2d2181d",
   "metadata": {},
   "outputs": [],
   "source": [
    "train_df, test_df = train_test_split(df,  test_size=0.25, random_state=r_state)"
   ]
  },
  {
   "cell_type": "code",
   "execution_count": 49,
   "id": "1de29a45-f748-43b6-b94f-2e074498edc8",
   "metadata": {},
   "outputs": [],
   "source": [
    "X_train = train_df[num_cols + cat_cols]\n",
    "X_test = test_df[num_cols + cat_cols]\n",
    "\n",
    "y_train = train_df['income'].to_numpy(dtype = int)*2-1\n",
    "y_test = test_df['income'].to_numpy(dtype = int)*2-1"
   ]
  },
  {
   "cell_type": "code",
   "execution_count": 50,
   "id": "9e9b97d4-1d3a-4c5a-b96a-1e72e8e2d63e",
   "metadata": {},
   "outputs": [],
   "source": [
    "X = np.vstack([np.random.normal(size=10000), np.random.normal(size=10000)]).T"
   ]
  },
  {
   "cell_type": "code",
   "execution_count": 51,
   "id": "3016ccdb-54e2-42b3-94dd-500118f3566f",
   "metadata": {},
   "outputs": [],
   "source": [
    "y = 1 / (1 + (np.exp(-(X[:, 0]*2 + X[:, 1]*7 + np.random.normal(size=10000)))))\n",
    "y = (y > np.percentile(y, 5)).astype(int)"
   ]
  },
  {
   "cell_type": "markdown",
   "id": "c960d048-d21f-4b7d-9238-256e1f0f3771",
   "metadata": {},
   "source": [
    "## Логистическая регрессия"
   ]
  },
  {
   "cell_type": "code",
   "execution_count": 74,
   "id": "6e9f3c6d",
   "metadata": {
    "id": "6e9f3c6d"
   },
   "outputs": [],
   "source": [
    "sigmoid = lambda z: 1/(1+np.exp(-z))\n",
    "\n",
    "def logloss(X, y, w, lamb1, lamb2):\n",
    "    return -(y*np.log(sigmoid(X@w)) + (1 - y)* np.log(1 - sigmoid(X@w))).mean() + lamb1 * sum(abs(w)) + lamb2 * sum(w*w)\n",
    "\n",
    "class LogisticRegression:\n",
    "    def __init__(self, lr=1e-4, lamb1 = 0, lamb2 = 0):\n",
    "        self.w = None\n",
    "        self.b = None\n",
    "        self.lr = lr\n",
    "        self.lamb1 = lamb1\n",
    "        self.lamb2 = lamb2\n",
    "\n",
    "\n",
    "    def fit(self, X, y, c_epoch=1000, k = 4):\n",
    "        \n",
    "        X = np.hstack([X, np.ones((X.shape[0], 1))])\n",
    "        \n",
    "        data = np.hstack([X, y.reshape(y.shape[0],1)])\n",
    "        r, l = X.shape\n",
    "        \n",
    "        self.w = np.ones(l)\n",
    "        \n",
    "        \n",
    "        print(X.shape)\n",
    "        print(data[0])\n",
    "        print(self.w.shape)\n",
    "        \n",
    "        for i in range(c_epoch):\n",
    "            \n",
    "            np.random.shuffle(data)\n",
    "            \n",
    "            for j in range(0, r - k,k):\n",
    "                new_X = data[j:j + k, :-1]\n",
    "                new_y = data[j:j + k, -1]\n",
    "                self.w -= self.lr * ((sigmoid(new_X @ self.w) - new_y).T @ new_X/k + self.lamb1 * np.sign(self.w) + 2 * self.lamb2 * self.w )\n",
    "            print(i,':', logloss(X, y, self.w, self.lamb1, self.lamb2))\n",
    "        \n",
    "        self.b = self.w[-1]\n",
    "        self.w = self.w[:-1] \n",
    "            \n",
    "    def predict_proba(self, X):\n",
    "        return sigmoid(X @ self.w + self.b)\n",
    "    \n",
    "    def predict(self, X): \n",
    "        return (sigmoid(X @ self.w + self.b) > 0.5).astype(int)"
   ]
  },
  {
   "cell_type": "markdown",
   "id": "cf759f70-f3bf-425d-88c4-25033bf52f3c",
   "metadata": {},
   "source": [
    "### Логрег на случайных числах"
   ]
  },
  {
   "cell_type": "code",
   "execution_count": 76,
   "id": "776fad6f-c4c3-427c-895c-b78754f1befe",
   "metadata": {},
   "outputs": [],
   "source": [
    "lr = LogisticRegression()"
   ]
  },
  {
   "cell_type": "code",
   "execution_count": 77,
   "id": "6ed5528a-7232-4ac5-9d9e-6ab5ea3f08a9",
   "metadata": {},
   "outputs": [
    {
     "name": "stdout",
     "output_type": "stream",
     "text": [
      "(10000, 3)\n",
      "[-0.55829382  1.19103194  1.          1.        ]\n",
      "(3,)\n",
      "0 : 0.4153099609468209\n",
      "1 : 0.4152217732202795\n",
      "2 : 0.41513372120141495\n",
      "3 : 0.4150458849406005\n",
      "4 : 0.4149579857159706\n",
      "5 : 0.41486958081081127\n",
      "6 : 0.41478096919253166\n",
      "7 : 0.41469285527157324\n",
      "8 : 0.414604524428274\n",
      "9 : 0.414517166728489\n",
      "10 : 0.4144291722310969\n",
      "11 : 0.41434125152400647\n",
      "12 : 0.414253383562175\n",
      "13 : 0.41416553085368824\n",
      "14 : 0.4140779789277356\n",
      "15 : 0.413989737229175\n",
      "16 : 0.41390198538410894\n",
      "17 : 0.4138142372549383\n",
      "18 : 0.413726480158557\n",
      "19 : 0.4136388892623082\n",
      "20 : 0.41355115462258146\n",
      "21 : 0.4134637397744612\n",
      "22 : 0.4133760176799942\n",
      "23 : 0.41328841592545895\n",
      "24 : 0.4132007784698882\n",
      "25 : 0.4131135316341338\n",
      "26 : 0.4130256184547461\n",
      "27 : 0.41293776500939866\n",
      "28 : 0.4128506104789044\n",
      "29 : 0.412763357543443\n",
      "30 : 0.41267606228015263\n",
      "31 : 0.41258907370386066\n",
      "32 : 0.41250200134705756\n",
      "33 : 0.41241424883855604\n",
      "34 : 0.412327139159279\n",
      "35 : 0.41224094742572953\n",
      "36 : 0.41215388014786886\n",
      "37 : 0.4120663472190958\n",
      "38 : 0.4119792230764285\n",
      "39 : 0.4118920026348458\n",
      "40 : 0.4118051470059075\n",
      "41 : 0.4117179312401632\n",
      "42 : 0.41163049287727954\n",
      "43 : 0.4115434850629774\n",
      "44 : 0.41145655660322245\n",
      "45 : 0.4113695349659682\n",
      "46 : 0.4112821878182788\n",
      "47 : 0.4111952767338349\n",
      "48 : 0.41110899920175936\n",
      "49 : 0.4110224923701167\n",
      "50 : 0.41093615459622324\n",
      "51 : 0.4108494173106572\n",
      "52 : 0.4107627768199972\n",
      "53 : 0.4106764065182452\n",
      "54 : 0.4105897772888492\n",
      "55 : 0.4105031868410389\n",
      "56 : 0.4104167913359851\n",
      "57 : 0.410330871686943\n",
      "58 : 0.4102448615718324\n",
      "59 : 0.41015888822824015\n",
      "60 : 0.41007269466761825\n",
      "61 : 0.40998701534521076\n",
      "62 : 0.4099006653581142\n",
      "63 : 0.4098146069869481\n",
      "64 : 0.4097282371090255\n",
      "65 : 0.4096419347172403\n",
      "66 : 0.40955574302711045\n",
      "67 : 0.4094688286552361\n",
      "68 : 0.4093828644532512\n",
      "69 : 0.40929631960524065\n",
      "70 : 0.40921032098156507\n",
      "71 : 0.40912459741820867\n",
      "72 : 0.4090379858485685\n",
      "73 : 0.40895170201000686\n",
      "74 : 0.4088659179387956\n",
      "75 : 0.40877920263941914\n",
      "76 : 0.4086934774695875\n",
      "77 : 0.408607446387475\n",
      "78 : 0.4085215318946708\n",
      "79 : 0.40843570036507026\n",
      "80 : 0.40834992526107955\n",
      "81 : 0.40826410108242306\n",
      "82 : 0.4081783707768818\n",
      "83 : 0.40809307004253503\n",
      "84 : 0.4080071137268903\n",
      "85 : 0.40792152364313317\n",
      "86 : 0.4078357219173352\n",
      "87 : 0.4077500120743407\n",
      "88 : 0.4076646207063847\n",
      "89 : 0.4075787877408898\n",
      "90 : 0.40749359796717477\n",
      "91 : 0.4074087134834201\n",
      "92 : 0.40732332796260023\n",
      "93 : 0.4072384466934689\n",
      "94 : 0.4071524818082647\n",
      "95 : 0.40706699481805\n",
      "96 : 0.40698145483512743\n",
      "97 : 0.4068960735889702\n",
      "98 : 0.40681078324006337\n",
      "99 : 0.4067249675557414\n"
     ]
    }
   ],
   "source": [
    "lr.fit(X, y, c_epoch = 100, k =1000)"
   ]
  },
  {
   "cell_type": "code",
   "execution_count": 79,
   "id": "d96d6dfd-3595-4235-b639-de7300a400f5",
   "metadata": {},
   "outputs": [
    {
     "data": {
      "text/plain": [
       "0.8181"
      ]
     },
     "execution_count": 79,
     "metadata": {},
     "output_type": "execute_result"
    }
   ],
   "source": [
    "accuracy_score(y, lr.predict(X))"
   ]
  },
  {
   "cell_type": "markdown",
   "id": "b7287790-25fa-49d5-9b95-9bcc70491392",
   "metadata": {},
   "source": [
    "### Логрег на взрослых"
   ]
  },
  {
   "cell_type": "code",
   "execution_count": 56,
   "id": "0d3a2e13-2c3b-4c1b-85d1-42d3a87dd52f",
   "metadata": {},
   "outputs": [
    {
     "name": "stdout",
     "output_type": "stream",
     "text": [
      "(24420, 16)\n",
      "[0.28767123 0.11075305 0.33333333 0.         0.58746556 0.90816327\n",
      " 1.         0.5        0.         0.66666667 0.71428571 0.2\n",
      " 1.         1.         0.95121951 1.         1.        ]\n",
      "(16,)\n",
      "0 : 10.872878694003415\n",
      "1 : 10.8465302300435\n",
      "2 : 10.820162893465618\n",
      "3 : 10.793806008227767\n",
      "4 : 10.767428373462563\n",
      "5 : 10.741085327866873\n",
      "6 : 10.714718863227677\n",
      "7 : 10.688362992063242\n",
      "8 : 10.661989697011801\n",
      "9 : 10.635614937364872\n",
      "10 : 10.609258738452283\n",
      "11 : 10.582894034898903\n",
      "12 : 10.556531388013902\n",
      "13 : 10.53016603039103\n",
      "14 : 10.503800298223466\n",
      "15 : 10.477451354472539\n",
      "16 : 10.451088882910954\n",
      "17 : 10.424717595207241\n",
      "18 : 10.398363031747062\n",
      "19 : 10.372013759415749\n",
      "20 : 10.345625476563477\n",
      "21 : 10.319284438528761\n",
      "22 : 10.29292604743018\n",
      "23 : 10.26656019541786\n",
      "24 : 10.240199732136697\n",
      "25 : 10.213856036291157\n",
      "26 : 10.187508534913693\n",
      "27 : 10.161180822294616\n",
      "28 : 10.134822743781296\n",
      "29 : 10.108493961901416\n",
      "30 : 10.082117385146994\n",
      "31 : 10.055773563711194\n",
      "32 : 10.02943084583642\n",
      "33 : 10.003087393714942\n",
      "34 : 9.976727237946152\n",
      "35 : 9.95038455186857\n",
      "36 : 9.924040827159821\n",
      "37 : 9.89769076842386\n",
      "38 : 9.871319102851643\n",
      "39 : 9.844971185343928\n",
      "40 : 9.818626917189507\n",
      "41 : 9.792299387432955\n",
      "42 : 9.765950243795597\n",
      "43 : 9.739601243804847\n",
      "44 : 9.71327005958237\n",
      "45 : 9.686958122604569\n",
      "46 : 9.660619633502675\n",
      "47 : 9.634281808830313\n",
      "48 : 9.607962074113773\n",
      "49 : 9.581622664363636\n",
      "50 : 9.555291635455626\n",
      "51 : 9.528948191485043\n",
      "52 : 9.50260570229645\n",
      "53 : 9.476281466428032\n",
      "54 : 9.449947777019435\n",
      "55 : 9.423622998656525\n",
      "56 : 9.397305079866983\n",
      "57 : 9.370966049834893\n",
      "58 : 9.344633227840056\n",
      "59 : 9.31832359890039\n",
      "60 : 9.29199973639004\n",
      "61 : 9.265697295004445\n",
      "62 : 9.23937961029717\n",
      "63 : 9.213047476515046\n",
      "64 : 9.186735568338827\n",
      "65 : 9.160423605158776\n",
      "66 : 9.13410040747199\n",
      "67 : 9.107774315914282\n",
      "68 : 9.081449837322321\n",
      "69 : 9.055170745919682\n",
      "70 : 9.02884941495882\n",
      "71 : 9.002534320576219\n",
      "72 : 8.976228513675888\n",
      "73 : 8.949928416770911\n",
      "74 : 8.923616178912155\n",
      "75 : 8.897296136151466\n",
      "76 : 8.871007457261403\n",
      "77 : 8.8447135065564\n",
      "78 : 8.81840921389669\n",
      "79 : 8.792120161231567\n",
      "80 : 8.765831015438415\n",
      "81 : 8.739543490435166\n",
      "82 : 8.713250455607236\n",
      "83 : 8.686971905691985\n",
      "84 : 8.660686651490176\n",
      "85 : 8.634425344611348\n",
      "86 : 8.608125430225288\n",
      "87 : 8.581851089967309\n",
      "88 : 8.555595523230625\n",
      "89 : 8.529339763438683\n",
      "90 : 8.503071354111215\n",
      "91 : 8.476806428053713\n",
      "92 : 8.450535419745028\n",
      "93 : 8.424275853229169\n",
      "94 : 8.398007637997088\n",
      "95 : 8.371728621017546\n",
      "96 : 8.345487254174921\n",
      "97 : 8.319241232319932\n",
      "98 : 8.292968019632015\n",
      "99 : 8.266715989918747\n"
     ]
    }
   ],
   "source": [
    "lr.fit(X_train, y_train, c_epoch = 100, k =1000)"
   ]
  },
  {
   "cell_type": "code",
   "execution_count": 57,
   "id": "2939e4bc-a62c-4ada-898d-0802c2d9c109",
   "metadata": {},
   "outputs": [
    {
     "data": {
      "text/plain": [
       "0.24148239148239148"
      ]
     },
     "execution_count": 57,
     "metadata": {},
     "output_type": "execute_result"
    }
   ],
   "source": [
    "accuracy_score(y_train, lr.predict(X_train))"
   ]
  },
  {
   "cell_type": "code",
   "execution_count": 58,
   "id": "77677a28-1323-49dc-abd2-e44f850652bb",
   "metadata": {},
   "outputs": [
    {
     "data": {
      "text/plain": [
       "0.23879130327969536"
      ]
     },
     "execution_count": 58,
     "metadata": {},
     "output_type": "execute_result"
    }
   ],
   "source": [
    "accuracy_score(y_test, lr.predict(X_test))"
   ]
  },
  {
   "cell_type": "markdown",
   "id": "394661c6-fcb8-4e63-9afc-4a9afcc33d18",
   "metadata": {},
   "source": [
    "### Логрег на взрослых L1 регуляризация"
   ]
  },
  {
   "cell_type": "code",
   "execution_count": 59,
   "id": "908599ab-5a3c-4f0e-8c02-5e9e3449cdf5",
   "metadata": {},
   "outputs": [],
   "source": [
    "lr1 = LogisticRegression(lamb1 = 5)"
   ]
  },
  {
   "cell_type": "code",
   "execution_count": 60,
   "id": "c1f855e3-018f-496b-b468-72ed8f89cec3",
   "metadata": {},
   "outputs": [
    {
     "name": "stdout",
     "output_type": "stream",
     "text": [
      "(24420, 16)\n",
      "[0.28767123 0.11075305 0.33333333 0.         0.58746556 0.90816327\n",
      " 1.         0.5        0.         0.66666667 0.71428571 0.2\n",
      " 1.         1.         0.95121951 1.         1.        ]\n",
      "(16,)\n",
      "0 : 89.65153585822253\n",
      "1 : 88.40375034088589\n",
      "2 : 87.15591030598928\n",
      "3 : 85.9082688763496\n",
      "4 : 84.66054198612456\n",
      "5 : 83.41275102026101\n",
      "6 : 82.16521467502889\n",
      "7 : 80.91770280080652\n",
      "8 : 79.67014602443439\n",
      "9 : 78.42267092716685\n",
      "10 : 77.17512795473368\n",
      "11 : 75.92775163611338\n",
      "12 : 74.68042285361149\n",
      "13 : 73.43307636502054\n",
      "14 : 72.18575906619448\n",
      "15 : 70.93848828869963\n",
      "16 : 69.6911864946734\n",
      "17 : 68.4441590305683\n",
      "18 : 67.19731543318139\n",
      "19 : 65.9505010165909\n",
      "20 : 64.70371650486769\n",
      "21 : 63.45710502718062\n",
      "22 : 62.21068306104411\n",
      "23 : 60.964398625100756\n",
      "24 : 59.71834423017949\n",
      "25 : 58.4724434394169\n",
      "26 : 57.22671538502173\n",
      "27 : 55.98131131504027\n",
      "28 : 54.73603689256654\n",
      "29 : 53.49107596297985\n",
      "30 : 52.2464464232828\n",
      "31 : 51.002181633010345\n",
      "32 : 49.75825465855819\n",
      "33 : 48.51476547062217\n",
      "34 : 47.27190705784772\n",
      "35 : 46.02946722230465\n",
      "36 : 44.78769793973058\n",
      "37 : 43.54648334840789\n",
      "38 : 42.30591293063964\n",
      "39 : 41.06618501430347\n",
      "40 : 39.82731881667807\n",
      "41 : 38.58928276418927\n",
      "42 : 37.35227292907671\n",
      "43 : 36.116432186143925\n",
      "44 : 34.881857755682034\n",
      "45 : 33.64854723383437\n",
      "46 : 32.41679405893482\n",
      "47 : 31.186710279926146\n",
      "48 : 29.958462147314208\n",
      "49 : 28.732076659042676\n",
      "50 : 27.50780254651386\n",
      "51 : 26.28579105604398\n",
      "52 : 25.066132718469568\n",
      "53 : 23.849021535907276\n",
      "54 : 22.63478614839535\n",
      "55 : 21.42368988992227\n",
      "56 : 20.215810659188197\n",
      "57 : 19.011352744724626\n",
      "58 : 17.810582668659016\n",
      "59 : 16.613827680334946\n",
      "60 : 15.421137739060722\n",
      "61 : 14.232797982191611\n",
      "62 : 13.049016698628545\n",
      "63 : 11.869870399489848\n",
      "64 : 10.733524953239195\n",
      "65 : 9.654901719785755\n",
      "66 : 8.732436484281084\n",
      "67 : 7.831608878304069\n",
      "68 : 6.932354912252116\n",
      "69 : 6.045304100024203\n",
      "70 : 5.226253139821207\n",
      "71 : 4.512888397684694\n",
      "72 : 3.8462100631953486\n",
      "73 : 3.2634570148877677\n",
      "74 : 2.816511574648311\n",
      "75 : 2.427727221925002\n",
      "76 : 2.1133048144583455\n",
      "77 : 1.8393121934226495\n",
      "78 : 1.5981589794681772\n",
      "79 : 1.3533667243711498\n",
      "80 : 1.1364150044345955\n",
      "81 : 0.9581711635594926\n",
      "82 : 0.7839084772660334\n",
      "83 : 0.7119236356032442\n",
      "84 : 0.7094249317325453\n",
      "85 : 0.7126839300208733\n",
      "86 : 0.7132731497532427\n",
      "87 : 0.7148561335478056\n",
      "88 : 0.7186862771410578\n",
      "89 : 0.7120450690565165\n",
      "90 : 0.7102712676819405\n",
      "91 : 0.7101867103298816\n",
      "92 : 0.7097226826195479\n",
      "93 : 0.7138711275171731\n",
      "94 : 0.7114385611030359\n",
      "95 : 0.7115569573949148\n",
      "96 : 0.7144031930446799\n",
      "97 : 0.7134095514064731\n",
      "98 : 0.7128975264844059\n",
      "99 : 0.7149418916118984\n"
     ]
    }
   ],
   "source": [
    "lr1.fit(X_train, y_train, c_epoch = 100, k =1000)"
   ]
  },
  {
   "cell_type": "code",
   "execution_count": 61,
   "id": "0db25e6f-62eb-401b-b124-99fa88f8af5c",
   "metadata": {},
   "outputs": [
    {
     "data": {
      "text/plain": [
       "0.0017608517608517608"
      ]
     },
     "execution_count": 61,
     "metadata": {},
     "output_type": "execute_result"
    }
   ],
   "source": [
    "accuracy_score(y_train, lr1.predict(X_train))"
   ]
  },
  {
   "cell_type": "code",
   "execution_count": 62,
   "id": "f2bdc304-e8c2-4d39-aa60-8a595884b1ba",
   "metadata": {},
   "outputs": [
    {
     "data": {
      "text/plain": [
       "0.0015968554231666871"
      ]
     },
     "execution_count": 62,
     "metadata": {},
     "output_type": "execute_result"
    }
   ],
   "source": [
    "accuracy_score(y_test, lr1.predict(X_test))"
   ]
  },
  {
   "cell_type": "markdown",
   "id": "edfe994e-6062-4dd1-9d5b-be951dae3564",
   "metadata": {},
   "source": [
    "### Логрег на взрослых L2 регуляризация"
   ]
  },
  {
   "cell_type": "code",
   "execution_count": 63,
   "id": "97c218d2-e2fe-4742-bcdc-e63bd5d0da22",
   "metadata": {},
   "outputs": [],
   "source": [
    "lr2 = LogisticRegression(lamb2 = 5)"
   ]
  },
  {
   "cell_type": "code",
   "execution_count": 64,
   "id": "ede16646-2114-4a84-9cf3-0a760a063bce",
   "metadata": {},
   "outputs": [
    {
     "name": "stdout",
     "output_type": "stream",
     "text": [
      "(24420, 16)\n",
      "[0.28767123 0.11075305 0.33333333 0.         0.58746556 0.90816327\n",
      " 1.         0.5        0.         0.66666667 0.71428571 0.2\n",
      " 1.         1.         0.95121951 1.         1.        ]\n",
      "(16,)\n",
      "0 : 86.61190908161882\n",
      "1 : 82.52530755047091\n",
      "2 : 78.63056419860509\n",
      "3 : 74.91829108193224\n",
      "4 : 71.38032329060432\n",
      "5 : 68.008215126223\n",
      "6 : 64.79433809243764\n",
      "7 : 61.731565296505906\n",
      "8 : 58.812337485536716\n",
      "9 : 56.03029942354337\n",
      "10 : 53.37848667791408\n",
      "11 : 50.851500452042416\n",
      "12 : 48.443239088207285\n",
      "13 : 46.148155712451945\n",
      "14 : 43.96070492071252\n",
      "15 : 41.876287386158076\n",
      "16 : 39.88988180501973\n",
      "17 : 37.99666446519845\n",
      "18 : 36.19263710974999\n",
      "19 : 34.473533362268824\n",
      "20 : 32.83541948339638\n",
      "21 : 31.27435927698449\n",
      "22 : 29.78691407405343\n",
      "23 : 28.369888273845262\n",
      "24 : 27.019809814441928\n",
      "25 : 25.73346194812444\n",
      "26 : 24.507851756252748\n",
      "27 : 23.340314440975973\n",
      "28 : 22.22815713139991\n",
      "29 : 21.16858739455266\n",
      "30 : 20.15934754982213\n",
      "31 : 19.19809623171397\n",
      "32 : 18.282594765480237\n",
      "33 : 17.410714579565322\n",
      "34 : 16.58042363929752\n",
      "35 : 15.789746030752244\n",
      "36 : 15.036911428446109\n",
      "37 : 14.320142813936926\n",
      "38 : 13.63779545664024\n",
      "39 : 12.988204180110758\n",
      "40 : 12.369873768375406\n",
      "41 : 11.781310465018864\n",
      "42 : 11.221071953155775\n",
      "43 : 10.687988216418269\n",
      "44 : 10.18070046484435\n",
      "45 : 9.698011621811363\n",
      "46 : 9.238859429881751\n",
      "47 : 8.802000091985132\n",
      "48 : 8.386467438235147\n",
      "49 : 7.991215028251869\n",
      "50 : 7.615280362895053\n",
      "51 : 7.257803300443381\n",
      "52 : 6.917893471978022\n",
      "53 : 6.594761895445307\n",
      "54 : 6.287511426851412\n",
      "55 : 5.99540347195063\n",
      "56 : 5.717743598937409\n",
      "57 : 5.453866374101205\n",
      "58 : 5.203069199710066\n",
      "59 : 4.964740430383017\n",
      "60 : 4.7382178874818095\n",
      "61 : 4.52300000780019\n",
      "62 : 4.318537956721501\n",
      "63 : 4.124220378104359\n",
      "64 : 3.939697842427961\n",
      "65 : 3.764387911746043\n",
      "66 : 3.5979042657896203\n",
      "67 : 3.439730015381434\n",
      "68 : 3.28952056780431\n",
      "69 : 3.1468759006281033\n",
      "70 : 3.011384938387966\n",
      "71 : 2.882713578189575\n",
      "72 : 2.7605357898494387\n",
      "73 : 2.6445927801731406\n",
      "74 : 2.534468149914244\n",
      "75 : 2.429913028509694\n",
      "76 : 2.3306582668705813\n",
      "77 : 2.236410671985461\n",
      "78 : 2.146986296714937\n",
      "79 : 2.0620779829017697\n",
      "80 : 1.9814508884574158\n",
      "81 : 1.9049307232405628\n",
      "82 : 1.8322646647108298\n",
      "83 : 1.7633082818824768\n",
      "84 : 1.6978414231239363\n",
      "85 : 1.6357033154404759\n",
      "86 : 1.5767379949522116\n",
      "87 : 1.5207805502601976\n",
      "88 : 1.4676594240206837\n",
      "89 : 1.4172437996215006\n",
      "90 : 1.3693716525578405\n",
      "91 : 1.3239329279564123\n",
      "92 : 1.2808110068453555\n",
      "93 : 1.239888004797232\n",
      "94 : 1.2010307260559328\n",
      "95 : 1.1641368203986224\n",
      "96 : 1.1291555026192417\n",
      "97 : 1.0959287839232108\n",
      "98 : 1.0644237083847259\n",
      "99 : 1.034502669945313\n"
     ]
    }
   ],
   "source": [
    "lr2.fit(X_train, y_train, c_epoch = 100, k =1000)"
   ]
  },
  {
   "cell_type": "code",
   "execution_count": 65,
   "id": "8c12a172-a157-4ebf-acc2-8ab36914858d",
   "metadata": {},
   "outputs": [
    {
     "data": {
      "text/plain": [
       "0.24148239148239148"
      ]
     },
     "execution_count": 65,
     "metadata": {},
     "output_type": "execute_result"
    }
   ],
   "source": [
    "accuracy_score(y_train, lr2.predict(X_train))"
   ]
  },
  {
   "cell_type": "code",
   "execution_count": 66,
   "id": "1c4e8717-d73e-4604-87de-6f99a7bdd407",
   "metadata": {},
   "outputs": [
    {
     "data": {
      "text/plain": [
       "0.23879130327969536"
      ]
     },
     "execution_count": 66,
     "metadata": {},
     "output_type": "execute_result"
    }
   ],
   "source": [
    "accuracy_score(y_test, lr2.predict(X_test))"
   ]
  },
  {
   "cell_type": "markdown",
   "id": "33a4dc1c-3758-4716-b09d-8eaf4b71224b",
   "metadata": {},
   "source": [
    "### Логрег на взрослых Elastic net регуляризация"
   ]
  },
  {
   "cell_type": "code",
   "execution_count": 67,
   "id": "ef2d2657-9bf4-4713-a88c-544c208816dd",
   "metadata": {},
   "outputs": [],
   "source": [
    "lr3 = LogisticRegression(lamb1 = 5, lamb2 = 5)"
   ]
  },
  {
   "cell_type": "code",
   "execution_count": 68,
   "id": "d6f25708-3354-4ead-8138-197e3b3fbd65",
   "metadata": {},
   "outputs": [
    {
     "name": "stdout",
     "output_type": "stream",
     "text": [
      "(24420, 16)\n",
      "[0.28767123 0.11075305 0.33333333 0.         0.58746556 0.90816327\n",
      " 1.         0.5        0.         0.66666667 0.71428571 0.2\n",
      " 1.         1.         0.95121951 1.         1.        ]\n",
      "(16,)\n",
      "0 : 161.6675729659175\n",
      "1 : 152.8687513035153\n",
      "2 : 144.48266221692245\n",
      "3 : 136.49009643233714\n",
      "4 : 128.87244693819093\n",
      "5 : 121.61233577445279\n",
      "6 : 114.69271978965658\n",
      "7 : 108.09797260558491\n",
      "8 : 101.81357921699043\n",
      "9 : 95.82405937087873\n",
      "10 : 90.1166420569521\n",
      "11 : 84.6773208182723\n",
      "12 : 79.49381226463694\n",
      "13 : 74.55451791863511\n",
      "14 : 69.84833638209463\n",
      "15 : 65.3640934671134\n",
      "16 : 61.09203604764072\n",
      "17 : 57.022326490973676\n",
      "18 : 53.14585586884941\n",
      "19 : 49.45362911930836\n",
      "20 : 45.937470651134966\n",
      "21 : 42.58925500581539\n",
      "22 : 39.401726846722624\n",
      "23 : 36.3675388467332\n",
      "24 : 33.479837832721216\n",
      "25 : 30.732160455953426\n",
      "26 : 28.118160923509905\n",
      "27 : 25.63196014462818\n",
      "28 : 23.26775077151705\n",
      "29 : 21.020286783469004\n",
      "30 : 18.884047632149958\n",
      "31 : 16.85409800040191\n",
      "32 : 14.925685328413188\n",
      "33 : 13.094139267765566\n",
      "34 : 11.354670401480044\n",
      "35 : 9.703462221054789\n",
      "36 : 8.135699103954412\n",
      "37 : 6.647689578575362\n",
      "38 : 5.235552566915587\n",
      "39 : 3.976730712519775\n",
      "40 : 2.954808391321691\n",
      "41 : 2.0710047315904587\n",
      "42 : 1.4572272597446012\n",
      "43 : 1.0976246435444066\n",
      "44 : 0.8534774471251872\n",
      "45 : 0.7151633876260453\n",
      "46 : 0.7145728020937817\n",
      "47 : 0.7111223926837021\n",
      "48 : 0.7155790698569879\n",
      "49 : 0.7086003097352146\n",
      "50 : 0.707800517130669\n",
      "51 : 0.7115051143886978\n",
      "52 : 0.7088208174236698\n",
      "53 : 0.7158817849578218\n",
      "54 : 0.7098241898868491\n",
      "55 : 0.7091442116929894\n",
      "56 : 0.7115818596838632\n",
      "57 : 0.707906093800043\n",
      "58 : 0.7151423967181595\n",
      "59 : 0.7206251141711147\n",
      "60 : 0.7147617446801947\n",
      "61 : 0.7104552926042803\n",
      "62 : 0.7122974081916902\n",
      "63 : 0.707576960825028\n",
      "64 : 0.7149072978044275\n",
      "65 : 0.7151918135965805\n",
      "66 : 0.7094490010376693\n",
      "67 : 0.7154393673320872\n",
      "68 : 0.7081506447852067\n",
      "69 : 0.7174271451578983\n",
      "70 : 0.7187722715265165\n",
      "71 : 0.7129513492081282\n",
      "72 : 0.7159927032290252\n",
      "73 : 0.7125577979122697\n",
      "74 : 0.7114114635706991\n",
      "75 : 0.7146712063508559\n",
      "76 : 0.7169680819908297\n",
      "77 : 0.7129239488559739\n",
      "78 : 0.7172733230773514\n",
      "79 : 0.7123602780151412\n",
      "80 : 0.7110554483093684\n",
      "81 : 0.7147080808629248\n",
      "82 : 0.7088522538046403\n",
      "83 : 0.7183989098508842\n",
      "84 : 0.7149918457362499\n",
      "85 : 0.7134728161488895\n",
      "86 : 0.7142331853647694\n",
      "87 : 0.7103864922552698\n",
      "88 : 0.7143365298586698\n",
      "89 : 0.7148280575215752\n",
      "90 : 0.7154339690005582\n",
      "91 : 0.7132407173597736\n",
      "92 : 0.712777429980802\n",
      "93 : 0.709315554179896\n",
      "94 : 0.7122364006131106\n",
      "95 : 0.7118445392739575\n",
      "96 : 0.7104592238656499\n",
      "97 : 0.7146729242347319\n",
      "98 : 0.7131310525636068\n",
      "99 : 0.7172944853305105\n"
     ]
    }
   ],
   "source": [
    "lr3.fit(X_train, y_train, c_epoch = 100, k =1000)"
   ]
  },
  {
   "cell_type": "code",
   "execution_count": 69,
   "id": "e4f1df10-6496-4ef0-812b-8aea2cc05689",
   "metadata": {},
   "outputs": [
    {
     "data": {
      "text/plain": [
       "0.003276003276003276"
      ]
     },
     "execution_count": 69,
     "metadata": {},
     "output_type": "execute_result"
    }
   ],
   "source": [
    "accuracy_score(y_train, lr3.predict(X_train))"
   ]
  },
  {
   "cell_type": "code",
   "execution_count": 70,
   "id": "c911b8dc-06c2-43b5-8703-25fe9117d7de",
   "metadata": {},
   "outputs": [
    {
     "data": {
      "text/plain": [
       "0.002948040781230807"
      ]
     },
     "execution_count": 70,
     "metadata": {},
     "output_type": "execute_result"
    }
   ],
   "source": [
    "accuracy_score(y_test, lr3.predict(X_test))"
   ]
  }
 ],
 "metadata": {
  "colab": {
   "name": "lection_4_logistic_regression.ipynb",
   "provenance": []
  },
  "kernelspec": {
   "display_name": "Python 3 (ipykernel)",
   "language": "python",
   "name": "python3"
  },
  "language_info": {
   "codemirror_mode": {
    "name": "ipython",
    "version": 3
   },
   "file_extension": ".py",
   "mimetype": "text/x-python",
   "name": "python",
   "nbconvert_exporter": "python",
   "pygments_lexer": "ipython3",
   "version": "3.10.2"
  },
  "toc-autonumbering": true,
  "toc-showcode": false,
  "toc-showmarkdowntxt": false
 },
 "nbformat": 4,
 "nbformat_minor": 5
}
