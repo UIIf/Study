{
 "cells": [
  {
   "cell_type": "code",
   "execution_count": 2,
   "id": "2af1412a",
   "metadata": {
    "id": "2af1412a"
   },
   "outputs": [],
   "source": [
    "import numpy as np\n",
    "import pandas as pd\n",
    "#import seaborn as sns\n",
    "import matplotlib.pyplot as plt"
   ]
  },
  {
   "cell_type": "markdown",
   "id": "0aa63875",
   "metadata": {
    "id": "0aa63875"
   },
   "source": [
    "Скачаем датасет [дохода](https://www.kaggle.com/datasets/uciml/adult-census-income?resource=download)"
   ]
  },
  {
   "cell_type": "code",
   "execution_count": 3,
   "id": "dbd5e4f0",
   "metadata": {
    "id": "dbd5e4f0",
    "outputId": "b4b0327b-a274-4c8f-fa59-0b3e0426b195"
   },
   "outputs": [
    {
     "name": "stderr",
     "output_type": "stream",
     "text": [
      "\"gdown\" ­Ґ пў«пҐвбп ў­гваҐ­­Ґ© Ё«Ё ў­Ґи­Ґ©\n",
      "Є®¬ ­¤®©, ЁбЇ®«­пҐ¬®© Їа®Ја ¬¬®© Ё«Ё Ї ЄҐв­л¬ д ©«®¬.\n"
     ]
    }
   ],
   "source": [
    "!gdown 1wTnVJsNOJ06186mxHli_4VKUoecUKcea"
   ]
  },
  {
   "cell_type": "code",
   "execution_count": 4,
   "id": "8ca0a2ff",
   "metadata": {
    "id": "8ca0a2ff"
   },
   "outputs": [],
   "source": [
    "df = pd.read_csv('./adult.csv')"
   ]
  },
  {
   "cell_type": "code",
   "execution_count": 5,
   "id": "22f74a26",
   "metadata": {
    "id": "22f74a26",
    "outputId": "1968a37f-aea2-4dfc-8ac1-e2af457ec005"
   },
   "outputs": [
    {
     "name": "stdout",
     "output_type": "stream",
     "text": [
      "<class 'pandas.core.frame.DataFrame'>\n",
      "RangeIndex: 32561 entries, 0 to 32560\n",
      "Data columns (total 15 columns):\n",
      " #   Column          Non-Null Count  Dtype \n",
      "---  ------          --------------  ----- \n",
      " 0   age             32561 non-null  int64 \n",
      " 1   workclass       32561 non-null  object\n",
      " 2   fnlwgt          32561 non-null  int64 \n",
      " 3   education       32561 non-null  object\n",
      " 4   education.num   32561 non-null  int64 \n",
      " 5   marital.status  32561 non-null  object\n",
      " 6   occupation      32561 non-null  object\n",
      " 7   relationship    32561 non-null  object\n",
      " 8   race            32561 non-null  object\n",
      " 9   sex             32561 non-null  object\n",
      " 10  capital.gain    32561 non-null  int64 \n",
      " 11  capital.loss    32561 non-null  int64 \n",
      " 12  hours.per.week  32561 non-null  int64 \n",
      " 13  native.country  32561 non-null  object\n",
      " 14  income          32561 non-null  object\n",
      "dtypes: int64(6), object(9)\n",
      "memory usage: 3.7+ MB\n"
     ]
    }
   ],
   "source": [
    "df.info()"
   ]
  },
  {
   "cell_type": "code",
   "execution_count": 6,
   "id": "26ba1f84",
   "metadata": {
    "id": "26ba1f84",
    "outputId": "4bc30b43-6c4d-4163-e104-1238acfe193e"
   },
   "outputs": [
    {
     "data": {
      "text/html": [
       "<div>\n",
       "<style scoped>\n",
       "    .dataframe tbody tr th:only-of-type {\n",
       "        vertical-align: middle;\n",
       "    }\n",
       "\n",
       "    .dataframe tbody tr th {\n",
       "        vertical-align: top;\n",
       "    }\n",
       "\n",
       "    .dataframe thead th {\n",
       "        text-align: right;\n",
       "    }\n",
       "</style>\n",
       "<table border=\"1\" class=\"dataframe\">\n",
       "  <thead>\n",
       "    <tr style=\"text-align: right;\">\n",
       "      <th></th>\n",
       "      <th>age</th>\n",
       "      <th>workclass</th>\n",
       "      <th>fnlwgt</th>\n",
       "      <th>education</th>\n",
       "      <th>education.num</th>\n",
       "      <th>marital.status</th>\n",
       "      <th>occupation</th>\n",
       "      <th>relationship</th>\n",
       "      <th>race</th>\n",
       "      <th>sex</th>\n",
       "      <th>capital.gain</th>\n",
       "      <th>capital.loss</th>\n",
       "      <th>hours.per.week</th>\n",
       "      <th>native.country</th>\n",
       "      <th>income</th>\n",
       "    </tr>\n",
       "  </thead>\n",
       "  <tbody>\n",
       "    <tr>\n",
       "      <th>0</th>\n",
       "      <td>90</td>\n",
       "      <td>?</td>\n",
       "      <td>77053</td>\n",
       "      <td>HS-grad</td>\n",
       "      <td>9</td>\n",
       "      <td>Widowed</td>\n",
       "      <td>?</td>\n",
       "      <td>Not-in-family</td>\n",
       "      <td>White</td>\n",
       "      <td>Female</td>\n",
       "      <td>0</td>\n",
       "      <td>4356</td>\n",
       "      <td>40</td>\n",
       "      <td>United-States</td>\n",
       "      <td>&lt;=50K</td>\n",
       "    </tr>\n",
       "    <tr>\n",
       "      <th>1</th>\n",
       "      <td>82</td>\n",
       "      <td>Private</td>\n",
       "      <td>132870</td>\n",
       "      <td>HS-grad</td>\n",
       "      <td>9</td>\n",
       "      <td>Widowed</td>\n",
       "      <td>Exec-managerial</td>\n",
       "      <td>Not-in-family</td>\n",
       "      <td>White</td>\n",
       "      <td>Female</td>\n",
       "      <td>0</td>\n",
       "      <td>4356</td>\n",
       "      <td>18</td>\n",
       "      <td>United-States</td>\n",
       "      <td>&lt;=50K</td>\n",
       "    </tr>\n",
       "    <tr>\n",
       "      <th>2</th>\n",
       "      <td>66</td>\n",
       "      <td>?</td>\n",
       "      <td>186061</td>\n",
       "      <td>Some-college</td>\n",
       "      <td>10</td>\n",
       "      <td>Widowed</td>\n",
       "      <td>?</td>\n",
       "      <td>Unmarried</td>\n",
       "      <td>Black</td>\n",
       "      <td>Female</td>\n",
       "      <td>0</td>\n",
       "      <td>4356</td>\n",
       "      <td>40</td>\n",
       "      <td>United-States</td>\n",
       "      <td>&lt;=50K</td>\n",
       "    </tr>\n",
       "    <tr>\n",
       "      <th>3</th>\n",
       "      <td>54</td>\n",
       "      <td>Private</td>\n",
       "      <td>140359</td>\n",
       "      <td>7th-8th</td>\n",
       "      <td>4</td>\n",
       "      <td>Divorced</td>\n",
       "      <td>Machine-op-inspct</td>\n",
       "      <td>Unmarried</td>\n",
       "      <td>White</td>\n",
       "      <td>Female</td>\n",
       "      <td>0</td>\n",
       "      <td>3900</td>\n",
       "      <td>40</td>\n",
       "      <td>United-States</td>\n",
       "      <td>&lt;=50K</td>\n",
       "    </tr>\n",
       "    <tr>\n",
       "      <th>4</th>\n",
       "      <td>41</td>\n",
       "      <td>Private</td>\n",
       "      <td>264663</td>\n",
       "      <td>Some-college</td>\n",
       "      <td>10</td>\n",
       "      <td>Separated</td>\n",
       "      <td>Prof-specialty</td>\n",
       "      <td>Own-child</td>\n",
       "      <td>White</td>\n",
       "      <td>Female</td>\n",
       "      <td>0</td>\n",
       "      <td>3900</td>\n",
       "      <td>40</td>\n",
       "      <td>United-States</td>\n",
       "      <td>&lt;=50K</td>\n",
       "    </tr>\n",
       "  </tbody>\n",
       "</table>\n",
       "</div>"
      ],
      "text/plain": [
       "   age workclass  fnlwgt     education  education.num marital.status  \\\n",
       "0   90         ?   77053       HS-grad              9        Widowed   \n",
       "1   82   Private  132870       HS-grad              9        Widowed   \n",
       "2   66         ?  186061  Some-college             10        Widowed   \n",
       "3   54   Private  140359       7th-8th              4       Divorced   \n",
       "4   41   Private  264663  Some-college             10      Separated   \n",
       "\n",
       "          occupation   relationship   race     sex  capital.gain  \\\n",
       "0                  ?  Not-in-family  White  Female             0   \n",
       "1    Exec-managerial  Not-in-family  White  Female             0   \n",
       "2                  ?      Unmarried  Black  Female             0   \n",
       "3  Machine-op-inspct      Unmarried  White  Female             0   \n",
       "4     Prof-specialty      Own-child  White  Female             0   \n",
       "\n",
       "   capital.loss  hours.per.week native.country income  \n",
       "0          4356              40  United-States  <=50K  \n",
       "1          4356              18  United-States  <=50K  \n",
       "2          4356              40  United-States  <=50K  \n",
       "3          3900              40  United-States  <=50K  \n",
       "4          3900              40  United-States  <=50K  "
      ]
     },
     "execution_count": 6,
     "metadata": {},
     "output_type": "execute_result"
    }
   ],
   "source": [
    "df.head()"
   ]
  },
  {
   "cell_type": "code",
   "execution_count": 7,
   "id": "4af449c5",
   "metadata": {
    "id": "4af449c5"
   },
   "outputs": [],
   "source": [
    "target = 'income'"
   ]
  },
  {
   "cell_type": "code",
   "execution_count": 8,
   "id": "35b2008a",
   "metadata": {
    "id": "35b2008a"
   },
   "outputs": [],
   "source": [
    "# заэнкодим наш таргет в 0 и 1\n",
    "from sklearn.preprocessing import LabelEncoder\n",
    "le = LabelEncoder()\n",
    "df[target] = le.fit_transform(df[target])"
   ]
  },
  {
   "cell_type": "code",
   "execution_count": 9,
   "id": "f0718c56",
   "metadata": {
    "id": "f0718c56"
   },
   "outputs": [],
   "source": [
    "from sklearn.model_selection import train_test_split\n",
    "train_df, test_df = train_test_split(df, test_size=0.25, random_state=42)"
   ]
  },
  {
   "cell_type": "code",
   "execution_count": 10,
   "id": "ce812c41",
   "metadata": {
    "id": "ce812c41"
   },
   "outputs": [],
   "source": [
    "num_cols = ['age', 'fnlwgt', 'education.num', 'capital.gain', 'capital.loss', 'hours.per.week']"
   ]
  },
  {
   "cell_type": "code",
   "execution_count": 11,
   "id": "44f7f69d",
   "metadata": {
    "id": "44f7f69d",
    "outputId": "68eafcfe-927a-4093-8f3f-dcad7bcdecf5"
   },
   "outputs": [
    {
     "name": "stdout",
     "output_type": "stream",
     "text": [
      "age number of bins: 10\n",
      "fnlwgt number of bins: 10\n",
      "education.num number of bins: 6\n",
      "capital.gain number of bins: 1\n",
      "capital.loss number of bins: 1\n",
      "hours.per.week number of bins: 6\n"
     ]
    }
   ],
   "source": [
    "for c in num_cols:\n",
    "    \n",
    "    # попытаемся разбить численные колонки на 10 бинов\n",
    "    _, bins = pd.qcut(train_df[c], q=10, duplicates='drop', retbins=True)\n",
    "    \n",
    "    print(c, 'number of bins:', len(bins) - 1)"
   ]
  },
  {
   "cell_type": "code",
   "execution_count": 12,
   "id": "1da31d31",
   "metadata": {
    "id": "1da31d31",
    "outputId": "69bcc977-292d-4eef-ff17-4d88dcf78295"
   },
   "outputs": [
    {
     "data": {
      "text/plain": [
       "True     22386\n",
       "False     2034\n",
       "Name: capital.gain, dtype: int64"
      ]
     },
     "metadata": {},
     "output_type": "display_data"
    },
    {
     "data": {
      "text/plain": [
       "<AxesSubplot:>"
      ]
     },
     "execution_count": 12,
     "metadata": {},
     "output_type": "execute_result"
    },
    {
     "data": {
      "image/png": "[encoded data removed]",
      "text/plain": [
       "<Figure size 432x288 with 1 Axes>"
      ]
     },
     "metadata": {
      "needs_background": "light"
     },
     "output_type": "display_data"
    }
   ],
   "source": [
    "# capital.gain и capital.loss получились с одним бином\n",
    "\n",
    "# Посмотрим на них поподробнее\n",
    "display((train_df['capital.gain'] == 0).value_counts())\n",
    "train_df['capital.gain'].hist()"
   ]
  },
  {
   "cell_type": "code",
   "execution_count": 13,
   "id": "b529a15d",
   "metadata": {
    "id": "b529a15d",
    "outputId": "c4ccdcba-edef-4efc-aad6-4e247a2c65b8"
   },
   "outputs": [
    {
     "data": {
      "text/plain": [
       "True     23271\n",
       "False     1149\n",
       "Name: capital.loss, dtype: int64"
      ]
     },
     "metadata": {},
     "output_type": "display_data"
    },
    {
     "data": {
      "text/plain": [
       "<AxesSubplot:>"
      ]
     },
     "execution_count": 13,
     "metadata": {},
     "output_type": "execute_result"
    },
    {
     "data": {
      "image/png": "[encoded data removed]",
      "text/plain": [
       "<Figure size 432x288 with 1 Axes>"
      ]
     },
     "metadata": {
      "needs_background": "light"
     },
     "output_type": "display_data"
    }
   ],
   "source": [
    "display((train_df['capital.loss'] == 0).value_counts())\n",
    "train_df['capital.loss'].hist()"
   ]
  },
  {
   "cell_type": "code",
   "execution_count": 14,
   "id": "2916493f",
   "metadata": {
    "id": "2916493f"
   },
   "outputs": [],
   "source": [
    "# Сделаем из них бинарную колонку со значением 0, если в оригинальной колонке стоял 0 и 1 иначе\n",
    "\n",
    "train_df['capital.gain'] = (train_df['capital.gain'] != 0).astype('int')\n",
    "train_df['capital.loss'] = (train_df['capital.loss'] != 0).astype('int')\n",
    "\n",
    "test_df['capital.gain'] = (test_df['capital.gain'] != 0).astype('int')\n",
    "test_df['capital.loss'] = (test_df['capital.loss'] != 0).astype('int')"
   ]
  },
  {
   "cell_type": "code",
   "execution_count": 15,
   "id": "1f4054fa",
   "metadata": {
    "id": "1f4054fa"
   },
   "outputs": [],
   "source": [
    "num_cols = ['age', 'fnlwgt', 'education.num', 'hours.per.week']"
   ]
  },
  {
   "cell_type": "code",
   "execution_count": 16,
   "id": "0187134f",
   "metadata": {
    "id": "0187134f",
    "outputId": "875d9e59-9413-40e0-b371-aafb76bb42b9"
   },
   "outputs": [
    {
     "name": "stdout",
     "output_type": "stream",
     "text": [
      "age number of bins: 10\n",
      "fnlwgt number of bins: 10\n",
      "education.num number of bins: 6\n",
      "hours.per.week number of bins: 6\n"
     ]
    }
   ],
   "source": [
    "for c in num_cols:\n",
    "    \n",
    "    # попытаемся разбить численные колонки на 10 бинов\n",
    "    _, bins = pd.qcut(train_df[c], q=10, duplicates='drop', retbins=True)\n",
    "    \n",
    "    print(c, 'number of bins:', len(bins) - 1)\n",
    "    \n",
    "    # Так как бины строятся по train выборке, они могут охватить не весь диапазон значений\n",
    "    # Расширим первый и последний бины на всю ось\n",
    "    bins[0] = -np.inf\n",
    "    bins[-1] = np.inf\n",
    "    \n",
    "    train_df[c] = pd.cut(train_df[c], bins=bins)\n",
    "    test_df[c] = pd.cut(test_df[c], bins=bins)"
   ]
  },
  {
   "cell_type": "code",
   "execution_count": 17,
   "id": "a0a75f09",
   "metadata": {
    "id": "a0a75f09"
   },
   "outputs": [],
   "source": [
    "from sklearn.naive_bayes import GaussianNB, CategoricalNB, BernoulliNB"
   ]
  },
  {
   "cell_type": "code",
   "execution_count": 18,
   "id": "2890f1bc",
   "metadata": {
    "id": "2890f1bc"
   },
   "outputs": [],
   "source": [
    "cnb = CategoricalNB()"
   ]
  },
  {
   "cell_type": "code",
   "execution_count": 19,
   "id": "09b5cc22",
   "metadata": {
    "id": "09b5cc22"
   },
   "outputs": [],
   "source": [
    "x_cols = train_df.drop(target, axis=1).columns"
   ]
  },
  {
   "cell_type": "code",
   "execution_count": 20,
   "id": "fec5915a",
   "metadata": {
    "id": "fec5915a"
   },
   "outputs": [],
   "source": [
    "from sklearn.preprocessing import OrdinalEncoder"
   ]
  },
  {
   "cell_type": "code",
   "execution_count": 21,
   "id": "4ea791fd",
   "metadata": {
    "id": "4ea791fd",
    "outputId": "1d991454-f4aa-41c3-9d74-ab79131d6ae3"
   },
   "outputs": [
    {
     "data": {
      "text/html": [
       "<div>\n",
       "<style scoped>\n",
       "    .dataframe tbody tr th:only-of-type {\n",
       "        vertical-align: middle;\n",
       "    }\n",
       "\n",
       "    .dataframe tbody tr th {\n",
       "        vertical-align: top;\n",
       "    }\n",
       "\n",
       "    .dataframe thead th {\n",
       "        text-align: right;\n",
       "    }\n",
       "</style>\n",
       "<table border=\"1\" class=\"dataframe\">\n",
       "  <thead>\n",
       "    <tr style=\"text-align: right;\">\n",
       "      <th></th>\n",
       "      <th>age</th>\n",
       "      <th>workclass</th>\n",
       "      <th>fnlwgt</th>\n",
       "      <th>education</th>\n",
       "      <th>education.num</th>\n",
       "      <th>marital.status</th>\n",
       "      <th>occupation</th>\n",
       "      <th>relationship</th>\n",
       "      <th>race</th>\n",
       "      <th>sex</th>\n",
       "      <th>capital.gain</th>\n",
       "      <th>capital.loss</th>\n",
       "      <th>hours.per.week</th>\n",
       "      <th>native.country</th>\n",
       "    </tr>\n",
       "  </thead>\n",
       "  <tbody>\n",
       "    <tr>\n",
       "      <th>29</th>\n",
       "      <td>(37.0, 41.0]</td>\n",
       "      <td>Private</td>\n",
       "      <td>(158825.6, 178623.0]</td>\n",
       "      <td>10th</td>\n",
       "      <td>(-inf, 7.0]</td>\n",
       "      <td>Never-married</td>\n",
       "      <td>Prof-specialty</td>\n",
       "      <td>Not-in-family</td>\n",
       "      <td>White</td>\n",
       "      <td>Male</td>\n",
       "      <td>0</td>\n",
       "      <td>1</td>\n",
       "      <td>(55.0, inf]</td>\n",
       "      <td>United-States</td>\n",
       "    </tr>\n",
       "    <tr>\n",
       "      <th>12181</th>\n",
       "      <td>(22.0, 26.0]</td>\n",
       "      <td>Private</td>\n",
       "      <td>(131230.0, 158825.6]</td>\n",
       "      <td>Bachelors</td>\n",
       "      <td>(11.0, 13.0]</td>\n",
       "      <td>Married-civ-spouse</td>\n",
       "      <td>Prof-specialty</td>\n",
       "      <td>Husband</td>\n",
       "      <td>White</td>\n",
       "      <td>Male</td>\n",
       "      <td>0</td>\n",
       "      <td>0</td>\n",
       "      <td>(35.0, 40.0]</td>\n",
       "      <td>United-States</td>\n",
       "    </tr>\n",
       "    <tr>\n",
       "      <th>18114</th>\n",
       "      <td>(58.0, inf]</td>\n",
       "      <td>Self-emp-not-inc</td>\n",
       "      <td>(178623.0, 196872.4]</td>\n",
       "      <td>Some-college</td>\n",
       "      <td>(9.0, 10.0]</td>\n",
       "      <td>Divorced</td>\n",
       "      <td>Exec-managerial</td>\n",
       "      <td>Not-in-family</td>\n",
       "      <td>White</td>\n",
       "      <td>Male</td>\n",
       "      <td>0</td>\n",
       "      <td>0</td>\n",
       "      <td>(40.0, 50.0]</td>\n",
       "      <td>United-States</td>\n",
       "    </tr>\n",
       "    <tr>\n",
       "      <th>4278</th>\n",
       "      <td>(45.0, 50.0]</td>\n",
       "      <td>Federal-gov</td>\n",
       "      <td>(220019.0, 259948.6]</td>\n",
       "      <td>Bachelors</td>\n",
       "      <td>(11.0, 13.0]</td>\n",
       "      <td>Divorced</td>\n",
       "      <td>Exec-managerial</td>\n",
       "      <td>Not-in-family</td>\n",
       "      <td>White</td>\n",
       "      <td>Male</td>\n",
       "      <td>0</td>\n",
       "      <td>0</td>\n",
       "      <td>(50.0, 55.0]</td>\n",
       "      <td>United-States</td>\n",
       "    </tr>\n",
       "    <tr>\n",
       "      <th>12050</th>\n",
       "      <td>(22.0, 26.0]</td>\n",
       "      <td>?</td>\n",
       "      <td>(131230.0, 158825.6]</td>\n",
       "      <td>Some-college</td>\n",
       "      <td>(9.0, 10.0]</td>\n",
       "      <td>Never-married</td>\n",
       "      <td>?</td>\n",
       "      <td>Not-in-family</td>\n",
       "      <td>White</td>\n",
       "      <td>Male</td>\n",
       "      <td>0</td>\n",
       "      <td>0</td>\n",
       "      <td>(35.0, 40.0]</td>\n",
       "      <td>United-States</td>\n",
       "    </tr>\n",
       "    <tr>\n",
       "      <th>...</th>\n",
       "      <td>...</td>\n",
       "      <td>...</td>\n",
       "      <td>...</td>\n",
       "      <td>...</td>\n",
       "      <td>...</td>\n",
       "      <td>...</td>\n",
       "      <td>...</td>\n",
       "      <td>...</td>\n",
       "      <td>...</td>\n",
       "      <td>...</td>\n",
       "      <td>...</td>\n",
       "      <td>...</td>\n",
       "      <td>...</td>\n",
       "      <td>...</td>\n",
       "    </tr>\n",
       "    <tr>\n",
       "      <th>29802</th>\n",
       "      <td>(22.0, 26.0]</td>\n",
       "      <td>Private</td>\n",
       "      <td>(327789.9, inf]</td>\n",
       "      <td>HS-grad</td>\n",
       "      <td>(7.0, 9.0]</td>\n",
       "      <td>Never-married</td>\n",
       "      <td>Craft-repair</td>\n",
       "      <td>Own-child</td>\n",
       "      <td>White</td>\n",
       "      <td>Male</td>\n",
       "      <td>0</td>\n",
       "      <td>0</td>\n",
       "      <td>(35.0, 40.0]</td>\n",
       "      <td>United-States</td>\n",
       "    </tr>\n",
       "    <tr>\n",
       "      <th>5390</th>\n",
       "      <td>(50.0, 58.0]</td>\n",
       "      <td>Private</td>\n",
       "      <td>(131230.0, 158825.6]</td>\n",
       "      <td>Assoc-voc</td>\n",
       "      <td>(10.0, 11.0]</td>\n",
       "      <td>Married-civ-spouse</td>\n",
       "      <td>Prof-specialty</td>\n",
       "      <td>Husband</td>\n",
       "      <td>White</td>\n",
       "      <td>Male</td>\n",
       "      <td>0</td>\n",
       "      <td>0</td>\n",
       "      <td>(35.0, 40.0]</td>\n",
       "      <td>United-States</td>\n",
       "    </tr>\n",
       "    <tr>\n",
       "      <th>860</th>\n",
       "      <td>(50.0, 58.0]</td>\n",
       "      <td>Federal-gov</td>\n",
       "      <td>(220019.0, 259948.6]</td>\n",
       "      <td>HS-grad</td>\n",
       "      <td>(7.0, 9.0]</td>\n",
       "      <td>Married-civ-spouse</td>\n",
       "      <td>Tech-support</td>\n",
       "      <td>Husband</td>\n",
       "      <td>White</td>\n",
       "      <td>Male</td>\n",
       "      <td>0</td>\n",
       "      <td>1</td>\n",
       "      <td>(35.0, 40.0]</td>\n",
       "      <td>United-States</td>\n",
       "    </tr>\n",
       "    <tr>\n",
       "      <th>15795</th>\n",
       "      <td>(37.0, 41.0]</td>\n",
       "      <td>Private</td>\n",
       "      <td>(131230.0, 158825.6]</td>\n",
       "      <td>Some-college</td>\n",
       "      <td>(9.0, 10.0]</td>\n",
       "      <td>Married-civ-spouse</td>\n",
       "      <td>Adm-clerical</td>\n",
       "      <td>Husband</td>\n",
       "      <td>White</td>\n",
       "      <td>Male</td>\n",
       "      <td>0</td>\n",
       "      <td>0</td>\n",
       "      <td>(40.0, 50.0]</td>\n",
       "      <td>United-States</td>\n",
       "    </tr>\n",
       "    <tr>\n",
       "      <th>23654</th>\n",
       "      <td>(-inf, 22.0]</td>\n",
       "      <td>Private</td>\n",
       "      <td>(158825.6, 178623.0]</td>\n",
       "      <td>HS-grad</td>\n",
       "      <td>(7.0, 9.0]</td>\n",
       "      <td>Never-married</td>\n",
       "      <td>Handlers-cleaners</td>\n",
       "      <td>Own-child</td>\n",
       "      <td>White</td>\n",
       "      <td>Male</td>\n",
       "      <td>0</td>\n",
       "      <td>0</td>\n",
       "      <td>(40.0, 50.0]</td>\n",
       "      <td>Portugal</td>\n",
       "    </tr>\n",
       "  </tbody>\n",
       "</table>\n",
       "<p>24420 rows × 14 columns</p>\n",
       "</div>"
      ],
      "text/plain": [
       "                age         workclass                fnlwgt     education  \\\n",
       "29     (37.0, 41.0]           Private  (158825.6, 178623.0]          10th   \n",
       "12181  (22.0, 26.0]           Private  (131230.0, 158825.6]     Bachelors   \n",
       "18114   (58.0, inf]  Self-emp-not-inc  (178623.0, 196872.4]  Some-college   \n",
       "4278   (45.0, 50.0]       Federal-gov  (220019.0, 259948.6]     Bachelors   \n",
       "12050  (22.0, 26.0]                 ?  (131230.0, 158825.6]  Some-college   \n",
       "...             ...               ...                   ...           ...   \n",
       "29802  (22.0, 26.0]           Private       (327789.9, inf]       HS-grad   \n",
       "5390   (50.0, 58.0]           Private  (131230.0, 158825.6]     Assoc-voc   \n",
       "860    (50.0, 58.0]       Federal-gov  (220019.0, 259948.6]       HS-grad   \n",
       "15795  (37.0, 41.0]           Private  (131230.0, 158825.6]  Some-college   \n",
       "23654  (-inf, 22.0]           Private  (158825.6, 178623.0]       HS-grad   \n",
       "\n",
       "      education.num      marital.status         occupation   relationship  \\\n",
       "29      (-inf, 7.0]       Never-married     Prof-specialty  Not-in-family   \n",
       "12181  (11.0, 13.0]  Married-civ-spouse     Prof-specialty        Husband   \n",
       "18114   (9.0, 10.0]            Divorced    Exec-managerial  Not-in-family   \n",
       "4278   (11.0, 13.0]            Divorced    Exec-managerial  Not-in-family   \n",
       "12050   (9.0, 10.0]       Never-married                  ?  Not-in-family   \n",
       "...             ...                 ...                ...            ...   \n",
       "29802    (7.0, 9.0]       Never-married       Craft-repair      Own-child   \n",
       "5390   (10.0, 11.0]  Married-civ-spouse     Prof-specialty        Husband   \n",
       "860      (7.0, 9.0]  Married-civ-spouse       Tech-support        Husband   \n",
       "15795   (9.0, 10.0]  Married-civ-spouse       Adm-clerical        Husband   \n",
       "23654    (7.0, 9.0]       Never-married  Handlers-cleaners      Own-child   \n",
       "\n",
       "        race   sex  capital.gain  capital.loss hours.per.week native.country  \n",
       "29     White  Male             0             1    (55.0, inf]  United-States  \n",
       "12181  White  Male             0             0   (35.0, 40.0]  United-States  \n",
       "18114  White  Male             0             0   (40.0, 50.0]  United-States  \n",
       "4278   White  Male             0             0   (50.0, 55.0]  United-States  \n",
       "12050  White  Male             0             0   (35.0, 40.0]  United-States  \n",
       "...      ...   ...           ...           ...            ...            ...  \n",
       "29802  White  Male             0             0   (35.0, 40.0]  United-States  \n",
       "5390   White  Male             0             0   (35.0, 40.0]  United-States  \n",
       "860    White  Male             0             1   (35.0, 40.0]  United-States  \n",
       "15795  White  Male             0             0   (40.0, 50.0]  United-States  \n",
       "23654  White  Male             0             0   (40.0, 50.0]       Portugal  \n",
       "\n",
       "[24420 rows x 14 columns]"
      ]
     },
     "execution_count": 21,
     "metadata": {},
     "output_type": "execute_result"
    }
   ],
   "source": [
    "train_df[x_cols]"
   ]
  },
  {
   "cell_type": "code",
   "execution_count": 22,
   "id": "71948059",
   "metadata": {
    "id": "71948059"
   },
   "outputs": [],
   "source": [
    "ord_enc = OrdinalEncoder()\n",
    "\n",
    "train_df[x_cols] = ord_enc.fit_transform(train_df[x_cols])\n",
    "\n",
    "test_df[x_cols] = ord_enc.transform(test_df[x_cols])"
   ]
  },
  {
   "cell_type": "code",
   "execution_count": 23,
   "id": "6e6ea2c9",
   "metadata": {
    "id": "6e6ea2c9",
    "outputId": "b1fe6431-9449-4ffb-fba6-2662cdf3331a"
   },
   "outputs": [
    {
     "data": {
      "text/html": [
       "<div>\n",
       "<style scoped>\n",
       "    .dataframe tbody tr th:only-of-type {\n",
       "        vertical-align: middle;\n",
       "    }\n",
       "\n",
       "    .dataframe tbody tr th {\n",
       "        vertical-align: top;\n",
       "    }\n",
       "\n",
       "    .dataframe thead th {\n",
       "        text-align: right;\n",
       "    }\n",
       "</style>\n",
       "<table border=\"1\" class=\"dataframe\">\n",
       "  <thead>\n",
       "    <tr style=\"text-align: right;\">\n",
       "      <th></th>\n",
       "      <th>age</th>\n",
       "      <th>workclass</th>\n",
       "      <th>fnlwgt</th>\n",
       "      <th>education</th>\n",
       "      <th>education.num</th>\n",
       "      <th>marital.status</th>\n",
       "      <th>occupation</th>\n",
       "      <th>relationship</th>\n",
       "      <th>race</th>\n",
       "      <th>sex</th>\n",
       "      <th>capital.gain</th>\n",
       "      <th>capital.loss</th>\n",
       "      <th>hours.per.week</th>\n",
       "      <th>native.country</th>\n",
       "      <th>income</th>\n",
       "    </tr>\n",
       "  </thead>\n",
       "  <tbody>\n",
       "    <tr>\n",
       "      <th>29</th>\n",
       "      <td>5.0</td>\n",
       "      <td>4.0</td>\n",
       "      <td>4.0</td>\n",
       "      <td>0.0</td>\n",
       "      <td>0.0</td>\n",
       "      <td>4.0</td>\n",
       "      <td>10.0</td>\n",
       "      <td>1.0</td>\n",
       "      <td>4.0</td>\n",
       "      <td>1.0</td>\n",
       "      <td>0.0</td>\n",
       "      <td>1.0</td>\n",
       "      <td>5.0</td>\n",
       "      <td>39.0</td>\n",
       "      <td>1</td>\n",
       "    </tr>\n",
       "    <tr>\n",
       "      <th>12181</th>\n",
       "      <td>1.0</td>\n",
       "      <td>4.0</td>\n",
       "      <td>3.0</td>\n",
       "      <td>9.0</td>\n",
       "      <td>4.0</td>\n",
       "      <td>2.0</td>\n",
       "      <td>10.0</td>\n",
       "      <td>0.0</td>\n",
       "      <td>4.0</td>\n",
       "      <td>1.0</td>\n",
       "      <td>0.0</td>\n",
       "      <td>0.0</td>\n",
       "      <td>2.0</td>\n",
       "      <td>39.0</td>\n",
       "      <td>0</td>\n",
       "    </tr>\n",
       "    <tr>\n",
       "      <th>18114</th>\n",
       "      <td>9.0</td>\n",
       "      <td>6.0</td>\n",
       "      <td>5.0</td>\n",
       "      <td>15.0</td>\n",
       "      <td>2.0</td>\n",
       "      <td>0.0</td>\n",
       "      <td>4.0</td>\n",
       "      <td>1.0</td>\n",
       "      <td>4.0</td>\n",
       "      <td>1.0</td>\n",
       "      <td>0.0</td>\n",
       "      <td>0.0</td>\n",
       "      <td>3.0</td>\n",
       "      <td>39.0</td>\n",
       "      <td>0</td>\n",
       "    </tr>\n",
       "    <tr>\n",
       "      <th>4278</th>\n",
       "      <td>7.0</td>\n",
       "      <td>1.0</td>\n",
       "      <td>7.0</td>\n",
       "      <td>9.0</td>\n",
       "      <td>4.0</td>\n",
       "      <td>0.0</td>\n",
       "      <td>4.0</td>\n",
       "      <td>1.0</td>\n",
       "      <td>4.0</td>\n",
       "      <td>1.0</td>\n",
       "      <td>0.0</td>\n",
       "      <td>0.0</td>\n",
       "      <td>4.0</td>\n",
       "      <td>39.0</td>\n",
       "      <td>1</td>\n",
       "    </tr>\n",
       "    <tr>\n",
       "      <th>12050</th>\n",
       "      <td>1.0</td>\n",
       "      <td>0.0</td>\n",
       "      <td>3.0</td>\n",
       "      <td>15.0</td>\n",
       "      <td>2.0</td>\n",
       "      <td>4.0</td>\n",
       "      <td>0.0</td>\n",
       "      <td>1.0</td>\n",
       "      <td>4.0</td>\n",
       "      <td>1.0</td>\n",
       "      <td>0.0</td>\n",
       "      <td>0.0</td>\n",
       "      <td>2.0</td>\n",
       "      <td>39.0</td>\n",
       "      <td>0</td>\n",
       "    </tr>\n",
       "    <tr>\n",
       "      <th>...</th>\n",
       "      <td>...</td>\n",
       "      <td>...</td>\n",
       "      <td>...</td>\n",
       "      <td>...</td>\n",
       "      <td>...</td>\n",
       "      <td>...</td>\n",
       "      <td>...</td>\n",
       "      <td>...</td>\n",
       "      <td>...</td>\n",
       "      <td>...</td>\n",
       "      <td>...</td>\n",
       "      <td>...</td>\n",
       "      <td>...</td>\n",
       "      <td>...</td>\n",
       "      <td>...</td>\n",
       "    </tr>\n",
       "    <tr>\n",
       "      <th>29802</th>\n",
       "      <td>1.0</td>\n",
       "      <td>4.0</td>\n",
       "      <td>9.0</td>\n",
       "      <td>11.0</td>\n",
       "      <td>1.0</td>\n",
       "      <td>4.0</td>\n",
       "      <td>3.0</td>\n",
       "      <td>3.0</td>\n",
       "      <td>4.0</td>\n",
       "      <td>1.0</td>\n",
       "      <td>0.0</td>\n",
       "      <td>0.0</td>\n",
       "      <td>2.0</td>\n",
       "      <td>39.0</td>\n",
       "      <td>0</td>\n",
       "    </tr>\n",
       "    <tr>\n",
       "      <th>5390</th>\n",
       "      <td>8.0</td>\n",
       "      <td>4.0</td>\n",
       "      <td>3.0</td>\n",
       "      <td>8.0</td>\n",
       "      <td>3.0</td>\n",
       "      <td>2.0</td>\n",
       "      <td>10.0</td>\n",
       "      <td>0.0</td>\n",
       "      <td>4.0</td>\n",
       "      <td>1.0</td>\n",
       "      <td>0.0</td>\n",
       "      <td>0.0</td>\n",
       "      <td>2.0</td>\n",
       "      <td>39.0</td>\n",
       "      <td>1</td>\n",
       "    </tr>\n",
       "    <tr>\n",
       "      <th>860</th>\n",
       "      <td>8.0</td>\n",
       "      <td>1.0</td>\n",
       "      <td>7.0</td>\n",
       "      <td>11.0</td>\n",
       "      <td>1.0</td>\n",
       "      <td>2.0</td>\n",
       "      <td>13.0</td>\n",
       "      <td>0.0</td>\n",
       "      <td>4.0</td>\n",
       "      <td>1.0</td>\n",
       "      <td>0.0</td>\n",
       "      <td>1.0</td>\n",
       "      <td>2.0</td>\n",
       "      <td>39.0</td>\n",
       "      <td>1</td>\n",
       "    </tr>\n",
       "    <tr>\n",
       "      <th>15795</th>\n",
       "      <td>5.0</td>\n",
       "      <td>4.0</td>\n",
       "      <td>3.0</td>\n",
       "      <td>15.0</td>\n",
       "      <td>2.0</td>\n",
       "      <td>2.0</td>\n",
       "      <td>1.0</td>\n",
       "      <td>0.0</td>\n",
       "      <td>4.0</td>\n",
       "      <td>1.0</td>\n",
       "      <td>0.0</td>\n",
       "      <td>0.0</td>\n",
       "      <td>3.0</td>\n",
       "      <td>39.0</td>\n",
       "      <td>1</td>\n",
       "    </tr>\n",
       "    <tr>\n",
       "      <th>23654</th>\n",
       "      <td>0.0</td>\n",
       "      <td>4.0</td>\n",
       "      <td>4.0</td>\n",
       "      <td>11.0</td>\n",
       "      <td>1.0</td>\n",
       "      <td>4.0</td>\n",
       "      <td>6.0</td>\n",
       "      <td>3.0</td>\n",
       "      <td>4.0</td>\n",
       "      <td>1.0</td>\n",
       "      <td>0.0</td>\n",
       "      <td>0.0</td>\n",
       "      <td>3.0</td>\n",
       "      <td>32.0</td>\n",
       "      <td>0</td>\n",
       "    </tr>\n",
       "  </tbody>\n",
       "</table>\n",
       "<p>24420 rows × 15 columns</p>\n",
       "</div>"
      ],
      "text/plain": [
       "       age  workclass  fnlwgt  education  education.num  marital.status  \\\n",
       "29     5.0        4.0     4.0        0.0            0.0             4.0   \n",
       "12181  1.0        4.0     3.0        9.0            4.0             2.0   \n",
       "18114  9.0        6.0     5.0       15.0            2.0             0.0   \n",
       "4278   7.0        1.0     7.0        9.0            4.0             0.0   \n",
       "12050  1.0        0.0     3.0       15.0            2.0             4.0   \n",
       "...    ...        ...     ...        ...            ...             ...   \n",
       "29802  1.0        4.0     9.0       11.0            1.0             4.0   \n",
       "5390   8.0        4.0     3.0        8.0            3.0             2.0   \n",
       "860    8.0        1.0     7.0       11.0            1.0             2.0   \n",
       "15795  5.0        4.0     3.0       15.0            2.0             2.0   \n",
       "23654  0.0        4.0     4.0       11.0            1.0             4.0   \n",
       "\n",
       "       occupation  relationship  race  sex  capital.gain  capital.loss  \\\n",
       "29           10.0           1.0   4.0  1.0           0.0           1.0   \n",
       "12181        10.0           0.0   4.0  1.0           0.0           0.0   \n",
       "18114         4.0           1.0   4.0  1.0           0.0           0.0   \n",
       "4278          4.0           1.0   4.0  1.0           0.0           0.0   \n",
       "12050         0.0           1.0   4.0  1.0           0.0           0.0   \n",
       "...           ...           ...   ...  ...           ...           ...   \n",
       "29802         3.0           3.0   4.0  1.0           0.0           0.0   \n",
       "5390         10.0           0.0   4.0  1.0           0.0           0.0   \n",
       "860          13.0           0.0   4.0  1.0           0.0           1.0   \n",
       "15795         1.0           0.0   4.0  1.0           0.0           0.0   \n",
       "23654         6.0           3.0   4.0  1.0           0.0           0.0   \n",
       "\n",
       "       hours.per.week  native.country  income  \n",
       "29                5.0            39.0       1  \n",
       "12181             2.0            39.0       0  \n",
       "18114             3.0            39.0       0  \n",
       "4278              4.0            39.0       1  \n",
       "12050             2.0            39.0       0  \n",
       "...               ...             ...     ...  \n",
       "29802             2.0            39.0       0  \n",
       "5390              2.0            39.0       1  \n",
       "860               2.0            39.0       1  \n",
       "15795             3.0            39.0       1  \n",
       "23654             3.0            32.0       0  \n",
       "\n",
       "[24420 rows x 15 columns]"
      ]
     },
     "execution_count": 23,
     "metadata": {},
     "output_type": "execute_result"
    }
   ],
   "source": [
    "train_df"
   ]
  },
  {
   "cell_type": "code",
   "execution_count": 24,
   "id": "b3ca84d0",
   "metadata": {
    "id": "b3ca84d0"
   },
   "outputs": [],
   "source": [
    "X_train = train_df.drop(target, axis=1)\n",
    "y_train = train_df[target]\n",
    "\n",
    "X_test = test_df.drop(target, axis=1)\n",
    "y_test = test_df[target]"
   ]
  },
  {
   "cell_type": "code",
   "execution_count": 25,
   "id": "8fd66872",
   "metadata": {
    "id": "8fd66872"
   },
   "outputs": [],
   "source": [
    "from sklearn.naive_bayes import CategoricalNB"
   ]
  },
  {
   "cell_type": "code",
   "execution_count": 26,
   "id": "f9aef3d3",
   "metadata": {
    "id": "f9aef3d3",
    "outputId": "1f3c42ff-114f-49d6-9e8b-691d13cc3e92"
   },
   "outputs": [
    {
     "data": {
      "text/html": [
       "<style>#sk-container-id-1 {color: black;background-color: white;}#sk-container-id-1 pre{padding: 0;}#sk-container-id-1 div.sk-toggleable {background-color: white;}#sk-container-id-1 label.sk-toggleable__label {cursor: pointer;display: block;width: 100%;margin-bottom: 0;padding: 0.3em;box-sizing: border-box;text-align: center;}#sk-container-id-1 label.sk-toggleable__label-arrow:before {content: \"▸\";float: left;margin-right: 0.25em;color: #696969;}#sk-container-id-1 label.sk-toggleable__label-arrow:hover:before {color: black;}#sk-container-id-1 div.sk-estimator:hover label.sk-toggleable__label-arrow:before {color: black;}#sk-container-id-1 div.sk-toggleable__content {max-height: 0;max-width: 0;overflow: hidden;text-align: left;background-color: #f0f8ff;}#sk-container-id-1 div.sk-toggleable__content pre {margin: 0.2em;color: black;border-radius: 0.25em;background-color: #f0f8ff;}#sk-container-id-1 input.sk-toggleable__control:checked~div.sk-toggleable__content {max-height: 200px;max-width: 100%;overflow: auto;}#sk-container-id-1 input.sk-toggleable__control:checked~label.sk-toggleable__label-arrow:before {content: \"▾\";}#sk-container-id-1 div.sk-estimator input.sk-toggleable__control:checked~label.sk-toggleable__label {background-color: #d4ebff;}#sk-container-id-1 div.sk-label input.sk-toggleable__control:checked~label.sk-toggleable__label {background-color: #d4ebff;}#sk-container-id-1 input.sk-hidden--visually {border: 0;clip: rect(1px 1px 1px 1px);clip: rect(1px, 1px, 1px, 1px);height: 1px;margin: -1px;overflow: hidden;padding: 0;position: absolute;width: 1px;}#sk-container-id-1 div.sk-estimator {font-family: monospace;background-color: #f0f8ff;border: 1px dotted black;border-radius: 0.25em;box-sizing: border-box;margin-bottom: 0.5em;}#sk-container-id-1 div.sk-estimator:hover {background-color: #d4ebff;}#sk-container-id-1 div.sk-parallel-item::after {content: \"\";width: 100%;border-bottom: 1px solid gray;flex-grow: 1;}#sk-container-id-1 div.sk-label:hover label.sk-toggleable__label {background-color: #d4ebff;}#sk-container-id-1 div.sk-serial::before {content: \"\";position: absolute;border-left: 1px solid gray;box-sizing: border-box;top: 0;bottom: 0;left: 50%;z-index: 0;}#sk-container-id-1 div.sk-serial {display: flex;flex-direction: column;align-items: center;background-color: white;padding-right: 0.2em;padding-left: 0.2em;position: relative;}#sk-container-id-1 div.sk-item {position: relative;z-index: 1;}#sk-container-id-1 div.sk-parallel {display: flex;align-items: stretch;justify-content: center;background-color: white;position: relative;}#sk-container-id-1 div.sk-item::before, #sk-container-id-1 div.sk-parallel-item::before {content: \"\";position: absolute;border-left: 1px solid gray;box-sizing: border-box;top: 0;bottom: 0;left: 50%;z-index: -1;}#sk-container-id-1 div.sk-parallel-item {display: flex;flex-direction: column;z-index: 1;position: relative;background-color: white;}#sk-container-id-1 div.sk-parallel-item:first-child::after {align-self: flex-end;width: 50%;}#sk-container-id-1 div.sk-parallel-item:last-child::after {align-self: flex-start;width: 50%;}#sk-container-id-1 div.sk-parallel-item:only-child::after {width: 0;}#sk-container-id-1 div.sk-dashed-wrapped {border: 1px dashed gray;margin: 0 0.4em 0.5em 0.4em;box-sizing: border-box;padding-bottom: 0.4em;background-color: white;}#sk-container-id-1 div.sk-label label {font-family: monospace;font-weight: bold;display: inline-block;line-height: 1.2em;}#sk-container-id-1 div.sk-label-container {text-align: center;}#sk-container-id-1 div.sk-container {/* jupyter's `normalize.less` sets `[hidden] { display: none; }` but bootstrap.min.css set `[hidden] { display: none !important; }` so we also need the `!important` here to be able to override the default hidden behavior on the sphinx rendered scikit-learn.org. See: https://github.com/scikit-learn/scikit-learn/issues/21755 */display: inline-block !important;position: relative;}#sk-container-id-1 div.sk-text-repr-fallback {display: none;}</style><div id=\"sk-container-id-1\" class=\"sk-top-container\"><div class=\"sk-text-repr-fallback\"><pre>CategoricalNB()</pre><b>In a Jupyter environment, please rerun this cell to show the HTML representation or trust the notebook. <br />On GitHub, the HTML representation is unable to render, please try loading this page with nbviewer.org.</b></div><div class=\"sk-container\" hidden><div class=\"sk-item\"><div class=\"sk-estimator sk-toggleable\"><input class=\"sk-toggleable__control sk-hidden--visually\" id=\"sk-estimator-id-1\" type=\"checkbox\" checked><label for=\"sk-estimator-id-1\" class=\"sk-toggleable__label sk-toggleable__label-arrow\">CategoricalNB</label><div class=\"sk-toggleable__content\"><pre>CategoricalNB()</pre></div></div></div></div></div>"
      ],
      "text/plain": [
       "CategoricalNB()"
      ]
     },
     "execution_count": 26,
     "metadata": {},
     "output_type": "execute_result"
    }
   ],
   "source": [
    "cat_nb = CategoricalNB()\n",
    "cat_nb.fit(X_train, y_train)"
   ]
  },
  {
   "cell_type": "code",
   "execution_count": 27,
   "id": "a2a7c608",
   "metadata": {
    "id": "a2a7c608"
   },
   "outputs": [],
   "source": [
    "from sklearn.metrics import roc_auc_score, precision_score, recall_score, f1_score, accuracy_score, confusion_matrix, ConfusionMatrixDisplay"
   ]
  },
  {
   "cell_type": "code",
   "execution_count": 33,
   "id": "a407ad9f",
   "metadata": {
    "id": "a407ad9f"
   },
   "outputs": [],
   "source": [
    "def show_metrics(y_true, y_pred):\n",
    "    \n",
    "    ConfusionMatrixDisplay.from_predictions(y_true, y_pred)\n",
    "    \n",
    "    for msg, metric in zip(\n",
    "        ['accuracy', 'precision', 'recall', 'f1', 'roc auc'],\n",
    "        [accuracy_score, precision_score, recall_score, f1_score, roc_auc_score]):\n",
    "        print(f\"{msg:10}\", round(metric(y_true, y_pred)*100, 1))"
   ]
  },
  {
   "cell_type": "code",
   "execution_count": 34,
   "id": "e8cce3fb-4f06-42a5-a9af-bc7a28e9c571",
   "metadata": {},
   "outputs": [
    {
     "data": {
      "text/plain": [
       "29       1\n",
       "12181    0\n",
       "18114    0\n",
       "4278     1\n",
       "12050    0\n",
       "        ..\n",
       "29802    0\n",
       "5390     1\n",
       "860      1\n",
       "15795    1\n",
       "23654    0\n",
       "Name: income, Length: 24420, dtype: int32"
      ]
     },
     "execution_count": 34,
     "metadata": {},
     "output_type": "execute_result"
    }
   ],
   "source": [
    "y_train"
   ]
  },
  {
   "cell_type": "code",
   "execution_count": 35,
   "id": "f4af7493",
   "metadata": {
    "id": "f4af7493",
    "outputId": "41fca944-52de-419e-991d-8cc4f4c2a25d"
   },
   "outputs": [
    {
     "name": "stdout",
     "output_type": "stream",
     "text": [
      "accuracy   81.8\n",
      "precision  59.5\n",
      "recall     77.6\n",
      "f1         67.4\n",
      "roc auc    80.4\n"
     ]
    },
    {
     "data": {
      "image/png": "[encoded data removed]",
      "text/plain": [
       "<Figure size 432x288 with 2 Axes>"
      ]
     },
     "metadata": {
      "needs_background": "light"
     },
     "output_type": "display_data"
    }
   ],
   "source": [
    "show_metrics(y_train, cat_nb.predict(X_train))"
   ]
  },
  {
   "cell_type": "code",
   "execution_count": 36,
   "id": "44ba4a2a",
   "metadata": {
    "id": "44ba4a2a",
    "outputId": "0664f545-f90d-4b0f-f69a-1b9ca8f79da3"
   },
   "outputs": [
    {
     "name": "stdout",
     "output_type": "stream",
     "text": [
      "accuracy   81.5\n",
      "precision  58.7\n",
      "recall     75.5\n",
      "f1         66.1\n",
      "roc auc    79.4\n"
     ]
    },
    {
     "data": {
      "image/png": "[encoded data removed]",
      "text/plain": [
       "<Figure size 432x288 with 2 Axes>"
      ]
     },
     "metadata": {
      "needs_background": "light"
     },
     "output_type": "display_data"
    }
   ],
   "source": [
    "show_metrics(y_test, cat_nb.predict(X_test))"
   ]
  },
  {
   "cell_type": "code",
   "execution_count": 37,
   "id": "c42694b6",
   "metadata": {
    "id": "c42694b6",
    "outputId": "6f321036-fff9-4e69-d809-c8735ccf8bdf"
   },
   "outputs": [
    {
     "data": {
      "text/plain": [
       "0.8945788136059272"
      ]
     },
     "execution_count": 37,
     "metadata": {},
     "output_type": "execute_result"
    }
   ],
   "source": [
    "roc_auc_score(y_train, cat_nb.predict_proba(X_train)[:, 1])"
   ]
  },
  {
   "cell_type": "code",
   "execution_count": 38,
   "id": "779c4671",
   "metadata": {
    "id": "779c4671",
    "outputId": "a0be7260-3d04-44e1-8848-a97319e91791"
   },
   "outputs": [
    {
     "data": {
      "text/plain": [
       "0.8888040542649404"
      ]
     },
     "execution_count": 38,
     "metadata": {},
     "output_type": "execute_result"
    }
   ],
   "source": [
    "roc_auc_score(y_test, cat_nb.predict_proba(X_test)[:, 1])"
   ]
  },
  {
   "cell_type": "code",
   "execution_count": null,
   "id": "79339112",
   "metadata": {
    "id": "79339112"
   },
   "outputs": [],
   "source": []
  },
  {
   "cell_type": "code",
   "execution_count": 39,
   "id": "defb872c",
   "metadata": {
    "id": "defb872c"
   },
   "outputs": [],
   "source": [
    "from sklearn.datasets import load_iris"
   ]
  },
  {
   "cell_type": "code",
   "execution_count": 40,
   "id": "72d0ad5f",
   "metadata": {
    "id": "72d0ad5f"
   },
   "outputs": [],
   "source": [
    "iris_data = load_iris(as_frame=True)"
   ]
  },
  {
   "cell_type": "code",
   "execution_count": 41,
   "id": "1a4c2cc3",
   "metadata": {
    "id": "1a4c2cc3"
   },
   "outputs": [],
   "source": [
    "iris_df = iris_data['data']\n",
    "iris_df['target'] = iris_data['target']"
   ]
  },
  {
   "cell_type": "code",
   "execution_count": 42,
   "id": "e84ae09c",
   "metadata": {
    "id": "e84ae09c",
    "outputId": "db51a3f6-514b-4688-bc8f-ebc862df8616"
   },
   "outputs": [
    {
     "data": {
      "text/html": [
       "<div>\n",
       "<style scoped>\n",
       "    .dataframe tbody tr th:only-of-type {\n",
       "        vertical-align: middle;\n",
       "    }\n",
       "\n",
       "    .dataframe tbody tr th {\n",
       "        vertical-align: top;\n",
       "    }\n",
       "\n",
       "    .dataframe thead th {\n",
       "        text-align: right;\n",
       "    }\n",
       "</style>\n",
       "<table border=\"1\" class=\"dataframe\">\n",
       "  <thead>\n",
       "    <tr style=\"text-align: right;\">\n",
       "      <th></th>\n",
       "      <th>sepal length (cm)</th>\n",
       "      <th>sepal width (cm)</th>\n",
       "      <th>petal length (cm)</th>\n",
       "      <th>petal width (cm)</th>\n",
       "      <th>target</th>\n",
       "    </tr>\n",
       "  </thead>\n",
       "  <tbody>\n",
       "    <tr>\n",
       "      <th>0</th>\n",
       "      <td>5.1</td>\n",
       "      <td>3.5</td>\n",
       "      <td>1.4</td>\n",
       "      <td>0.2</td>\n",
       "      <td>0</td>\n",
       "    </tr>\n",
       "    <tr>\n",
       "      <th>1</th>\n",
       "      <td>4.9</td>\n",
       "      <td>3.0</td>\n",
       "      <td>1.4</td>\n",
       "      <td>0.2</td>\n",
       "      <td>0</td>\n",
       "    </tr>\n",
       "    <tr>\n",
       "      <th>2</th>\n",
       "      <td>4.7</td>\n",
       "      <td>3.2</td>\n",
       "      <td>1.3</td>\n",
       "      <td>0.2</td>\n",
       "      <td>0</td>\n",
       "    </tr>\n",
       "    <tr>\n",
       "      <th>3</th>\n",
       "      <td>4.6</td>\n",
       "      <td>3.1</td>\n",
       "      <td>1.5</td>\n",
       "      <td>0.2</td>\n",
       "      <td>0</td>\n",
       "    </tr>\n",
       "    <tr>\n",
       "      <th>4</th>\n",
       "      <td>5.0</td>\n",
       "      <td>3.6</td>\n",
       "      <td>1.4</td>\n",
       "      <td>0.2</td>\n",
       "      <td>0</td>\n",
       "    </tr>\n",
       "    <tr>\n",
       "      <th>...</th>\n",
       "      <td>...</td>\n",
       "      <td>...</td>\n",
       "      <td>...</td>\n",
       "      <td>...</td>\n",
       "      <td>...</td>\n",
       "    </tr>\n",
       "    <tr>\n",
       "      <th>145</th>\n",
       "      <td>6.7</td>\n",
       "      <td>3.0</td>\n",
       "      <td>5.2</td>\n",
       "      <td>2.3</td>\n",
       "      <td>2</td>\n",
       "    </tr>\n",
       "    <tr>\n",
       "      <th>146</th>\n",
       "      <td>6.3</td>\n",
       "      <td>2.5</td>\n",
       "      <td>5.0</td>\n",
       "      <td>1.9</td>\n",
       "      <td>2</td>\n",
       "    </tr>\n",
       "    <tr>\n",
       "      <th>147</th>\n",
       "      <td>6.5</td>\n",
       "      <td>3.0</td>\n",
       "      <td>5.2</td>\n",
       "      <td>2.0</td>\n",
       "      <td>2</td>\n",
       "    </tr>\n",
       "    <tr>\n",
       "      <th>148</th>\n",
       "      <td>6.2</td>\n",
       "      <td>3.4</td>\n",
       "      <td>5.4</td>\n",
       "      <td>2.3</td>\n",
       "      <td>2</td>\n",
       "    </tr>\n",
       "    <tr>\n",
       "      <th>149</th>\n",
       "      <td>5.9</td>\n",
       "      <td>3.0</td>\n",
       "      <td>5.1</td>\n",
       "      <td>1.8</td>\n",
       "      <td>2</td>\n",
       "    </tr>\n",
       "  </tbody>\n",
       "</table>\n",
       "<p>150 rows × 5 columns</p>\n",
       "</div>"
      ],
      "text/plain": [
       "     sepal length (cm)  sepal width (cm)  petal length (cm)  petal width (cm)  \\\n",
       "0                  5.1               3.5                1.4               0.2   \n",
       "1                  4.9               3.0                1.4               0.2   \n",
       "2                  4.7               3.2                1.3               0.2   \n",
       "3                  4.6               3.1                1.5               0.2   \n",
       "4                  5.0               3.6                1.4               0.2   \n",
       "..                 ...               ...                ...               ...   \n",
       "145                6.7               3.0                5.2               2.3   \n",
       "146                6.3               2.5                5.0               1.9   \n",
       "147                6.5               3.0                5.2               2.0   \n",
       "148                6.2               3.4                5.4               2.3   \n",
       "149                5.9               3.0                5.1               1.8   \n",
       "\n",
       "     target  \n",
       "0         0  \n",
       "1         0  \n",
       "2         0  \n",
       "3         0  \n",
       "4         0  \n",
       "..      ...  \n",
       "145       2  \n",
       "146       2  \n",
       "147       2  \n",
       "148       2  \n",
       "149       2  \n",
       "\n",
       "[150 rows x 5 columns]"
      ]
     },
     "execution_count": 42,
     "metadata": {},
     "output_type": "execute_result"
    }
   ],
   "source": [
    "iris_df"
   ]
  },
  {
   "cell_type": "code",
   "execution_count": 43,
   "id": "88ae8d2a",
   "metadata": {
    "id": "88ae8d2a",
    "outputId": "e94b7230-34f3-45d6-dbfc-04017027bbb7"
   },
   "outputs": [
    {
     "ename": "NameError",
     "evalue": "name 'sns' is not defined",
     "output_type": "error",
     "traceback": [
      "\u001b[1;31m---------------------------------------------------------------------------\u001b[0m",
      "\u001b[1;31mNameError\u001b[0m                                 Traceback (most recent call last)",
      "Input \u001b[1;32mIn [43]\u001b[0m, in \u001b[0;36m<cell line: 1>\u001b[1;34m()\u001b[0m\n\u001b[1;32m----> 1\u001b[0m \u001b[43msns\u001b[49m\u001b[38;5;241m.\u001b[39mscatterplot(data\u001b[38;5;241m=\u001b[39miris_df, x\u001b[38;5;241m=\u001b[39m\u001b[38;5;124m'\u001b[39m\u001b[38;5;124msepal length (cm)\u001b[39m\u001b[38;5;124m'\u001b[39m, y\u001b[38;5;241m=\u001b[39m\u001b[38;5;124m'\u001b[39m\u001b[38;5;124msepal width (cm)\u001b[39m\u001b[38;5;124m'\u001b[39m, hue\u001b[38;5;241m=\u001b[39m\u001b[38;5;124m'\u001b[39m\u001b[38;5;124mtarget\u001b[39m\u001b[38;5;124m'\u001b[39m, palette\u001b[38;5;241m=\u001b[39m\u001b[38;5;124m'\u001b[39m\u001b[38;5;124mtab10\u001b[39m\u001b[38;5;124m'\u001b[39m)\n",
      "\u001b[1;31mNameError\u001b[0m: name 'sns' is not defined"
     ]
    }
   ],
   "source": [
    "sns.scatterplot(data=iris_df, x='sepal length (cm)', y='sepal width (cm)', hue='target', palette='tab10')"
   ]
  },
  {
   "cell_type": "code",
   "execution_count": 44,
   "id": "6874470c",
   "metadata": {
    "id": "6874470c"
   },
   "outputs": [],
   "source": [
    "train_df, test_df = train_test_split(iris_df, test_size=0.5, random_state=42)"
   ]
  },
  {
   "cell_type": "code",
   "execution_count": 45,
   "id": "d57666b3",
   "metadata": {
    "id": "d57666b3"
   },
   "outputs": [],
   "source": [
    "x_cols = ['sepal length (cm)', 'sepal width (cm)', 'petal length (cm)', 'petal width (cm)']"
   ]
  },
  {
   "cell_type": "code",
   "execution_count": 46,
   "id": "a8876aaf",
   "metadata": {
    "id": "a8876aaf"
   },
   "outputs": [],
   "source": [
    "X_train = train_df[x_cols]\n",
    "y_train = train_df['target']\n",
    "\n",
    "X_test = test_df[x_cols]\n",
    "y_test = test_df['target']"
   ]
  },
  {
   "cell_type": "code",
   "execution_count": 47,
   "id": "74f72ffa",
   "metadata": {
    "id": "74f72ffa"
   },
   "outputs": [],
   "source": [
    "from sklearn.naive_bayes import GaussianNB"
   ]
  },
  {
   "cell_type": "code",
   "execution_count": 48,
   "id": "6bc122ec",
   "metadata": {
    "id": "6bc122ec"
   },
   "outputs": [],
   "source": [
    "gnb = GaussianNB()"
   ]
  },
  {
   "cell_type": "code",
   "execution_count": 51,
   "id": "20c839a1",
   "metadata": {
    "id": "20c839a1",
    "outputId": "24e1e497-9c60-48a1-b7c8-758fb8e4a2ae"
   },
   "outputs": [
    {
     "data": {
      "text/html": [
       "<style>#sk-container-id-3 {color: black;background-color: white;}#sk-container-id-3 pre{padding: 0;}#sk-container-id-3 div.sk-toggleable {background-color: white;}#sk-container-id-3 label.sk-toggleable__label {cursor: pointer;display: block;width: 100%;margin-bottom: 0;padding: 0.3em;box-sizing: border-box;text-align: center;}#sk-container-id-3 label.sk-toggleable__label-arrow:before {content: \"▸\";float: left;margin-right: 0.25em;color: #696969;}#sk-container-id-3 label.sk-toggleable__label-arrow:hover:before {color: black;}#sk-container-id-3 div.sk-estimator:hover label.sk-toggleable__label-arrow:before {color: black;}#sk-container-id-3 div.sk-toggleable__content {max-height: 0;max-width: 0;overflow: hidden;text-align: left;background-color: #f0f8ff;}#sk-container-id-3 div.sk-toggleable__content pre {margin: 0.2em;color: black;border-radius: 0.25em;background-color: #f0f8ff;}#sk-container-id-3 input.sk-toggleable__control:checked~div.sk-toggleable__content {max-height: 200px;max-width: 100%;overflow: auto;}#sk-container-id-3 input.sk-toggleable__control:checked~label.sk-toggleable__label-arrow:before {content: \"▾\";}#sk-container-id-3 div.sk-estimator input.sk-toggleable__control:checked~label.sk-toggleable__label {background-color: #d4ebff;}#sk-container-id-3 div.sk-label input.sk-toggleable__control:checked~label.sk-toggleable__label {background-color: #d4ebff;}#sk-container-id-3 input.sk-hidden--visually {border: 0;clip: rect(1px 1px 1px 1px);clip: rect(1px, 1px, 1px, 1px);height: 1px;margin: -1px;overflow: hidden;padding: 0;position: absolute;width: 1px;}#sk-container-id-3 div.sk-estimator {font-family: monospace;background-color: #f0f8ff;border: 1px dotted black;border-radius: 0.25em;box-sizing: border-box;margin-bottom: 0.5em;}#sk-container-id-3 div.sk-estimator:hover {background-color: #d4ebff;}#sk-container-id-3 div.sk-parallel-item::after {content: \"\";width: 100%;border-bottom: 1px solid gray;flex-grow: 1;}#sk-container-id-3 div.sk-label:hover label.sk-toggleable__label {background-color: #d4ebff;}#sk-container-id-3 div.sk-serial::before {content: \"\";position: absolute;border-left: 1px solid gray;box-sizing: border-box;top: 0;bottom: 0;left: 50%;z-index: 0;}#sk-container-id-3 div.sk-serial {display: flex;flex-direction: column;align-items: center;background-color: white;padding-right: 0.2em;padding-left: 0.2em;position: relative;}#sk-container-id-3 div.sk-item {position: relative;z-index: 1;}#sk-container-id-3 div.sk-parallel {display: flex;align-items: stretch;justify-content: center;background-color: white;position: relative;}#sk-container-id-3 div.sk-item::before, #sk-container-id-3 div.sk-parallel-item::before {content: \"\";position: absolute;border-left: 1px solid gray;box-sizing: border-box;top: 0;bottom: 0;left: 50%;z-index: -1;}#sk-container-id-3 div.sk-parallel-item {display: flex;flex-direction: column;z-index: 1;position: relative;background-color: white;}#sk-container-id-3 div.sk-parallel-item:first-child::after {align-self: flex-end;width: 50%;}#sk-container-id-3 div.sk-parallel-item:last-child::after {align-self: flex-start;width: 50%;}#sk-container-id-3 div.sk-parallel-item:only-child::after {width: 0;}#sk-container-id-3 div.sk-dashed-wrapped {border: 1px dashed gray;margin: 0 0.4em 0.5em 0.4em;box-sizing: border-box;padding-bottom: 0.4em;background-color: white;}#sk-container-id-3 div.sk-label label {font-family: monospace;font-weight: bold;display: inline-block;line-height: 1.2em;}#sk-container-id-3 div.sk-label-container {text-align: center;}#sk-container-id-3 div.sk-container {/* jupyter's `normalize.less` sets `[hidden] { display: none; }` but bootstrap.min.css set `[hidden] { display: none !important; }` so we also need the `!important` here to be able to override the default hidden behavior on the sphinx rendered scikit-learn.org. See: https://github.com/scikit-learn/scikit-learn/issues/21755 */display: inline-block !important;position: relative;}#sk-container-id-3 div.sk-text-repr-fallback {display: none;}</style><div id=\"sk-container-id-3\" class=\"sk-top-container\"><div class=\"sk-text-repr-fallback\"><pre>GaussianNB()</pre><b>In a Jupyter environment, please rerun this cell to show the HTML representation or trust the notebook. <br />On GitHub, the HTML representation is unable to render, please try loading this page with nbviewer.org.</b></div><div class=\"sk-container\" hidden><div class=\"sk-item\"><div class=\"sk-estimator sk-toggleable\"><input class=\"sk-toggleable__control sk-hidden--visually\" id=\"sk-estimator-id-3\" type=\"checkbox\" checked><label for=\"sk-estimator-id-3\" class=\"sk-toggleable__label sk-toggleable__label-arrow\">GaussianNB</label><div class=\"sk-toggleable__content\"><pre>GaussianNB()</pre></div></div></div></div></div>"
      ],
      "text/plain": [
       "GaussianNB()"
      ]
     },
     "execution_count": 51,
     "metadata": {},
     "output_type": "execute_result"
    }
   ],
   "source": [
    "gnb.fit(X_train, y_train)"
   ]
  },
  {
   "cell_type": "code",
   "execution_count": 52,
   "id": "f7a4caff",
   "metadata": {
    "id": "f7a4caff"
   },
   "outputs": [],
   "source": [
    "import matplotlib.colors as colors"
   ]
  },
  {
   "cell_type": "code",
   "execution_count": 53,
   "id": "5e3f4619",
   "metadata": {
    "id": "5e3f4619",
    "outputId": "d17470bd-a10f-43b1-80c6-a8aa62122a72"
   },
   "outputs": [
    {
     "data": {
      "text/html": [
       "<div>\n",
       "<style scoped>\n",
       "    .dataframe tbody tr th:only-of-type {\n",
       "        vertical-align: middle;\n",
       "    }\n",
       "\n",
       "    .dataframe tbody tr th {\n",
       "        vertical-align: top;\n",
       "    }\n",
       "\n",
       "    .dataframe thead th {\n",
       "        text-align: right;\n",
       "    }\n",
       "</style>\n",
       "<table border=\"1\" class=\"dataframe\">\n",
       "  <thead>\n",
       "    <tr style=\"text-align: right;\">\n",
       "      <th></th>\n",
       "      <th>sepal length (cm)</th>\n",
       "      <th>sepal width (cm)</th>\n",
       "      <th>petal length (cm)</th>\n",
       "      <th>petal width (cm)</th>\n",
       "      <th>target</th>\n",
       "    </tr>\n",
       "  </thead>\n",
       "  <tbody>\n",
       "    <tr>\n",
       "      <th>0</th>\n",
       "      <td>5.1</td>\n",
       "      <td>3.5</td>\n",
       "      <td>1.4</td>\n",
       "      <td>0.2</td>\n",
       "      <td>0</td>\n",
       "    </tr>\n",
       "    <tr>\n",
       "      <th>1</th>\n",
       "      <td>4.9</td>\n",
       "      <td>3.0</td>\n",
       "      <td>1.4</td>\n",
       "      <td>0.2</td>\n",
       "      <td>0</td>\n",
       "    </tr>\n",
       "    <tr>\n",
       "      <th>2</th>\n",
       "      <td>4.7</td>\n",
       "      <td>3.2</td>\n",
       "      <td>1.3</td>\n",
       "      <td>0.2</td>\n",
       "      <td>0</td>\n",
       "    </tr>\n",
       "    <tr>\n",
       "      <th>3</th>\n",
       "      <td>4.6</td>\n",
       "      <td>3.1</td>\n",
       "      <td>1.5</td>\n",
       "      <td>0.2</td>\n",
       "      <td>0</td>\n",
       "    </tr>\n",
       "    <tr>\n",
       "      <th>4</th>\n",
       "      <td>5.0</td>\n",
       "      <td>3.6</td>\n",
       "      <td>1.4</td>\n",
       "      <td>0.2</td>\n",
       "      <td>0</td>\n",
       "    </tr>\n",
       "    <tr>\n",
       "      <th>...</th>\n",
       "      <td>...</td>\n",
       "      <td>...</td>\n",
       "      <td>...</td>\n",
       "      <td>...</td>\n",
       "      <td>...</td>\n",
       "    </tr>\n",
       "    <tr>\n",
       "      <th>145</th>\n",
       "      <td>6.7</td>\n",
       "      <td>3.0</td>\n",
       "      <td>5.2</td>\n",
       "      <td>2.3</td>\n",
       "      <td>2</td>\n",
       "    </tr>\n",
       "    <tr>\n",
       "      <th>146</th>\n",
       "      <td>6.3</td>\n",
       "      <td>2.5</td>\n",
       "      <td>5.0</td>\n",
       "      <td>1.9</td>\n",
       "      <td>2</td>\n",
       "    </tr>\n",
       "    <tr>\n",
       "      <th>147</th>\n",
       "      <td>6.5</td>\n",
       "      <td>3.0</td>\n",
       "      <td>5.2</td>\n",
       "      <td>2.0</td>\n",
       "      <td>2</td>\n",
       "    </tr>\n",
       "    <tr>\n",
       "      <th>148</th>\n",
       "      <td>6.2</td>\n",
       "      <td>3.4</td>\n",
       "      <td>5.4</td>\n",
       "      <td>2.3</td>\n",
       "      <td>2</td>\n",
       "    </tr>\n",
       "    <tr>\n",
       "      <th>149</th>\n",
       "      <td>5.9</td>\n",
       "      <td>3.0</td>\n",
       "      <td>5.1</td>\n",
       "      <td>1.8</td>\n",
       "      <td>2</td>\n",
       "    </tr>\n",
       "  </tbody>\n",
       "</table>\n",
       "<p>150 rows × 5 columns</p>\n",
       "</div>"
      ],
      "text/plain": [
       "     sepal length (cm)  sepal width (cm)  petal length (cm)  petal width (cm)  \\\n",
       "0                  5.1               3.5                1.4               0.2   \n",
       "1                  4.9               3.0                1.4               0.2   \n",
       "2                  4.7               3.2                1.3               0.2   \n",
       "3                  4.6               3.1                1.5               0.2   \n",
       "4                  5.0               3.6                1.4               0.2   \n",
       "..                 ...               ...                ...               ...   \n",
       "145                6.7               3.0                5.2               2.3   \n",
       "146                6.3               2.5                5.0               1.9   \n",
       "147                6.5               3.0                5.2               2.0   \n",
       "148                6.2               3.4                5.4               2.3   \n",
       "149                5.9               3.0                5.1               1.8   \n",
       "\n",
       "     target  \n",
       "0         0  \n",
       "1         0  \n",
       "2         0  \n",
       "3         0  \n",
       "4         0  \n",
       "..      ...  \n",
       "145       2  \n",
       "146       2  \n",
       "147       2  \n",
       "148       2  \n",
       "149       2  \n",
       "\n",
       "[150 rows x 5 columns]"
      ]
     },
     "execution_count": 53,
     "metadata": {},
     "output_type": "execute_result"
    }
   ],
   "source": [
    "iris_df"
   ]
  },
  {
   "cell_type": "code",
   "execution_count": 54,
   "id": "dd563f33",
   "metadata": {
    "id": "dd563f33",
    "outputId": "97e1cd8c-b564-42a4-817a-370569157d89"
   },
   "outputs": [
    {
     "data": {
      "text/plain": [
       "(0.92, 0.9866666666666667)"
      ]
     },
     "execution_count": 54,
     "metadata": {},
     "output_type": "execute_result"
    }
   ],
   "source": [
    "accuracy_score(y_train, gnb.predict(X_train)), accuracy_score(y_test, gnb.predict(X_test))"
   ]
  },
  {
   "cell_type": "code",
   "execution_count": 56,
   "id": "4f3781e7-3cad-45cc-9a8e-a453a02e8716",
   "metadata": {},
   "outputs": [
    {
     "data": {
      "text/plain": [
       "84     1\n",
       "148    2\n",
       "53     1\n",
       "5      0\n",
       "93     1\n",
       "      ..\n",
       "71     1\n",
       "106    2\n",
       "14     0\n",
       "92     1\n",
       "102    2\n",
       "Name: target, Length: 75, dtype: int32"
      ]
     },
     "execution_count": 56,
     "metadata": {},
     "output_type": "execute_result"
    }
   ],
   "source": [
    "y_train"
   ]
  },
  {
   "cell_type": "code",
   "execution_count": 55,
   "id": "e52ded60",
   "metadata": {
    "id": "e52ded60",
    "outputId": "ae27a839-2fb3-4e84-c77e-94022def1087"
   },
   "outputs": [
    {
     "data": {
      "text/plain": [
       "<sklearn.metrics._plot.confusion_matrix.ConfusionMatrixDisplay at 0x27be11b5f60>"
      ]
     },
     "execution_count": 55,
     "metadata": {},
     "output_type": "execute_result"
    },
    {
     "data": {
      "image/png": "[encoded data removed]",
      "text/plain": [
       "<Figure size 432x288 with 2 Axes>"
      ]
     },
     "metadata": {
      "needs_background": "light"
     },
     "output_type": "display_data"
    }
   ],
   "source": [
    "ConfusionMatrixDisplay.from_predictions(y_train, gnb.predict(X_train))"
   ]
  },
  {
   "cell_type": "code",
   "execution_count": 46,
   "id": "b62603a2",
   "metadata": {
    "id": "b62603a2",
    "outputId": "8e199b25-fde5-4512-9f4b-ed3e682ff62b"
   },
   "outputs": [
    {
     "data": {
      "text/plain": [
       "<sklearn.metrics._plot.confusion_matrix.ConfusionMatrixDisplay at 0x7f5851a683a0>"
      ]
     },
     "execution_count": 46,
     "metadata": {},
     "output_type": "execute_result"
    },
    {
     "data": {
      "image/png": "[encoded data removed]",
      "text/plain": [
       "<Figure size 432x288 with 2 Axes>"
      ]
     },
     "metadata": {
      "needs_background": "light"
     },
     "output_type": "display_data"
    }
   ],
   "source": [
    "ConfusionMatrixDisplay.from_predictions(y_test, gnb.predict(X_test))"
   ]
  },
  {
   "cell_type": "markdown",
   "id": "06d56b8a",
   "metadata": {
    "id": "06d56b8a"
   },
   "source": [
    "# Домашка"
   ]
  },
  {
   "cell_type": "markdown",
   "id": "2XK2X2hEbl91",
   "metadata": {
    "id": "2XK2X2hEbl91"
   },
   "source": [
    "## Naive Bayes"
   ]
  },
  {
   "cell_type": "markdown",
   "id": "a35b1de2",
   "metadata": {
    "id": "a35b1de2"
   },
   "source": [
    "1. Реализовать Наивный Байесовский классификатор для *непрерывных* фичей, используя гауссиану в качестве функции правдоподобия\n",
    "\n",
    "Функция правдоподобия: $P(x_i \\mid y) = \\frac{1}{\\sqrt{2\\pi\\sigma^2_y}} \\exp\\left(-\\frac{(x_i - \\mu_y)^2}{2\\sigma^2_y}\\right)$\n",
    "\n",
    "Подробнее [тут](https://scikit-learn.org/stable/modules/naive_bayes.html#gaussian-naive-bayes)\n",
    "\n",
    "P.S. Не забудьте логарифмировать вероятности для стабильности"
   ]
  },
  {
   "cell_type": "code",
   "execution_count": 12,
   "id": "5cd38811",
   "metadata": {},
   "outputs": [],
   "source": [
    "from __future__ import annotations\n",
    "\n",
    "from scipy.special import softmax"
   ]
  },
  {
   "cell_type": "code",
   "execution_count": 13,
   "id": "87ba15e3",
   "metadata": {},
   "outputs": [],
   "source": [
    "class MyGaussianNB:\n",
    "    \n",
    "    def __init__(self):\n",
    "        self.mus = None\n",
    "        self.sigmas = None\n",
    "       \n",
    "    \n",
    "    def fit(self, X: Union[pd.DataFrame, pd.Series, np.ndarray], y: Union[pd.Series, np.ndarray]) -> MyGaussianNB:\n",
    "        if isinstance(X, pd.DataFrame) or isinstance(X, pd.Series):\n",
    "            X = X.to_numpy()\n",
    "            y = y.to_numpy()\n",
    "            \n",
    "        mus, sigmas, classes_prior = [], [], []\n",
    "        \n",
    "        for c in np.unique(y):\n",
    "            mus.append(np.mean(X[y == c], axis=0))\n",
    "            sigmas.append(np.std(X[y == c], axis=0))\n",
    "            classes_prior.append(np.sum(y == c))\n",
    "            \n",
    "        self.mus = np.array(mus).T\n",
    "        self.sigmas = np.array(sigmas).T\n",
    "        \n",
    "        self.classes = np.unique(y)\n",
    "        self.classes_prior = np.array(classes_prior) / len(y)\n",
    "        \n",
    "        return self\n",
    "    \n",
    "    \n",
    "    def predict(self, X: Union[pd.DataFrame, pd.Series, np.ndarray]) -> np.ndarray:        \n",
    "        return self.classes[np.argmax(self.likehood(X), axis=1)]\n",
    "    \n",
    "    \n",
    "    def predict_proba(self, X: Union[pd.DataFrame, pd.Series, np.ndarray]) -> np.ndarray:\n",
    "        return softmax(self.likehood(X))\n",
    "    \n",
    "    \n",
    "    def likehood(self, X: Union[pd.DataFrame, pd.Series, np.ndarray]) -> np.ndarray:\n",
    "        if isinstance(X, pd.DataFrame) or isinstance(X, pd.Series):\n",
    "            X = X.to_numpy()\n",
    "            \n",
    "        norm_pdf = lambda X, mus, sigmas: np.exp(-(X - mus) ** 2 / (2 * sigmas ** 2)) / np.sqrt(2 * np.pi * sigmas ** 2)\n",
    "            \n",
    "        _likehood = np.array([np.log(norm_pdf(X, self.mus[:, c], self.sigmas[:, c])).sum(axis=1) \n",
    "                              + np.log(self.classes_prior[c]) for c in range(len(self.classes_prior))]).T\n",
    "        \n",
    "        return _likehood\n",
    "        "
   ]
  },
  {
   "cell_type": "code",
   "execution_count": 17,
   "id": "fc978934",
   "metadata": {},
   "outputs": [
    {
     "data": {
      "text/plain": [
       "<__main__.MyGaussianNB at 0x7f6b8c5d9ac0>"
      ]
     },
     "execution_count": 17,
     "metadata": {},
     "output_type": "execute_result"
    }
   ],
   "source": [
    "my_gnb = MyGaussianNB()\n",
    "my_gnb.fit(X_train, y_train)"
   ]
  },
  {
   "cell_type": "code",
   "execution_count": 19,
   "id": "dba8895b-541b-481a-833a-60442d567909",
   "metadata": {},
   "outputs": [
    {
     "data": {
      "text/plain": [
       "array([[-269.47595436,   -1.27759761,   -6.7822352 ],\n",
       "       [  -3.60503928,  -32.99683607,  -62.42811493],\n",
       "       [-837.93401629,  -29.67007834,   -9.53711858],\n",
       "       [-269.28330382,   -1.20282272,   -5.55340617],\n",
       "       [-309.00810128,   -2.48769706,   -4.661191  ]])"
      ]
     },
     "execution_count": 19,
     "metadata": {},
     "output_type": "execute_result"
    }
   ],
   "source": [
    "my_gnb.likehood(X_test[:5])"
   ]
  },
  {
   "cell_type": "code",
   "execution_count": 50,
   "id": "ccbaabc7",
   "metadata": {},
   "outputs": [
    {
     "data": {
      "text/plain": [
       "(0.92, 0.9866666666666667)"
      ]
     },
     "execution_count": 50,
     "metadata": {},
     "output_type": "execute_result"
    }
   ],
   "source": [
    "# iris\n",
    "accuracy_score(y_train, my_gnb.predict(X_train)), accuracy_score(y_test, my_gnb.predict(X_test))"
   ]
  },
  {
   "cell_type": "code",
   "execution_count": 51,
   "id": "3450406d",
   "metadata": {},
   "outputs": [
    {
     "data": {
      "image/png": "[encoded data removed]",
      "text/plain": [
       "<Figure size 432x288 with 2 Axes>"
      ]
     },
     "metadata": {
      "needs_background": "light"
     },
     "output_type": "display_data"
    }
   ],
   "source": [
    "ConfusionMatrixDisplay.from_predictions(y_train, my_gnb.predict(X_train));"
   ]
  },
  {
   "cell_type": "code",
   "execution_count": 52,
   "id": "ad81bf08",
   "metadata": {},
   "outputs": [
    {
     "data": {
      "image/png": "[encoded data removed]",
      "text/plain": [
       "<Figure size 432x288 with 2 Axes>"
      ]
     },
     "metadata": {
      "needs_background": "light"
     },
     "output_type": "display_data"
    }
   ],
   "source": [
    "ConfusionMatrixDisplay.from_predictions(y_test, my_gnb.predict(X_test));"
   ]
  },
  {
   "cell_type": "code",
   "execution_count": null,
   "id": "09523b00",
   "metadata": {
    "id": "09523b00"
   },
   "outputs": [],
   "source": [
    "class MyGaussianNB:\n",
    "    def __init__(self):\n",
    "        \n",
    "        # Массив средних значений для каждой фичи, для каждого класса\n",
    "        # (размер NxK, где N - кол-во фичей, K - кол-во классов)\n",
    "        self.mus = None\n",
    "\n",
    "        # Массив стандартных среднеквадратических отклоенний для каждой фичи\n",
    "        # для каждого класса (размер NxK, где N - кол-во фичей, K - кол-во классов)\n",
    "        self.sigmas = None\n",
    "    \n",
    "    def fit(X, y):\n",
    "        # Пройтись по всем классам и посчитать для каждой фичи для каждого класса их среднее\n",
    "        # и стандартное среднеквадратичное отклонение\n",
    "        # Запомнить их для дальнейшей оценки функции правдоподобия\n",
    "        pass\n",
    "    \n",
    "    def predict(X):\n",
    "        # Используя метод likelihood посчитать функции правдоподобия для каждой\n",
    "        # строчки для каждого класса. Для каждой строчки выбрать класс с\n",
    "        # максимальным значением функции правдоподобия\n",
    "        pass\n",
    "    \n",
    "    def predict_proba(X):\n",
    "        # Применить функцию softmax (scipy.special.softmax) на выходы likelihood\n",
    "        pass\n",
    "    \n",
    "    def likelihood(X):\n",
    "        # Для каждого класса посчитать функции правдоподобия для каждой фичи\n",
    "        # Прологарифмировать и сложить их между собой и добавить логарифм\n",
    "        # априорной вероятности соответствующего класса\n",
    "        # Получится матрица размером NxK, где N - кол-во строк, K - кол-во классов\n",
    "        pass"
   ]
  },
  {
   "cell_type": "markdown",
   "id": "61a5498a",
   "metadata": {
    "id": "61a5498a"
   },
   "source": [
    "2. Реализовать Наивный Байесовский классификатор для *категориальных* фичей\n",
    "\n",
    "Функция правдоподобия: $P(x_i = t \\mid y = c \\: ;\\, \\alpha) = \\frac{ N_{tic} + \\alpha}{N_{c} + \\alpha n_i}$\n",
    "                                       \n",
    "Подробнее [Тут](https://scikit-learn.org/stable/modules/naive_bayes.html#categorical-naive-bayes)\n",
    "\n",
    "P.S. Не забудьте логарифмировать вероятности для стабильности"
   ]
  },
  {
   "cell_type": "code",
   "execution_count": null,
   "id": "979108cd",
   "metadata": {},
   "outputs": [],
   "source": [
    "class MyCategoryNB:\n",
    "    \n",
    "    def __init__(self, alpha=1):\n",
    "        self.alpha = alpha\n",
    "        \n",
    "    \n",
    "    def fit(self, X: Union[pd.DataFrame, pd.Series, np.ndarray], y: Union[pd.Series, np.ndarray]) -> MyCategoryNB:\n",
    "        if isinstance(X, pd.DataFrame) or isinstance(X, pd.Series):\n",
    "            X = X.to_numpy()\n",
    "            y = y.to_numpy()\n",
    "            \n",
    "        P = []\n",
    "        for c in np.unique(y):\n",
    "            N_c = np.sum(y == c)\n",
    "            for f_i in range(X.shape[1]):\n",
    "                X_ic = X[y == c, f_i]\n",
    "                n_i = len(np.unique(X[:, f_i]))\n",
    "                \n",
    "                P.append({ t:(np.sum(X_ic == t) + self.alpha) / N_c + self.alpha * n_i for t in np.unique(X_ic)})\n",
    "                \n",
    "        return self\n",
    "    \n",
    "    \n",
    "    def predict(self, X: Union[pd.DataFrame, pd.Series, np.ndarray]) -> np.ndarray:\n",
    "        pass\n",
    "    \n",
    "    \n",
    "    def predict_proba(self, X: Union[pd.DataFrame, pd.Series, np.ndarray]) -> np.ndarray:\n",
    "        pass\n",
    "    \n",
    "    \n",
    "    def likehood(self, X: Union[pd.DataFrame, pd.Series, np.ndarray]) -> np.ndarray:\n",
    "        pass\n",
    "    "
   ]
  },
  {
   "cell_type": "code",
   "execution_count": 58,
   "id": "6374fbd1",
   "metadata": {},
   "outputs": [],
   "source": [
    "X = np.array([[1, 67, 12],\n",
    "              [15, 40, 39],\n",
    "              [58, 23, 14],\n",
    "              [7, 2, 84]])\n",
    "\n",
    "y = np.array([0, 1, 2, 0])"
   ]
  },
  {
   "cell_type": "code",
   "execution_count": 62,
   "id": "2ed88e84",
   "metadata": {},
   "outputs": [
    {
     "data": {
      "text/plain": [
       "array([ 1, 15, 58,  7])"
      ]
     },
     "execution_count": 62,
     "metadata": {},
     "output_type": "execute_result"
    }
   ],
   "source": [
    "X[:, 0]"
   ]
  },
  {
   "cell_type": "code",
   "execution_count": null,
   "id": "bc846aef",
   "metadata": {
    "id": "bc846aef"
   },
   "outputs": [],
   "source": [
    "class MyCategoryNB:\n",
    "    def __init__(self, alpha=1):\n",
    "        # Сглаживающая константа, для того, чтобы предотвратить перемножение на 0\n",
    "        # Если какой-то категории не встречается\n",
    "        self.alpha = alpha\n",
    "    \n",
    "    def fit(X, y):\n",
    "        # Пройтись по всем классам и посчитать для каждой фичи для каждого класса\n",
    "        # её распределение (отнормированное) по категориям с учетом сглаживающей константы alpha\n",
    "        # То есть отношение количества раз сколько встречается данная категория в данной фиче для данного класса\n",
    "        # плюс alpha к общему количеству наблюдений для этого класса плюс alpha * кол-во уникальных категорий \n",
    "        # для данной фичи\n",
    "\n",
    "        # Запомнить их для дальнейшей оценки функции правдоподобия\n",
    "        pass\n",
    "    \n",
    "    def predict(X):\n",
    "        # Используя метод likelihood посчитать функции правдоподобия для каждой строчки для каждого класса\n",
    "        # Для каждой строчки выбрать класс с максимальным значением функции правдоподобия\n",
    "        pass\n",
    "    \n",
    "    def predict_proba(X):\n",
    "        # Применить функцию softmax (scipy.special.softmax) на выходы likelihood\n",
    "        pass\n",
    "    \n",
    "    def likelihood(X):\n",
    "        # Для каждого класса посчитать функции правдоподобия для каждой фичи\n",
    "        # Прологарифмировать и сложить их между собой и добавить логарифм априорной вероятности соответствующего класса\n",
    "        # Получится матрица размером NxK, где N - кол-во строк, K - кол-во классов\n",
    "        pass"
   ]
  },
  {
   "cell_type": "markdown",
   "id": "556c1052",
   "metadata": {
    "id": "556c1052"
   },
   "source": [
    "3. Воспользовавшись двумя реализованными классификаторами, применить их на датасет adult income.\n",
    "\n",
    "Отдельно применить свой классификатор для каждого типа фичей (методом likelihood). Затем сложить получившиеся логарифмы функций правдоподобия и взять от них argmax.\n",
    "\n",
    "Сравнить метрики с получившимися на лекции."
   ]
  },
  {
   "cell_type": "code",
   "execution_count": null,
   "id": "c1ba5a28",
   "metadata": {
    "id": "c1ba5a28"
   },
   "outputs": [],
   "source": []
  },
  {
   "cell_type": "markdown",
   "id": "2ebe5f79",
   "metadata": {
    "id": "2ebe5f79"
   },
   "source": [
    "4. Реализовать самостоятельно функцию ROC AUC\n",
    "\n",
    "    * Начинать алгоритм на плоскости в точке (0;0);\n",
    "    * Отсортировать по убыванию пары (y_true, score) по score (в качестве скора взять predict_proba от 1);\n",
    "    * Идти по отсортированным парам и если y_true 1, то идти вверх по y на 1, если 0, то вправо по x на 1. В получившейся координате ставить точку;\n",
    "    * Таким образом пройтись по всему массиву пар и отложить n точек;\n",
    "    * Отнормировать все точки: по y разделить на max(y), по x разделить на max(x);\n",
    "    * Посчитать площать под графиком из получившихся точек (numpy.trapz);\n",
    "    * Сравнить ответ с функцией roc_auc_score из sklearn.\n",
    "\n",
    "Так же попробовать вместо y_pred отдать какую-нибудь фичу в качестве параметра score и так же сравнить ответы с roc_auc_score их sklearn\n",
    "\n",
    "(Доп. задание) Визуализировать получившуюся ROC кривую"
   ]
  },
  {
   "cell_type": "code",
   "execution_count": null,
   "id": "fcd0c1a2",
   "metadata": {
    "id": "fcd0c1a2"
   },
   "outputs": [],
   "source": [
    "def roc_auc(y_true, score):\n",
    "    pass"
   ]
  },
  {
   "cell_type": "markdown",
   "id": "dd1f6238",
   "metadata": {
    "id": "dd1f6238"
   },
   "source": [
    "5. (Доп. задание) Наивный Байесовский классификатор с помощью Kernel Density Estimator\n",
    "\n",
    "Использовать [Kernel Density Estimator](https://scikit-learn.org/stable/modules/generated/sklearn.neighbors.KernelDensity.html#sklearn.neighbors.KernelDensity)\n",
    "с гауссианом в качестве ядра\n",
    "\n",
    "Аппроксимировать плотности распределения для каждой фичи для каждого класса, обучая Kernel Density Estimator'ы\n",
    "\n",
    "Затем, получив значения функций правдоподобия из этих эстиматоров методом score_samples, сложить их между собой (они уже отлогарифмированны) и сложить с логарифмом априорной верояности сооответствубщего класса, и выбрать класс с максимальным значением"
   ]
  },
  {
   "cell_type": "code",
   "execution_count": null,
   "id": "58ba4d99",
   "metadata": {
    "id": "58ba4d99"
   },
   "outputs": [],
   "source": []
  },
  {
   "cell_type": "markdown",
   "id": "37f79a01",
   "metadata": {
    "id": "37f79a01"
   },
   "source": [
    "## Log Reg\n",
    "\n",
    "Построить на adult income логрег и сравнить результаты с наивным Байесем (матрица ошибок, roc_auc, accuracy, precision, recall, f1)"
   ]
  },
  {
   "cell_type": "code",
   "execution_count": null,
   "id": "54c9731a",
   "metadata": {
    "id": "54c9731a"
   },
   "outputs": [],
   "source": []
  }
 ],
 "metadata": {
  "colab": {
   "collapsed_sections": [],
   "name": "lec 3 Байес.ipynb",
   "provenance": [],
   "toc_visible": true
  },
  "kernelspec": {
   "display_name": "Python 3 (ipykernel)",
   "language": "python",
   "name": "python3"
  },
  "language_info": {
   "codemirror_mode": {
    "name": "ipython",
    "version": 3
   },
   "file_extension": ".py",
   "mimetype": "text/x-python",
   "name": "python",
   "nbconvert_exporter": "python",
   "pygments_lexer": "ipython3",
   "version": "3.8.10"
  }
 },
 "nbformat": 4,
 "nbformat_minor": 5
}
