{
 "cells": [
  {
   "cell_type": "code",
   "execution_count": 1,
   "metadata": {},
   "outputs": [],
   "source": [
    "import os \n",
    "import pickle\n",
    "\n",
    "import pandas as pd\n",
    "import numpy as np\n",
    "\n",
    "import matplotlib.pyplot as plt\n",
    "\n",
    "from sklearn.linear_model import LinearRegression\n",
    "from sklearn.preprocessing import MinMaxScaler, StandardScaler, OneHotEncoder\n",
    "from sklearn.model_selection import train_test_split, KFold\n",
    "from sklearn.cluster import KMeans\n",
    "\n",
    "from tqdm.notebook import tqdm"
   ]
  },
  {
   "cell_type": "code",
   "execution_count": 2,
   "metadata": {},
   "outputs": [],
   "source": [
    "random_seed = 42"
   ]
  },
  {
   "cell_type": "markdown",
   "metadata": {},
   "source": [
    "# Read data"
   ]
  },
  {
   "cell_type": "code",
   "execution_count": 3,
   "metadata": {},
   "outputs": [],
   "source": [
    "df = pd.read_excel(\"test_dataframe.xlsx\")"
   ]
  },
  {
   "cell_type": "code",
   "execution_count": 4,
   "metadata": {},
   "outputs": [],
   "source": [
    "cords_features = [\"x_1\",\"x_2\"]\n",
    "unknown_features = [f\"x_{i}\" for i in range(3, 27)]"
   ]
  },
  {
   "cell_type": "code",
   "execution_count": 5,
   "metadata": {},
   "outputs": [
    {
     "data": {
      "text/html": [
       "<div>\n",
       "<style scoped>\n",
       "    .dataframe tbody tr th:only-of-type {\n",
       "        vertical-align: middle;\n",
       "    }\n",
       "\n",
       "    .dataframe tbody tr th {\n",
       "        vertical-align: top;\n",
       "    }\n",
       "\n",
       "    .dataframe thead th {\n",
       "        text-align: right;\n",
       "    }\n",
       "</style>\n",
       "<table border=\"1\" class=\"dataframe\">\n",
       "  <thead>\n",
       "    <tr style=\"text-align: right;\">\n",
       "      <th></th>\n",
       "      <th>name</th>\n",
       "      <th>y</th>\n",
       "      <th>x_1</th>\n",
       "      <th>x_2</th>\n",
       "      <th>x_3</th>\n",
       "      <th>x_4</th>\n",
       "      <th>x_5</th>\n",
       "      <th>x_6</th>\n",
       "      <th>x_7</th>\n",
       "      <th>x_8</th>\n",
       "      <th>...</th>\n",
       "      <th>x_17</th>\n",
       "      <th>x_18</th>\n",
       "      <th>x_19</th>\n",
       "      <th>x_20</th>\n",
       "      <th>x_21</th>\n",
       "      <th>x_22</th>\n",
       "      <th>x_23</th>\n",
       "      <th>x_24</th>\n",
       "      <th>x_25</th>\n",
       "      <th>x_26</th>\n",
       "    </tr>\n",
       "  </thead>\n",
       "  <tbody>\n",
       "    <tr>\n",
       "      <th>0</th>\n",
       "      <td>object_1</td>\n",
       "      <td>4.444343</td>\n",
       "      <td>10803.891562</td>\n",
       "      <td>1893.090568</td>\n",
       "      <td>3.195</td>\n",
       "      <td>1.756747</td>\n",
       "      <td>2.804390</td>\n",
       "      <td>1.214452</td>\n",
       "      <td>16.276845</td>\n",
       "      <td>17.900514</td>\n",
       "      <td>...</td>\n",
       "      <td>17.755065</td>\n",
       "      <td>11.625427</td>\n",
       "      <td>25.982397</td>\n",
       "      <td>4.253154</td>\n",
       "      <td>0.120292</td>\n",
       "      <td>51.508254</td>\n",
       "      <td>100.331803</td>\n",
       "      <td>24.074581</td>\n",
       "      <td>2.118523</td>\n",
       "      <td>135.095</td>\n",
       "    </tr>\n",
       "    <tr>\n",
       "      <th>1</th>\n",
       "      <td>object_2</td>\n",
       "      <td>1.542500</td>\n",
       "      <td>10802.986261</td>\n",
       "      <td>1894.091476</td>\n",
       "      <td>10.000</td>\n",
       "      <td>0.927789</td>\n",
       "      <td>1.672746</td>\n",
       "      <td>2.037672</td>\n",
       "      <td>17.591819</td>\n",
       "      <td>19.198500</td>\n",
       "      <td>...</td>\n",
       "      <td>18.924773</td>\n",
       "      <td>12.972862</td>\n",
       "      <td>26.915673</td>\n",
       "      <td>3.055868</td>\n",
       "      <td>0.134913</td>\n",
       "      <td>50.468519</td>\n",
       "      <td>100.775339</td>\n",
       "      <td>25.411288</td>\n",
       "      <td>0.964468</td>\n",
       "      <td>353.925</td>\n",
       "    </tr>\n",
       "    <tr>\n",
       "      <th>2</th>\n",
       "      <td>object_3</td>\n",
       "      <td>1.548611</td>\n",
       "      <td>10802.290812</td>\n",
       "      <td>1894.434150</td>\n",
       "      <td>3.600</td>\n",
       "      <td>0.588972</td>\n",
       "      <td>0.997910</td>\n",
       "      <td>2.323546</td>\n",
       "      <td>18.357680</td>\n",
       "      <td>19.969280</td>\n",
       "      <td>...</td>\n",
       "      <td>19.426871</td>\n",
       "      <td>13.681034</td>\n",
       "      <td>27.628010</td>\n",
       "      <td>2.287929</td>\n",
       "      <td>0.254675</td>\n",
       "      <td>50.106037</td>\n",
       "      <td>100.750034</td>\n",
       "      <td>26.164441</td>\n",
       "      <td>0.254675</td>\n",
       "      <td>447.280</td>\n",
       "    </tr>\n",
       "    <tr>\n",
       "      <th>3</th>\n",
       "      <td>object_4</td>\n",
       "      <td>3.061224</td>\n",
       "      <td>10803.545629</td>\n",
       "      <td>1892.791004</td>\n",
       "      <td>3.675</td>\n",
       "      <td>1.980765</td>\n",
       "      <td>2.638067</td>\n",
       "      <td>0.823431</td>\n",
       "      <td>16.399447</td>\n",
       "      <td>18.045014</td>\n",
       "      <td>...</td>\n",
       "      <td>17.532476</td>\n",
       "      <td>11.617009</td>\n",
       "      <td>26.210830</td>\n",
       "      <td>4.053203</td>\n",
       "      <td>0.070705</td>\n",
       "      <td>51.790560</td>\n",
       "      <td>99.902078</td>\n",
       "      <td>24.153369</td>\n",
       "      <td>1.953486</td>\n",
       "      <td>137.335</td>\n",
       "    </tr>\n",
       "    <tr>\n",
       "      <th>4</th>\n",
       "      <td>object_5</td>\n",
       "      <td>10.507881</td>\n",
       "      <td>10802.779639</td>\n",
       "      <td>1893.160768</td>\n",
       "      <td>2.855</td>\n",
       "      <td>1.131793</td>\n",
       "      <td>1.795777</td>\n",
       "      <td>1.121031</td>\n",
       "      <td>17.243937</td>\n",
       "      <td>18.893356</td>\n",
       "      <td>...</td>\n",
       "      <td>18.070901</td>\n",
       "      <td>12.402956</td>\n",
       "      <td>26.991966</td>\n",
       "      <td>3.202651</td>\n",
       "      <td>0.076344</td>\n",
       "      <td>51.391867</td>\n",
       "      <td>99.858352</td>\n",
       "      <td>24.979979</td>\n",
       "      <td>1.104114</td>\n",
       "      <td>250.675</td>\n",
       "    </tr>\n",
       "  </tbody>\n",
       "</table>\n",
       "<p>5 rows × 28 columns</p>\n",
       "</div>"
      ],
      "text/plain": [
       "       name          y           x_1          x_2     x_3       x_4       x_5  \\\n",
       "0  object_1   4.444343  10803.891562  1893.090568   3.195  1.756747  2.804390   \n",
       "1  object_2   1.542500  10802.986261  1894.091476  10.000  0.927789  1.672746   \n",
       "2  object_3   1.548611  10802.290812  1894.434150   3.600  0.588972  0.997910   \n",
       "3  object_4   3.061224  10803.545629  1892.791004   3.675  1.980765  2.638067   \n",
       "4  object_5  10.507881  10802.779639  1893.160768   2.855  1.131793  1.795777   \n",
       "\n",
       "        x_6        x_7        x_8  ...       x_17       x_18       x_19  \\\n",
       "0  1.214452  16.276845  17.900514  ...  17.755065  11.625427  25.982397   \n",
       "1  2.037672  17.591819  19.198500  ...  18.924773  12.972862  26.915673   \n",
       "2  2.323546  18.357680  19.969280  ...  19.426871  13.681034  27.628010   \n",
       "3  0.823431  16.399447  18.045014  ...  17.532476  11.617009  26.210830   \n",
       "4  1.121031  17.243937  18.893356  ...  18.070901  12.402956  26.991966   \n",
       "\n",
       "       x_20      x_21       x_22        x_23       x_24      x_25     x_26  \n",
       "0  4.253154  0.120292  51.508254  100.331803  24.074581  2.118523  135.095  \n",
       "1  3.055868  0.134913  50.468519  100.775339  25.411288  0.964468  353.925  \n",
       "2  2.287929  0.254675  50.106037  100.750034  26.164441  0.254675  447.280  \n",
       "3  4.053203  0.070705  51.790560   99.902078  24.153369  1.953486  137.335  \n",
       "4  3.202651  0.076344  51.391867   99.858352  24.979979  1.104114  250.675  \n",
       "\n",
       "[5 rows x 28 columns]"
      ]
     },
     "execution_count": 5,
     "metadata": {},
     "output_type": "execute_result"
    }
   ],
   "source": [
    "df.head()"
   ]
  },
  {
   "cell_type": "markdown",
   "metadata": {},
   "source": [
    "# Генерация фичей"
   ]
  },
  {
   "cell_type": "markdown",
   "metadata": {},
   "source": [
    "Так как линейная регрессия - линейна, добавляем нелинейность а.к.а. произведение всех фичей на все фичи"
   ]
  },
  {
   "cell_type": "code",
   "execution_count": 6,
   "metadata": {},
   "outputs": [],
   "source": [
    "def add_features(x, feats):\n",
    "    temp_x = x.copy()\n",
    "    new_features = {}\n",
    "\n",
    "    for feat_x in feats:\n",
    "        for feat_y in feats:\n",
    "            new_features[f\"{feat_x}-{feat_y}\"] = temp_x[feat_x]*temp_x[feat_y] \n",
    "            if(feat_x == feat_y):\n",
    "                break\n",
    "            \n",
    "    feats = pd.DataFrame(new_features)\n",
    "    return pd.concat([x, feats], axis=1)"
   ]
  },
  {
   "cell_type": "markdown",
   "metadata": {},
   "source": [
    "## Работа с координатами"
   ]
  },
  {
   "cell_type": "markdown",
   "metadata": {},
   "source": [
    "Стоит выбрать полезные данные из координат\n",
    "\n",
    "Изначально иедя была в том что бы разбить все записи на кластера(изначально делал ручками, но терпения не хватило) и сделать новую характеристику описывающую растояние от центра кластера, но толку было мало.\n",
    "\n",
    "Использовал кСредних(надеюсь интерпритируемость присутствует), и добавил бинарную фичу принадлежности к классу."
   ]
  },
  {
   "cell_type": "code",
   "execution_count": 7,
   "metadata": {},
   "outputs": [],
   "source": [
    "if(os.path.isfile('geo_cluster.pickle')):\n",
    "    with open('geo_cluster.pickle','rb') as file:\n",
    "        geo_cluster = pickle.load(file)\n",
    "else:\n",
    "    geo_cluster = KMeans(random_state=random_seed).fit(df[['x_1', 'x_2']])\n",
    "    with open('geo_cluster.pickle','wb') as file:\n",
    "        pickle.dump(geo_cluster, file)"
   ]
  },
  {
   "cell_type": "code",
   "execution_count": 8,
   "metadata": {},
   "outputs": [
    {
     "data": {
      "image/png": "[encoded data removed]",
      "text/plain": [
       "<Figure size 640x480 with 1 Axes>"
      ]
     },
     "metadata": {},
     "output_type": "display_data"
    }
   ],
   "source": [
    "clusters = geo_cluster.predict(df[['x_1','x_2']])\n",
    "\n",
    "plt.scatter(df['x_1'], df['x_2'], c=clusters)\n",
    "plt.show()"
   ]
  },
  {
   "cell_type": "markdown",
   "metadata": {},
   "source": [
    "### OHE кластеры"
   ]
  },
  {
   "cell_type": "code",
   "execution_count": 9,
   "metadata": {},
   "outputs": [],
   "source": [
    "cluster_feats = np.zeros((clusters.size, clusters.max() + 1))\n",
    "cluster_feats[np.arange(clusters.size), clusters] = 1\n",
    "cluster_feats = cluster_feats.reshape([8, -1])\n",
    "cluster_feats = {f\"cluster{i}\":clust for i, clust in enumerate(cluster_feats[:])}\n",
    "\n",
    "cluster_feats = pd.DataFrame(cluster_feats)\n",
    "\n",
    "df = pd.concat([df, cluster_feats], axis = 1)\n",
    "\n",
    "cluster_feats = list(cluster_feats.columns)"
   ]
  },
  {
   "cell_type": "markdown",
   "metadata": {},
   "source": [
    "### Растояние до центра кластера"
   ]
  },
  {
   "cell_type": "code",
   "execution_count": 10,
   "metadata": {},
   "outputs": [],
   "source": [
    "dist_dict = {}\n",
    "\n",
    "for clust in cluster_feats:\n",
    "    mean_x = df[df[clust] == 1][\"x_1\"].mean()\n",
    "    mean_y = df[df[clust] == 1][\"x_2\"].mean()\n",
    "    # print(mean_x, mean_y)\n",
    "    dist_dict[f\"dist_{clust}\"] = (df[\"x_1\"] - mean_x) * (df[\"x_2\"] - mean_y)\n",
    "\n",
    "dist_dict = pd.DataFrame(dist_dict)\n",
    "\n",
    "df = pd.concat([df, dist_dict], axis = 1)\n",
    "\n",
    "dist_feats = list(dist_dict.columns)"
   ]
  },
  {
   "cell_type": "markdown",
   "metadata": {},
   "source": [
    "# Удаление выбросов"
   ]
  },
  {
   "cell_type": "markdown",
   "metadata": {},
   "source": [
    "Удаляем значения которые отходят от квантиля, более чем на полтора размаха"
   ]
  },
  {
   "cell_type": "code",
   "execution_count": 11,
   "metadata": {},
   "outputs": [
    {
     "name": "stderr",
     "output_type": "stream",
     "text": [
      "C:\\Users\\sereg\\AppData\\Local\\Temp\\ipykernel_13348\\468860659.py:8: SettingWithCopyWarning: \n",
      "A value is trying to be set on a copy of a slice from a DataFrame\n",
      "\n",
      "See the caveats in the documentation: https://pandas.pydata.org/pandas-docs/stable/user_guide/indexing.html#returning-a-view-versus-a-copy\n",
      "  df[feature][~mask] = None\n"
     ]
    }
   ],
   "source": [
    "for feature in unknown_features:\n",
    "    q75, q25 = df[feature].quantile(0.75), df[feature].quantile(0.25)\n",
    "    intr_qr = q75-q25\n",
    "    maxp = q75+(1.5*intr_qr)\n",
    "    minp = q25-(1.5*intr_qr)\n",
    "    mask = (df[feature] < maxp) & (df[feature] > minp)\n",
    "    \n",
    "    df[feature][~mask] = None"
   ]
  },
  {
   "cell_type": "code",
   "execution_count": 12,
   "metadata": {},
   "outputs": [
    {
     "data": {
      "text/plain": [
       "name               0\n",
       "y                  0\n",
       "x_1                0\n",
       "x_2                0\n",
       "x_3               90\n",
       "x_4               73\n",
       "x_5               84\n",
       "x_6               16\n",
       "x_7                0\n",
       "x_8              137\n",
       "x_9              168\n",
       "x_10             165\n",
       "x_11              51\n",
       "x_12              40\n",
       "x_13              22\n",
       "x_14               0\n",
       "x_15             218\n",
       "x_16              84\n",
       "x_17              48\n",
       "x_18             287\n",
       "x_19             131\n",
       "x_20               5\n",
       "x_21             207\n",
       "x_22              65\n",
       "x_23               0\n",
       "x_24             306\n",
       "x_25             219\n",
       "x_26             173\n",
       "cluster0           0\n",
       "cluster1           0\n",
       "cluster2           0\n",
       "cluster3           0\n",
       "cluster4           0\n",
       "cluster5           0\n",
       "cluster6           0\n",
       "cluster7           0\n",
       "dist_cluster0      0\n",
       "dist_cluster1      0\n",
       "dist_cluster2      0\n",
       "dist_cluster3      0\n",
       "dist_cluster4      0\n",
       "dist_cluster5      0\n",
       "dist_cluster6      0\n",
       "dist_cluster7      0\n",
       "dtype: int64"
      ]
     },
     "execution_count": 12,
     "metadata": {},
     "output_type": "execute_result"
    }
   ],
   "source": [
    "df.isna().sum()"
   ]
  },
  {
   "cell_type": "code",
   "execution_count": 13,
   "metadata": {},
   "outputs": [
    {
     "data": {
      "text/plain": [
       "(1126, 44)"
      ]
     },
     "execution_count": 13,
     "metadata": {},
     "output_type": "execute_result"
    }
   ],
   "source": [
    "clear_df = df[df.isna().sum(axis = 1) == 0]\n",
    "clear_df.shape"
   ]
  },
  {
   "cell_type": "code",
   "execution_count": 14,
   "metadata": {},
   "outputs": [],
   "source": [
    "filled_df = df.fillna(df[unknown_features].mean(axis = 0))"
   ]
  },
  {
   "cell_type": "code",
   "execution_count": 15,
   "metadata": {},
   "outputs": [
    {
     "data": {
      "image/png": "[encoded data removed]",
      "text/plain": [
       "<Figure size 2000x2000 with 25 Axes>"
      ]
     },
     "metadata": {},
     "output_type": "display_data"
    }
   ],
   "source": [
    "filled_df[unknown_features].hist(bins=60,figsize=(20, 20))\n",
    "plt.show()"
   ]
  },
  {
   "cell_type": "code",
   "execution_count": 16,
   "metadata": {},
   "outputs": [],
   "source": [
    "features = cords_features + unknown_features + cluster_feats + dist_feats"
   ]
  },
  {
   "cell_type": "markdown",
   "metadata": {},
   "source": [
    " # Анализ целевой переменной"
   ]
  },
  {
   "cell_type": "code",
   "execution_count": 17,
   "metadata": {},
   "outputs": [
    {
     "data": {
      "text/plain": [
       "<AxesSubplot: >"
      ]
     },
     "execution_count": 17,
     "metadata": {},
     "output_type": "execute_result"
    },
    {
     "data": {
      "image/png": "[encoded data removed]",
      "text/plain": [
       "<Figure size 640x480 with 1 Axes>"
      ]
     },
     "metadata": {},
     "output_type": "display_data"
    }
   ],
   "source": [
    "clear_df['y'].hist(bins = 60)"
   ]
  },
  {
   "cell_type": "code",
   "execution_count": 18,
   "metadata": {},
   "outputs": [
    {
     "data": {
      "text/plain": [
       "<AxesSubplot: >"
      ]
     },
     "execution_count": 18,
     "metadata": {},
     "output_type": "execute_result"
    },
    {
     "data": {
      "image/png": "[encoded data removed]",
      "text/plain": [
       "<Figure size 640x480 with 1 Axes>"
      ]
     },
     "metadata": {},
     "output_type": "display_data"
    }
   ],
   "source": [
    "filled_df['y'].hist(bins = 60)"
   ]
  },
  {
   "cell_type": "code",
   "execution_count": 19,
   "metadata": {},
   "outputs": [
    {
     "data": {
      "text/plain": [
       "count    2123.000000\n",
       "mean       11.816234\n",
       "std        20.716350\n",
       "min         0.007450\n",
       "25%         3.368449\n",
       "50%         6.302521\n",
       "75%        12.381752\n",
       "max       360.000000\n",
       "Name: y, dtype: float64"
      ]
     },
     "execution_count": 19,
     "metadata": {},
     "output_type": "execute_result"
    }
   ],
   "source": [
    "filled_df['y'].describe()"
   ]
  },
  {
   "cell_type": "code",
   "execution_count": 20,
   "metadata": {},
   "outputs": [
    {
     "data": {
      "text/plain": [
       "(270, 18)"
      ]
     },
     "execution_count": 20,
     "metadata": {},
     "output_type": "execute_result"
    }
   ],
   "source": [
    "(filled_df['y'] > 20).sum(), (filled_df['y'] > 100).sum() "
   ]
  },
  {
   "cell_type": "code",
   "execution_count": 21,
   "metadata": {},
   "outputs": [],
   "source": [
    "delete_y = 20"
   ]
  },
  {
   "cell_type": "code",
   "execution_count": 22,
   "metadata": {},
   "outputs": [
    {
     "data": {
      "text/plain": [
       "count    1843.000000\n",
       "mean        6.707789\n",
       "std         4.565781\n",
       "min         0.007450\n",
       "25%         3.100000\n",
       "50%         5.665000\n",
       "75%         9.416211\n",
       "max        19.986676\n",
       "Name: y, dtype: float64"
      ]
     },
     "execution_count": 22,
     "metadata": {},
     "output_type": "execute_result"
    }
   ],
   "source": [
    "filled_df['y'][filled_df['y'] < delete_y].describe()"
   ]
  },
  {
   "cell_type": "code",
   "execution_count": 23,
   "metadata": {},
   "outputs": [],
   "source": [
    "new_y = filled_df['y'][filled_df['y'] < delete_y]"
   ]
  },
  {
   "cell_type": "code",
   "execution_count": 24,
   "metadata": {},
   "outputs": [
    {
     "data": {
      "text/plain": [
       "<AxesSubplot: >"
      ]
     },
     "execution_count": 24,
     "metadata": {},
     "output_type": "execute_result"
    },
    {
     "data": {
      "image/png": "[encoded data removed]",
      "text/plain": [
       "<Figure size 640x480 with 1 Axes>"
      ]
     },
     "metadata": {},
     "output_type": "display_data"
    }
   ],
   "source": [
    "new_y.hist(bins=60)"
   ]
  },
  {
   "cell_type": "code",
   "execution_count": 25,
   "metadata": {},
   "outputs": [],
   "source": [
    "filled_df = filled_df[filled_df['y'] < delete_y]"
   ]
  },
  {
   "cell_type": "code",
   "execution_count": 26,
   "metadata": {},
   "outputs": [
    {
     "data": {
      "image/png": "[encoded data removed]",
      "text/plain": [
       "<Figure size 640x480 with 1 Axes>"
      ]
     },
     "metadata": {},
     "output_type": "display_data"
    }
   ],
   "source": [
    "plt.scatter(filled_df['x_1'], filled_df['x_2'], c=filled_df['y'])\n",
    "plt.show()"
   ]
  },
  {
   "cell_type": "markdown",
   "metadata": {},
   "source": [
    "# Scaling"
   ]
  },
  {
   "cell_type": "code",
   "execution_count": 27,
   "metadata": {},
   "outputs": [],
   "source": [
    "def create_scaler(x_train, y_train, other_f):\n",
    "    scaler = {}\n",
    "\n",
    "    if(len(other_f) > 0):\n",
    "        scaler[\"feats\"] = StandardScaler().fit(x_train[other_f])\n",
    "\n",
    "    scaler[\"target\"] = StandardScaler().fit(y_train.reshape([-1, 1]))\n",
    "\n",
    "    return scaler\n",
    "\n",
    "def apply_features(scaler, x_train, x_test, y_train, y_test, other_f):\n",
    "    if(len(other_f) > 0):\n",
    "        x_train[other_f] = scaler[\"feats\"].transform(x_train[other_f])\n",
    "        x_test[other_f] = scaler[\"feats\"].transform(x_test[other_f])\n",
    "\n",
    "    y_train = scaler[\"target\"].transform(y_train.reshape([-1, 1])).reshape([-1])\n",
    "    y_test = scaler[\"target\"].transform(y_test.reshape([-1, 1])).reshape([-1])\n",
    "\n",
    "    return (x_train, x_test),(y_train, y_test)\n",
    "\n",
    "def scale_features(x_train, x_test, y_train, y_test, other_f):\n",
    "    scaler = create_scaler(x_train, y_train, other_f)\n",
    "\n",
    "    return scaler, *apply_features(scaler, x_train, x_test, y_train, y_test, other_f)\n"
   ]
  },
  {
   "cell_type": "markdown",
   "metadata": {},
   "source": [
    "# Работа с моделями"
   ]
  },
  {
   "cell_type": "markdown",
   "metadata": {},
   "source": [
    "### Метрики и всякое"
   ]
  },
  {
   "cell_type": "code",
   "execution_count": 28,
   "metadata": {},
   "outputs": [],
   "source": [
    "def MSE(pred, y):\n",
    "    return ((pred - y)**2).mean()\n",
    "\n",
    "def MAE(pred, y):\n",
    "    return (np.abs(pred - y)).mean()"
   ]
  },
  {
   "cell_type": "code",
   "execution_count": 29,
   "metadata": {},
   "outputs": [],
   "source": [
    "def my_metrics(pred_train, pred_test, y_train, y_test):\n",
    "    print(\"Test part\")\n",
    "    print(f\"MSE {MSE(pred_test, y_test)}\")\n",
    "    print(f\"MAE {MAE(pred_test, y_test)}\\n\")\n",
    "\n",
    "    return MSE(pred_test, y_test), MAE(pred_test, y_test)"
   ]
  },
  {
   "cell_type": "code",
   "execution_count": 30,
   "metadata": {},
   "outputs": [],
   "source": [
    "def metric_fs(pred_train, pred_test, y_train, y_test):\n",
    "    return {\"compare\" : MSE(pred_test, y_test), \n",
    "            \"test_mse\" : MSE(pred_test, y_test),\n",
    "            \"train_mse\" : MSE(pred_train, y_train)}"
   ]
  },
  {
   "cell_type": "code",
   "execution_count": 31,
   "metadata": {},
   "outputs": [],
   "source": [
    "def learn_model(df, model_obj, use_features = [],need_scaling = False, need_new_features = False):\n",
    "    x_train, x_test, y_train, y_test = train_test_split(df[use_features], df['y'].to_numpy(), train_size=0.8)\n",
    "\n",
    "    dict_ret = {}\n",
    "\n",
    "    if(need_scaling):\n",
    "        dict_ret[\"scaler\"], (x_train, x_test), (y_train, y_test) = scale_features(x_train, x_test, y_train, y_test, use_features)\n",
    "    \n",
    "    dict_ret[\"y\"] = {\"train\":y_train, \"test\":y_test}\n",
    "    \n",
    "    if(need_new_features):\n",
    "        x_train = add_features(x_train, use_features)\n",
    "        x_test = add_features(x_test, use_features)\n",
    "\n",
    "    dict_ret[\"x\"] = {\"train\":x_train, \"test\":x_test}\n",
    "\n",
    "    dict_ret[\"model\"] = model_obj.fit(x_train, y_train)\n",
    "\n",
    "    return dict_ret"
   ]
  },
  {
   "cell_type": "code",
   "execution_count": 32,
   "metadata": {},
   "outputs": [],
   "source": [
    "def eval_model(df, model_obj, metric, use_feats, need_scaling = False, need_new_features = False):\n",
    "    get_model = learn_model(df, model_obj, use_feats, need_scaling, need_new_features)\n",
    "\n",
    "    pred_train = get_model['model'].predict(get_model['x']['train'])\n",
    "    pred_test = get_model['model'].predict(get_model['x']['test'])\n",
    "\n",
    "    if(need_scaling):\n",
    "        pred_train = get_model['scaler']['target'].inverse_transform(pred_train.reshape([-1, 1]))\n",
    "        pred_test = get_model['scaler']['target'].inverse_transform(pred_test.reshape([-1, 1]))\n",
    "\n",
    "    \n",
    "    return get_model, metric(pred_train, pred_test, get_model['y']['train'],get_model['y']['test'])\n",
    "\n"
   ]
  },
  {
   "cell_type": "markdown",
   "metadata": {},
   "source": [
    "Std Scaler - мешает"
   ]
  },
  {
   "cell_type": "code",
   "execution_count": 33,
   "metadata": {},
   "outputs": [
    {
     "name": "stdout",
     "output_type": "stream",
     "text": [
      "Test part\n",
      "MSE 51.221347099319615\n",
      "MAE 6.828211302994532\n",
      "\n",
      "Test part\n",
      "MSE 19.704305592409927\n",
      "MAE 3.532498076944536\n",
      "\n",
      "\n"
     ]
    }
   ],
   "source": [
    "eval_model(filled_df, LinearRegression(), my_metrics, [\"x_1\", \"x_2\"] + unknown_features, need_scaling=True)\n",
    "\n",
    "eval_model(filled_df, LinearRegression(), my_metrics, [\"x_1\", \"x_2\"] + unknown_features)\n",
    "print()"
   ]
  },
  {
   "cell_type": "markdown",
   "metadata": {},
   "source": [
    "От набора данных в которых не заполнены, а удалены выбросы - толку нет"
   ]
  },
  {
   "cell_type": "code",
   "execution_count": 34,
   "metadata": {},
   "outputs": [
    {
     "name": "stdout",
     "output_type": "stream",
     "text": [
      "Test part\n",
      "MSE 138.4906067685205\n",
      "MAE 10.80112390981621\n",
      "\n",
      "Test part\n",
      "MSE 83.25583338785084\n",
      "MAE 6.1363960960144945\n",
      "\n",
      "\n"
     ]
    }
   ],
   "source": [
    "eval_model(clear_df, LinearRegression(), my_metrics, [\"x_1\", \"x_2\"] + unknown_features, need_scaling=True)\n",
    "\n",
    "eval_model(clear_df, LinearRegression(), my_metrics, [\"x_1\", \"x_2\"] + unknown_features)\n",
    "print()"
   ]
  },
  {
   "cell_type": "markdown",
   "metadata": {},
   "source": [
    "От координат - толку нет"
   ]
  },
  {
   "cell_type": "code",
   "execution_count": 35,
   "metadata": {},
   "outputs": [
    {
     "name": "stdout",
     "output_type": "stream",
     "text": [
      "Test part\n",
      "MSE 18.49625555322915\n",
      "MAE 3.33638452853099\n",
      "\n",
      "Test part\n",
      "MSE 17.63563148795263\n",
      "MAE 3.1951866858200217\n",
      "\n",
      "\n"
     ]
    }
   ],
   "source": [
    "eval_model(filled_df, LinearRegression(), my_metrics, unknown_features)\n",
    "\n",
    "eval_model(filled_df, LinearRegression(), my_metrics, [\"x_1\", \"x_2\"] + unknown_features)\n",
    "print()"
   ]
  },
  {
   "cell_type": "markdown",
   "metadata": {},
   "source": [
    "Создаем расширенный датасет"
   ]
  },
  {
   "cell_type": "code",
   "execution_count": 36,
   "metadata": {},
   "outputs": [],
   "source": [
    "full_filled_df = add_features(filled_df, unknown_features)\n",
    "full_filled_df = add_features(full_filled_df, cords_features)"
   ]
  },
  {
   "cell_type": "code",
   "execution_count": 37,
   "metadata": {},
   "outputs": [],
   "source": [
    "full_feats = list(set(full_filled_df.columns)^set([\"y\", \"name\"]))"
   ]
  },
  {
   "cell_type": "code",
   "execution_count": 38,
   "metadata": {},
   "outputs": [
    {
     "data": {
      "text/plain": [
       "345"
      ]
     },
     "execution_count": 38,
     "metadata": {},
     "output_type": "execute_result"
    }
   ],
   "source": [
    "len(full_feats)"
   ]
  },
  {
   "cell_type": "code",
   "execution_count": 39,
   "metadata": {},
   "outputs": [
    {
     "name": "stdout",
     "output_type": "stream",
     "text": [
      "Test part\n",
      "MSE 22.301677428385023\n",
      "MAE 3.652196132509007\n",
      "\n",
      "Test part\n",
      "MSE 41.575243105505855\n",
      "MAE 3.7433097721854627\n",
      "\n",
      "\n"
     ]
    }
   ],
   "source": [
    "eval_model(filled_df, LinearRegression(), my_metrics, unknown_features)\n",
    "\n",
    "eval_model(full_filled_df, LinearRegression(), my_metrics, full_feats)\n",
    "print()"
   ]
  },
  {
   "cell_type": "markdown",
   "metadata": {},
   "source": [
    " # Forward Selection"
   ]
  },
  {
   "cell_type": "code",
   "execution_count": 40,
   "metadata": {},
   "outputs": [],
   "source": [
    "def remove_feats(used_feats, choosen_feat):\n",
    "    for feat in choosen_feat.split(\"-\"):\n",
    "        used_feats = [u_feat for u_feat in used_feats if not(feat in u_feat.split('-'))]\n",
    "\n",
    "    return used_feats"
   ]
  },
  {
   "cell_type": "code",
   "execution_count": 41,
   "metadata": {},
   "outputs": [],
   "source": [
    "def forward_selection(df, model_obj, metric, used_feats=[], selected_feats = [], need_stop = True, need_scaling = False, choose_feats = -1, splits = 3):\n",
    "    prev_min_metric = np.inf\n",
    "    folds = KFold(n_splits=splits, shuffle=True)\n",
    "    \n",
    "    scores = []\n",
    "    \n",
    "    if(choose_feats < 1):\n",
    "        choose_feats = len(used_feats)\n",
    "\n",
    "    print(choose_feats)\n",
    "    with tqdm(range(choose_feats)) as epochs:\n",
    "        for epoch in epochs:\n",
    "            min_metric = np.inf\n",
    "            choosen = None\n",
    "\n",
    "            if(len(used_feats) < 1):\n",
    "\n",
    "                break\n",
    "            \n",
    "            with tqdm(used_feats, total=len(used_feats), leave = False) as feature_iter:\n",
    "                for feat in  feature_iter:\n",
    "                    \n",
    "                    cur_metric = 0\n",
    "                    for train_index, valid_index in folds.split(df):\n",
    "                        get_model, metric_val = eval_model(df.iloc[train_index], model_obj, metric, selected_feats + [feat],need_scaling)\n",
    "\n",
    "                        pred_valid = get_model['model'].predict(df[selected_feats + [feat]].iloc[valid_index])\n",
    "                        pred_train = get_model['model'].predict(df[selected_feats + [feat]].iloc[train_index])\n",
    "                        cur_metric += metric(pred_train, pred_valid, df.iloc[train_index]['y'], df.iloc[valid_index]['y'])['compare']\n",
    "                    cur_metric /= splits\n",
    "\n",
    "                    if(cur_metric < min_metric):\n",
    "                        min_metric = cur_metric\n",
    "                        choosen = feat\n",
    "                        \n",
    "                    feature_iter.set_description(f\"Selected feature {choosen}, metric {min_metric}\")\n",
    "\n",
    "            if(need_stop and (min_metric > prev_min_metric)):\n",
    "                print(\"Metric gets bigger\")\n",
    "                break\n",
    "            prev_min_metric = min_metric\n",
    "            scores += [min_metric]\n",
    "            print(choosen, min_metric)\n",
    "            \n",
    "            selected_feats += [choosen]\n",
    "            used_feats = remove_feats(used_feats, choosen)\n",
    "            \n",
    "            epochs.total = max(len(used_feats) + len(selected_feats), choose_feats)\n",
    "            epochs.refresh()\n",
    "            \n",
    "    plt.plot(range(len(scores)),scores)\n",
    "    plt.show()\n",
    "\n",
    "    return selected_feats, scores\n"
   ]
  },
  {
   "cell_type": "code",
   "execution_count": 42,
   "metadata": {},
   "outputs": [
    {
     "name": "stdout",
     "output_type": "stream",
     "text": [
      "42\n"
     ]
    },
    {
     "data": {
      "application/vnd.jupyter.widget-view+json": {
       "model_id": "0887d5aa52a342238c43bc7b0090d379",
       "version_major": 2,
       "version_minor": 0
      },
      "text/plain": [
       "  0%|          | 0/42 [00:00<?, ?it/s]"
      ]
     },
     "metadata": {},
     "output_type": "display_data"
    },
    {
     "data": {
      "application/vnd.jupyter.widget-view+json": {
       "model_id": "4d71c13372394118bf227b1be13aa83c",
       "version_major": 2,
       "version_minor": 0
      },
      "text/plain": [
       "  0%|          | 0/42 [00:00<?, ?it/s]"
      ]
     },
     "metadata": {},
     "output_type": "display_data"
    },
    {
     "name": "stdout",
     "output_type": "stream",
     "text": [
      "x_8 18.935840216466236\n"
     ]
    },
    {
     "data": {
      "application/vnd.jupyter.widget-view+json": {
       "model_id": "1861d8f798aa4398982d532d57a98ec0",
       "version_major": 2,
       "version_minor": 0
      },
      "text/plain": [
       "  0%|          | 0/41 [00:00<?, ?it/s]"
      ]
     },
     "metadata": {},
     "output_type": "display_data"
    },
    {
     "name": "stdout",
     "output_type": "stream",
     "text": [
      "x_2 18.403406587649258\n"
     ]
    },
    {
     "data": {
      "application/vnd.jupyter.widget-view+json": {
       "model_id": "49c254b31e4e4efd8fcfd3a80d3801a2",
       "version_major": 2,
       "version_minor": 0
      },
      "text/plain": [
       "  0%|          | 0/40 [00:00<?, ?it/s]"
      ]
     },
     "metadata": {},
     "output_type": "display_data"
    },
    {
     "name": "stdout",
     "output_type": "stream",
     "text": [
      "x_7 18.290361021206724\n"
     ]
    },
    {
     "data": {
      "application/vnd.jupyter.widget-view+json": {
       "model_id": "6d84b27f3199477f8f58144ae23a6c3c",
       "version_major": 2,
       "version_minor": 0
      },
      "text/plain": [
       "  0%|          | 0/39 [00:00<?, ?it/s]"
      ]
     },
     "metadata": {},
     "output_type": "display_data"
    },
    {
     "name": "stdout",
     "output_type": "stream",
     "text": [
      "x_23 18.098613959702796\n"
     ]
    },
    {
     "data": {
      "application/vnd.jupyter.widget-view+json": {
       "model_id": "74d41eabbb094e0fa21975441e3e8d97",
       "version_major": 2,
       "version_minor": 0
      },
      "text/plain": [
       "  0%|          | 0/38 [00:00<?, ?it/s]"
      ]
     },
     "metadata": {},
     "output_type": "display_data"
    },
    {
     "name": "stdout",
     "output_type": "stream",
     "text": [
      "x_1 17.904095820574128\n"
     ]
    },
    {
     "data": {
      "application/vnd.jupyter.widget-view+json": {
       "model_id": "89ae6fe5e58643baac7de9c8f21cee10",
       "version_major": 2,
       "version_minor": 0
      },
      "text/plain": [
       "  0%|          | 0/37 [00:00<?, ?it/s]"
      ]
     },
     "metadata": {},
     "output_type": "display_data"
    },
    {
     "name": "stdout",
     "output_type": "stream",
     "text": [
      "dist_cluster6 17.852872425704692\n"
     ]
    },
    {
     "data": {
      "application/vnd.jupyter.widget-view+json": {
       "model_id": "b35486c8c77f4f188d41db0389467de5",
       "version_major": 2,
       "version_minor": 0
      },
      "text/plain": [
       "  0%|          | 0/36 [00:00<?, ?it/s]"
      ]
     },
     "metadata": {},
     "output_type": "display_data"
    },
    {
     "name": "stdout",
     "output_type": "stream",
     "text": [
      "x_16 17.768848828983817\n"
     ]
    },
    {
     "data": {
      "application/vnd.jupyter.widget-view+json": {
       "model_id": "0da28824226049029b9b064d10b2e3d6",
       "version_major": 2,
       "version_minor": 0
      },
      "text/plain": [
       "  0%|          | 0/35 [00:00<?, ?it/s]"
      ]
     },
     "metadata": {},
     "output_type": "display_data"
    },
    {
     "name": "stdout",
     "output_type": "stream",
     "text": [
      "cluster6 17.75487922519808\n"
     ]
    },
    {
     "data": {
      "application/vnd.jupyter.widget-view+json": {
       "model_id": "82b1df0f7ce443248d25a6e5d94ce78b",
       "version_major": 2,
       "version_minor": 0
      },
      "text/plain": [
       "  0%|          | 0/34 [00:00<?, ?it/s]"
      ]
     },
     "metadata": {},
     "output_type": "display_data"
    },
    {
     "name": "stdout",
     "output_type": "stream",
     "text": [
      "x_17 17.64967328305267\n"
     ]
    },
    {
     "data": {
      "application/vnd.jupyter.widget-view+json": {
       "model_id": "46d5ced5459a4f6d828246f4aef4e329",
       "version_major": 2,
       "version_minor": 0
      },
      "text/plain": [
       "  0%|          | 0/33 [00:00<?, ?it/s]"
      ]
     },
     "metadata": {},
     "output_type": "display_data"
    },
    {
     "name": "stdout",
     "output_type": "stream",
     "text": [
      "x_26 17.610873508561706\n"
     ]
    },
    {
     "data": {
      "application/vnd.jupyter.widget-view+json": {
       "model_id": "089c8a46840f4d16a1fb3efb135a6ba3",
       "version_major": 2,
       "version_minor": 0
      },
      "text/plain": [
       "  0%|          | 0/32 [00:00<?, ?it/s]"
      ]
     },
     "metadata": {},
     "output_type": "display_data"
    },
    {
     "name": "stdout",
     "output_type": "stream",
     "text": [
      "x_13 17.48718612661528\n"
     ]
    },
    {
     "data": {
      "application/vnd.jupyter.widget-view+json": {
       "model_id": "b2e6b404a0c247c196da204cfcaf833f",
       "version_major": 2,
       "version_minor": 0
      },
      "text/plain": [
       "  0%|          | 0/31 [00:00<?, ?it/s]"
      ]
     },
     "metadata": {},
     "output_type": "display_data"
    },
    {
     "name": "stdout",
     "output_type": "stream",
     "text": [
      "x_5 17.40183989250302\n"
     ]
    },
    {
     "data": {
      "application/vnd.jupyter.widget-view+json": {
       "model_id": "71ba1ec937e048ffa4708b269c6ecc1c",
       "version_major": 2,
       "version_minor": 0
      },
      "text/plain": [
       "  0%|          | 0/30 [00:00<?, ?it/s]"
      ]
     },
     "metadata": {},
     "output_type": "display_data"
    },
    {
     "name": "stdout",
     "output_type": "stream",
     "text": [
      "x_18 17.407068090428574\n"
     ]
    },
    {
     "data": {
      "application/vnd.jupyter.widget-view+json": {
       "model_id": "7f7b84591d524c7fae1d664f93801725",
       "version_major": 2,
       "version_minor": 0
      },
      "text/plain": [
       "  0%|          | 0/29 [00:00<?, ?it/s]"
      ]
     },
     "metadata": {},
     "output_type": "display_data"
    },
    {
     "name": "stdout",
     "output_type": "stream",
     "text": [
      "dist_cluster1 17.47368216578805\n"
     ]
    },
    {
     "data": {
      "application/vnd.jupyter.widget-view+json": {
       "model_id": "b2bef40dcfba41fb95111bb00d6f9242",
       "version_major": 2,
       "version_minor": 0
      },
      "text/plain": [
       "  0%|          | 0/28 [00:00<?, ?it/s]"
      ]
     },
     "metadata": {},
     "output_type": "display_data"
    },
    {
     "name": "stdout",
     "output_type": "stream",
     "text": [
      "x_6 17.473741686436377\n"
     ]
    },
    {
     "data": {
      "application/vnd.jupyter.widget-view+json": {
       "model_id": "2926ab69c0a241fe99487f166918c86d",
       "version_major": 2,
       "version_minor": 0
      },
      "text/plain": [
       "  0%|          | 0/27 [00:00<?, ?it/s]"
      ]
     },
     "metadata": {},
     "output_type": "display_data"
    },
    {
     "name": "stdout",
     "output_type": "stream",
     "text": [
      "dist_cluster7 17.44089271294422\n"
     ]
    },
    {
     "data": {
      "application/vnd.jupyter.widget-view+json": {
       "model_id": "82b6027f744e4011a416595b0b4aab1b",
       "version_major": 2,
       "version_minor": 0
      },
      "text/plain": [
       "  0%|          | 0/26 [00:00<?, ?it/s]"
      ]
     },
     "metadata": {},
     "output_type": "display_data"
    },
    {
     "name": "stdout",
     "output_type": "stream",
     "text": [
      "x_25 17.41154350261093\n"
     ]
    },
    {
     "data": {
      "application/vnd.jupyter.widget-view+json": {
       "model_id": "76f303ff11714ff68672f5bed0551728",
       "version_major": 2,
       "version_minor": 0
      },
      "text/plain": [
       "  0%|          | 0/25 [00:00<?, ?it/s]"
      ]
     },
     "metadata": {},
     "output_type": "display_data"
    },
    {
     "name": "stdout",
     "output_type": "stream",
     "text": [
      "cluster1 17.399880436265004\n"
     ]
    },
    {
     "data": {
      "application/vnd.jupyter.widget-view+json": {
       "model_id": "64b8486458ea485f9ea2a2daa658b1d6",
       "version_major": 2,
       "version_minor": 0
      },
      "text/plain": [
       "  0%|          | 0/24 [00:00<?, ?it/s]"
      ]
     },
     "metadata": {},
     "output_type": "display_data"
    },
    {
     "name": "stdout",
     "output_type": "stream",
     "text": [
      "x_14 17.457670782983204\n"
     ]
    },
    {
     "data": {
      "application/vnd.jupyter.widget-view+json": {
       "model_id": "8e0ef4d2e1504b72a3be46abc1cfce4c",
       "version_major": 2,
       "version_minor": 0
      },
      "text/plain": [
       "  0%|          | 0/23 [00:00<?, ?it/s]"
      ]
     },
     "metadata": {},
     "output_type": "display_data"
    },
    {
     "name": "stdout",
     "output_type": "stream",
     "text": [
      "x_3 17.37783439149132\n"
     ]
    },
    {
     "data": {
      "application/vnd.jupyter.widget-view+json": {
       "model_id": "c6577b83ab864c68bca97ad5265a7ef9",
       "version_major": 2,
       "version_minor": 0
      },
      "text/plain": [
       "  0%|          | 0/22 [00:00<?, ?it/s]"
      ]
     },
     "metadata": {},
     "output_type": "display_data"
    },
    {
     "name": "stdout",
     "output_type": "stream",
     "text": [
      "cluster7 17.43275813778306\n"
     ]
    },
    {
     "data": {
      "application/vnd.jupyter.widget-view+json": {
       "model_id": "536be93c54514bb89296e828d78eb32e",
       "version_major": 2,
       "version_minor": 0
      },
      "text/plain": [
       "  0%|          | 0/21 [00:00<?, ?it/s]"
      ]
     },
     "metadata": {},
     "output_type": "display_data"
    },
    {
     "name": "stdout",
     "output_type": "stream",
     "text": [
      "x_22 17.442326780276574\n"
     ]
    },
    {
     "data": {
      "application/vnd.jupyter.widget-view+json": {
       "model_id": "c21289ef1f68469087347c8f18a518a2",
       "version_major": 2,
       "version_minor": 0
      },
      "text/plain": [
       "  0%|          | 0/20 [00:00<?, ?it/s]"
      ]
     },
     "metadata": {},
     "output_type": "display_data"
    },
    {
     "name": "stdout",
     "output_type": "stream",
     "text": [
      "x_24 17.528630978867884\n"
     ]
    },
    {
     "data": {
      "application/vnd.jupyter.widget-view+json": {
       "model_id": "d004868961b34c3784fa381844e76d70",
       "version_major": 2,
       "version_minor": 0
      },
      "text/plain": [
       "  0%|          | 0/19 [00:00<?, ?it/s]"
      ]
     },
     "metadata": {},
     "output_type": "display_data"
    },
    {
     "name": "stdout",
     "output_type": "stream",
     "text": [
      "dist_cluster0 17.476323851796863\n"
     ]
    },
    {
     "data": {
      "application/vnd.jupyter.widget-view+json": {
       "model_id": "016570190cc04801ab2c4926c6fadc66",
       "version_major": 2,
       "version_minor": 0
      },
      "text/plain": [
       "  0%|          | 0/18 [00:00<?, ?it/s]"
      ]
     },
     "metadata": {},
     "output_type": "display_data"
    },
    {
     "name": "stdout",
     "output_type": "stream",
     "text": [
      "x_11 17.500855486217567\n"
     ]
    },
    {
     "data": {
      "application/vnd.jupyter.widget-view+json": {
       "model_id": "56eeceb96c9441aeade385af24a96ff6",
       "version_major": 2,
       "version_minor": 0
      },
      "text/plain": [
       "  0%|          | 0/17 [00:00<?, ?it/s]"
      ]
     },
     "metadata": {},
     "output_type": "display_data"
    },
    {
     "name": "stdout",
     "output_type": "stream",
     "text": [
      "dist_cluster5 17.412490812948093\n"
     ]
    },
    {
     "data": {
      "application/vnd.jupyter.widget-view+json": {
       "model_id": "b5d924df1fc4455697ae34cacd715f5d",
       "version_major": 2,
       "version_minor": 0
      },
      "text/plain": [
       "  0%|          | 0/16 [00:00<?, ?it/s]"
      ]
     },
     "metadata": {},
     "output_type": "display_data"
    },
    {
     "name": "stdout",
     "output_type": "stream",
     "text": [
      "x_9 17.612615089012536\n"
     ]
    },
    {
     "data": {
      "application/vnd.jupyter.widget-view+json": {
       "model_id": "b512f21d9f8d4d53900d0210c7c1f35c",
       "version_major": 2,
       "version_minor": 0
      },
      "text/plain": [
       "  0%|          | 0/15 [00:00<?, ?it/s]"
      ]
     },
     "metadata": {},
     "output_type": "display_data"
    },
    {
     "name": "stdout",
     "output_type": "stream",
     "text": [
      "dist_cluster2 17.589725288449166\n"
     ]
    },
    {
     "data": {
      "application/vnd.jupyter.widget-view+json": {
       "model_id": "431412c36f4745668cfe8aaaee2c240c",
       "version_major": 2,
       "version_minor": 0
      },
      "text/plain": [
       "  0%|          | 0/14 [00:00<?, ?it/s]"
      ]
     },
     "metadata": {},
     "output_type": "display_data"
    },
    {
     "name": "stdout",
     "output_type": "stream",
     "text": [
      "dist_cluster4 17.61491517442073\n"
     ]
    },
    {
     "data": {
      "application/vnd.jupyter.widget-view+json": {
       "model_id": "624f7176eeb0468daa24eab031fb9938",
       "version_major": 2,
       "version_minor": 0
      },
      "text/plain": [
       "  0%|          | 0/13 [00:00<?, ?it/s]"
      ]
     },
     "metadata": {},
     "output_type": "display_data"
    },
    {
     "name": "stdout",
     "output_type": "stream",
     "text": [
      "x_12 17.564486943979134\n"
     ]
    },
    {
     "data": {
      "application/vnd.jupyter.widget-view+json": {
       "model_id": "4c03486800ed41549e47caf796046dc7",
       "version_major": 2,
       "version_minor": 0
      },
      "text/plain": [
       "  0%|          | 0/12 [00:00<?, ?it/s]"
      ]
     },
     "metadata": {},
     "output_type": "display_data"
    },
    {
     "name": "stdout",
     "output_type": "stream",
     "text": [
      "x_10 17.601595285198314\n"
     ]
    },
    {
     "data": {
      "application/vnd.jupyter.widget-view+json": {
       "model_id": "b595299fd1ba491cbe545418f81694cf",
       "version_major": 2,
       "version_minor": 0
      },
      "text/plain": [
       "  0%|          | 0/11 [00:00<?, ?it/s]"
      ]
     },
     "metadata": {},
     "output_type": "display_data"
    },
    {
     "name": "stdout",
     "output_type": "stream",
     "text": [
      "cluster2 17.579251347055845\n"
     ]
    },
    {
     "data": {
      "application/vnd.jupyter.widget-view+json": {
       "model_id": "82d6dbae6dc74ec7a6d2df7e25d6fdf4",
       "version_major": 2,
       "version_minor": 0
      },
      "text/plain": [
       "  0%|          | 0/10 [00:00<?, ?it/s]"
      ]
     },
     "metadata": {},
     "output_type": "display_data"
    },
    {
     "name": "stdout",
     "output_type": "stream",
     "text": [
      "cluster3 17.573312738175904\n"
     ]
    },
    {
     "data": {
      "application/vnd.jupyter.widget-view+json": {
       "model_id": "dce3d84a5f23401a914b60fd4e00532f",
       "version_major": 2,
       "version_minor": 0
      },
      "text/plain": [
       "  0%|          | 0/9 [00:00<?, ?it/s]"
      ]
     },
     "metadata": {},
     "output_type": "display_data"
    },
    {
     "name": "stdout",
     "output_type": "stream",
     "text": [
      "dist_cluster3 17.4997409139051\n"
     ]
    },
    {
     "data": {
      "application/vnd.jupyter.widget-view+json": {
       "model_id": "1e261e36aadc4a37b8e80dce47b4d271",
       "version_major": 2,
       "version_minor": 0
      },
      "text/plain": [
       "  0%|          | 0/8 [00:00<?, ?it/s]"
      ]
     },
     "metadata": {},
     "output_type": "display_data"
    },
    {
     "name": "stdout",
     "output_type": "stream",
     "text": [
      "x_4 17.664268852391366\n"
     ]
    },
    {
     "data": {
      "application/vnd.jupyter.widget-view+json": {
       "model_id": "c9119e0cc72546f1a4667edf568d203d",
       "version_major": 2,
       "version_minor": 0
      },
      "text/plain": [
       "  0%|          | 0/7 [00:00<?, ?it/s]"
      ]
     },
     "metadata": {},
     "output_type": "display_data"
    },
    {
     "name": "stdout",
     "output_type": "stream",
     "text": [
      "x_15 17.752252293400744\n"
     ]
    },
    {
     "data": {
      "application/vnd.jupyter.widget-view+json": {
       "model_id": "b082d8c5a9034ffeae026a851ee3a8dc",
       "version_major": 2,
       "version_minor": 0
      },
      "text/plain": [
       "  0%|          | 0/6 [00:00<?, ?it/s]"
      ]
     },
     "metadata": {},
     "output_type": "display_data"
    },
    {
     "name": "stdout",
     "output_type": "stream",
     "text": [
      "x_20 17.748726895932702\n"
     ]
    },
    {
     "data": {
      "application/vnd.jupyter.widget-view+json": {
       "model_id": "bf7b1fe7b3fc4fcdaa7515d826802406",
       "version_major": 2,
       "version_minor": 0
      },
      "text/plain": [
       "  0%|          | 0/5 [00:00<?, ?it/s]"
      ]
     },
     "metadata": {},
     "output_type": "display_data"
    },
    {
     "name": "stdout",
     "output_type": "stream",
     "text": [
      "cluster0 17.615628411138765\n"
     ]
    },
    {
     "data": {
      "application/vnd.jupyter.widget-view+json": {
       "model_id": "6ac1ed3cbfa84f34a1928a6ed19bbdef",
       "version_major": 2,
       "version_minor": 0
      },
      "text/plain": [
       "  0%|          | 0/4 [00:00<?, ?it/s]"
      ]
     },
     "metadata": {},
     "output_type": "display_data"
    },
    {
     "name": "stdout",
     "output_type": "stream",
     "text": [
      "cluster5 17.9164575994509\n"
     ]
    },
    {
     "data": {
      "application/vnd.jupyter.widget-view+json": {
       "model_id": "18013e6776044074b292dd2953d8ba3a",
       "version_major": 2,
       "version_minor": 0
      },
      "text/plain": [
       "  0%|          | 0/3 [00:00<?, ?it/s]"
      ]
     },
     "metadata": {},
     "output_type": "display_data"
    },
    {
     "name": "stdout",
     "output_type": "stream",
     "text": [
      "x_21 17.925693511633654\n"
     ]
    },
    {
     "data": {
      "application/vnd.jupyter.widget-view+json": {
       "model_id": "ecfac162849643d19569c26e1370c6df",
       "version_major": 2,
       "version_minor": 0
      },
      "text/plain": [
       "  0%|          | 0/2 [00:00<?, ?it/s]"
      ]
     },
     "metadata": {},
     "output_type": "display_data"
    },
    {
     "name": "stdout",
     "output_type": "stream",
     "text": [
      "cluster4 18.064285002852866\n"
     ]
    },
    {
     "data": {
      "application/vnd.jupyter.widget-view+json": {
       "model_id": "78ae34344feb4b63adf4bc8f8cea73a6",
       "version_major": 2,
       "version_minor": 0
      },
      "text/plain": [
       "  0%|          | 0/1 [00:00<?, ?it/s]"
      ]
     },
     "metadata": {},
     "output_type": "display_data"
    },
    {
     "name": "stdout",
     "output_type": "stream",
     "text": [
      "x_19 18.267907289837066\n"
     ]
    },
    {
     "data": {
      "image/png": "[encoded data removed]",
      "text/plain": [
       "<Figure size 640x480 with 1 Axes>"
      ]
     },
     "metadata": {},
     "output_type": "display_data"
    },
    {
     "name": "stdout",
     "output_type": "stream",
     "text": [
      "CPU times: total: 1min 20s\n",
      "Wall time: 2min 13s\n"
     ]
    }
   ],
   "source": [
    "%%time\n",
    "\n",
    "train, test = train_test_split(full_filled_df, train_size=0.8)\n",
    "selected_features, scores = forward_selection(full_filled_df, LinearRegression(), metric_fs, unknown_features + cords_features + cluster_feats + dist_feats ,need_stop = False, splits=4)"
   ]
  },
  {
   "cell_type": "code",
   "execution_count": 43,
   "metadata": {},
   "outputs": [
    {
     "name": "stdout",
     "output_type": "stream",
     "text": [
      "20\n",
      "Short 17.68510738179855 3.270269259478617\n",
      "Long 18.41015368697722 3.310403356160461\n"
     ]
    }
   ],
   "source": [
    "first_n = np.argmin(scores) + 1\n",
    "\n",
    "print(first_n)\n",
    "model_smth = learn_model(train, LinearRegression(), selected_features[:first_n])\n",
    "\n",
    "pred = model_smth['model'].predict(test[selected_features[:first_n]])\n",
    "\n",
    "print(\"Short\", MSE(pred, test['y']), MAE(pred, test['y']))\n",
    "\n",
    "model_smth = learn_model(train, LinearRegression(), selected_features)\n",
    "\n",
    "pred = model_smth['model'].predict(test[selected_features])\n",
    "\n",
    "print(\"Long\", MSE(pred, test['y']), MAE(pred, test['y']))"
   ]
  },
  {
   "cell_type": "code",
   "execution_count": 44,
   "metadata": {
    "scrolled": false
   },
   "outputs": [
    {
     "name": "stdout",
     "output_type": "stream",
     "text": [
      "345\n"
     ]
    },
    {
     "data": {
      "application/vnd.jupyter.widget-view+json": {
       "model_id": "fdd6db5ffb014fb090638ded2e0ff561",
       "version_major": 2,
       "version_minor": 0
      },
      "text/plain": [
       "  0%|          | 0/345 [00:00<?, ?it/s]"
      ]
     },
     "metadata": {},
     "output_type": "display_data"
    },
    {
     "data": {
      "application/vnd.jupyter.widget-view+json": {
       "model_id": "89ac30c3857f4e289afbe0cf782bf69c",
       "version_major": 2,
       "version_minor": 0
      },
      "text/plain": [
       "  0%|          | 0/345 [00:00<?, ?it/s]"
      ]
     },
     "metadata": {},
     "output_type": "display_data"
    },
    {
     "name": "stdout",
     "output_type": "stream",
     "text": [
      "x_23-x_8 17.568005203497833\n"
     ]
    },
    {
     "data": {
      "application/vnd.jupyter.widget-view+json": {
       "model_id": "0f231fc89e8f4307acb4091ca8cc85b4",
       "version_major": 2,
       "version_minor": 0
      },
      "text/plain": [
       "  0%|          | 0/296 [00:00<?, ?it/s]"
      ]
     },
     "metadata": {},
     "output_type": "display_data"
    },
    {
     "name": "stdout",
     "output_type": "stream",
     "text": [
      "x_12-x_12 17.538212571300605\n"
     ]
    },
    {
     "data": {
      "application/vnd.jupyter.widget-view+json": {
       "model_id": "f2cb4b35d7474d56982deb2d08aa47d8",
       "version_major": 2,
       "version_minor": 0
      },
      "text/plain": [
       "  0%|          | 0/273 [00:00<?, ?it/s]"
      ]
     },
     "metadata": {},
     "output_type": "display_data"
    },
    {
     "name": "stdout",
     "output_type": "stream",
     "text": [
      "x_24-x_24 17.549560766367676\n"
     ]
    },
    {
     "data": {
      "application/vnd.jupyter.widget-view+json": {
       "model_id": "deffbde0f6ed4ffbaa7f8ab2eb41fe9a",
       "version_major": 2,
       "version_minor": 0
      },
      "text/plain": [
       "  0%|          | 0/251 [00:00<?, ?it/s]"
      ]
     },
     "metadata": {},
     "output_type": "display_data"
    },
    {
     "name": "stdout",
     "output_type": "stream",
     "text": [
      "x_26-x_20 17.478708501273665\n"
     ]
    },
    {
     "data": {
      "application/vnd.jupyter.widget-view+json": {
       "model_id": "ce8bbc76a357465a8471c30074525d7a",
       "version_major": 2,
       "version_minor": 0
      },
      "text/plain": [
       "  0%|          | 0/210 [00:00<?, ?it/s]"
      ]
     },
     "metadata": {},
     "output_type": "display_data"
    },
    {
     "name": "stdout",
     "output_type": "stream",
     "text": [
      "x_25 17.54234899048609\n"
     ]
    },
    {
     "data": {
      "application/vnd.jupyter.widget-view+json": {
       "model_id": "3ccbd8da6f4b44b6b31b1db4cde7cfba",
       "version_major": 2,
       "version_minor": 0
      },
      "text/plain": [
       "  0%|          | 0/191 [00:00<?, ?it/s]"
      ]
     },
     "metadata": {},
     "output_type": "display_data"
    },
    {
     "name": "stdout",
     "output_type": "stream",
     "text": [
      "x_9 17.512454305036687\n"
     ]
    },
    {
     "data": {
      "application/vnd.jupyter.widget-view+json": {
       "model_id": "496b044a35574c70894b2036668b7c6f",
       "version_major": 2,
       "version_minor": 0
      },
      "text/plain": [
       "  0%|          | 0/173 [00:00<?, ?it/s]"
      ]
     },
     "metadata": {},
     "output_type": "display_data"
    },
    {
     "name": "stdout",
     "output_type": "stream",
     "text": [
      "x_21-x_14 17.588790046141487\n"
     ]
    },
    {
     "data": {
      "application/vnd.jupyter.widget-view+json": {
       "model_id": "aff410b90e604793a5372f4dd53dca3a",
       "version_major": 2,
       "version_minor": 0
      },
      "text/plain": [
       "  0%|          | 0/140 [00:00<?, ?it/s]"
      ]
     },
     "metadata": {},
     "output_type": "display_data"
    },
    {
     "name": "stdout",
     "output_type": "stream",
     "text": [
      "x_5-x_4 17.498145015967573\n"
     ]
    },
    {
     "data": {
      "application/vnd.jupyter.widget-view+json": {
       "model_id": "ce239406e9b14b679fe00a34d2e3879c",
       "version_major": 2,
       "version_minor": 0
      },
      "text/plain": [
       "  0%|          | 0/111 [00:00<?, ?it/s]"
      ]
     },
     "metadata": {},
     "output_type": "display_data"
    },
    {
     "name": "stdout",
     "output_type": "stream",
     "text": [
      "x_22-x_6 17.464126507158646\n"
     ]
    },
    {
     "data": {
      "application/vnd.jupyter.widget-view+json": {
       "model_id": "490bd59a39ca48809397e81f4f0664b3",
       "version_major": 2,
       "version_minor": 0
      },
      "text/plain": [
       "  0%|          | 0/86 [00:00<?, ?it/s]"
      ]
     },
     "metadata": {},
     "output_type": "display_data"
    },
    {
     "name": "stdout",
     "output_type": "stream",
     "text": [
      "x_16-x_10 17.382383654965167\n"
     ]
    },
    {
     "data": {
      "application/vnd.jupyter.widget-view+json": {
       "model_id": "ec1c06e881364fc88f12fdc317b2092f",
       "version_major": 2,
       "version_minor": 0
      },
      "text/plain": [
       "  0%|          | 0/65 [00:00<?, ?it/s]"
      ]
     },
     "metadata": {},
     "output_type": "display_data"
    },
    {
     "name": "stdout",
     "output_type": "stream",
     "text": [
      "cluster4 17.56591617024519\n"
     ]
    },
    {
     "data": {
      "application/vnd.jupyter.widget-view+json": {
       "model_id": "b31c1cc7387740f8ac0aeb62ec40ebe3",
       "version_major": 2,
       "version_minor": 0
      },
      "text/plain": [
       "  0%|          | 0/64 [00:00<?, ?it/s]"
      ]
     },
     "metadata": {},
     "output_type": "display_data"
    },
    {
     "name": "stdout",
     "output_type": "stream",
     "text": [
      "x_13-x_3 17.648134514880446\n"
     ]
    },
    {
     "data": {
      "application/vnd.jupyter.widget-view+json": {
       "model_id": "e729761c38854370aaa78f75382b2da4",
       "version_major": 2,
       "version_minor": 0
      },
      "text/plain": [
       "  0%|          | 0/47 [00:00<?, ?it/s]"
      ]
     },
     "metadata": {},
     "output_type": "display_data"
    },
    {
     "name": "stdout",
     "output_type": "stream",
     "text": [
      "x_18-x_18 17.591811948464287\n"
     ]
    },
    {
     "data": {
      "application/vnd.jupyter.widget-view+json": {
       "model_id": "dc197078c176455daded53889f0fc5f1",
       "version_major": 2,
       "version_minor": 0
      },
      "text/plain": [
       "  0%|          | 0/40 [00:00<?, ?it/s]"
      ]
     },
     "metadata": {},
     "output_type": "display_data"
    },
    {
     "name": "stdout",
     "output_type": "stream",
     "text": [
      "x_15-x_11 17.736481826551735\n"
     ]
    },
    {
     "data": {
      "application/vnd.jupyter.widget-view+json": {
       "model_id": "704a17177bcc418d8ffb5f0b9ae483c1",
       "version_major": 2,
       "version_minor": 0
      },
      "text/plain": [
       "  0%|          | 0/29 [00:00<?, ?it/s]"
      ]
     },
     "metadata": {},
     "output_type": "display_data"
    },
    {
     "name": "stdout",
     "output_type": "stream",
     "text": [
      "x_17-x_17 17.637186925326574\n"
     ]
    },
    {
     "data": {
      "application/vnd.jupyter.widget-view+json": {
       "model_id": "a2590f613ff848148a730ec08de874ee",
       "version_major": 2,
       "version_minor": 0
      },
      "text/plain": [
       "  0%|          | 0/25 [00:00<?, ?it/s]"
      ]
     },
     "metadata": {},
     "output_type": "display_data"
    },
    {
     "name": "stdout",
     "output_type": "stream",
     "text": [
      "x_2 17.50738198856922\n"
     ]
    },
    {
     "data": {
      "application/vnd.jupyter.widget-view+json": {
       "model_id": "d6d0214b3cbb43e387cfa81dfc743c83",
       "version_major": 2,
       "version_minor": 0
      },
      "text/plain": [
       "  0%|          | 0/22 [00:00<?, ?it/s]"
      ]
     },
     "metadata": {},
     "output_type": "display_data"
    },
    {
     "name": "stdout",
     "output_type": "stream",
     "text": [
      "dist_cluster6 17.510721081466116\n"
     ]
    },
    {
     "data": {
      "application/vnd.jupyter.widget-view+json": {
       "model_id": "0e5e3e99f50e43629db0ab4af41378e8",
       "version_major": 2,
       "version_minor": 0
      },
      "text/plain": [
       "  0%|          | 0/21 [00:00<?, ?it/s]"
      ]
     },
     "metadata": {},
     "output_type": "display_data"
    },
    {
     "name": "stdout",
     "output_type": "stream",
     "text": [
      "dist_cluster3 17.63055635243488\n"
     ]
    },
    {
     "data": {
      "application/vnd.jupyter.widget-view+json": {
       "model_id": "43449f74d35747f99006a65d68532806",
       "version_major": 2,
       "version_minor": 0
      },
      "text/plain": [
       "  0%|          | 0/20 [00:00<?, ?it/s]"
      ]
     },
     "metadata": {},
     "output_type": "display_data"
    },
    {
     "name": "stdout",
     "output_type": "stream",
     "text": [
      "cluster6 17.326281615580445\n"
     ]
    },
    {
     "data": {
      "application/vnd.jupyter.widget-view+json": {
       "model_id": "4a966246086b4b609b3f33bff8641375",
       "version_major": 2,
       "version_minor": 0
      },
      "text/plain": [
       "  0%|          | 0/19 [00:00<?, ?it/s]"
      ]
     },
     "metadata": {},
     "output_type": "display_data"
    },
    {
     "name": "stdout",
     "output_type": "stream",
     "text": [
      "cluster1 17.453340270559707\n"
     ]
    },
    {
     "data": {
      "application/vnd.jupyter.widget-view+json": {
       "model_id": "2ac937a35fdc40eca53051783860357f",
       "version_major": 2,
       "version_minor": 0
      },
      "text/plain": [
       "  0%|          | 0/18 [00:00<?, ?it/s]"
      ]
     },
     "metadata": {},
     "output_type": "display_data"
    },
    {
     "name": "stdout",
     "output_type": "stream",
     "text": [
      "dist_cluster1 17.371019325309057\n"
     ]
    },
    {
     "data": {
      "application/vnd.jupyter.widget-view+json": {
       "model_id": "dc02c03cf8a04e93b59ee45d1b9bd399",
       "version_major": 2,
       "version_minor": 0
      },
      "text/plain": [
       "  0%|          | 0/17 [00:00<?, ?it/s]"
      ]
     },
     "metadata": {},
     "output_type": "display_data"
    },
    {
     "name": "stdout",
     "output_type": "stream",
     "text": [
      "dist_cluster4 17.486784646601425\n"
     ]
    },
    {
     "data": {
      "application/vnd.jupyter.widget-view+json": {
       "model_id": "fdc30235da8e462a8b2659a4503f463b",
       "version_major": 2,
       "version_minor": 0
      },
      "text/plain": [
       "  0%|          | 0/16 [00:00<?, ?it/s]"
      ]
     },
     "metadata": {},
     "output_type": "display_data"
    },
    {
     "name": "stdout",
     "output_type": "stream",
     "text": [
      "dist_cluster2 17.495398626368278\n"
     ]
    },
    {
     "data": {
      "application/vnd.jupyter.widget-view+json": {
       "model_id": "2bfdea183eba4ec8aafa4f14ff76f5c0",
       "version_major": 2,
       "version_minor": 0
      },
      "text/plain": [
       "  0%|          | 0/15 [00:00<?, ?it/s]"
      ]
     },
     "metadata": {},
     "output_type": "display_data"
    },
    {
     "name": "stdout",
     "output_type": "stream",
     "text": [
      "x_19 17.556761070659167\n"
     ]
    },
    {
     "data": {
      "application/vnd.jupyter.widget-view+json": {
       "model_id": "9bab5cdefdea474a943416004dfffbc7",
       "version_major": 2,
       "version_minor": 0
      },
      "text/plain": [
       "  0%|          | 0/12 [00:00<?, ?it/s]"
      ]
     },
     "metadata": {},
     "output_type": "display_data"
    },
    {
     "name": "stdout",
     "output_type": "stream",
     "text": [
      "dist_cluster0 17.580283395942175\n"
     ]
    },
    {
     "data": {
      "application/vnd.jupyter.widget-view+json": {
       "model_id": "3677aca8e06349a3ac2c3666b5541512",
       "version_major": 2,
       "version_minor": 0
      },
      "text/plain": [
       "  0%|          | 0/11 [00:00<?, ?it/s]"
      ]
     },
     "metadata": {},
     "output_type": "display_data"
    },
    {
     "name": "stdout",
     "output_type": "stream",
     "text": [
      "cluster2 17.661289047870135\n"
     ]
    },
    {
     "data": {
      "application/vnd.jupyter.widget-view+json": {
       "model_id": "9bf881ce4332407db596fdff56eeddfa",
       "version_major": 2,
       "version_minor": 0
      },
      "text/plain": [
       "  0%|          | 0/10 [00:00<?, ?it/s]"
      ]
     },
     "metadata": {},
     "output_type": "display_data"
    },
    {
     "name": "stdout",
     "output_type": "stream",
     "text": [
      "cluster0 17.598595903879513\n"
     ]
    },
    {
     "data": {
      "application/vnd.jupyter.widget-view+json": {
       "model_id": "5386de8821b1425fbc3765988bc7d293",
       "version_major": 2,
       "version_minor": 0
      },
      "text/plain": [
       "  0%|          | 0/9 [00:00<?, ?it/s]"
      ]
     },
     "metadata": {},
     "output_type": "display_data"
    },
    {
     "name": "stdout",
     "output_type": "stream",
     "text": [
      "dist_cluster7 17.599466019976166\n"
     ]
    },
    {
     "data": {
      "application/vnd.jupyter.widget-view+json": {
       "model_id": "818e72233942494998952f10d97d3986",
       "version_major": 2,
       "version_minor": 0
      },
      "text/plain": [
       "  0%|          | 0/8 [00:00<?, ?it/s]"
      ]
     },
     "metadata": {},
     "output_type": "display_data"
    },
    {
     "name": "stdout",
     "output_type": "stream",
     "text": [
      "dist_cluster5 17.47065884774713\n"
     ]
    },
    {
     "data": {
      "application/vnd.jupyter.widget-view+json": {
       "model_id": "2c99a0faa56d43c088053507014388d1",
       "version_major": 2,
       "version_minor": 0
      },
      "text/plain": [
       "  0%|          | 0/7 [00:00<?, ?it/s]"
      ]
     },
     "metadata": {},
     "output_type": "display_data"
    },
    {
     "name": "stdout",
     "output_type": "stream",
     "text": [
      "cluster7 17.678333186078458\n"
     ]
    },
    {
     "data": {
      "application/vnd.jupyter.widget-view+json": {
       "model_id": "759b1cf5c3d641c8b476ded60ccd9a2b",
       "version_major": 2,
       "version_minor": 0
      },
      "text/plain": [
       "  0%|          | 0/6 [00:00<?, ?it/s]"
      ]
     },
     "metadata": {},
     "output_type": "display_data"
    },
    {
     "name": "stdout",
     "output_type": "stream",
     "text": [
      "x_7-x_7 17.627790239915672\n"
     ]
    },
    {
     "data": {
      "application/vnd.jupyter.widget-view+json": {
       "model_id": "68f538be55f74d4eaf8f875cfa5d35f0",
       "version_major": 2,
       "version_minor": 0
      },
      "text/plain": [
       "  0%|          | 0/4 [00:00<?, ?it/s]"
      ]
     },
     "metadata": {},
     "output_type": "display_data"
    },
    {
     "name": "stdout",
     "output_type": "stream",
     "text": [
      "cluster3 17.805930713877565\n"
     ]
    },
    {
     "data": {
      "application/vnd.jupyter.widget-view+json": {
       "model_id": "84e256c114674cf2835412186076292a",
       "version_major": 2,
       "version_minor": 0
      },
      "text/plain": [
       "  0%|          | 0/3 [00:00<?, ?it/s]"
      ]
     },
     "metadata": {},
     "output_type": "display_data"
    },
    {
     "name": "stdout",
     "output_type": "stream",
     "text": [
      "cluster5 17.828241706390138\n"
     ]
    },
    {
     "data": {
      "application/vnd.jupyter.widget-view+json": {
       "model_id": "6524722fdd58462e82c986c0f52e1044",
       "version_major": 2,
       "version_minor": 0
      },
      "text/plain": [
       "  0%|          | 0/2 [00:00<?, ?it/s]"
      ]
     },
     "metadata": {},
     "output_type": "display_data"
    },
    {
     "name": "stdout",
     "output_type": "stream",
     "text": [
      "x_1-x_1 18.02322428175247\n"
     ]
    },
    {
     "data": {
      "image/png": "[encoded data removed]",
      "text/plain": [
       "<Figure size 640x480 with 1 Axes>"
      ]
     },
     "metadata": {},
     "output_type": "display_data"
    },
    {
     "name": "stdout",
     "output_type": "stream",
     "text": [
      "CPU times: total: 3min 41s\n",
      "Wall time: 7min 48s\n"
     ]
    }
   ],
   "source": [
    "%%time\n",
    "\n",
    "train, test = train_test_split(full_filled_df, train_size=0.8)\n",
    "selected_features, scores = forward_selection(full_filled_df, LinearRegression(), metric_fs, full_feats, need_stop = False, splits=4)"
   ]
  },
  {
   "cell_type": "code",
   "execution_count": 45,
   "metadata": {},
   "outputs": [
    {
     "name": "stdout",
     "output_type": "stream",
     "text": [
      "19\n",
      "Short 17.702173712633446 3.2032589509222213\n",
      "Long 17.516590859635066 3.184266214342318\n"
     ]
    }
   ],
   "source": [
    "first_n = np.argmin(scores) + 1\n",
    "print(first_n)\n",
    "model_smth = learn_model(train, LinearRegression(), selected_features[:first_n])\n",
    "\n",
    "pred = model_smth['model'].predict(test[selected_features[:first_n]])\n",
    "\n",
    "print(\"Short\", MSE(pred, test['y']), MAE(pred, test['y']))\n",
    "\n",
    "model_smth = learn_model(train, LinearRegression(), selected_features)\n",
    "\n",
    "pred = model_smth['model'].predict(test[selected_features])\n",
    "\n",
    "print(\"Long\", MSE(pred, test['y']), MAE(pred, test['y']))"
   ]
  },
  {
   "cell_type": "markdown",
   "metadata": {},
   "source": [
    "Итог: модель слишком сильно переобучается, кажется не хватает данных для forward Selection\n",
    "\n",
    "(Без использования kfold, получалось переобучиться на трейне и на валиде до valid_MSE ~ 0.001)"
   ]
  }
 ],
 "metadata": {
  "kernelspec": {
   "display_name": "p10_9",
   "language": "python",
   "name": "python3"
  },
  "language_info": {
   "codemirror_mode": {
    "name": "ipython",
    "version": 3
   },
   "file_extension": ".py",
   "mimetype": "text/x-python",
   "name": "python",
   "nbconvert_exporter": "python",
   "pygments_lexer": "ipython3",
   "version": "3.10.9"
  }
 },
 "nbformat": 4,
 "nbformat_minor": 4
}
