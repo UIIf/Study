{
 "cells": [
  {
   "cell_type": "markdown",
   "id": "ca9143f8",
   "metadata": {},
   "source": [
    "# Петров Сергей"
   ]
  },
  {
   "cell_type": "markdown",
   "id": "a19f3b90",
   "metadata": {},
   "source": [
    "## Проверить всё вместе\n",
    "\n",
    "1) Использовать One-Hot энкодинги для категориальных фичей у которых нет естественного порядка (hint: pd.get_dummies)\n",
    "\n",
    "2) Заполнить nan - в числовых фичах средним из train выборки\n",
    "\n",
    "3) Сделать стандартное шкалирование по train выборке (можно взять StandardScaler из sklearn или использовать свой самописный)\n",
    "\n",
    "4) Сравнить модели (mse, r2, forward_selector):\n",
    "  * Самописное аналитическое решение\n",
    "  * Самописный градиентный спуск\n",
    "  * Линейную регрессию из sklearn\n",
    "  * Ridge регрессию из sklearn для alpha (0.01, 0.1, 1.0)\n",
    "  * Lasso регрессию из sklearn для alpha (0.01, 0.1, 1.0)\n",
    "  * ElasticNet регрессию из sklearn для alpha (0.01, 0.1, 1.0)\n",
    "\n",
    "5) Выбрать лучшую модель по mse на test выборке"
   ]
  },
  {
   "cell_type": "code",
   "execution_count": 10,
   "id": "8b929b8a",
   "metadata": {},
   "outputs": [],
   "source": [
    "import pandas as pd\n",
    "import numpy as np\n",
    "import matplotlib.pyplot as plt\n",
    "import sklearn as sk\n",
    "\n",
    "from sklearn.model_selection import train_test_split\n",
    "from sklearn.metrics import mean_squared_error\n",
    "from sklearn.linear_model import LinearRegression"
   ]
  },
  {
   "cell_type": "code",
   "execution_count": 11,
   "id": "f3319226",
   "metadata": {},
   "outputs": [],
   "source": [
    "df = pd.read_csv('train.csv')"
   ]
  },
  {
   "cell_type": "code",
   "execution_count": 12,
   "id": "29fe9fb6",
   "metadata": {},
   "outputs": [],
   "source": [
    "r_state = 42\n",
    "alpha = [0.01, 0.1, 1]"
   ]
  },
  {
   "cell_type": "markdown",
   "id": "03bc18e8",
   "metadata": {},
   "source": [
    "## 1) One-hot энк для бинарных данных "
   ]
  },
  {
   "cell_type": "code",
   "execution_count": 13,
   "id": "8a9c0044",
   "metadata": {},
   "outputs": [],
   "source": [
    "df['Street'] = df['Street'].astype('category')\n",
    "df['Street'] = df['Street'].cat.codes"
   ]
  },
  {
   "cell_type": "code",
   "execution_count": 14,
   "id": "ebdabac2",
   "metadata": {},
   "outputs": [
    {
     "data": {
      "text/plain": [
       "array([1, 0], dtype=int8)"
      ]
     },
     "execution_count": 14,
     "metadata": {},
     "output_type": "execute_result"
    }
   ],
   "source": [
    "df['Street'].unique()"
   ]
  },
  {
   "cell_type": "markdown",
   "id": "abc68c63",
   "metadata": {},
   "source": [
    "## 1) One-hot энк для небинарных персон"
   ]
  },
  {
   "cell_type": "code",
   "execution_count": 15,
   "id": "73cb3d37",
   "metadata": {},
   "outputs": [],
   "source": [
    "df = pd.get_dummies(df, columns = ['Alley'])"
   ]
  },
  {
   "cell_type": "code",
   "execution_count": 7,
   "id": "fd084551",
   "metadata": {},
   "outputs": [
    {
     "data": {
      "text/html": [
       "<div>\n",
       "<style scoped>\n",
       "    .dataframe tbody tr th:only-of-type {\n",
       "        vertical-align: middle;\n",
       "    }\n",
       "\n",
       "    .dataframe tbody tr th {\n",
       "        vertical-align: top;\n",
       "    }\n",
       "\n",
       "    .dataframe thead th {\n",
       "        text-align: right;\n",
       "    }\n",
       "</style>\n",
       "<table border=\"1\" class=\"dataframe\">\n",
       "  <thead>\n",
       "    <tr style=\"text-align: right;\">\n",
       "      <th></th>\n",
       "      <th>Id</th>\n",
       "      <th>MSSubClass</th>\n",
       "      <th>MSZoning</th>\n",
       "      <th>LotFrontage</th>\n",
       "      <th>LotArea</th>\n",
       "      <th>Street</th>\n",
       "      <th>LotShape</th>\n",
       "      <th>LandContour</th>\n",
       "      <th>Utilities</th>\n",
       "      <th>LotConfig</th>\n",
       "      <th>...</th>\n",
       "      <th>Fence</th>\n",
       "      <th>MiscFeature</th>\n",
       "      <th>MiscVal</th>\n",
       "      <th>MoSold</th>\n",
       "      <th>YrSold</th>\n",
       "      <th>SaleType</th>\n",
       "      <th>SaleCondition</th>\n",
       "      <th>SalePrice</th>\n",
       "      <th>Alley_Grvl</th>\n",
       "      <th>Alley_Pave</th>\n",
       "    </tr>\n",
       "  </thead>\n",
       "  <tbody>\n",
       "    <tr>\n",
       "      <th>0</th>\n",
       "      <td>1</td>\n",
       "      <td>60</td>\n",
       "      <td>RL</td>\n",
       "      <td>65.0</td>\n",
       "      <td>8450</td>\n",
       "      <td>1</td>\n",
       "      <td>Reg</td>\n",
       "      <td>Lvl</td>\n",
       "      <td>AllPub</td>\n",
       "      <td>Inside</td>\n",
       "      <td>...</td>\n",
       "      <td>NaN</td>\n",
       "      <td>NaN</td>\n",
       "      <td>0</td>\n",
       "      <td>2</td>\n",
       "      <td>2008</td>\n",
       "      <td>WD</td>\n",
       "      <td>Normal</td>\n",
       "      <td>208500</td>\n",
       "      <td>0</td>\n",
       "      <td>0</td>\n",
       "    </tr>\n",
       "    <tr>\n",
       "      <th>1</th>\n",
       "      <td>2</td>\n",
       "      <td>20</td>\n",
       "      <td>RL</td>\n",
       "      <td>80.0</td>\n",
       "      <td>9600</td>\n",
       "      <td>1</td>\n",
       "      <td>Reg</td>\n",
       "      <td>Lvl</td>\n",
       "      <td>AllPub</td>\n",
       "      <td>FR2</td>\n",
       "      <td>...</td>\n",
       "      <td>NaN</td>\n",
       "      <td>NaN</td>\n",
       "      <td>0</td>\n",
       "      <td>5</td>\n",
       "      <td>2007</td>\n",
       "      <td>WD</td>\n",
       "      <td>Normal</td>\n",
       "      <td>181500</td>\n",
       "      <td>0</td>\n",
       "      <td>0</td>\n",
       "    </tr>\n",
       "    <tr>\n",
       "      <th>2</th>\n",
       "      <td>3</td>\n",
       "      <td>60</td>\n",
       "      <td>RL</td>\n",
       "      <td>68.0</td>\n",
       "      <td>11250</td>\n",
       "      <td>1</td>\n",
       "      <td>IR1</td>\n",
       "      <td>Lvl</td>\n",
       "      <td>AllPub</td>\n",
       "      <td>Inside</td>\n",
       "      <td>...</td>\n",
       "      <td>NaN</td>\n",
       "      <td>NaN</td>\n",
       "      <td>0</td>\n",
       "      <td>9</td>\n",
       "      <td>2008</td>\n",
       "      <td>WD</td>\n",
       "      <td>Normal</td>\n",
       "      <td>223500</td>\n",
       "      <td>0</td>\n",
       "      <td>0</td>\n",
       "    </tr>\n",
       "    <tr>\n",
       "      <th>3</th>\n",
       "      <td>4</td>\n",
       "      <td>70</td>\n",
       "      <td>RL</td>\n",
       "      <td>60.0</td>\n",
       "      <td>9550</td>\n",
       "      <td>1</td>\n",
       "      <td>IR1</td>\n",
       "      <td>Lvl</td>\n",
       "      <td>AllPub</td>\n",
       "      <td>Corner</td>\n",
       "      <td>...</td>\n",
       "      <td>NaN</td>\n",
       "      <td>NaN</td>\n",
       "      <td>0</td>\n",
       "      <td>2</td>\n",
       "      <td>2006</td>\n",
       "      <td>WD</td>\n",
       "      <td>Abnorml</td>\n",
       "      <td>140000</td>\n",
       "      <td>0</td>\n",
       "      <td>0</td>\n",
       "    </tr>\n",
       "    <tr>\n",
       "      <th>4</th>\n",
       "      <td>5</td>\n",
       "      <td>60</td>\n",
       "      <td>RL</td>\n",
       "      <td>84.0</td>\n",
       "      <td>14260</td>\n",
       "      <td>1</td>\n",
       "      <td>IR1</td>\n",
       "      <td>Lvl</td>\n",
       "      <td>AllPub</td>\n",
       "      <td>FR2</td>\n",
       "      <td>...</td>\n",
       "      <td>NaN</td>\n",
       "      <td>NaN</td>\n",
       "      <td>0</td>\n",
       "      <td>12</td>\n",
       "      <td>2008</td>\n",
       "      <td>WD</td>\n",
       "      <td>Normal</td>\n",
       "      <td>250000</td>\n",
       "      <td>0</td>\n",
       "      <td>0</td>\n",
       "    </tr>\n",
       "  </tbody>\n",
       "</table>\n",
       "<p>5 rows × 82 columns</p>\n",
       "</div>"
      ],
      "text/plain": [
       "   Id  MSSubClass MSZoning  LotFrontage  LotArea  Street LotShape LandContour  \\\n",
       "0   1          60       RL         65.0     8450       1      Reg         Lvl   \n",
       "1   2          20       RL         80.0     9600       1      Reg         Lvl   \n",
       "2   3          60       RL         68.0    11250       1      IR1         Lvl   \n",
       "3   4          70       RL         60.0     9550       1      IR1         Lvl   \n",
       "4   5          60       RL         84.0    14260       1      IR1         Lvl   \n",
       "\n",
       "  Utilities LotConfig  ... Fence MiscFeature MiscVal MoSold YrSold SaleType  \\\n",
       "0    AllPub    Inside  ...   NaN         NaN       0      2   2008       WD   \n",
       "1    AllPub       FR2  ...   NaN         NaN       0      5   2007       WD   \n",
       "2    AllPub    Inside  ...   NaN         NaN       0      9   2008       WD   \n",
       "3    AllPub    Corner  ...   NaN         NaN       0      2   2006       WD   \n",
       "4    AllPub       FR2  ...   NaN         NaN       0     12   2008       WD   \n",
       "\n",
       "   SaleCondition  SalePrice  Alley_Grvl  Alley_Pave  \n",
       "0         Normal     208500           0           0  \n",
       "1         Normal     181500           0           0  \n",
       "2         Normal     223500           0           0  \n",
       "3        Abnorml     140000           0           0  \n",
       "4         Normal     250000           0           0  \n",
       "\n",
       "[5 rows x 82 columns]"
      ]
     },
     "execution_count": 7,
     "metadata": {},
     "output_type": "execute_result"
    }
   ],
   "source": [
    "df.head()"
   ]
  },
  {
   "cell_type": "code",
   "execution_count": 16,
   "id": "a68e9816",
   "metadata": {},
   "outputs": [],
   "source": [
    "hw_train_df, hw_test_df = train_test_split(df,  test_size=0.25, random_state=r_state)"
   ]
  },
  {
   "cell_type": "markdown",
   "id": "02e0f5c8",
   "metadata": {},
   "source": [
    "## 2) Заполнение нанов"
   ]
  },
  {
   "cell_type": "code",
   "execution_count": 17,
   "id": "06163922",
   "metadata": {},
   "outputs": [],
   "source": [
    "for f in df.columns:\n",
    "    if not (np.issubdtype(hw_train_df[f].dtype, np.number)):\n",
    "        continue\n",
    "        \n",
    "    mean = hw_train_df[f].mean()\n",
    "    hw_train_df[f] = hw_train_df[f].fillna(mean)\n",
    "    hw_test_df[f] = hw_test_df[f].fillna(mean)"
   ]
  },
  {
   "cell_type": "markdown",
   "id": "11fbdc6e",
   "metadata": {},
   "source": [
    "## 3)  Стандартное шкалирование"
   ]
  },
  {
   "cell_type": "code",
   "execution_count": 18,
   "id": "362b9182",
   "metadata": {},
   "outputs": [],
   "source": [
    "# Реализовать класс MinMaxScaler, который запоминает параметры min и range (max-min) на трейн выборке\n",
    "# и использует их, чтобы отшкалировать данные (X-min)/(max-min)\n",
    "\n",
    "class MinMaxScaler:\n",
    "    def __init__(self):\n",
    "        self.min = None\n",
    "        self.range = None\n",
    "    \n",
    "    def fit(self, X_train):\n",
    "        self.min = {}\n",
    "        self.range = {}\n",
    "        for col in X_train.columns:\n",
    "            \n",
    "            if not (np.issubdtype(X_train[col].dtype, np.number)):\n",
    "                continue\n",
    "                    \n",
    "            self.min[col] = X_train[col].min()\n",
    "            self.range[col] = X_train[col].max() - self.min[col]\n",
    "    \n",
    "    def transform(self, X):\n",
    "        transformed = X[:]\n",
    "        for col in self.min.keys():            \n",
    "            transformed[col] = (transformed[col] - self.min[col])/self.range[col]\n",
    "        return transformed\n",
    "    \n",
    "    def fit_transform(self, X_train):\n",
    "        self.fit(X_train)\n",
    "        return self.transform(X_train)\n",
    "    \n",
    "    def inverse_transform(self, X):\n",
    "        transformed = X[:]\n",
    "        for col in self.min.keys():            \n",
    "            transformed[col] = transformed[col]*self.range[col] + self.min[col]\n",
    "        return transformed"
   ]
  },
  {
   "cell_type": "code",
   "execution_count": 19,
   "id": "c21f9a62",
   "metadata": {},
   "outputs": [],
   "source": [
    "# Реализовать класс StandardScaler, который запоминает параметры mean и std на трейн выборке\n",
    "# и использует их, чтобы отшкалировать данные (X-mean)/std\n",
    "\n",
    "class StandardScaler:\n",
    "    def __init__(self):\n",
    "        self.mean = None\n",
    "        self.std = None\n",
    "    \n",
    "    def fit(self, X_train):\n",
    "        self.mean = {}\n",
    "        self.std = {}\n",
    "        for col in X_train.columns:\n",
    "            \n",
    "            if not (np.issubdtype(X_train[col].dtype, np.number)):\n",
    "                continue\n",
    "                    \n",
    "            self.mean[col] = X_train[col].mean()\n",
    "            self.std[col] = X_train[col].std()\n",
    "    \n",
    "    def transform(self, X):\n",
    "        transformed = X[:]\n",
    "        for col in self.mean.keys():            \n",
    "            transformed[col] = (transformed[col] - self.mean[col])/self.std[col]\n",
    "        return transformed\n",
    "    \n",
    "    def fit_transform(self, X_train):\n",
    "        self.fit(X_train)\n",
    "        return self.transform(X_train)\n",
    "    \n",
    "    def inverse_transform(self, X):\n",
    "        transformed = X[:]\n",
    "        for col in self.mean.keys():            \n",
    "            transformed[col] = transformed[col]* self.std[col] + self.mean[col]\n",
    "        return transformed"
   ]
  },
  {
   "cell_type": "code",
   "execution_count": 20,
   "id": "fcbd315c",
   "metadata": {},
   "outputs": [],
   "source": [
    "std_scal = StandardScaler()\n",
    "hw_std_train_df = std_scal.fit_transform(hw_train_df)\n",
    "hw_std_test_df = std_scal.fit_transform(hw_test_df)"
   ]
  },
  {
   "cell_type": "markdown",
   "id": "b44639b6",
   "metadata": {},
   "source": [
    "## 4) ..."
   ]
  },
  {
   "cell_type": "code",
   "execution_count": 125,
   "id": "80fcb703",
   "metadata": {},
   "outputs": [],
   "source": [
    "y_col = 'SalePrice'\n",
    "\n",
    "numerical_mask = [np.issubdtype(hw_std_train_df[name].dtype, np.number) and not (name in [y_col, 'Id']) for name in hw_std_train_df.columns]\n",
    "num_tr_df = hw_std_train_df[hw_std_train_df.columns[numerical_mask]]\n",
    "features_to_forward_select = list(num_tr_df.columns)"
   ]
  },
  {
   "cell_type": "code",
   "execution_count": 126,
   "id": "16acb33b",
   "metadata": {},
   "outputs": [],
   "source": [
    "class ForwardSelector:\n",
    "    def __init__(self, model):\n",
    "        self.model = model\n",
    "        \n",
    "    def forward_select(self, train_df, test_df, x_col, y_col):\n",
    "        \n",
    "        y_train = train_df[y_col]\n",
    "        min_mse = np.inf\n",
    "        selected = {}\n",
    "        x_col = x_col[:]\n",
    "        \n",
    "        for i in range(len(x_col)):\n",
    "            \n",
    "            next_feature = np.nan\n",
    "            for f in x_col:\n",
    "                X_train = train_df[list(selected.keys()) + [f]]\n",
    "                self.model.fit(X_train, y_train)\n",
    "                cur_mse = mse(y_train, self.model.predict(X_train))\n",
    "                if(min_mse > cur_mse):\n",
    "                    min_mse = cur_mse\n",
    "                    next_feature = f\n",
    "                    \n",
    "            if not(next_feature is np.nan):\n",
    "                selected[next_feature] = min_mse\n",
    "                x_col.remove(next_feature)\n",
    "            else:\n",
    "                break\n",
    "        return selected"
   ]
  },
  {
   "cell_type": "code",
   "execution_count": 127,
   "id": "bc5f242b",
   "metadata": {},
   "outputs": [],
   "source": [
    "fs = ForwardSelector(LSM_Regressor())\n",
    "dic = fs.forward_select(hw_std_train_df, hw_std_test_df, features_to_forward_select, y_col)\n",
    "chosen_f = list(dic.keys())"
   ]
  },
  {
   "cell_type": "code",
   "execution_count": 129,
   "id": "8ee27561",
   "metadata": {},
   "outputs": [
    {
     "name": "stdout",
     "output_type": "stream",
     "text": [
      "Delete 2 params\n",
      "BsmtFinSF2\n",
      "2ndFlrSF\n"
     ]
    }
   ],
   "source": [
    "print(f'Delete {len(features_to_forward_select) - len(chosen_f)} params')\n",
    "for i in features_to_forward_select:\n",
    "    try:\n",
    "        chosen_f.index(i)\n",
    "    except:\n",
    "        print(i)"
   ]
  },
  {
   "cell_type": "code",
   "execution_count": 130,
   "id": "9339fe68",
   "metadata": {},
   "outputs": [],
   "source": [
    "def mse(x,y):\n",
    "    t = x - y\n",
    "    return (t*t).mean()"
   ]
  },
  {
   "cell_type": "code",
   "execution_count": 131,
   "id": "8ad4931b",
   "metadata": {},
   "outputs": [],
   "source": [
    "def r2(x, y):\n",
    "    res = y - x\n",
    "    tot = y - y.mean()\n",
    "    res *= res\n",
    "    tot *= tot    \n",
    "    return 1 - sum(res)/sum(tot)"
   ]
  },
  {
   "cell_type": "markdown",
   "id": "6760a43f",
   "metadata": {},
   "source": [
    "## Линейная регрессия"
   ]
  },
  {
   "cell_type": "code",
   "execution_count": 132,
   "id": "bd5981e2",
   "metadata": {},
   "outputs": [],
   "source": [
    "class LSM_Regressor:\n",
    "    def __init__(self):\n",
    "        self.W = None\n",
    "        self.b = None\n",
    "    \n",
    "    def fit(self, X_train, y_train):\n",
    "        x_expanded = np.append(X_train, np.ones((X_train.shape[0], 1)), axis = 1)\n",
    "        temp = np.linalg.inv(x_expanded.T @ x_expanded) @ x_expanded.T @ y_train\n",
    "        self.W = temp[:-1]\n",
    "        self.b = temp[-1]\n",
    "        \n",
    "    def predict(self, X):\n",
    "        return X @ self.W + self.b"
   ]
  },
  {
   "cell_type": "code",
   "execution_count": 133,
   "id": "5cedf8b4",
   "metadata": {},
   "outputs": [],
   "source": [
    "lsm = LSM_Regressor()\n",
    "lsm.fit(hw_std_train_df[chosen_f], hw_std_train_df[y_col])\n",
    "lsm_pr = lsm.predict(hw_std_test_df[chosen_f])"
   ]
  },
  {
   "cell_type": "markdown",
   "id": "9b644787",
   "metadata": {},
   "source": [
    "## Градиентный спуск "
   ]
  },
  {
   "cell_type": "code",
   "execution_count": 134,
   "id": "f9aabe0c",
   "metadata": {},
   "outputs": [],
   "source": [
    "class GD_Regressor:\n",
    "    def __init__(self, max_steps=2000, alpha=1e-10):\n",
    "        self.nsteps = max_steps\n",
    "        self.alpha = alpha\n",
    "        \n",
    "        self.W = None\n",
    "#         self.b = None\n",
    "    def __grad(self,x,y):\n",
    "        return x.T @( (x @ self.W) - y)\n",
    "        \n",
    "    def fit(self, X_train, y_train):\n",
    "        lamb = 0.1\n",
    "        x_expanded = np.append(X_train, np.ones((X_train.shape[0], 1)), axis = 1)\n",
    "        self.W = np.ones(x_expanded.shape[1])\n",
    "        \n",
    "        prev_m = mse(self.predict(X_train), y_train)\n",
    "        for i in range(self.nsteps):\n",
    "            self.W -= lamb*self.__grad(x_expanded, y_train)\n",
    "            next_m = mse(self.predict(X_train), y_train)\n",
    "            if(next_m > prev_m):\n",
    "                lamb /= 2\n",
    "            \n",
    "            if(abs(next_m - prev_m) < self.alpha):\n",
    "                break\n",
    "            prev_m  = next_m \n",
    "            \n",
    "#         self.W, self.b = self.W[:-1], self.W[-1]\n",
    "        \n",
    "    def predict(self, X):\n",
    "        X = np.append(X, np.ones((X.shape[0], 1)), axis = 1)\n",
    "        return X @ self.W"
   ]
  },
  {
   "cell_type": "code",
   "execution_count": 135,
   "id": "e98ac719",
   "metadata": {},
   "outputs": [],
   "source": [
    "gd = GD_Regressor()\n",
    "gd.fit(hw_std_train_df[chosen_f], hw_std_train_df[y_col])\n",
    "gd_pr = gd.predict(hw_std_test_df[chosen_f])"
   ]
  },
  {
   "cell_type": "markdown",
   "id": "53ff9117",
   "metadata": {},
   "source": [
    "## Sklearn линейная регрессия"
   ]
  },
  {
   "cell_type": "code",
   "execution_count": 136,
   "id": "eb272dd0",
   "metadata": {},
   "outputs": [],
   "source": [
    "sklsm = sk.linear_model.LinearRegression()\n",
    "sklsm.fit(hw_std_train_df[chosen_f], hw_std_train_df[y_col])\n",
    "sklsm_pr = sklsm.predict(hw_std_test_df[chosen_f])"
   ]
  },
  {
   "cell_type": "markdown",
   "id": "5f5676ad",
   "metadata": {},
   "source": [
    "## Sklearn Ridge "
   ]
  },
  {
   "cell_type": "code",
   "execution_count": 137,
   "id": "fe2e226d",
   "metadata": {},
   "outputs": [],
   "source": [
    "ridge_pr = []\n",
    "for a in alpha:\n",
    "    ridge = sk.linear_model.Ridge(a)\n",
    "    ridge.fit(hw_std_train_df[chosen_f], hw_std_train_df[y_col])\n",
    "    ridge_pr += [ridge.predict(hw_std_test_df[chosen_f])]\n"
   ]
  },
  {
   "cell_type": "markdown",
   "id": "f1144ec1",
   "metadata": {},
   "source": [
    "## Sklearn Lasso"
   ]
  },
  {
   "cell_type": "code",
   "execution_count": 138,
   "id": "7815aeef",
   "metadata": {},
   "outputs": [],
   "source": [
    "lasso_pr = []\n",
    "for a in alpha:\n",
    "    lasso = sk.linear_model.Lasso(a)\n",
    "    lasso.fit(hw_std_train_df[chosen_f], hw_std_train_df[y_col])\n",
    "    lasso_pr += [lasso.predict(hw_std_test_df[chosen_f])]"
   ]
  },
  {
   "cell_type": "markdown",
   "id": "ca95c3ae",
   "metadata": {},
   "source": [
    "## Sklearn ElasticNet"
   ]
  },
  {
   "cell_type": "code",
   "execution_count": 139,
   "id": "a14ed4a6",
   "metadata": {},
   "outputs": [],
   "source": [
    "ela_pr = []\n",
    "for a in alpha:\n",
    "    ela = sk.linear_model.ElasticNet(a)\n",
    "    ela.fit(hw_std_train_df[chosen_f], hw_std_train_df[y_col])\n",
    "    ela_pr += [ela.predict(hw_std_test_df[chosen_f])]"
   ]
  },
  {
   "cell_type": "markdown",
   "id": "ab1c756c",
   "metadata": {},
   "source": [
    "# Ошибк"
   ]
  },
  {
   "cell_type": "code",
   "execution_count": 140,
   "id": "4c365bf8",
   "metadata": {
    "scrolled": false
   },
   "outputs": [
    {
     "name": "stdout",
     "output_type": "stream",
     "text": [
      "LSM\n",
      "MSE 0.17001782868745116\n",
      "R2 0.7976686714809162\n"
     ]
    }
   ],
   "source": [
    "print('LSM')\n",
    "print(\"MSE\",mse(hw_std_test_df[y_col], lsm_pr))\n",
    "print(\"R2\", r2(hw_std_test_df[y_col], lsm_pr))"
   ]
  },
  {
   "cell_type": "code",
   "execution_count": 141,
   "id": "e8a23aa7",
   "metadata": {},
   "outputs": [
    {
     "name": "stdout",
     "output_type": "stream",
     "text": [
      "Grand\n",
      "MSE 0.1700162217133981\n",
      "R2 0.7976704464057448\n"
     ]
    }
   ],
   "source": [
    "print('Grand')\n",
    "print(\"MSE\",mse(hw_std_test_df[y_col], gd_pr))\n",
    "print(\"R2\", r2(hw_std_test_df[y_col], gd_pr))"
   ]
  },
  {
   "cell_type": "code",
   "execution_count": 142,
   "id": "6d00040e",
   "metadata": {},
   "outputs": [
    {
     "name": "stdout",
     "output_type": "stream",
     "text": [
      "SkLsm\n",
      "MSE 0.17001782868745127\n",
      "R2 0.7976686714809155\n"
     ]
    }
   ],
   "source": [
    "print('SkLsm')\n",
    "print(\"MSE\",mse(hw_std_test_df[y_col], sklsm_pr))\n",
    "print(\"R2\", r2(hw_std_test_df[y_col], sklsm_pr))"
   ]
  },
  {
   "cell_type": "code",
   "execution_count": 143,
   "id": "2dd24954",
   "metadata": {},
   "outputs": [
    {
     "name": "stdout",
     "output_type": "stream",
     "text": [
      "Ridge\n",
      "0.01\n",
      "MSE 0.17001735116148523\n",
      "R2 0.7976679344287751\n",
      "0.1\n",
      "MSE 0.17001306290311388\n",
      "R2 0.7976612958548835\n",
      "1\n",
      "MSE 0.16997110115495545\n",
      "R2 0.7975944167947654\n"
     ]
    }
   ],
   "source": [
    "print('Ridge')\n",
    "for i in range(len(alpha)):\n",
    "    print(alpha[i])\n",
    "    print(\"MSE\",mse(hw_std_test_df[y_col], ridge_pr[i]))\n",
    "    print(\"R2\", r2(hw_std_test_df[y_col], ridge_pr[i]))"
   ]
  },
  {
   "cell_type": "code",
   "execution_count": 144,
   "id": "53ac7313",
   "metadata": {},
   "outputs": [
    {
     "name": "stdout",
     "output_type": "stream",
     "text": [
      "Lasso\n",
      "0.01\n",
      "MSE 0.1686476097819389\n",
      "R2 0.7905462861448077\n",
      "0.1\n",
      "MSE 0.2065463290846978\n",
      "R2 0.6436287063488944\n",
      "1\n",
      "MSE 0.9972602739726028\n",
      "R2 -2.6255941210517018e+64\n"
     ]
    }
   ],
   "source": [
    "print('Lasso')\n",
    "for i in range(len(alpha)):\n",
    "    print(alpha[i])\n",
    "    print(\"MSE\",mse(hw_std_test_df[y_col], lasso_pr[i]))\n",
    "    print(\"R2\", r2(hw_std_test_df[y_col], lasso_pr[i]))"
   ]
  },
  {
   "cell_type": "code",
   "execution_count": 145,
   "id": "bbe70100",
   "metadata": {},
   "outputs": [
    {
     "name": "stdout",
     "output_type": "stream",
     "text": [
      "ElasticNet\n",
      "0.01\n",
      "MSE 0.16851543451971493\n",
      "R2 0.7944100948832368\n",
      "0.1\n",
      "MSE 0.1808111095432974\n",
      "R2 0.7313819046477348\n",
      "1\n",
      "MSE 0.674555127736402\n",
      "R2 -13.90688284534544\n"
     ]
    }
   ],
   "source": [
    "print('ElasticNet')\n",
    "for i in range(len(alpha)):\n",
    "    print(alpha[i])\n",
    "    print(\"MSE\",mse(hw_std_test_df[y_col], ela_pr[i]))\n",
    "    print(\"R2\", r2(hw_std_test_df[y_col], ela_pr[i]))"
   ]
  }
 ],
 "metadata": {
  "kernelspec": {
   "display_name": "Python 3 (ipykernel)",
   "language": "python",
   "name": "python3"
  },
  "language_info": {
   "codemirror_mode": {
    "name": "ipython",
    "version": 3
   },
   "file_extension": ".py",
   "mimetype": "text/x-python",
   "name": "python",
   "nbconvert_exporter": "python",
   "pygments_lexer": "ipython3",
   "version": "3.8.10"
  }
 },
 "nbformat": 4,
 "nbformat_minor": 5
}
