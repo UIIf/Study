{
 "cells": [
  {
   "cell_type": "markdown",
   "id": "f4c1b4f0-7a5b-487c-be0d-634afdae9588",
   "metadata": {
    "tags": []
   },
   "source": [
    "# Первый запуск"
   ]
  },
  {
   "cell_type": "code",
   "execution_count": 1,
   "id": "f5625d90",
   "metadata": {
    "ExecuteTime": {
     "end_time": "2022-09-24T06:08:18.869700Z",
     "start_time": "2022-09-24T06:08:17.153499Z"
    },
    "execution": {
     "iopub.execute_input": "2022-09-24T02:14:02.684726Z",
     "iopub.status.busy": "2022-09-24T02:14:02.684427Z",
     "iopub.status.idle": "2022-09-24T02:14:02.688938Z",
     "shell.execute_reply": "2022-09-24T02:14:02.688267Z",
     "shell.execute_reply.started": "2022-09-24T02:14:02.684703Z"
    },
    "tags": []
   },
   "outputs": [],
   "source": [
    "import pandas as pd\n",
    "import numpy as np\n",
    "import matplotlib.pyplot as plt\n",
    "import sklearn as sk\n",
    "\n",
    "from math import log10, log\n",
    "from random import shuffle\n",
    "\n",
    "from sklearn import linear_model\n",
    "from sklearn.model_selection import train_test_split\n",
    "from sklearn.metrics import mean_squared_error as mse\n",
    "from sklearn.model_selection import cross_val_score"
   ]
  },
  {
   "cell_type": "code",
   "execution_count": 4,
   "id": "a1693c50",
   "metadata": {
    "ExecuteTime": {
     "end_time": "2022-09-24T02:38:47.657273Z",
     "start_time": "2022-09-24T02:38:47.581857Z"
    },
    "execution": {
     "iopub.execute_input": "2022-09-24T02:14:06.014131Z",
     "iopub.status.busy": "2022-09-24T02:14:06.013761Z",
     "iopub.status.idle": "2022-09-24T02:14:06.084607Z",
     "shell.execute_reply": "2022-09-24T02:14:06.083968Z",
     "shell.execute_reply.started": "2022-09-24T02:14:06.014104Z"
    },
    "tags": []
   },
   "outputs": [],
   "source": [
    "df = pd.read_csv('adult.csv')"
   ]
  },
  {
   "cell_type": "code",
   "execution_count": 5,
   "id": "aff12538-6116-40c7-b491-4d490b92f4cc",
   "metadata": {
    "ExecuteTime": {
     "end_time": "2022-09-24T02:38:48.912116Z",
     "start_time": "2022-09-24T02:38:48.896907Z"
    },
    "execution": {
     "iopub.execute_input": "2022-09-24T02:21:23.808945Z",
     "iopub.status.busy": "2022-09-24T02:21:23.808327Z",
     "iopub.status.idle": "2022-09-24T02:21:23.816969Z",
     "shell.execute_reply": "2022-09-24T02:21:23.816235Z",
     "shell.execute_reply.started": "2022-09-24T02:21:23.808923Z"
    },
    "tags": []
   },
   "outputs": [
    {
     "name": "stdout",
     "output_type": "stream",
     "text": [
      "Index(['age', 'fnlwgt', 'education.num', 'capital.gain', 'capital.loss',\n",
      "       'hours.per.week'],\n",
      "      dtype='object')\n"
     ]
    }
   ],
   "source": [
    "def find_numer_cols(df, exept = []):\n",
    "    numerical_mask = [np.issubdtype(df[name].dtype, np.number) and not name in exept for name in df.columns]\n",
    "    return df.columns[numerical_mask]\n",
    "\n",
    "numerical_columns = find_numer_cols(df)\n",
    "print(numerical_columns)"
   ]
  },
  {
   "cell_type": "code",
   "execution_count": 6,
   "id": "2605ad49-1c7e-4e90-a772-3b6ef6e9ae61",
   "metadata": {
    "ExecuteTime": {
     "end_time": "2022-09-24T02:38:51.722647Z",
     "start_time": "2022-09-24T02:38:51.710748Z"
    },
    "execution": {
     "iopub.execute_input": "2022-09-24T02:21:50.722936Z",
     "iopub.status.busy": "2022-09-24T02:21:50.722590Z",
     "iopub.status.idle": "2022-09-24T02:21:50.727653Z",
     "shell.execute_reply": "2022-09-24T02:21:50.726692Z",
     "shell.execute_reply.started": "2022-09-24T02:21:50.722908Z"
    },
    "tags": []
   },
   "outputs": [],
   "source": [
    "def create_dict(names, val = 0):\n",
    "    to_ret = {}\n",
    "    for i in names:\n",
    "        to_ret[i] = val\n",
    "    return to_ret"
   ]
  },
  {
   "cell_type": "markdown",
   "id": "02877814",
   "metadata": {
    "tags": []
   },
   "source": [
    "# Перобразования входных данных"
   ]
  },
  {
   "cell_type": "markdown",
   "id": "2395a897-3dd9-4cd7-a26e-1ee3e76bf5eb",
   "metadata": {
    "tags": []
   },
   "source": [
    "## Обработка счетчиков"
   ]
  },
  {
   "cell_type": "markdown",
   "id": "cc9fba55",
   "metadata": {
    "jp-MarkdownHeadingCollapsed": true,
    "tags": []
   },
   "source": [
    "### Разбиение фиксированной ширины"
   ]
  },
  {
   "cell_type": "markdown",
   "id": "95b12c07",
   "metadata": {
    "tags": []
   },
   "source": [
    "### Квантильное разбиение"
   ]
  },
  {
   "cell_type": "code",
   "execution_count": 7,
   "id": "00cf42da",
   "metadata": {
    "ExecuteTime": {
     "end_time": "2022-09-24T02:38:54.418456Z",
     "start_time": "2022-09-24T02:38:54.181848Z"
    },
    "execution": {
     "iopub.execute_input": "2022-09-24T02:21:58.858590Z",
     "iopub.status.busy": "2022-09-24T02:21:58.858293Z",
     "iopub.status.idle": "2022-09-24T02:21:59.073297Z",
     "shell.execute_reply": "2022-09-24T02:21:59.072318Z",
     "shell.execute_reply.started": "2022-09-24T02:21:58.858565Z"
    },
    "tags": []
   },
   "outputs": [
    {
     "data": {
      "text/plain": [
       "<AxesSubplot: >"
      ]
     },
     "execution_count": 7,
     "metadata": {},
     "output_type": "execute_result"
    },
    {
     "data": {
      "image/png": "[encoded data removed]",
      "text/plain": [
       "<Figure size 432x288 with 1 Axes>"
      ]
     },
     "metadata": {
      "needs_background": "light"
     },
     "output_type": "display_data"
    }
   ],
   "source": [
    "df['age'].hist(bins=30)"
   ]
  },
  {
   "cell_type": "code",
   "execution_count": 8,
   "id": "827bac99",
   "metadata": {
    "ExecuteTime": {
     "end_time": "2022-09-24T02:38:56.859910Z",
     "start_time": "2022-09-24T02:38:56.627773Z"
    },
    "execution": {
     "iopub.execute_input": "2022-09-24T02:22:47.315775Z",
     "iopub.status.busy": "2022-09-24T02:22:47.315282Z",
     "iopub.status.idle": "2022-09-24T02:22:47.510488Z",
     "shell.execute_reply": "2022-09-24T02:22:47.509501Z",
     "shell.execute_reply.started": "2022-09-24T02:22:47.315735Z"
    },
    "tags": []
   },
   "outputs": [
    {
     "name": "stdout",
     "output_type": "stream",
     "text": [
      "[14 12  8  6  7 10  5 13  1  4 11  9  2  3  0]\n"
     ]
    },
    {
     "data": {
      "text/plain": [
       "0.066667    20.0\n",
       "0.133333    23.0\n",
       "0.200000    26.0\n",
       "0.266667    28.0\n",
       "0.333333    31.0\n",
       "0.400000    33.0\n",
       "0.466667    36.0\n",
       "0.533333    38.0\n",
       "0.600000    41.0\n",
       "0.666667    44.0\n",
       "0.733333    47.0\n",
       "0.800000    50.0\n",
       "0.866667    55.0\n",
       "0.933333    61.0\n",
       "Name: age, dtype: float64"
      ]
     },
     "execution_count": 8,
     "metadata": {},
     "output_type": "execute_result"
    },
    {
     "data": {
      "image/png": "[encoded data removed]",
      "text/plain": [
       "<Figure size 432x288 with 1 Axes>"
      ]
     },
     "metadata": {
      "needs_background": "light"
     },
     "output_type": "display_data"
    }
   ],
   "source": [
    "# Применяет квантильное разделение к столбцу\n",
    "output_par = pd.qcut(df['age'], 15, labels = False)\n",
    "\n",
    "print(output_par.unique())\n",
    "output_par.hist(bins=30)\n",
    "\n",
    "# Возвращает значение квантелей\n",
    "df['age'].quantile([x/15 for x in range(1, 15)])"
   ]
  },
  {
   "cell_type": "markdown",
   "id": "79f9b29b",
   "metadata": {
    "tags": []
   },
   "source": [
    "### Логарифмическое преобразование"
   ]
  },
  {
   "cell_type": "code",
   "execution_count": 9,
   "id": "c0265569",
   "metadata": {
    "ExecuteTime": {
     "end_time": "2022-09-24T02:39:00.997857Z",
     "start_time": "2022-09-24T02:39:00.737053Z"
    },
    "execution": {
     "iopub.execute_input": "2022-09-24T02:23:29.118343Z",
     "iopub.status.busy": "2022-09-24T02:23:29.118010Z",
     "iopub.status.idle": "2022-09-24T02:23:29.301550Z",
     "shell.execute_reply": "2022-09-24T02:23:29.300762Z",
     "shell.execute_reply.started": "2022-09-24T02:23:29.118316Z"
    },
    "tags": []
   },
   "outputs": [
    {
     "data": {
      "text/plain": [
       "<AxesSubplot: >"
      ]
     },
     "execution_count": 9,
     "metadata": {},
     "output_type": "execute_result"
    },
    {
     "data": {
      "image/png": "[encoded data removed]",
      "text/plain": [
       "<Figure size 432x288 with 1 Axes>"
      ]
     },
     "metadata": {
      "needs_background": "light"
     },
     "output_type": "display_data"
    }
   ],
   "source": [
    "df['fnlwgt'].hist(bins=30)"
   ]
  },
  {
   "cell_type": "code",
   "execution_count": 10,
   "id": "a38be37c",
   "metadata": {
    "ExecuteTime": {
     "end_time": "2022-09-24T02:39:03.312217Z",
     "start_time": "2022-09-24T02:39:03.095877Z"
    },
    "execution": {
     "iopub.execute_input": "2022-09-24T02:23:36.462614Z",
     "iopub.status.busy": "2022-09-24T02:23:36.462156Z",
     "iopub.status.idle": "2022-09-24T02:23:36.696054Z",
     "shell.execute_reply": "2022-09-24T02:23:36.695034Z",
     "shell.execute_reply.started": "2022-09-24T02:23:36.462574Z"
    },
    "tags": []
   },
   "outputs": [
    {
     "data": {
      "text/plain": [
       "<AxesSubplot: >"
      ]
     },
     "execution_count": 10,
     "metadata": {},
     "output_type": "execute_result"
    },
    {
     "data": {
      "image/png": "[encoded data removed]",
      "text/plain": [
       "<Figure size 432x288 with 1 Axes>"
      ]
     },
     "metadata": {
      "needs_background": "light"
     },
     "output_type": "display_data"
    }
   ],
   "source": [
    "df['fnlwgt'].apply(lambda x: log10(x)).hist(bins=30)"
   ]
  },
  {
   "cell_type": "markdown",
   "id": "a592518b-ebcf-4d9f-aa70-1ede55eeaaae",
   "metadata": {
    "tags": []
   },
   "source": [
    "### Логарифмическое преобразование в действии"
   ]
  },
  {
   "cell_type": "code",
   "execution_count": 11,
   "id": "8100dc01-3304-4fc3-98d1-7e7a606aa44c",
   "metadata": {
    "ExecuteTime": {
     "end_time": "2022-09-24T02:39:05.206403Z",
     "start_time": "2022-09-24T02:39:05.202958Z"
    },
    "execution": {
     "iopub.execute_input": "2022-09-24T02:23:45.234894Z",
     "iopub.status.busy": "2022-09-24T02:23:45.233363Z",
     "iopub.status.idle": "2022-09-24T02:23:45.248896Z",
     "shell.execute_reply": "2022-09-24T02:23:45.246278Z",
     "shell.execute_reply.started": "2022-09-24T02:23:45.234793Z"
    },
    "tags": []
   },
   "outputs": [],
   "source": [
    "sk_lsm = sk.linear_model.LinearRegression()"
   ]
  },
  {
   "cell_type": "code",
   "execution_count": 12,
   "id": "6dd264b6-cd36-4036-8310-375d934d13e2",
   "metadata": {
    "ExecuteTime": {
     "end_time": "2022-09-24T02:39:06.277883Z",
     "start_time": "2022-09-24T02:39:06.224094Z"
    },
    "execution": {
     "iopub.execute_input": "2022-09-24T02:24:51.910263Z",
     "iopub.status.busy": "2022-09-24T02:24:51.909201Z",
     "iopub.status.idle": "2022-09-24T02:24:51.968018Z",
     "shell.execute_reply": "2022-09-24T02:24:51.967300Z",
     "shell.execute_reply.started": "2022-09-24T02:24:51.910167Z"
    },
    "tags": []
   },
   "outputs": [
    {
     "data": {
      "text/plain": [
       "-0.023271968056456194"
      ]
     },
     "execution_count": 12,
     "metadata": {},
     "output_type": "execute_result"
    }
   ],
   "source": [
    "cross_val_score(sk_lsm,  df[['fnlwgt']], df['capital.gain']).mean()"
   ]
  },
  {
   "cell_type": "code",
   "execution_count": 13,
   "id": "1f39599d-7137-4d14-8403-840c567a417d",
   "metadata": {
    "ExecuteTime": {
     "end_time": "2022-09-24T02:39:07.425095Z",
     "start_time": "2022-09-24T02:39:07.384004Z"
    },
    "execution": {
     "iopub.execute_input": "2022-09-24T02:24:54.546902Z",
     "iopub.status.busy": "2022-09-24T02:24:54.546572Z",
     "iopub.status.idle": "2022-09-24T02:24:54.597509Z",
     "shell.execute_reply": "2022-09-24T02:24:54.596735Z",
     "shell.execute_reply.started": "2022-09-24T02:24:54.546874Z"
    },
    "tags": []
   },
   "outputs": [
    {
     "data": {
      "text/plain": [
       "-0.023271968056456194"
      ]
     },
     "execution_count": 13,
     "metadata": {},
     "output_type": "execute_result"
    }
   ],
   "source": [
    "df['LogFnlwgt'] = df['fnlwgt'].apply(lambda x: log10(x))\n",
    "cross_val_score(sk_lsm,  df[['LogFnlwgt']], df['capital.gain']).mean()"
   ]
  },
  {
   "cell_type": "markdown",
   "id": "99c04eef-7147-4cae-9d5b-c5d5d3496a5f",
   "metadata": {
    "tags": []
   },
   "source": [
    "### Преобразование Бокса-Кокса"
   ]
  },
  {
   "cell_type": "code",
   "execution_count": 63,
   "id": "31e93636-3b80-4f49-9e07-15835b685f90",
   "metadata": {},
   "outputs": [],
   "source": [
    "def box_cox(x, lam):\n",
    "    if(lam == 0):\n",
    "        return log(x)\n",
    "    return (x**lam - 1)/lam"
   ]
  },
  {
   "cell_type": "markdown",
   "id": "77530bb4-729f-4ba1-bdb5-68e0615b8257",
   "metadata": {},
   "source": [
    "## Маштабирование признаков или нормализация"
   ]
  },
  {
   "cell_type": "markdown",
   "id": "2d8a3948-8dab-430a-9d9f-e8bb386d8784",
   "metadata": {
    "tags": []
   },
   "source": [
    "### Масштабирование по минимаксу"
   ]
  },
  {
   "cell_type": "raw",
   "id": "2368b557-5b78-4dcd-b103-3925a2db6b9d",
   "metadata": {},
   "source": [
    "Переносит данныйе на интервал [0, 1]"
   ]
  },
  {
   "cell_type": "code",
   "execution_count": 14,
   "id": "8898b37a-5106-4bd4-96ff-7381ee2cd3dd",
   "metadata": {
    "ExecuteTime": {
     "end_time": "2022-09-24T02:39:14.111432Z",
     "start_time": "2022-09-24T02:39:14.095484Z"
    }
   },
   "outputs": [],
   "source": [
    "class min_max:\n",
    "    \n",
    "    def tr(self, df):\n",
    "        self.min = {}\n",
    "        self.range = {}\n",
    "        to_ret = df[:]\n",
    "        for col in df.columns:\n",
    "            self.min[col] = df[col].min()\n",
    "            self.range[col] = df[col].max() - self.min[col]\n",
    "            to_ret[col] -= self.min[col]\n",
    "            to_ret[col] /= self.range[col]\n",
    "        return to_ret\n",
    "    \n",
    "    def inv(self, df):\n",
    "        to_ret = df[:]\n",
    "        for col in self.min.keys():            \n",
    "            to_ret[col] = to_ret[col]*self.range[col] + self.min[col]\n",
    "        return to_ret"
   ]
  },
  {
   "cell_type": "code",
   "execution_count": 20,
   "id": "a302f257",
   "metadata": {
    "ExecuteTime": {
     "end_time": "2022-09-24T02:40:22.269546Z",
     "start_time": "2022-09-24T02:40:22.086559Z"
    }
   },
   "outputs": [
    {
     "data": {
      "text/plain": [
       "<AxesSubplot: >"
      ]
     },
     "execution_count": 20,
     "metadata": {},
     "output_type": "execute_result"
    },
    {
     "data": {
      "image/png": "[encoded data removed]",
      "text/plain": [
       "<Figure size 432x288 with 1 Axes>"
      ]
     },
     "metadata": {
      "needs_background": "light"
     },
     "output_type": "display_data"
    }
   ],
   "source": [
    "df['LogFnlwgt'].hist(bins = 30)"
   ]
  },
  {
   "cell_type": "code",
   "execution_count": 21,
   "id": "bfa1ffb4-4421-4820-9a94-b26ffe1b6736",
   "metadata": {
    "ExecuteTime": {
     "end_time": "2022-09-24T02:43:28.659155Z",
     "start_time": "2022-09-24T02:43:28.435383Z"
    }
   },
   "outputs": [
    {
     "data": {
      "image/png": "[encoded data removed]",
      "text/plain": [
       "<Figure size 432x288 with 1 Axes>"
      ]
     },
     "metadata": {
      "needs_background": "light"
     },
     "output_type": "display_data"
    }
   ],
   "source": [
    "mnmx = min_max()\n",
    "temp = mnmx.tr(df[[ 'LogFnlwgt']]).hist(bins = 30)"
   ]
  },
  {
   "cell_type": "markdown",
   "id": "f73bfdec-2cda-49c8-87bf-a2b150965be1",
   "metadata": {},
   "source": [
    "### Стандартизация(масштабирование дисперсии)"
   ]
  },
  {
   "cell_type": "raw",
   "id": "57187a84-1277-47a8-b1de-aba008ba7575",
   "metadata": {},
   "source": [
    "Среднее значение  = 0\n",
    "Дисперсия = 1"
   ]
  },
  {
   "cell_type": "code",
   "execution_count": 22,
   "id": "0cb92de7-bb3c-419c-a81c-6bb73d4c8588",
   "metadata": {
    "ExecuteTime": {
     "end_time": "2022-09-24T02:45:41.476968Z",
     "start_time": "2022-09-24T02:45:41.464681Z"
    }
   },
   "outputs": [],
   "source": [
    "class mean_std:\n",
    "    \n",
    "    def tr(self, df):\n",
    "        self.mean = {}\n",
    "        self.std = {}\n",
    "        to_ret = df[:]\n",
    "        for col in df.columns:\n",
    "            self.mean[col] = df[col].mean()\n",
    "            self.std[col] = df[col].std()\n",
    "            to_ret[col] -= self.mean[col]\n",
    "            to_ret[col] /= self.std[col]\n",
    "        return to_ret\n",
    "    \n",
    "    def inv(self, df):\n",
    "        to_ret = df[:]\n",
    "        for col in self.mean.keys():            \n",
    "            to_ret[col] = to_ret[col]*self.std[col] + self.mean[col]\n",
    "        return to_ret"
   ]
  },
  {
   "cell_type": "code",
   "execution_count": 23,
   "id": "65934fdf-c740-44a1-9c35-b5fa7344b547",
   "metadata": {
    "ExecuteTime": {
     "end_time": "2022-09-24T02:46:06.108500Z",
     "start_time": "2022-09-24T02:46:05.907825Z"
    }
   },
   "outputs": [
    {
     "data": {
      "text/plain": [
       "<AxesSubplot: >"
      ]
     },
     "execution_count": 23,
     "metadata": {},
     "output_type": "execute_result"
    },
    {
     "data": {
      "image/png": "[encoded data removed]",
      "text/plain": [
       "<Figure size 432x288 with 1 Axes>"
      ]
     },
     "metadata": {
      "needs_background": "light"
     },
     "output_type": "display_data"
    }
   ],
   "source": [
    "df['LogFnlwgt'].hist(bins = 30)"
   ]
  },
  {
   "cell_type": "code",
   "execution_count": 25,
   "id": "f5a41eb1-d57a-4379-959c-c538e70e1d3d",
   "metadata": {
    "ExecuteTime": {
     "end_time": "2022-09-24T02:46:50.250205Z",
     "start_time": "2022-09-24T02:46:50.013359Z"
    }
   },
   "outputs": [
    {
     "data": {
      "text/plain": [
       "array([[<AxesSubplot: title={'center': 'LogFnlwgt'}>]], dtype=object)"
      ]
     },
     "execution_count": 25,
     "metadata": {},
     "output_type": "execute_result"
    },
    {
     "data": {
      "image/png": "[encoded data removed]",
      "text/plain": [
       "<Figure size 432x288 with 1 Axes>"
      ]
     },
     "metadata": {
      "needs_background": "light"
     },
     "output_type": "display_data"
    }
   ],
   "source": [
    "mnstd = mean_std()\n",
    "mnstd.tr(df[[ 'LogFnlwgt']]).hist(bins = 30)"
   ]
  },
  {
   "cell_type": "markdown",
   "id": "7a4312f7-a0c5-48ab-b733-aad062ad6cc5",
   "metadata": {},
   "source": [
    "### Нормализация l^2"
   ]
  },
  {
   "cell_type": "raw",
   "id": "47a8a1c4-64bc-4275-b24b-6303723eff8e",
   "metadata": {},
   "source": [
    "Евклидова норма вектора становится равна 1"
   ]
  },
  {
   "cell_type": "code",
   "execution_count": 26,
   "id": "f9b236ec-e38b-4e11-a706-0024f5e16e63",
   "metadata": {
    "ExecuteTime": {
     "end_time": "2022-09-24T02:47:08.415718Z",
     "start_time": "2022-09-24T02:47:08.401869Z"
    },
    "tags": []
   },
   "outputs": [],
   "source": [
    "class l2:\n",
    "    \n",
    "    def tr(self, df):\n",
    "        self.euc = {}\n",
    "        to_ret = df[:]\n",
    "        for col in df.columns:\n",
    "            self.euc[col] = sum(df[col]**2)**(0.5)\n",
    "            to_ret[col] /= self.euc[col]\n",
    "        return to_ret\n",
    "    \n",
    "    def inv(self, df):\n",
    "        to_ret = df[:]\n",
    "        for col in self.euc.keys():            \n",
    "            to_ret[col] *= self.euc[col]\n",
    "        return to_ret"
   ]
  },
  {
   "cell_type": "code",
   "execution_count": 27,
   "id": "a3f7b07e-c4f4-4ec2-8cf7-267e0de19835",
   "metadata": {
    "ExecuteTime": {
     "end_time": "2022-09-24T02:47:28.567885Z",
     "start_time": "2022-09-24T02:47:28.380461Z"
    }
   },
   "outputs": [
    {
     "data": {
      "text/plain": [
       "<AxesSubplot: >"
      ]
     },
     "execution_count": 27,
     "metadata": {},
     "output_type": "execute_result"
    },
    {
     "data": {
      "image/png": "[encoded data removed]",
      "text/plain": [
       "<Figure size 432x288 with 1 Axes>"
      ]
     },
     "metadata": {
      "needs_background": "light"
     },
     "output_type": "display_data"
    }
   ],
   "source": [
    "df['LogFnlwgt'].hist(bins = 30)"
   ]
  },
  {
   "cell_type": "code",
   "execution_count": 28,
   "id": "baa41888-8274-47b8-8e60-6441aa8e7ff1",
   "metadata": {
    "ExecuteTime": {
     "end_time": "2022-09-24T02:47:49.332344Z",
     "start_time": "2022-09-24T02:47:49.135232Z"
    }
   },
   "outputs": [
    {
     "data": {
      "text/plain": [
       "array([[<AxesSubplot: title={'center': 'LogFnlwgt'}>]], dtype=object)"
      ]
     },
     "execution_count": 28,
     "metadata": {},
     "output_type": "execute_result"
    },
    {
     "data": {
      "image/png": "[encoded data removed]",
      "text/plain": [
       "<Figure size 432x288 with 1 Axes>"
      ]
     },
     "metadata": {
      "needs_background": "light"
     },
     "output_type": "display_data"
    }
   ],
   "source": [
    "l2_norm = l2()\n",
    "l2_norm.tr(df[[ 'LogFnlwgt']]).hist(bins = 30)"
   ]
  },
  {
   "cell_type": "markdown",
   "id": "7d7401d2-3c3f-48b6-8be4-1e68bd4b3609",
   "metadata": {},
   "source": [
    "## Взаимодействие признаков"
   ]
  },
  {
   "cell_type": "raw",
   "id": "b30a7a29-8db5-4977-83cf-54c3e69c2832",
   "metadata": {},
   "source": [
    "Добавть в датасет произведение всех пар фичей"
   ]
  },
  {
   "cell_type": "code",
   "execution_count": 169,
   "id": "57a911d3-f890-4205-a0fe-ec414064fcd2",
   "metadata": {},
   "outputs": [],
   "source": [
    "num_col = find_numer_cols(df, ['LogLotArea', 'SalePrice'])\n",
    "nan_mask = list(df[num_col].isna().sum() == 0)\n",
    "num_col = num_col[nan_mask]\n",
    "y = df[['SalePrice']]"
   ]
  },
  {
   "cell_type": "code",
   "execution_count": 163,
   "id": "f2d33b24-7f3e-46f6-a7c1-820e4dfedc17",
   "metadata": {},
   "outputs": [
    {
     "data": {
      "text/plain": [
       "(1460, 34)"
      ]
     },
     "execution_count": 163,
     "metadata": {},
     "output_type": "execute_result"
    }
   ],
   "source": [
    "df1 = df[num_col]\n",
    "df1.shape"
   ]
  },
  {
   "cell_type": "code",
   "execution_count": 168,
   "id": "c7f2c57b-8c23-43ea-920d-385d7e09211a",
   "metadata": {},
   "outputs": [
    {
     "data": {
      "text/plain": [
       "(1460, 595)"
      ]
     },
     "execution_count": 168,
     "metadata": {},
     "output_type": "execute_result"
    }
   ],
   "source": [
    "# interaction_only = True- исключает вторые степени фичей\n",
    "df2 = sk.preprocessing.PolynomialFeatures(interaction_only = True, include_bias = False).fit_transform(df1)\n",
    "df2.shape"
   ]
  },
  {
   "cell_type": "code",
   "execution_count": 170,
   "id": "a0edb0c9-b974-4502-9a12-51122b596a86",
   "metadata": {},
   "outputs": [],
   "source": [
    "x1_train, x1_test, x2_train, x2_test, y_train, y_test = train_test_split(df1, df2, y, test_size = 0.3, random_state = 42)"
   ]
  },
  {
   "cell_type": "code",
   "execution_count": 182,
   "id": "960754a2-62fc-4ab5-8f0a-ee9721cd5b10",
   "metadata": {},
   "outputs": [
    {
     "name": "stdout",
     "output_type": "stream",
     "text": [
      "x1 1281871520.8770552\n",
      "x2 3.090109810935875e+25\n"
     ]
    }
   ],
   "source": [
    "lsm1 = linear_model.LinearRegression().fit(x1_train, y_train)\n",
    "lsm2 = linear_model.LinearRegression().fit(x2_train, y_train)\n",
    "\n",
    "print('x1', mse(y_test, lsm1.predict(x1_test)))\n",
    "print('x2', mse(y_test, lsm2.predict(x2_test)))"
   ]
  },
  {
   "cell_type": "raw",
   "id": "d2d904f2-43e2-4ef1-9f68-52b6584795a6",
   "metadata": {},
   "source": [
    "Чото не так пошло, должно быть лучше, наверное из за того что не правильно выбраны фичи))))"
   ]
  },
  {
   "cell_type": "markdown",
   "id": "daa6bcd9-a3d5-4995-8912-8b9721d51225",
   "metadata": {
    "tags": []
   },
   "source": [
    "## Отбор признаков"
   ]
  },
  {
   "cell_type": "markdown",
   "id": "1471de66-51d9-4f80-b4f2-69c81a7cf305",
   "metadata": {},
   "source": [
    "### Фильтрация"
   ]
  },
  {
   "cell_type": "raw",
   "id": "60365ea3-16ac-46c0-946c-d37d616ae3db",
   "metadata": {},
   "source": [
    "Смотрит сколько информации в значении, не подстаревается под модель"
   ]
  },
  {
   "cell_type": "markdown",
   "id": "6e1f57ef-6b35-47e4-97a0-71868fa697ca",
   "metadata": {},
   "source": [
    "### Метод обертывания"
   ]
  },
  {
   "cell_type": "raw",
   "id": "119bbf49-c850-4948-ad97-02ee7f823bd4",
   "metadata": {},
   "source": [
    "Затратно выбирает подмножество которое зависит от выбранной модели"
   ]
  },
  {
   "cell_type": "markdown",
   "id": "25b4b4d0-a6f7-40c0-bf05-a84ce7bd87e9",
   "metadata": {},
   "source": [
    "### Встроеные методы"
   ]
  },
  {
   "cell_type": "raw",
   "id": "81e2d9c5-5ff8-48b6-b1bb-4aec1240922a",
   "metadata": {},
   "source": [
    "Не так затратно как обертывание, чо то там"
   ]
  },
  {
   "cell_type": "markdown",
   "id": "1039ac03-dd5d-4c70-ad8d-16f9893b064b",
   "metadata": {},
   "source": [
    "# Текстовые данные: выравнивание, фильтрация, разбиение"
   ]
  },
  {
   "cell_type": "markdown",
   "id": "206dd200-dec6-4f4d-8430-2d4529323a49",
   "metadata": {},
   "source": [
    "## Множество слов "
   ]
  },
  {
   "cell_type": "code",
   "execution_count": 5,
   "id": "9b75413d-b08f-4ca5-a6c8-533b2bcf66bb",
   "metadata": {},
   "outputs": [],
   "source": [
    "text = 'it is a puppy and it is extremely cute'\n",
    "word_of_set = [\n",
    "    'it',\n",
    "    'they',\n",
    "    'puppy',\n",
    "    'and',\n",
    "    'cat',\n",
    "    'cute',\n",
    "    'extremely'\n",
    "]"
   ]
  },
  {
   "cell_type": "code",
   "execution_count": 6,
   "id": "654c204d-0cb3-4715-bc25-ee1456a930e4",
   "metadata": {},
   "outputs": [],
   "source": [
    "def fill_dict(wd, text):\n",
    "    for i in text:\n",
    "        if i in wd.keys():\n",
    "            wd[i] += 1"
   ]
  },
  {
   "cell_type": "code",
   "execution_count": 7,
   "id": "9155c647-9087-4600-bfc2-8f6882a3b053",
   "metadata": {},
   "outputs": [
    {
     "data": {
      "text/plain": [
       "{'it': 2, 'they': 0, 'puppy': 1, 'and': 1, 'cat': 0, 'cute': 1, 'extremely': 1}"
      ]
     },
     "execution_count": 7,
     "metadata": {},
     "output_type": "execute_result"
    }
   ],
   "source": [
    "word_dict = create_dict(word_of_set)\n",
    "fill_dict(word_dict, text.split(' '))\n",
    "word_dict"
   ]
  },
  {
   "cell_type": "code",
   "execution_count": 8,
   "id": "2cf15f21-f046-46fd-9b97-bf42a9225c6d",
   "metadata": {},
   "outputs": [
    {
     "data": {
      "text/plain": [
       "<matplotlib.collections.PathCollection at 0x7ff6a44eedc0>"
      ]
     },
     "execution_count": 8,
     "metadata": {},
     "output_type": "execute_result"
    },
    {
     "data": {
      "image/png": "[encoded data removed]",
      "text/plain": [
       "<Figure size 432x288 with 1 Axes>"
      ]
     },
     "metadata": {
      "needs_background": "light"
     },
     "output_type": "display_data"
    }
   ],
   "source": [
    "text1 = 'it is cute puppy and cute cat'\n",
    "text2 = 'it is cute puppy and ugly cat'\n",
    "text3 = 'it is terrible'\n",
    "\n",
    "word_dict1 = create_dict(['cute', 'ugly'])\n",
    "word_dict2 = create_dict(['cute', 'ugly'])\n",
    "word_dict3 = create_dict(['cute', 'ugly'])\n",
    "\n",
    "fill_dict(word_dict1, text1.split(' '))\n",
    "fill_dict(word_dict2, text2.split(' '))\n",
    "fill_dict(word_dict3, text3.split(' '))\n",
    "\n",
    "x = [word_dict1['cute'], word_dict2['cute'], word_dict3['cute']]\n",
    "y = [word_dict1['ugly'], word_dict2['ugly'], word_dict3['ugly']]\n",
    "\n",
    "plt.scatter(x,y)"
   ]
  }
 ],
 "metadata": {
  "kernelspec": {
   "display_name": "ml",
   "language": "python",
   "name": "ml"
  },
  "language_info": {
   "codemirror_mode": {
    "name": "ipython",
    "version": 3
   },
   "file_extension": ".py",
   "mimetype": "text/x-python",
   "name": "python",
   "nbconvert_exporter": "python",
   "pygments_lexer": "ipython3",
   "version": "3.10.4"
  },
  "toc": {
   "base_numbering": 1,
   "nav_menu": {},
   "number_sections": true,
   "sideBar": true,
   "skip_h1_title": false,
   "title_cell": "Table of Contents",
   "title_sidebar": "Contents",
   "toc_cell": false,
   "toc_position": {},
   "toc_section_display": true,
   "toc_window_display": true
  },
  "toc-autonumbering": true,
  "toc-showmarkdowntxt": true,
  "toc-showtags": true,
  "varInspector": {
   "cols": {
    "lenName": 16,
    "lenType": 16,
    "lenVar": 40
   },
   "kernels_config": {
    "python": {
     "delete_cmd_postfix": "",
     "delete_cmd_prefix": "del ",
     "library": "var_list.py",
     "varRefreshCmd": "print(var_dic_list())"
    },
    "r": {
     "delete_cmd_postfix": ") ",
     "delete_cmd_prefix": "rm(",
     "library": "var_list.r",
     "varRefreshCmd": "cat(var_dic_list()) "
    }
   },
   "types_to_exclude": [
    "module",
    "function",
    "builtin_function_or_method",
    "instance",
    "_Feature"
   ],
   "window_display": false
  }
 },
 "nbformat": 4,
 "nbformat_minor": 5
}
