{
 "cells": [
  {
   "cell_type": "markdown",
   "id": "f4c1b4f0-7a5b-487c-be0d-634afdae9588",
   "metadata": {
    "tags": []
   },
   "source": [
    "# Первый запуск"
   ]
  },
  {
   "cell_type": "code",
   "execution_count": 1,
   "id": "f5625d90",
   "metadata": {},
   "outputs": [],
   "source": [
    "import pandas as pd\n",
    "import numpy as np\n",
    "import matplotlib.pyplot as plt\n",
    "import sklearn as sk\n",
    "\n",
    "from math import log10, log\n",
    "from random import shuffle\n",
    "\n",
    "from sklearn import linear_model\n",
    "from sklearn.model_selection import train_test_split\n",
    "from sklearn.metrics import mean_squared_error as mse\n",
    "from sklearn.model_selection import cross_val_score"
   ]
  },
  {
   "cell_type": "code",
   "execution_count": 2,
   "id": "a1693c50",
   "metadata": {},
   "outputs": [],
   "source": [
    "df = pd.read_csv('train.csv')"
   ]
  },
  {
   "cell_type": "code",
   "execution_count": 3,
   "id": "aff12538-6116-40c7-b491-4d490b92f4cc",
   "metadata": {},
   "outputs": [
    {
     "name": "stdout",
     "output_type": "stream",
     "text": [
      "Index(['Id', 'MSSubClass', 'LotFrontage', 'LotArea', 'OverallQual',\n",
      "       'OverallCond', 'YearBuilt', 'YearRemodAdd', 'MasVnrArea', 'BsmtFinSF1',\n",
      "       'BsmtFinSF2', 'BsmtUnfSF', 'TotalBsmtSF', '1stFlrSF', '2ndFlrSF',\n",
      "       'LowQualFinSF', 'GrLivArea', 'BsmtFullBath', 'BsmtHalfBath', 'FullBath',\n",
      "       'HalfBath', 'BedroomAbvGr', 'KitchenAbvGr', 'TotRmsAbvGrd',\n",
      "       'Fireplaces', 'GarageYrBlt', 'GarageCars', 'GarageArea', 'WoodDeckSF',\n",
      "       'OpenPorchSF', 'EnclosedPorch', '3SsnPorch', 'ScreenPorch', 'PoolArea',\n",
      "       'MiscVal', 'MoSold', 'YrSold', 'SalePrice'],\n",
      "      dtype='object')\n"
     ]
    }
   ],
   "source": [
    "def find_numer_cols(df, exept = []):\n",
    "    numerical_mask = [np.issubdtype(df[name].dtype, np.number) and not name in exept for name in df.columns]\n",
    "    return df.columns[numerical_mask]\n",
    "\n",
    "numerical_columns = find_numer_cols(df)\n",
    "print(numerical_columns)"
   ]
  },
  {
   "cell_type": "code",
   "execution_count": 4,
   "id": "2605ad49-1c7e-4e90-a772-3b6ef6e9ae61",
   "metadata": {},
   "outputs": [],
   "source": [
    "def create_dict(names, val = 0):\n",
    "    to_ret = {}\n",
    "    for i in names:\n",
    "        to_ret[i] = val\n",
    "    return to_ret"
   ]
  },
  {
   "cell_type": "markdown",
   "id": "02877814",
   "metadata": {
    "tags": []
   },
   "source": [
    "# Перобразования входных данных"
   ]
  },
  {
   "cell_type": "markdown",
   "id": "2395a897-3dd9-4cd7-a26e-1ee3e76bf5eb",
   "metadata": {
    "tags": []
   },
   "source": [
    "## Обработка счетчиков"
   ]
  },
  {
   "cell_type": "markdown",
   "id": "cc9fba55",
   "metadata": {
    "jp-MarkdownHeadingCollapsed": true,
    "tags": []
   },
   "source": [
    "### Разбиение фиксированной ширины"
   ]
  },
  {
   "cell_type": "markdown",
   "id": "95b12c07",
   "metadata": {
    "tags": []
   },
   "source": [
    "### Квантильное разбиение"
   ]
  },
  {
   "cell_type": "code",
   "execution_count": 56,
   "id": "00cf42da",
   "metadata": {},
   "outputs": [
    {
     "data": {
      "text/plain": [
       "<AxesSubplot:>"
      ]
     },
     "execution_count": 56,
     "metadata": {},
     "output_type": "execute_result"
    },
    {
     "data": {
      "image/png": "[encoded data removed]",
      "text/plain": [
       "<Figure size 432x288 with 1 Axes>"
      ]
     },
     "metadata": {
      "needs_background": "light"
     },
     "output_type": "display_data"
    }
   ],
   "source": [
    "df['YearBuilt'].hist(bins=30)"
   ]
  },
  {
   "cell_type": "code",
   "execution_count": 57,
   "id": "827bac99",
   "metadata": {},
   "outputs": [
    {
     "name": "stdout",
     "output_type": "stream",
     "text": [
      "[11  7  0  9 12  1  2  5 13  4  6 14  3  8 10]\n"
     ]
    },
    {
     "data": {
      "text/plain": [
       "0.066667    1920.0\n",
       "0.133333    1931.0\n",
       "0.200000    1947.8\n",
       "0.266667    1955.0\n",
       "0.333333    1960.0\n",
       "0.400000    1965.0\n",
       "0.466667    1970.0\n",
       "0.533333    1976.0\n",
       "0.600000    1984.0\n",
       "0.666667    1994.0\n",
       "0.733333    1999.0\n",
       "0.800000    2003.0\n",
       "0.866667    2005.0\n",
       "0.933333    2006.0\n",
       "Name: YearBuilt, dtype: float64"
      ]
     },
     "execution_count": 57,
     "metadata": {},
     "output_type": "execute_result"
    },
    {
     "data": {
      "image/png": "[encoded data removed]",
      "text/plain": [
       "<Figure size 432x288 with 1 Axes>"
      ]
     },
     "metadata": {
      "needs_background": "light"
     },
     "output_type": "display_data"
    }
   ],
   "source": [
    "# Применяет квантильное разделение к столбцу\n",
    "output_par = pd.qcut(df['YearBuilt'], 15, labels = False)\n",
    "\n",
    "print(output_par.unique())\n",
    "output_par.hist(bins=30)\n",
    "\n",
    "# Возвращает значение квантелей\n",
    "df['YearBuilt'].quantile([x/15 for x in range(1, 15)])"
   ]
  },
  {
   "cell_type": "markdown",
   "id": "79f9b29b",
   "metadata": {
    "tags": []
   },
   "source": [
    "### Логарифмическое преобразование"
   ]
  },
  {
   "cell_type": "code",
   "execution_count": 58,
   "id": "c0265569",
   "metadata": {},
   "outputs": [
    {
     "data": {
      "text/plain": [
       "<AxesSubplot:>"
      ]
     },
     "execution_count": 58,
     "metadata": {},
     "output_type": "execute_result"
    },
    {
     "data": {
      "image/png": "[encoded data removed]",
      "text/plain": [
       "<Figure size 432x288 with 1 Axes>"
      ]
     },
     "metadata": {
      "needs_background": "light"
     },
     "output_type": "display_data"
    }
   ],
   "source": [
    "df['LotArea'].hist(bins=30)"
   ]
  },
  {
   "cell_type": "code",
   "execution_count": 59,
   "id": "a38be37c",
   "metadata": {},
   "outputs": [
    {
     "data": {
      "text/plain": [
       "<AxesSubplot:>"
      ]
     },
     "execution_count": 59,
     "metadata": {},
     "output_type": "execute_result"
    },
    {
     "data": {
      "image/png": "[encoded data removed]",
      "text/plain": [
       "<Figure size 432x288 with 1 Axes>"
      ]
     },
     "metadata": {
      "needs_background": "light"
     },
     "output_type": "display_data"
    }
   ],
   "source": [
    "df['LotArea'].apply(lambda x: log10(x)).hist(bins=30)"
   ]
  },
  {
   "cell_type": "markdown",
   "id": "a592518b-ebcf-4d9f-aa70-1ede55eeaaae",
   "metadata": {
    "tags": []
   },
   "source": [
    "### Логарифмическое преобразование в действии"
   ]
  },
  {
   "cell_type": "code",
   "execution_count": 60,
   "id": "8100dc01-3304-4fc3-98d1-7e7a606aa44c",
   "metadata": {},
   "outputs": [],
   "source": [
    "sk_lsm = sk.linear_model.LinearRegression()"
   ]
  },
  {
   "cell_type": "code",
   "execution_count": 61,
   "id": "6dd264b6-cd36-4036-8310-375d934d13e2",
   "metadata": {},
   "outputs": [
    {
     "data": {
      "text/plain": [
       "0.03712896459474102"
      ]
     },
     "execution_count": 61,
     "metadata": {},
     "output_type": "execute_result"
    }
   ],
   "source": [
    "cross_val_score(sk_lsm,  df[['LotArea']], df['SalePrice']).mean()"
   ]
  },
  {
   "cell_type": "code",
   "execution_count": 62,
   "id": "1f39599d-7137-4d14-8403-840c567a417d",
   "metadata": {},
   "outputs": [
    {
     "data": {
      "text/plain": [
       "0.14368508754489384"
      ]
     },
     "execution_count": 62,
     "metadata": {},
     "output_type": "execute_result"
    }
   ],
   "source": [
    "df['LogLotArea'] = df['LotArea'].apply(lambda x: log10(x))\n",
    "cross_val_score(sk_lsm,  df[['LogLotArea']], df['SalePrice']).mean()"
   ]
  },
  {
   "cell_type": "markdown",
   "id": "99c04eef-7147-4cae-9d5b-c5d5d3496a5f",
   "metadata": {
    "tags": []
   },
   "source": [
    "### Преобразование Бокса-Кокса"
   ]
  },
  {
   "cell_type": "code",
   "execution_count": 63,
   "id": "31e93636-3b80-4f49-9e07-15835b685f90",
   "metadata": {},
   "outputs": [],
   "source": [
    "def box_cox(x, lam):\n",
    "    if(lam == 0):\n",
    "        return log(x)\n",
    "    return (x**lam - 1)/lam"
   ]
  },
  {
   "cell_type": "markdown",
   "id": "77530bb4-729f-4ba1-bdb5-68e0615b8257",
   "metadata": {},
   "source": [
    "## Маштабирование признаков или нормализация"
   ]
  },
  {
   "cell_type": "markdown",
   "id": "2d8a3948-8dab-430a-9d9f-e8bb386d8784",
   "metadata": {
    "tags": []
   },
   "source": [
    "### Масштабирование по минимаксу"
   ]
  },
  {
   "cell_type": "raw",
   "id": "2368b557-5b78-4dcd-b103-3925a2db6b9d",
   "metadata": {},
   "source": [
    "Переносит данныйе на интервал [0, 1]"
   ]
  },
  {
   "cell_type": "code",
   "execution_count": 105,
   "id": "8898b37a-5106-4bd4-96ff-7381ee2cd3dd",
   "metadata": {},
   "outputs": [],
   "source": [
    "class min_max:\n",
    "    \n",
    "    def tr(self, df):\n",
    "        self.min = {}\n",
    "        self.range = {}\n",
    "        to_ret = df[:]\n",
    "        for col in df.columns:\n",
    "            self.min[col] = df[col].min()\n",
    "            self.range[col] = df[col].max() - self.min[col]\n",
    "            to_ret[col] -= self.min[col]\n",
    "            to_ret[col] /= self.range[col]\n",
    "        return to_ret\n",
    "    \n",
    "    def inv(self, df):\n",
    "        to_ret = df[:]\n",
    "        for col in self.min.keys():            \n",
    "            to_ret[col] = to_ret[col]*self.range[col] + self.min[col]\n",
    "        return to_ret"
   ]
  },
  {
   "cell_type": "code",
   "execution_count": 109,
   "id": "9256ce3e-b40c-40c7-90b3-84b41c2dcf0a",
   "metadata": {},
   "outputs": [
    {
     "data": {
      "text/plain": [
       "0       0.812913\n",
       "1       0.868328\n",
       "2       0.937209\n",
       "3       0.866060\n",
       "4       1.040176\n",
       "          ...   \n",
       "1455    0.784617\n",
       "1456    1.005807\n",
       "1457    0.842321\n",
       "1458    0.873589\n",
       "1459    0.883312\n",
       "Name: LogLotArea, Length: 1460, dtype: float64"
      ]
     },
     "execution_count": 109,
     "metadata": {},
     "output_type": "execute_result"
    }
   ],
   "source": [
    "df['LogLotArea']"
   ]
  },
  {
   "cell_type": "code",
   "execution_count": 112,
   "id": "bfa1ffb4-4421-4820-9a94-b26ffe1b6736",
   "metadata": {},
   "outputs": [
    {
     "name": "stdout",
     "output_type": "stream",
     "text": [
      "      LogLotArea\n",
      "0       0.366344\n",
      "1       0.391317\n",
      "2       0.422359\n",
      "3       0.390295\n",
      "4       0.468761\n",
      "...          ...\n",
      "1455    0.353592\n",
      "1456    0.453273\n",
      "1457    0.379597\n",
      "1458    0.393688\n",
      "1459    0.398069\n",
      "\n",
      "[1460 rows x 1 columns]\n",
      "      LogLotArea\n",
      "0       0.812913\n",
      "1       0.868328\n",
      "2       0.937209\n",
      "3       0.866060\n",
      "4       1.040176\n",
      "...          ...\n",
      "1455    0.784617\n",
      "1456    1.005807\n",
      "1457    0.842321\n",
      "1458    0.873589\n",
      "1459    0.883312\n",
      "\n",
      "[1460 rows x 1 columns]\n"
     ]
    }
   ],
   "source": [
    "mnmx = min_max()\n",
    "temp = mnmx.tr(df[[ 'LogLotArea']])\n",
    "print(temp)\n",
    "print(mnmx.inv(temp))"
   ]
  },
  {
   "cell_type": "markdown",
   "id": "f73bfdec-2cda-49c8-87bf-a2b150965be1",
   "metadata": {},
   "source": [
    "### Стандартизация(масштабирование дисперсии)"
   ]
  },
  {
   "cell_type": "raw",
   "id": "57187a84-1277-47a8-b1de-aba008ba7575",
   "metadata": {},
   "source": [
    "Среднее значение  = 0\n",
    "Дисперсия = 1"
   ]
  },
  {
   "cell_type": "code",
   "execution_count": 114,
   "id": "0cb92de7-bb3c-419c-a81c-6bb73d4c8588",
   "metadata": {},
   "outputs": [],
   "source": [
    "class mean_std:\n",
    "    \n",
    "    def tr(self, df):\n",
    "        self.mean = {}\n",
    "        self.std = {}\n",
    "        to_ret = df[:]\n",
    "        for col in df.columns:\n",
    "            self.mean[col] = df[col].mean()\n",
    "            self.std[col] = df[col].std()\n",
    "            to_ret[col] -= self.mean[col]\n",
    "            to_ret[col] /= self.std[col]\n",
    "        return to_ret\n",
    "    \n",
    "    def inv(self, df):\n",
    "        to_ret = df[:]\n",
    "        for col in self.mean.keys():            \n",
    "            to_ret[col] = to_ret[col]*self.std[col] + self.mean[col]\n",
    "        return to_ret"
   ]
  },
  {
   "cell_type": "code",
   "execution_count": 115,
   "id": "65934fdf-c740-44a1-9c35-b5fa7344b547",
   "metadata": {},
   "outputs": [
    {
     "data": {
      "text/plain": [
       "0       0.812913\n",
       "1       0.868328\n",
       "2       0.937209\n",
       "3       0.866060\n",
       "4       1.040176\n",
       "          ...   \n",
       "1455    0.784617\n",
       "1456    1.005807\n",
       "1457    0.842321\n",
       "1458    0.873589\n",
       "1459    0.883312\n",
       "Name: LogLotArea, Length: 1460, dtype: float64"
      ]
     },
     "execution_count": 115,
     "metadata": {},
     "output_type": "execute_result"
    }
   ],
   "source": [
    "df['LogLotArea']"
   ]
  },
  {
   "cell_type": "code",
   "execution_count": 116,
   "id": "f5a41eb1-d57a-4379-959c-c538e70e1d3d",
   "metadata": {},
   "outputs": [
    {
     "name": "stdout",
     "output_type": "stream",
     "text": [
      "      LogLotArea\n",
      "0      -0.133185\n",
      "1       0.113403\n",
      "2       0.419917\n",
      "3       0.103311\n",
      "4       0.878108\n",
      "...          ...\n",
      "1455   -0.259100\n",
      "1456    0.725171\n",
      "1457   -0.002324\n",
      "1458    0.136814\n",
      "1459    0.180080\n",
      "\n",
      "[1460 rows x 1 columns]\n",
      "      LogLotArea\n",
      "0       0.812913\n",
      "1       0.868328\n",
      "2       0.937209\n",
      "3       0.866060\n",
      "4       1.040176\n",
      "...          ...\n",
      "1455    0.784617\n",
      "1456    1.005807\n",
      "1457    0.842321\n",
      "1458    0.873589\n",
      "1459    0.883312\n",
      "\n",
      "[1460 rows x 1 columns]\n"
     ]
    }
   ],
   "source": [
    "mnstd = mean_std()\n",
    "temp = mnstd.tr(df[[ 'LogLotArea']])\n",
    "print(temp)\n",
    "print(mnstd.inv(temp))"
   ]
  },
  {
   "cell_type": "markdown",
   "id": "7a4312f7-a0c5-48ab-b733-aad062ad6cc5",
   "metadata": {},
   "source": [
    "### Нормализация l^2"
   ]
  },
  {
   "cell_type": "raw",
   "id": "47a8a1c4-64bc-4275-b24b-6303723eff8e",
   "metadata": {},
   "source": [
    "Евклидова норма вектора становится равна 1"
   ]
  },
  {
   "cell_type": "code",
   "execution_count": 118,
   "id": "f9b236ec-e38b-4e11-a706-0024f5e16e63",
   "metadata": {
    "tags": []
   },
   "outputs": [],
   "source": [
    "class l2:\n",
    "    \n",
    "    def tr(self, df):\n",
    "        self.euc = {}\n",
    "        to_ret = df[:]\n",
    "        for col in df.columns:\n",
    "            self.euc[col] = sum(df[col]**2)**(0.5)\n",
    "            to_ret[col] /= self.euc[col]\n",
    "        return to_ret\n",
    "    \n",
    "    def inv(self, df):\n",
    "        to_ret = df[:]\n",
    "        for col in self.euc.keys():            \n",
    "            to_ret[col] *= self.euc[col]\n",
    "        return to_ret"
   ]
  },
  {
   "cell_type": "code",
   "execution_count": 119,
   "id": "a3f7b07e-c4f4-4ec2-8cf7-267e0de19835",
   "metadata": {},
   "outputs": [
    {
     "data": {
      "text/plain": [
       "0       0.812913\n",
       "1       0.868328\n",
       "2       0.937209\n",
       "3       0.866060\n",
       "4       1.040176\n",
       "          ...   \n",
       "1455    0.784617\n",
       "1456    1.005807\n",
       "1457    0.842321\n",
       "1458    0.873589\n",
       "1459    0.883312\n",
       "Name: LogLotArea, Length: 1460, dtype: float64"
      ]
     },
     "execution_count": 119,
     "metadata": {},
     "output_type": "execute_result"
    }
   ],
   "source": [
    "df['LogLotArea']"
   ]
  },
  {
   "cell_type": "code",
   "execution_count": 120,
   "id": "baa41888-8274-47b8-8e60-6441aa8e7ff1",
   "metadata": {},
   "outputs": [
    {
     "name": "stdout",
     "output_type": "stream",
     "text": [
      "      LogLotArea\n",
      "0       0.024390\n",
      "1       0.026053\n",
      "2       0.028120\n",
      "3       0.025985\n",
      "4       0.031209\n",
      "...          ...\n",
      "1455    0.023541\n",
      "1456    0.030178\n",
      "1457    0.025273\n",
      "1458    0.026211\n",
      "1459    0.026503\n",
      "\n",
      "[1460 rows x 1 columns]\n",
      "      LogLotArea\n",
      "0       0.812913\n",
      "1       0.868328\n",
      "2       0.937209\n",
      "3       0.866060\n",
      "4       1.040176\n",
      "...          ...\n",
      "1455    0.784617\n",
      "1456    1.005807\n",
      "1457    0.842321\n",
      "1458    0.873589\n",
      "1459    0.883312\n",
      "\n",
      "[1460 rows x 1 columns]\n"
     ]
    }
   ],
   "source": [
    "l2_norm = l2()\n",
    "temp = l2_norm.tr(df[[ 'LogLotArea']])\n",
    "print(temp)\n",
    "print(l2_norm.inv(temp))"
   ]
  },
  {
   "cell_type": "markdown",
   "id": "7d7401d2-3c3f-48b6-8be4-1e68bd4b3609",
   "metadata": {},
   "source": [
    "## Взаимодействие признаков"
   ]
  },
  {
   "cell_type": "raw",
   "id": "b30a7a29-8db5-4977-83cf-54c3e69c2832",
   "metadata": {},
   "source": [
    "Добавть в датасет произведение всех пар фичей"
   ]
  },
  {
   "cell_type": "code",
   "execution_count": 169,
   "id": "57a911d3-f890-4205-a0fe-ec414064fcd2",
   "metadata": {},
   "outputs": [],
   "source": [
    "num_col = find_numer_cols(df, ['LogLotArea', 'SalePrice'])\n",
    "nan_mask = list(df[num_col].isna().sum() == 0)\n",
    "num_col = num_col[nan_mask]\n",
    "y = df[['SalePrice']]"
   ]
  },
  {
   "cell_type": "code",
   "execution_count": 163,
   "id": "f2d33b24-7f3e-46f6-a7c1-820e4dfedc17",
   "metadata": {},
   "outputs": [
    {
     "data": {
      "text/plain": [
       "(1460, 34)"
      ]
     },
     "execution_count": 163,
     "metadata": {},
     "output_type": "execute_result"
    }
   ],
   "source": [
    "df1 = df[num_col]\n",
    "df1.shape"
   ]
  },
  {
   "cell_type": "code",
   "execution_count": 168,
   "id": "c7f2c57b-8c23-43ea-920d-385d7e09211a",
   "metadata": {},
   "outputs": [
    {
     "data": {
      "text/plain": [
       "(1460, 595)"
      ]
     },
     "execution_count": 168,
     "metadata": {},
     "output_type": "execute_result"
    }
   ],
   "source": [
    "# interaction_only = True- исключает вторые степени фичей\n",
    "df2 = sk.preprocessing.PolynomialFeatures(interaction_only = True, include_bias = False).fit_transform(df1)\n",
    "df2.shape"
   ]
  },
  {
   "cell_type": "code",
   "execution_count": 170,
   "id": "a0edb0c9-b974-4502-9a12-51122b596a86",
   "metadata": {},
   "outputs": [],
   "source": [
    "x1_train, x1_test, x2_train, x2_test, y_train, y_test = train_test_split(df1, df2, y, test_size = 0.3, random_state = 42)"
   ]
  },
  {
   "cell_type": "code",
   "execution_count": 182,
   "id": "960754a2-62fc-4ab5-8f0a-ee9721cd5b10",
   "metadata": {},
   "outputs": [
    {
     "name": "stdout",
     "output_type": "stream",
     "text": [
      "x1 1281871520.8770552\n",
      "x2 3.090109810935875e+25\n"
     ]
    }
   ],
   "source": [
    "lsm1 = linear_model.LinearRegression().fit(x1_train, y_train)\n",
    "lsm2 = linear_model.LinearRegression().fit(x2_train, y_train)\n",
    "\n",
    "print('x1', mse(y_test, lsm1.predict(x1_test)))\n",
    "print('x2', mse(y_test, lsm2.predict(x2_test)))"
   ]
  },
  {
   "cell_type": "raw",
   "id": "d2d904f2-43e2-4ef1-9f68-52b6584795a6",
   "metadata": {},
   "source": [
    "Чото не так пошло, должно быть лучше, наверное из за того что не правильно выбраны фичи))))"
   ]
  },
  {
   "cell_type": "markdown",
   "id": "daa6bcd9-a3d5-4995-8912-8b9721d51225",
   "metadata": {
    "tags": []
   },
   "source": [
    "## Отбор признаков"
   ]
  },
  {
   "cell_type": "markdown",
   "id": "1471de66-51d9-4f80-b4f2-69c81a7cf305",
   "metadata": {},
   "source": [
    "### Фильтрация"
   ]
  },
  {
   "cell_type": "raw",
   "id": "60365ea3-16ac-46c0-946c-d37d616ae3db",
   "metadata": {},
   "source": [
    "Смотрит сколько информации в значении, не подстаревается под модель"
   ]
  },
  {
   "cell_type": "markdown",
   "id": "6e1f57ef-6b35-47e4-97a0-71868fa697ca",
   "metadata": {},
   "source": [
    "### Метод обертывания"
   ]
  },
  {
   "cell_type": "raw",
   "id": "119bbf49-c850-4948-ad97-02ee7f823bd4",
   "metadata": {},
   "source": [
    "Затратно выбирает подмножество которое зависит от выбранной модели"
   ]
  },
  {
   "cell_type": "markdown",
   "id": "25b4b4d0-a6f7-40c0-bf05-a84ce7bd87e9",
   "metadata": {},
   "source": [
    "### Встроеные методы"
   ]
  },
  {
   "cell_type": "raw",
   "id": "81e2d9c5-5ff8-48b6-b1bb-4aec1240922a",
   "metadata": {},
   "source": [
    "Не так затратно как обертывание, чо то там"
   ]
  },
  {
   "cell_type": "markdown",
   "id": "1039ac03-dd5d-4c70-ad8d-16f9893b064b",
   "metadata": {},
   "source": [
    "# Текстовые данные: выравнивание, фильтрация, разбиение"
   ]
  },
  {
   "cell_type": "markdown",
   "id": "206dd200-dec6-4f4d-8430-2d4529323a49",
   "metadata": {},
   "source": [
    "## Множество слов "
   ]
  },
  {
   "cell_type": "code",
   "execution_count": 5,
   "id": "9b75413d-b08f-4ca5-a6c8-533b2bcf66bb",
   "metadata": {},
   "outputs": [],
   "source": [
    "text = 'it is a puppy and it is extremely cute'\n",
    "word_of_set = [\n",
    "    'it',\n",
    "    'they',\n",
    "    'puppy',\n",
    "    'and',\n",
    "    'cat',\n",
    "    'cute',\n",
    "    'extremely'\n",
    "]"
   ]
  },
  {
   "cell_type": "code",
   "execution_count": 6,
   "id": "654c204d-0cb3-4715-bc25-ee1456a930e4",
   "metadata": {},
   "outputs": [],
   "source": [
    "def fill_dict(wd, text):\n",
    "    for i in text:\n",
    "        if i in wd.keys():\n",
    "            wd[i] += 1"
   ]
  },
  {
   "cell_type": "code",
   "execution_count": 7,
   "id": "9155c647-9087-4600-bfc2-8f6882a3b053",
   "metadata": {},
   "outputs": [
    {
     "data": {
      "text/plain": [
       "{'it': 2, 'they': 0, 'puppy': 1, 'and': 1, 'cat': 0, 'cute': 1, 'extremely': 1}"
      ]
     },
     "execution_count": 7,
     "metadata": {},
     "output_type": "execute_result"
    }
   ],
   "source": [
    "word_dict = create_dict(word_of_set)\n",
    "fill_dict(word_dict, text.split(' '))\n",
    "word_dict"
   ]
  },
  {
   "cell_type": "code",
   "execution_count": 8,
   "id": "2cf15f21-f046-46fd-9b97-bf42a9225c6d",
   "metadata": {},
   "outputs": [
    {
     "data": {
      "text/plain": [
       "<matplotlib.collections.PathCollection at 0x7ff6a44eedc0>"
      ]
     },
     "execution_count": 8,
     "metadata": {},
     "output_type": "execute_result"
    },
    {
     "data": {
      "image/png": "[encoded data removed]",
      "text/plain": [
       "<Figure size 432x288 with 1 Axes>"
      ]
     },
     "metadata": {
      "needs_background": "light"
     },
     "output_type": "display_data"
    }
   ],
   "source": [
    "text1 = 'it is cute puppy and cute cat'\n",
    "text2 = 'it is cute puppy and ugly cat'\n",
    "text3 = 'it is terrible'\n",
    "\n",
    "word_dict1 = create_dict(['cute', 'ugly'])\n",
    "word_dict2 = create_dict(['cute', 'ugly'])\n",
    "word_dict3 = create_dict(['cute', 'ugly'])\n",
    "\n",
    "fill_dict(word_dict1, text1.split(' '))\n",
    "fill_dict(word_dict2, text2.split(' '))\n",
    "fill_dict(word_dict3, text3.split(' '))\n",
    "\n",
    "x = [word_dict1['cute'], word_dict2['cute'], word_dict3['cute']]\n",
    "y = [word_dict1['ugly'], word_dict2['ugly'], word_dict3['ugly']]\n",
    "\n",
    "plt.scatter(x,y)"
   ]
  }
 ],
 "metadata": {
  "kernelspec": {
   "display_name": "Python 3 (ipykernel)",
   "language": "python",
   "name": "python3"
  },
  "language_info": {
   "codemirror_mode": {
    "name": "ipython",
    "version": 3
   },
   "file_extension": ".py",
   "mimetype": "text/x-python",
   "name": "python",
   "nbconvert_exporter": "python",
   "pygments_lexer": "ipython3",
   "version": "3.8.10"
  },
  "toc-autonumbering": true,
  "toc-showmarkdowntxt": true,
  "toc-showtags": true
 },
 "nbformat": 4,
 "nbformat_minor": 5
}
